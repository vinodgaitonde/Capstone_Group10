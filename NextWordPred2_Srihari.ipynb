{
  "nbformat": 4,
  "nbformat_minor": 0,
  "metadata": {
    "colab": {
      "provenance": [],
      "history_visible": true,
      "gpuType": "T4",
      "include_colab_link": true
    },
    "kernelspec": {
      "name": "python3",
      "display_name": "Python 3"
    },
    "language_info": {
      "name": "python"
    },
    "accelerator": "GPU"
  },
  "cells": [
    {
      "cell_type": "markdown",
      "metadata": {
        "id": "view-in-github",
        "colab_type": "text"
      },
      "source": [
        "<a href=\"https://colab.research.google.com/github/vinodgaitonde/Capstone_Group10/blob/main/NextWordPred2_Srihari.ipynb\" target=\"_parent\"><img src=\"https://colab.research.google.com/assets/colab-badge.svg\" alt=\"Open In Colab\"/></a>"
      ]
    },
    {
      "cell_type": "markdown",
      "source": [
        "# Imports"
      ],
      "metadata": {
        "id": "zKxhkpON3PuA"
      }
    },
    {
      "cell_type": "code",
      "execution_count": null,
      "metadata": {
        "id": "I10yjA61zdu8"
      },
      "outputs": [],
      "source": [
        "import numpy as np\n",
        "import tensorflow as tf\n",
        "#import re\n",
        "from tensorflow.keras.preprocessing.text import Tokenizer\n",
        "from tensorflow.keras.preprocessing.sequence import pad_sequences\n",
        "#from nltk.tokenize import RegexpTokenizer\n",
        "from tensorflow.keras.models import Sequential, load_model\n",
        "from tensorflow.keras.layers import LSTM, Embedding, Dense, Activation\n",
        "from tensorflow.keras.optimizers import RMSprop\n",
        "import matplotlib.pyplot as plt\n",
        "import pickle\n",
        "import heapq"
      ]
    },
    {
      "cell_type": "markdown",
      "source": [
        "# Read the Data from the file"
      ],
      "metadata": {
        "id": "uWvnIIRz3HhU"
      }
    },
    {
      "cell_type": "code",
      "source": [
        "with open('./sample_data/1661-half.txt', 'r', encoding='utf-8') as file:\n",
        "    text = file.read()\n",
        "\n",
        "#with open('./sample_data/1661-half.txt', 'r') as f:\n",
        "#    text = f.read().lower()\n",
        "print('corpus length:', len(text))\n",
        "print(text[:100])"
      ],
      "metadata": {
        "colab": {
          "base_uri": "https://localhost:8080/"
        },
        "id": "1c0jcjLn2GjN",
        "outputId": "5bef0069-9906-491d-db5c-c0d3eb39c79c"
      },
      "execution_count": null,
      "outputs": [
        {
          "output_type": "stream",
          "name": "stdout",
          "text": [
            "corpus length: 289700\n",
            "﻿\n",
            "Project Gutenberg's The Adventures of Sherlock Holmes, by Arthur Conan Doyle\n",
            "\n",
            "This eBook is for th\n"
          ]
        }
      ]
    },
    {
      "cell_type": "markdown",
      "source": [
        "# Tokenize and Create Uniue Word Dictionary\n",
        "Now split the dataset into each word in order but without the presence of some special characters."
      ],
      "metadata": {
        "id": "fqaPI5x-3Z2o"
      }
    },
    {
      "cell_type": "code",
      "source": [
        "#tokenizer = RegexpTokenizer(r'[^a-zA-Z0-9\\s]', '')\n",
        "#tokenizer = RegexpTokenizer(r'\\w+')\n",
        "#words = tokenizer.tokenize(text)\n",
        "\n",
        "tokenizer = Tokenizer()\n",
        "tokenizer.fit_on_texts([text])\n",
        "# Get the word index\n",
        "word_index = tokenizer.word_index\n",
        "\n",
        "total_words = len(tokenizer.word_index) + 1\n",
        "\n",
        "print(\"tokenizer.word_index: \",len(tokenizer.word_index))\n",
        "print(\"total_words: \",total_words)\n",
        "#print first 100 words\n",
        "print(\"word_index : \",tokenizer.word_index)"
      ],
      "metadata": {
        "colab": {
          "base_uri": "https://localhost:8080/"
        },
        "id": "JXu1czih2ULB",
        "outputId": "6e78e917-e272-4ea9-b4db-0ccb00413ede"
      },
      "execution_count": null,
      "outputs": [
        {
          "output_type": "stream",
          "name": "stdout",
          "text": [
            "tokenizer.word_index:  6240\n",
            "total_words:  6241\n",
            "word_index :  {'the': 1, 'and': 2, 'of': 3, 'to': 4, 'a': 5, '”': 6, 'i': 7, 'in': 8, 'that': 9, 'he': 10, 'it': 11, 'was': 12, 'his': 13, 'you': 14, 'is': 15, 'as': 16, 'have': 17, 'with': 18, 'my': 19, 'had': 20, 'which': 21, 'at': 22, 'for': 23, 'not': 24, 'be': 25, 'but': 26, 'me': 27, 'upon': 28, 'from': 29, 'holmes': 30, 'him': 31, 'said': 32, 'there': 33, 'we': 34, 'this': 35, 'been': 36, 'on': 37, 'so': 38, 'very': 39, '“i': 40, 'all': 41, 'by': 42, 'an': 43, 'she': 44, 'are': 45, 'one': 46, 'her': 47, 'your': 48, 'man': 49, 'were': 50, 'would': 51, 'when': 52, 'no': 53, 'out': 54, 'mr': 55, 'what': 56, 'up': 57, 'do': 58, 'has': 59, 'could': 60, 'then': 61, 'some': 62, 'will': 63, '’': 64, 'who': 65, 'little': 66, 'down': 67, 'if': 68, 'see': 69, 'or': 70, 'into': 71, 'may': 72, 'am': 73, 'now': 74, 'they': 75, 'us': 76, 'know': 77, 'come': 78, 'must': 79, 'can': 80, 'over': 81, 'than': 82, 'more': 83, 'about': 84, 'other': 85, 'did': 86, 'two': 87, 'should': 88, '“it': 89, 'shall': 90, 'time': 91, 'our': 92, 'before': 93, 'case': 94, 'them': 95, 'such': 96, 'only': 97, 'face': 98, 'think': 99, 'room': 100, '“you': 101, '“and': 102, 'day': 103, 'sherlock': 104, 'much': 105, 'back': 106, 'found': 107, 'well': 108, 'might': 109, 'came': 110, 'how': 111, 'here': 112, 'hand': 113, 'way': 114, 'father': 115, 'made': 116, 'never': 117, 'any': 118, 'street': 119, 'just': 120, 'own': 121, 'where': 122, 'nothing': 123, 'their': 124, 'matter': 125, 'door': 126, 'left': 127, 'good': 128, 'heard': 129, 'however': 130, 'yet': 131, 'right': 132, 'young': 133, 'took': 134, 'after': 135, 'away': 136, 'eyes': 137, '“the': 138, '“but': 139, 'morning': 140, 'most': 141, 'every': 142, 'like': 143, 'first': 144, 'watson': 145, 'go': 146, 'long': 147, 'asked': 148, 'last': 149, 'himself': 150, 'seen': 151, 'through': 152, 'remarked': 153, 'until': 154, 'its': 155, '“yes': 156, 'say': 157, 'house': 158, 'find': 159, 'red': 160, '“well': 161, 'having': 162, 'take': 163, 'still': 164, 'side': 165, 'night': 166, 'small': 167, 'quite': 168, 'done': 169, 'too': 170, 'rather': 171, 'business': 172, 'st': 173, 'while': 174, 'those': 175, '“what': 176, 'once': 177, 'home': 178, 'old': 179, 'between': 180, 'three': 181, 'doubt': 182, 'these': 183, 'even': 184, 'tell': 185, 'off': 186, 'head': 187, 'half': 188, 'answered': 189, 'hat': 190, 'though': 191, 'paper': 192, 'chair': 193, '“that': 194, 'thought': 195, '“then': 196, 'window': 197, 'seemed': 198, 'saw': 199, 'myself': 200, 'great': 201, 'years': 202, 'mccarthy': 203, 'always': 204, 'ever': 205, 'friend': 206, 'few': 207, 'without': 208, 'make': 209, 'men': 210, '“no': 211, 'something': 212, 'life': 213, 'anything': 214, 'also': 215, 'get': 216, 'mind': 217, 'looked': 218, 'black': 219, 'course': 220, 'let': 221, 'against': 222, 'behind': 223, 'put': 224, 'far': 225, 'cried': 226, 'look': 227, 'papers': 228, 'looking': 229, 'sir': 230, 'give': 231, 'woman': 232, 'hands': 233, 'point': 234, 'sat': 235, 'minutes': 236, 'police': 237, 'again': 238, 'thing': 239, 'open': 240, 'light': 241, 'really': 242, '“he': 243, 'under': 244, 'name': 245, 'work': 246, 'dear': 247, 'wife': 248, 'round': 249, 'indeed': 250, 'help': 251, 'many': 252, 'understand': 253, '“oh': 254, 'days': 255, 'went': 256, 'lay': 257, 'got': 258, 'five': 259, 'end': 260, 'front': 261, 'knew': 262, 'london': 263, 'clear': 264, 'being': 265, 'why': 266, 'does': 267, 'interest': 268, 'wish': 269, 'within': 270, 'letter': 271, 'possible': 272, 'son': 273, 'use': 274, 'whole': 275, 'singular': 276, 'yourself': 277, '“this': 278, 'both': 279, 'enough': 280, 'table': 281, 'facts': 282, 'less': 283, 'photograph': 284, 'four': 285, 'turned': 286, 'john': 287, 'brought': 288, 'same': 289, 'cry': 290, 'lestrade': 291, 'clair': 292, 'headed': 293, 'fire': 294, 'money': 295, 'else': 296, 'better': 297, 'miss': 298, 'letters': 299, 'already': 300, 'leave': 301, 'read': 302, 'hair': 303, 'crime': 304, 'part': 305, 'since': 306, 'note': 307, 'either': 308, 'call': 309, 'able': 310, 'question': 311, 'gave': 312, 'words': 313, 'hosmer': 314, 'returned': 315, 'hardly': 316, '“my': 317, 'gentleman': 318, 'whom': 319, 'strange': 320, 'king': 321, 'sure': 322, 'turner': 323, 'city': 324, 'cannot': 325, 'inspector': 326, 'dark': 327, 'across': 328, 'steps': 329, 'address': 330, 'doctor': 331, 'coat': 332, 'present': 333, 'called': 334, 'lodge': 335, 'cab': 336, 'lady': 337, 'wilson': 338, 'fact': 339, 'obvious': 340, 'office': 341, 'windibank': 342, 'pool': 343, 'k': 344, 'told': 345, 'true': 346, 'country': 347, 'entered': 348, 'perhaps': 349, 'suddenly': 350, 'evening': 351, 'angel': 352, 'neville': 353, 'set': 354, 'league': 355, 'save': 356, 'strong': 357, 'each': 358, 'among': 359, 'account': 360, 'new': 361, 'word': 362, 'corner': 363, 'stood': 364, 'seven': 365, 'certainly': 366, 'written': 367, 'sitting': 368, 'known': 369, 'another': 370, 'near': 371, 'whether': 372, 'gone': 373, 'fellow': 374, 'going': 375, 'james': 376, 'felt': 377, 'adler': 378, 'baker': 379, 'week': 380, 'given': 381, 'together': 382, 'hear': 383, 'simple': 384, 'o’clock': 385, 'large': 386, 'lost': 387, 'taken': 388, 'majesty': 389, 'started': 390, 'sort': 391, 'rushed': 392, '£': 393, 'body': 394, 'met': 395, 'points': 396, 'boscombe': 397, 'attention': 398, 'led': 399, 'story': 400, 'don’t': 401, '“there': 402, 'heavy': 403, 'want': 404, 'best': 405, 'deep': 406, 'appeared': 407, 'none': 408, '“your': 409, 'laid': 410, 'soon': 411, 'quick': 412, 'drove': 413, 'air': 414, 'mean': 415, 'hours': 416, 'hope': 417, 'several': 418, 'remember': 419, 'above': 420, 'reason': 421, 'held': 422, 'used': 423, 'afraid': 424, 'place': 425, 'happened': 426, 'openshaw': 427, 'mystery': 428, 'irene': 429, 'things': 430, 'nature': 431, 'companion': 432, 'passed': 433, 'six': 434, 'observed': 435, '“a': 436, 'visitor': 437, '“not': 438, 'followed': 439, 'glancing': 440, 'past': 441, 'cases': 442, '“if': 443, 'became': 444, '“we': 445, 'sign': 446, 'bring': 447, 'walked': 448, 'twenty': 449, 'others': 450, 'hard': 451, 'ten': 452, 'husband': 453, 'ran': 454, 'square': 455, 'considerable': 456, 'court': 457, 'assistant': 458, 'town': 459, 'blue': 460, 'late': 461, 'family': 462, 'twice': 463, 'imagine': 464, 'wrote': 465, 'feet': 466, 'single': 467, 'ground': 468, '“why': 469, 'beside': 470, 'station': 471, 'road': 472, 'floor': 473, 'remarkable': 474, 'fear': 475, 'pocket': 476, 'instant': 477, 'easy': 478, 'forward': 479, 'keep': 480, 'advertisement': 481, 'ross': 482, 'effect': 483, 'pipe': 484, 'bank': 485, 'mother': 486, 'evidence': 487, 'pips': 488, 'adventure': 489, 'love': 490, 'bell': 491, 'eye': 492, 'laughing': 493, 'believe': 494, '“how': 495, 'moment': 496, 'importance': 497, 'hundred': 498, 'shoulders': 499, 'boots': 500, 'carried': 501, 'person': 502, 'surprise': 503, 'white': 504, 'year': 505, '“to': 506, 'daughter': 507, 'monday': 508, 'began': 509, 'object': 510, 'pulled': 511, 'god': 512, 'waiting': 513, 'mine': 514, 'box': 515, 'rest': 516, 'grey': 517, 'colour': 518, 'sight': 519, 'merryweather': 520, 'goose': 521, 'idea': 522, 'coroner': 523, 'envelope': 524, 'opium': 525, 'den': 526, 'lascar': 527, 'anyone': 528, 'almost': 529, 'bohemia': 530, 'orange': 531, 'high': 532, 'finally': 533, 'manner': 534, 'problem': 535, 'threw': 536, 'deduce': 537, 'girl': 538, 'clothes': 539, 'double': 540, 'hour': 541, 'death': 542, 'sent': 543, 'broad': 544, 'voice': 545, 'client': 546, 'during': 547, 'laughed': 548, 'second': 549, 'gold': 550, 'briony': 551, 'morrow': 552, 'opened': 553, 'lane': 554, 'least': 555, 'quietly': 556, 'deal': 557, 'important': 558, 'likely': 559, 'details': 560, 'towards': 561, 'seems': 562, 'absolutely': 563, 'streets': 564, 'chance': 565, 'mrs': 566, 'entirely': 567, 'dressed': 568, 'carriage': 569, 'dead': 570, 'silence': 571, 'events': 572, 'weeks': 573, 'ready': 574, 'clay': 575, 'instantly': 576, 'talk': 577, 'jones': 578, 'stone': 579, 'cut': 580, 'man’s': 581, 'seeing': 582, 'position': 583, 'results': 584, 'society': 585, 'remained': 586, 'armchair': 587, 'ago': 588, 'times': 589, 'sheet': 590, 'eight': 591, 'matters': 592, 'writing': 593, 'brown': 594, 'boy': 595, 'peculiar': 596, 'continued': 597, 'step': 598, 'passage': 599, 'appearance': 600, 'caught': 601, 'glanced': 602, 'sprang': 603, 'difficult': 604, 'serious': 605, 'married': 606, 'news': 607, 'close': 608, 'bedroom': 609, 'whose': 610, 'wait': 611, 'church': 612, 'hurried': 613, 'standing': 614, 'dropped': 615, 'drive': 616, 'different': 617, 'action': 618, 'smoke': 619, 'coming': 620, 'blow': 621, 'struck': 622, '“they': 623, 'heart': 624, 'ask': 625, 'lips': 626, 'foot': 627, 'answer': 628, 'water': 629, 'thin': 630, '“thank': 631, 'edge': 632, 'alive': 633, 'uncle': 634, 'hatherley': 635, 'keeper': 636, 'horsham': 637, 'date': 638, 'lip': 639, 'cold': 640, 'spoke': 641, 'study': 642, 'extraordinary': 643, 'following': 644, 'figure': 645, 'shown': 646, 'glad': 647, 'fashion': 648, 'observe': 649, 'walk': 650, 'can’t': 651, 'someone': 652, 'order': 653, 'top': 654, 'yours': 655, 'often': 656, 'interested': 657, 'thick': 658, 'received': 659, 'comes': 660, 'sharp': 661, 'sound': 662, 'sit': 663, 'bad': 664, 'alone': 665, 'attempt': 666, 'doing': 667, 'pray': 668, 'follow': 669, '“so': 670, 'send': 671, 'line': 672, 'afternoon': 673, 'reached': 674, 'view': 675, 'expected': 676, 'people': 677, 'neighbourhood': 678, 'listened': 679, 'turn': 680, 'watch': 681, 'won’t': 682, 'usual': 683, 'raise': 684, 'cigar': 685, 'self': 686, 'quiet': 687, 'need': 688, 'engaged': 689, 'months': 690, 'ring': 691, 'finger': 692, 'sutherland': 693, 'coburg': 694, 'experience': 695, 'cellar': 696, 'didn’t': 697, 'advice': 698, 'knowledge': 699, 'short': 700, 'amid': 701, 'danger': 702, 'clue': 703, 'surprised': 704, 'stepfather': 705, 'traces': 706, '“witness': 707, 'grew': 708, 'cleared': 709, 'ship': 710, 'adventures': 711, 'character': 712, 'reasoning': 713, 'throw': 714, 'power': 715, 'keen': 716, 'signs': 717, 'returning': 718, 'lit': 719, 'spoken': 720, 'mark': 721, 'appears': 722, '“quite': 723, 'hall': 724, 'because': 725, 'lying': 726, 'glance': 727, 'glass': 728, 'therefore': 729, 'pair': 730, 'interesting': 731, 'dress': 732, 'england': 733, 'upper': 734, 'pushed': 735, 'trust': 736, 'agent': 737, 'secret': 738, 'pay': 739, '“very': 740, 'next': 741, '“certainly': 742, 'wood': 743, '“one': 744, 'windows': 745, 'tobacco': 746, 'arms': 747, 'lose': 748, 'running': 749, 'chain': 750, 'meet': 751, 'afterwards': 752, 'ourselves': 753, 'holmes’': 754, 'contrary': 755, 'direction': 756, 'poor': 757, 'drawn': 758, 'showed': 759, 'fell': 760, 'making': 761, 'pavement': 762, 'shoulder': 763, 'walking': 764, 'wished': 765, '“on': 766, 'jabez': 767, 'remark': 768, 'slight': 769, 'shook': 770, '“ah': 771, 'age': 772, 'spaulding': 773, 'full': 774, 'live': 775, 'ways': 776, 'bright': 777, 'favour': 778, 'low': 779, '“in': 780, 'grass': 781, 'third': 782, 'tide': 783, 'pale': 784, 'innocent': 785, 'swandam': 786, 'horner': 787, 'english': 788, 'scandal': 789, 'valley': 790, 'memory': 791, 'marriage': 792, 'soul': 793, 'official': 794, 'murder': 795, 'rooms': 796, 'tall': 797, 'spare': 798, 'hot': 799, 'kindly': 800, 'lived': 801, 'mary': 802, 'itself': 803, 'inside': 804, 'example': 805, 'lead': 806, 'tinted': 807, 'post': 808, 'houses': 809, 'german': 810, 'scene': 811, '“precisely': 812, 'wanted': 813, 'there’s': 814, 'outside': 815, 'cloak': 816, 'marked': 817, '“pray': 818, 'extreme': 819, 'rose': 820, 'shrugged': 821, 'absolute': 822, 'excuse': 823, 'speak': 824, 'slowly': 825, '“none': 826, 'result': 827, 'saxe': 828, 'herself': 829, 'handed': 830, 'features': 831, 'stretched': 832, 'suppose': 833, 'dozen': 834, 'norton': 835, 'lawyer': 836, 'probably': 837, 'maid': 838, 'wind': 839, 'arrived': 840, 'faced': 841, 'secure': 842, 'law': 843, 'cause': 844, 'formidable': 845, 'taking': 846, 'number': 847, 'remain': 848, 'fine': 849, 'description': 850, 'blood': 851, 'sofa': 852, '“nothing': 853, 'cross': 854, 'return': 855, 'evil': 856, 'turning': 857, 'company': 858, 'fortune': 859, 'it’s': 860, 'vacancy': 861, 'duncan': 862, 'track': 863, 'learn': 864, 'seem': 865, 'says': 866, 'worth': 867, 'real': 868, 'statement': 869, 'human': 870, 'exceedingly': 871, 'leaving': 872, 'ink': 873, 'pen': 874, 'yes': 875, 'knees': 876, 'yard': 877, 'lens': 878, 'france': 879, 'presence': 880, 'i’ll': 881, 'prisoner': 882, 'worn': 883, 'write': 884, 'breakfast': 885, 'hotel': 886, 'occurred': 887, 'definite': 888, 'trap': 889, 'estate': 890, 'violence': 891, 'assizes': 892, 'farm': 893, 'jury': 894, 'examination': 895, 'dying': 896, 'rain': 897, 'bent': 898, 'although': 899, 'lamp': 900, 'lee': 901, 'bridge': 902, 'star': 903, 'boone': 904, 'bradstreet': 905, 'peterson': 906, 'start': 907, 'placed': 908, 'reasoner': 909, 'complete': 910, 'observation': 911, 'merely': 912, 'practice': 913, 'seized': 914, 'swiftly': 915, 'pounds': 916, 'show': 917, 'explain': 918, 'throwing': 919, 'quarter': 920, 'wear': 921, 'means': 922, 'carefully': 923, 'examined': 924, 'ha': 925, 'wheels': 926, 'stay': 927, '“never': 928, 'rich': 929, 'thrown': 930, 'coloured': 931, 'neck': 932, 'impression': 933, 'wore': 934, 'suggestive': 935, 'confess': 936, 'aware': 937, 'circumstances': 938, 'state': 939, 'passing': 940, 'putting': 941, 'opening': 942, 'subject': 943, 'thirty': 944, 'bag': 945, '“is': 946, 'pockets': 947, '“it’s': 948, 'funny': 949, 'garden': 950, 'field': 951, 'hurry': 952, 'shouted': 953, 'catch': 954, 'presently': 955, 'shot': 956, 'reach': 957, '“‘what': 958, 'whispered': 959, 'nearly': 960, 'cap': 961, 'play': 962, 'disappeared': 963, 'fresh': 964, 'becomes': 965, 'weapon': 966, 'size': 967, 'carry': 968, 'centre': 969, 'crowd': 970, 'watched': 971, 'he’s': 972, 'waited': 973, 'alarm': 974, 'perfectly': 975, 'determined': 976, 'drew': 977, 'nor': 978, 'change': 979, 'key': 980, '“now': 981, 'wonder': 982, 'hopes': 983, 'future': 984, 'broken': 985, '“mr': 986, 'train': 987, 'flight': 988, 'gives': 989, 'conclusion': 990, 'bowed': 991, 'beaten': 992, 'closed': 993, 'saying': 994, 'narrative': 995, 'connected': 996, 'impossible': 997, 'commonplace': 998, 'clean': 999, '“here': 1000, '4': 1001, 'apply': 1002, 'offices': 1003, 'earn': 1004, '“‘and': 1005, 'wooden': 1006, 'unfortunate': 1007, 'locked': 1008, 'middle': 1009, 'piece': 1010, 'become': 1011, 'premises': 1012, 'gained': 1013, '“have': 1014, 'lad': 1015, 'opinion': 1016, 'beg': 1017, 'along': 1018, 'shining': 1019, 'criminal': 1020, 'clearly': 1021, 'parted': 1022, 'game': 1023, 'nine': 1024, 'fantastic': 1025, 'winding': 1026, 'lantern': 1027, 'bed': 1028, 'unless': 1029, 'sudden': 1030, 'silent': 1031, 'robbery': 1032, 'spent': 1033, '“of': 1034, 'picked': 1035, 'husband’s': 1036, 'connection': 1037, 'astonishment': 1038, 'oh': 1039, 'mad': 1040, 'surely': 1041, 'father’s': 1042, 'firm': 1043, 'typewritten': 1044, 'further': 1045, 'incident': 1046, 'free': 1047, 'rat': 1048, 'fate': 1049, 'farther': 1050, 'formed': 1051, 'gun': 1052, 'states': 1053, 'lies': 1054, 'natural': 1055, 'bristol': 1056, 'spite': 1057, 'shattered': 1058, 'dried': 1059, 'foresight': 1060, 'river': 1061, 'lone': 1062, 'whitney': 1063, 'beggar': 1064, 'christmas': 1065, 'countess': 1066, 'twisted': 1067, 'thumb': 1068, 'perfect': 1069, 'machine': 1070, 'delicate': 1071, 'lately': 1072, 'master': 1073, 'drug': 1074, 'fierce': 1075, 'energy': 1076, 'deeply': 1077, 'powers': 1078, 'clearing': 1079, 'tragedy': 1080, 'sunk': 1081, 'chuckled': 1082, 'leather': 1083, 'hence': 1084, 'dull': 1085, 'medical': 1086, 'easily': 1087, 'problems': 1088, 'chronicle': 1089, 'signature': 1090, 'consult': 1091, 'europe': 1092, 'mask': 1093, 'suit': 1094, 'instead': 1095, 'fifty': 1096, 'bit': 1097, 'stairs': 1098, 'immediately': 1099, 'lined': 1100, 'raised': 1101, 'dr': 1102, 'begin': 1103, 'promise': 1104, 'delicacy': 1105, 'paced': 1106, 'forehead': 1107, 'visit': 1108, 'familiar': 1109, '“was': 1110, 'private': 1111, 'committed': 1112, 'recovered': 1113, 'pretty': 1114, 'women': 1115, 'marry': 1116, 'notes': 1117, 'book': 1118, 'serpentine': 1119, 'intention': 1120, 'situation': 1121, 'methods': 1122, 'friend’s': 1123, 'certain': 1124, 'emerged': 1125, 'habits': 1126, 'goes': 1127, 'godfrey': 1128, 'cabman': 1129, 'driven': 1130, 'repeated': 1131, 'latter': 1132, 'hansom': 1133, 'talking': 1134, 'stepped': 1135, 'ear': 1136, 'run': 1137, 'paid': 1138, 'clergyman': 1139, 'witness': 1140, 'saved': 1141, 'search': 1142, 'busy': 1143, 'breaking': 1144, 'excellent': 1145, 'whatever': 1146, 'ordinary': 1147, 'signal': 1148, '“where': 1149, 'woman’s': 1150, 'neither': 1151, 'besides': 1152, 'dashed': 1153, 'quarrel': 1154, 'broke': 1155, 'injured': 1156, 'couch': 1157, 'mouth': 1158, 'curled': 1159, 'later': 1160, 'arm': 1161, 'trick': 1162, 'rush': 1163, 'jewel': 1164, 'finished': 1165, 'probable': 1166, '“good': 1167, 'youth': 1168, 'questioning': 1169, '“do': 1170, 'kind': 1171, 'peace': 1172, 'conversation': 1173, 'presented': 1174, 'daring': 1175, 'unique': 1176, 'positive': 1177, 'rule': 1178, 'forced': 1179, 'dirty': 1180, 'thrust': 1181, 'knee': 1182, 'amount': 1183, 'marks': 1184, 'earth': 1185, 'affair': 1186, '“his': 1187, 'vincent': 1188, '“‘why': 1189, 'couple': 1190, 'ears': 1191, 'west': 1192, 'folk': 1193, 'stair': 1194, 'friday': 1195, 'building': 1196, 'encyclopædia': 1197, 'knowing': 1198, 'everything': 1199, 'fairly': 1200, 'saturday': 1201, 'loss': 1202, 'william': 1203, 'happy': 1204, 'appear': 1205, '“as': 1206, 'keenly': 1207, 'fingers': 1208, 'early': 1209, 'evident': 1210, 'scotland': 1211, 'force': 1212, 'murderer': 1213, 'kept': 1214, 'weary': 1215, 'yellow': 1216, 'cloth': 1217, 'touch': 1218, 'settle': 1219, 'curious': 1220, 'convinced': 1221, 'assistance': 1222, 'referred': 1223, 'leaves': 1224, 'extremely': 1225, 'ball': 1226, 'prevent': 1227, 'fit': 1228, 'friends': 1229, 'leadenhall': 1230, 'plain': 1231, 'bringing': 1232, 'settled': 1233, 'gather': 1234, 'strike': 1235, 'conviction': 1236, 'professional': 1237, 'reply': 1238, 'appointment': 1239, 'covered': 1240, 'brother': 1241, 'pointed': 1242, 'aid': 1243, 'arrested': 1244, 'credit': 1245, 'series': 1246, 'yards': 1247, 'trouble': 1248, 'sometimes': 1249, 'tree': 1250, 'dust': 1251, 'ballarat': 1252, 'possession': 1253, 'records': 1254, 'clad': 1255, 'america': 1256, 'sundial': 1257, 'dundee': 1258, 'waterloo': 1259, 'stains': 1260, 'distance': 1261, 'b': 1262, 'savannah': 1263, 'madam': 1264, 'dressing': 1265, 'project': 1266, 'ebook': 1267, 'gutenberg': 1268, 'cover': 1269, 'identity': 1270, 'carbuncle': 1271, 'noble': 1272, 'bachelor': 1273, 'observing': 1274, 'world': 1275, 'false': 1276, 'sneer': 1277, 'drawing': 1278, 'veil': 1279, 'lodgings': 1280, 'immense': 1281, 'vague': 1282, 'beyond': 1283, 'press': 1284, 'march': 1285, 'remembered': 1286, 'habit': 1287, 'scent': 1288, 'chamber': 1289, 'waved': 1290, '“indeed': 1291, 'fancy': 1292, 'getting': 1293, 'burned': 1294, 'fail': 1295, 'nervous': 1296, 'deduction': 1297, 'forefinger': 1298, 'profession': 1299, '“when': 1300, 'reasons': 1301, 'cigarette': 1302, 'pink': 1303, 'royal': 1304, 'theories': 1305, 'bought': 1306, 'stands': 1307, 'cloud': 1308, 'showing': 1309, 'mistaken': 1310, 'nice': 1311, 'brougham': 1312, 'pity': 1313, 'slow': 1314, 'sleeves': 1315, 'silk': 1316, 'apparently': 1317, 'lower': 1318, 'hanging': 1319, 'straight': 1320, 'seat': 1321, 'count': 1322, 'von': 1323, 'wrist': 1324, '“by': 1325, 'weight': 1326, 'influence': 1327, 'unknown': 1328, 'seriously': 1329, 'murmured': 1330, 'lounging': 1331, 'tore': 1332, 'conceal': 1333, 'accustomed': 1334, 'purpose': 1335, 'information': 1336, 'sea': 1337, 'retired': 1338, 'living': 1339, 'purposes': 1340, 'prove': 1341, 'tried': 1342, '“she': 1343, 'conduct': 1344, '“because': 1345, 'avenue': 1346, 'shortly': 1347, 'inquiry': 1348, 'crimes': 1349, 'investigation': 1350, 'success': 1351, 'drunken': 1352, 'vanished': 1353, 'respectable': 1354, 'lie': 1355, 'unusual': 1356, 'wonderful': 1357, 'sympathy': 1358, 'lock': 1359, 'preposterous': 1360, 'shag': 1361, 'heads': 1362, 'lives': 1363, 'except': 1364, 'temple': 1365, 'advantages': 1366, 'continue': 1367, 'devil': 1368, 'landau': 1369, 'tie': 1370, 'glimpse': 1371, '‘and': 1372, 'twelve': 1373, 'generally': 1374, 'occasion': 1375, 'plans': 1376, 'prompt': 1377, '‘i': 1378, 'arrest': 1379, 'rely': 1380, 'occur': 1381, 'interfere': 1382, 'rocket': 1383, 'confined': 1384, 'trousers': 1385, 'general': 1386, 'expression': 1387, 'averse': 1388, 'knows': 1389, 'inclined': 1390, 'refuse': 1391, 'crowded': 1392, 'lady’s': 1393, 'gang': 1394, 'breathing': 1395, 'comfortable': 1396, 'please': 1397, 'principal': 1398, 'playing': 1399, 'ashamed': 1400, 'draw': 1401, 'clouds': 1402, 'palm': 1403, 'bound': 1404, 'precious': 1405, 'quest': 1406, 'care': 1407, 'stopped': 1408, 'staring': 1409, 'coffee': 1410, 'startled': 1411, 'scattered': 1412, 'completely': 1413, 'suspicion': 1414, 'upstairs': 1415, 'empty': 1416, '“from': 1417, 'sorry': 1418, 'successful': 1419, 'safe': 1420, 'value': 1421, 'thank': 1422, 'stout': 1423, 'bizarre': 1424, 'somewhat': 1425, 'larger': 1426, 'anxious': 1427, 'pride': 1428, 'wrinkled': 1429, 'column': 1430, 'gain': 1431, 'waistcoat': 1432, 'collar': 1433, 'noticed': 1434, 'takes': 1435, 'snuff': 1436, 'china': 1437, 'worked': 1438, 'heavily': 1439, 's': 1440, 'purely': 1441, 'pawnbroker’s': 1442, 'satisfied': 1443, 'common': 1444, 'ought': 1445, 'hole': 1446, 'main': 1447, 'fourteen': 1448, '“‘oh': 1449, '“‘well': 1450, '‘you': 1451, 'american': 1452, '‘there': 1453, 'gentlemen': 1454, 'ordered': 1455, 'north': 1456, 'south': 1457, 'east': 1458, 'shade': 1459, 'despair': 1460, 'stream': 1461, 'huge': 1462, 'careful': 1463, 'filled': 1464, 'below': 1465, 'manager': 1466, 'wouldn’t': 1467, 'yesterday': 1468, 'concerned': 1469, 'minute': 1470, 'mysterious': 1471, 'lunch': 1472, 'french': 1473, 'stick': 1474, 'shop': 1475, 'land': 1476, 'gently': 1477, 'chase': 1478, 'revolver': 1479, 'recognised': 1480, 'party': 1481, 'jacket': 1482, 'hunting': 1483, 'crop': 1484, 'rack': 1485, 'wants': 1486, 'wild': 1487, 'stranger': 1488, '000': 1489, 'cunning': 1490, 'gas': 1491, 'narrow': 1492, 'sounds': 1493, 'hollow': 1494, 'longer': 1495, 'escape': 1496, 'usually': 1497, 'harm': 1498, 'pitch': 1499, 'gloom': 1500, 'feared': 1501, 'warning': 1502, 'shock': 1503, '’”': 1504, 'bow': 1505, 'method': 1506, 'mere': 1507, 'inquiries': 1508, 'solved': 1509, 'fly': 1510, 'working': 1511, 'puzzled': 1512, 'practical': 1513, 'angry': 1514, 'boat': 1515, 'typewriting': 1516, 'violent': 1517, 'ceiling': 1518, 'older': 1519, 'stock': 1520, 'fringe': 1521, 'glasses': 1522, 'wedding': 1523, 'missed': 1524, 'unforeseen': 1525, 'sleep': 1526, 'slip': 1527, 'respect': 1528, 'directed': 1529, 'describe': 1530, 'printed': 1531, 'sallow': 1532, 'whiskers': 1533, 'c': 1534, 'scoundrel': 1535, 'missing': 1536, 'disguise': 1537, 'stated': 1538, 'local': 1539, 'woods': 1540, 'blunt': 1541, 'injuries': 1542, 'son’s': 1543, 'inquest': 1544, 'innocence': 1545, 'retained': 1546, 'miles': 1547, 'angle': 1548, 'consider': 1549, 'duty': 1550, 'children': 1551, 'charge': 1552, 'deadly': 1553, 'mccarthy’s': 1554, '‘cooee': 1555, 'health': 1556, 'horror': 1557, 'beneath': 1558, 'leg': 1559, 'holder': 1560, 'distinctly': 1561, 'distinct': 1562, 'ashes': 1563, 'sank': 1564, '“god': 1565, 'alice': 1566, 'fixed': 1567, 'foul': 1568, 'greater': 1569, 'major': 1570, 'colonel': 1571, 'postmark': 1572, 'fallen': 1573, 'attic': 1574, 'brass': 1575, 'burning': 1576, 'initials': 1577, 'january': 1578, 'error': 1579, 'shape': 1580, 'pondicherry': 1581, 'sailing': 1582, 'gravesend': 1583, 'isa': 1584, 'clair’s': 1585, 'horse': 1586, 'cripple': 1587, 'hugh': 1588, 'scar': 1589, 'pennies': 1590, 'begging': 1591, 'lining': 1592, 'arthur': 1593, 'conan': 1594, 'doyle': 1595, 'cost': 1596, 'copy': 1597, 'terms': 1598, 'title': 1599, 'produced': 1600, 'ii': 1601, 'iii': 1602, 'seldom': 1603, 'emotion': 1604, 'particularly': 1605, 'admirably': 1606, 'trained': 1607, 'introduce': 1608, 'rise': 1609, 'form': 1610, 'bohemian': 1611, 'cocaine': 1612, 'mysteries': 1613, 'mission': 1614, 'reigning': 1615, 'former': 1616, 'associated': 1617, 'incidents': 1618, 'scarlet': 1619, 'pass': 1620, 'pacing': 1621, 'chest': 1622, 'risen': 1623, 'rang': 1624, 'formerly': 1625, 'cigars': 1626, 'indicated': 1627, 'introspective': 1628, 'trifle': 1629, 'servant': 1630, 'notice': 1631, 'obviously': 1632, 'caused': 1633, 'remove': 1634, 'mud': 1635, 'vile': 1636, 'weather': 1637, 'boot': 1638, 'walks': 1639, 'explained': 1640, 'instance': 1641, 'baffled': 1642, 'frequently': 1643, 'safely': 1644, 'quarters': 1645, 'data': 1646, 'mistake': 1647, 'twist': 1648, 'presumably': 1649, 'crown': 1650, 'hold': 1651, 'woven': 1652, 'contraction': 1653, 'volume': 1654, 'doubts': 1655, 'pull': 1656, 'tap': 1657, 'height': 1658, 'limbs': 1659, 'taste': 1660, 'suggested': 1661, 'brimmed': 1662, 'chin': 1663, 'strongly': 1664, 'uncertain': 1665, 'colleague': 1666, 'occasionally': 1667, 'honour': 1668, 'exactly': 1669, 'precaution': 1670, 'families': 1671, 'plainly': 1672, 'hereditary': 1673, 'closing': 1674, 'incisive': 1675, 'energetic': 1676, 'system': 1677, 'monograph': 1678, '“let': 1679, 'legal': 1680, 'produce': 1681, 'failed': 1682, 'sell': 1683, 'attempts': 1684, 'travelled': 1685, 'ruin': 1686, 'beautiful': 1687, 'resolute': 1688, 'fortunate': 1689, 'drop': 1690, 'added': 1691, 'rolled': 1692, 'landlady': 1693, 'informed': 1694, 'grasp': 1695, 'possibility': 1696, 'ceased': 1697, 'enter': 1698, 'groom': 1699, 'ill': 1700, 'whence': 1701, 'suited': 1702, 'limp': 1703, 'helpless': 1704, 'guess': 1705, 'employed': 1706, 'ended': 1707, 'watching': 1708, 'villa': 1709, 'built': 1710, 'furnished': 1711, 'closely': 1712, 'mews': 1713, 'runs': 1714, 'wall': 1715, 'compelled': 1716, 'male': 1717, 'handsome': 1718, 'inner': 1719, 'evidently': 1720, 'ominous': 1721, 'keeping': 1722, 'gentleman’s': 1723, 'thoroughly': 1724, 'monica': 1725, 'neat': 1726, 'coachman': 1727, 'buttoned': 1728, 'sovereign': 1729, '‘the': 1730, 'knot': 1731, 'altar': 1732, 'park': 1733, '“which': 1734, '“some': 1735, 'delighted': 1736, 'discuss': 1737, 'arranged': 1738, 'neutral': 1739, 'conveyed': 1740, 'visible': 1741, 'smile': 1742, 'peering': 1743, 'stage': 1744, 'smoking': 1745, 'scissors': 1746, 'guardsmen': 1747, 'carries': 1748, 'searched': 1749, 'rattled': 1750, 'equally': 1751, 'flushed': 1752, 'freely': 1753, 'fall': 1754, 'heels': 1755, '“he’s': 1756, 'brave': 1757, '“surely': 1758, 'proceedings': 1759, 'blinds': 1760, 'compunction': 1761, 'grace': 1762, 'tossed': 1763, 'sooner': 1764, 'rushing': 1765, 'nicely': 1766, 'everyone': 1767, 'row': 1768, 'paint': 1769, 'clapped': 1770, 'suspected': 1771, 'overpowering': 1772, 'advantage': 1773, 'nerves': 1774, 'beautifully': 1775, 'panel': 1776, 'escaped': 1777, '“at': 1778, 'delay': 1779, 'dimly': 1780, 'elderly': 1781, 'staggered': 1782, '“all': 1783, 'furniture': 1784, 'hurriedly': 1785, 'suspicious': 1786, 'preserve': 1787, 'truly': 1788, 'level': 1789, 'reward': 1790, 'slipped': 1791, 'highly': 1792, 'threatened': 1793, 'apology': 1794, 'utmost': 1795, 'routine': 1796, 'greatest': 1797, 'effects': 1798, 'effort': 1799, 'imagination': 1800, 'kindness': 1801, 'makes': 1802, 'thousands': 1803, 'similar': 1804, 'belief': 1805, 'newspaper': 1806, 'endeavoured': 1807, 'average': 1808, 'british': 1809, 'frock': 1810, 'albert': 1811, 'pierced': 1812, 'metal': 1813, 'faded': 1814, 'overcoat': 1815, 'occupation': 1816, 'glances': 1817, 'telling': 1818, 'forgot': 1819, 'shiny': 1820, 'smooth': 1821, 'clever': 1822, 'nominal': 1823, 'eleven': 1824, 'pope’s': 1825, 'ejaculated': 1826, 'spirits': 1827, 'fortunes': 1828, 'willing': 1829, 'wages': 1830, 'market': 1831, 'fault': 1832, 'presume': 1833, 'keeps': 1834, '“‘i': 1835, 'lord': 1836, 'here’s': 1837, 'handy': 1838, 'founded': 1839, 'died': 1840, 'tint': 1841, 'useful': 1842, 'gazed': 1843, 'perceive': 1844, 'benefactor': 1845, 'thinking': 1846, '“‘is': 1847, 'forever': 1848, '“‘no': 1849, '“‘then': 1850, 'bye': 1851, 'sum': 1852, 'sheets': 1853, 'golden': 1854, 'hoped': 1855, 'shelf': 1856, 'consideration': 1857, 'burst': 1858, 'laugh': 1859, 'card': 1860, '“‘yes': 1861, 'moved': 1862, 'personally': 1863, 'richer': 1864, '30': 1865, 'joke': 1866, 'questions': 1867, 'splash': 1868, 'sinking': 1869, 'absence': 1870, 'nose': 1871, 'bill': 1872, 'asleep': 1873, 'music': 1874, 'lines': 1875, 'enclosure': 1876, 'fight': 1877, 'board': 1878, 'fourth': 1879, 'claim': 1880, 'parts': 1881, 'contrast': 1882, 'hurrying': 1883, 'realise': 1884, 'branch': 1885, 'suburban': 1886, 'cup': 1887, 'violin': 1888, 'smiling': 1889, 'unlike': 1890, 'reaction': 1891, 'stop': 1892, 'dense': 1893, 'sense': 1894, 'expedition': 1895, 'sad': 1896, '“ha': 1897, 'starting': 1898, 'dog': 1899, 'detective': 1900, 'rubber': 1901, 'higher': 1902, 'brain': 1903, 'director': 1904, 'imbecile': 1905, 'vault': 1906, 'goodness': 1907, 'crate': 1908, 'stones': 1909, 'directors': 1910, '2': 1911, 'expect': 1912, 'meantime': 1913, 'darkness': 1914, 'highest': 1915, 'hearing': 1916, 'spark': 1917, 'disappearance': 1918, 'tearing': 1919, 'peeped': 1920, 'rested': 1921, 'jump': 1922, '“you’ll': 1923, 'suggest': 1924, 'motive': 1925, '“had': 1926, 'vulgar': 1927, 'tangled': 1928, 'stained': 1929, 'discovered': 1930, 'removed': 1931, 'exclaimed': 1932, 'existence': 1933, 'invent': 1934, 'conclusions': 1935, 'confessed': 1936, 'vital': 1937, 'unnatural': 1938, 'test': 1939, 'heading': 1940, 'reading': 1941, 'drink': 1942, 'teeth': 1943, 'allow': 1944, 'lid': 1945, 'glove': 1946, 'buttons': 1947, 'de': 1948, 'maiden': 1949, 'abstracted': 1950, 'trying': 1951, 'plumber': 1952, 'tottenham': 1953, 'income': 1954, 'separate': 1955, 'travel': 1956, 'staying': 1957, 'flush': 1958, 'school': 1959, 'purple': 1960, 'plush': 1961, 'offered': 1962, 'fond': 1963, 'weak': 1964, 'talked': 1965, 'wheeler': 1966, 'rising': 1967, 'sealed': 1968, 'bundle': 1969, 'upward': 1970, 'sleeve': 1971, 'ones': 1972, 'bushy': 1973, 'elastic': 1974, 'grounds': 1975, '“who': 1976, 'girl’s': 1977, 'wash': 1978, 'typewriter': 1979, 'moisture': 1980, 'wrong': 1981, 'utterly': 1982, 'difference': 1983, 'allowed': 1984, 'groaned': 1985, 'whip': 1986, 'recognise': 1987, 'minor': 1988, 'request': 1989, 'trivial': 1990, 'telegram': 1991, 'wired': 1992, 'platform': 1993, 'rummaged': 1994, 'murdered': 1995, 'conjectured': 1996, 'district': 1997, 'australian': 1998, 'mccarthys': 1999, 'june': 2000, 'lake': 2001, 'crowder': 2002, 'reeds': 2003, 'patience': 2004, 'frightened': 2005, 'excited': 2006, 'paces': 2007, 'verdict': 2008, 'wednesday': 2009, 'pointing': 2010, 'looks': 2011, 'aged': 2012, 'flying': 2013, 'considering': 2014, 'confession': 2015, 'hanged': 2016, 'deceased': 2017, 'hideous': 2018, 'terribly': 2019, 'considerably': 2020, 'feeling': 2021, 'remarks': 2022, 'reference': 2023, 'hypothesis': 2024, 'cheeks': 2025, 'victoria': 2026, 'prison': 2027, 'bone': 2028, 'accused': 2029, 'barmaid': 2030, 'interview': 2031, 'finding': 2032, 'learned': 2033, 'rent': 2034, 'inferences': 2035, 'path': 2036, 'trace': 2037, 'tut': 2038, 'holding': 2039, 'indian': 2040, 'presumption': 2041, 'certainty': 2042, 'approached': 2043, 'smoked': 2044, 'deduced': 2045, '“holmes': 2046, 'strength': 2047, 'grizzled': 2048, 'grip': 2049, 'avoid': 2050, 'break': 2051, 'acting': 2052, 'needed': 2053, 'policeman': 2054, 'worse': 2055, 'property': 2056, 'deed': 2057, 'proof': 2058, 'barque': 2059, 'exceptional': 2060, 'bearing': 2061, 'owe': 2062, 'chalk': 2063, 'elias': 2064, 'florida': 2065, 'reported': 2066, 'war': 2067, '1869': 2068, 'flap': 2069, 'fluffy': 2070, 'enemy': 2071, 'bar': 2072, 'destroyed': 2073, 'uncle’s': 2074, 'beginning': 2075, '’85': 2076, 'newly': 2077, 'unable': 2078, 'sinister': 2079, 'troubles': 2080, 'pressing': 2081, 'elapsed': 2082, 'division': 2083, 'act': 2084, 'discoloured': 2085, 'pulling': 2086, 'solution': 2087, 'writer': 2088, 'vessel': 2089, 'quickly': 2090, 'eventually': 2091, 'laying': 2092, 'forget': 2093, 'miserable': 2094, 'places': 2095, 'calling': 2096, 'authorities': 2097, 'trade': 2098, 'd': 2099, 'rid': 2100, 'flew': 2101, 'wife’s': 2102, 'kate': 2103, 'bodies': 2104, 'thoughts': 2105, 'legged': 2106, 'wharf': 2107, 'cedars': 2108, 'kent': 2109, 'bricks': 2110, 'twinkled': 2111, 'constables': 2112, 'garments': 2113, 'downstairs': 2114, 'horse’s': 2115, 'stable': 2116, 'posted': 2117, 'previous': 2118, 'stirring': 2119, 'joking': 2120, 'charged': 2121, 'sponge': 2122, 'articles': 2123, 'commissionaire': 2124, 'battered': 2125, 'intellectual': 2126, 'lime': 2127, 'cream': 2128, 'anywhere': 2129, 'license': 2130, 'net': 2131, 'language': 2132, 'contents': 2133, 'iv': 2134, 'v': 2135, 'vi': 2136, 'vii': 2137, 'band': 2138, 'beryl': 2139, 'copper': 2140, 'mention': 2141, 'akin': 2142, 'precise': 2143, 'admirable': 2144, 'men’s': 2145, 'actions': 2146, 'admit': 2147, 'adjusted': 2148, 'factor': 2149, 'crack': 2150, 'drifted': 2151, 'happiness': 2152, 'interests': 2153, 'finds': 2154, 'buried': 2155, 'books': 2156, 'attracted': 2157, 'clues': 2158, 'doings': 2159, 'accomplished': 2160, 'holland': 2161, 'daily': 2162, 'night—it': 2163, 'twentieth': 2164, 'journey': 2165, 'patient': 2166, 'civil': 2167, 'desire': 2168, 'employing': 2169, 'brilliantly': 2170, 'blind': 2171, 'eagerly': 2172, 'mood': 2173, 'dreams': 2174, 'harness': 2175, 'wet': 2176, 'thursday': 2177, 'dreadful': 2178, 'changed': 2179, 'rubbed': 2180, 'scored': 2181, 'parallel': 2182, 'cuts': 2183, 'smelling': 2184, 'silver': 2185, 'pronounce': 2186, 'active': 2187, 'member': 2188, 'ease': 2189, 'process': 2190, 'successive': 2191, 'lighting': 2192, 'hundreds': 2193, 'trifling': 2194, 'deepest': 2195, 'recent': 2196, 'services': 2197, 'trusted': 2198, 'amiss': 2199, 'capital': 2200, 'packet': 2201, 'stiff': 2202, 'shelves': 2203, 'sparkled': 2204, 'remains': 2205, 'wearing': 2206, 'resolve': 2207, 'horses’': 2208, 'hoofs': 2209, 'grating': 2210, 'whistled': 2211, 'promises': 2212, 'paused': 2213, '“come': 2214, 'inches': 2215, 'flame': 2216, 'flaming': 2217, 'halfway': 2218, 'fur': 2219, 'completed': 2220, 'extending': 2221, 'resolution': 2222, 'length': 2223, 'kramm': 2224, 'discretion': 2225, 'prefer': 2226, 'wishes': 2227, 'ormstein': 2228, 'languid': 2229, 'gigantic': 2230, 'advise': 2231, 'uncontrollable': 2232, 'agitation': 2233, 'gesture': 2234, 'hurled': 2235, 'grand': 2236, 'duke': 2237, 'confide': 2238, 'briefly': 2239, 'acquaintance': 2240, 'index': 2241, '“hum': 2242, 'born': 2243, 'hum': 2244, 'entangled': 2245, 'forgery': 2246, '“stolen': 2247, 'ransacked': 2248, 'waylaid': 2249, '“absolutely': 2250, 'propose': 2251, 'strict': 2252, 'shadow': 2253, 'steel': 2254, 'yawn': 2255, 'anxiety': 2256, 'kingdom': 2257, 'cabinet': 2258, 'surrounded': 2259, 'recorded': 2260, 'pleasure': 2261, 'subtle': 2262, 'failing': 2263, 'disreputable': 2264, 'tweed': 2265, 'legs': 2266, 'heartily': 2267, 'choked': 2268, 'freemasonry': 2269, 'stories': 2270, 'child': 2271, 'lounged': 2272, 'ostlers': 2273, 'rubbing': 2274, 'horses': 2275, 'exchange': 2276, 'twopence': 2277, 'listen': 2278, 'sings': 2279, 'drives': 2280, 'returns': 2281, 'dinner': 2282, 'dashing': 2283, 'calls': 2284, 'confidant': 2285, 'plan': 2286, 'relation': 2287, 'mistress': 2288, 'transferred': 2289, 'chambers': 2290, 'widened': 2291, 'bore': 2292, 'difficulties': 2293, 'balancing': 2294, 'remarkably': 2295, 'aquiline': 2296, 'brushed': 2297, 'waving': 2298, 'regent': 2299, 'edgeware': 2300, 'wondering': 2301, 'sticking': 2302, 'hadn’t': 2303, 'lovely': 2304, 'die': 2305, '“‘the': 2306, 'driver': 2307, 'shabby': 2308, 'fare': 2309, 'jumped': 2310, 'mumbling': 2311, 'refused': 2312, 'lucky': 2313, 'bridegroom': 2314, 'unexpected': 2315, 'affairs': 2316, 'departure': 2317, 'driving': 2318, 'directions': 2319, 'arrangements': 2320, '“nor': 2321, 'join': 2322, '“entirely': 2323, 'amiable': 2324, 'baggy': 2325, 'sympathetic': 2326, 'curiosity': 2327, 'costume': 2328, 'actor': 2329, 'acute': 2330, 'lamps': 2331, 'animated': 2332, 'grinder': 2333, 'edged': 2334, 'capable': 2335, 'naturally': 2336, 'political': 2337, 'orders': 2338, 'increased': 2339, 'loungers': 2340, 'fists': 2341, 'sticks': 2342, 'protect': 2343, 'scuffle': 2344, 'outlined': 2345, 'lights': 2346, 'hurt': 2347, 'voices': 2348, 'he’ll': 2349, 'solemnly': 2350, 'borne': 2351, 'creature': 2352, 'treachery': 2353, 'ulster': 2354, 'injuring': 2355, 'motion': 2356, '“fire': 2357, 'shriek': 2358, 'shouting': 2359, 'moist': 2360, 'piteous': 2361, 'spectacle': 2362, 'fathom': 2363, 'baby': 2364, 'reaches': 2365, 'shake': 2366, 'sliding': 2367, 'safer': 2368, '“our': 2369, 'practically': 2370, 'satisfaction': 2371, 'wire': 2372, 'greeting': 2373, 'slept': 2374, '“irene': 2375, 'named': 2376, 'majesty’s': 2377, 'queen': 2378, 'gaze': 2379, '5': 2380, '15': 2381, 'charing': 2382, 'chagrin': 2383, 'till': 2384, 'midnight': 2385, 'reveal': 2386, 'resource': 2387, 'loved': 2388, 'wronged': 2389, 'possess': 2390, '“did': 2391, 'indebted': 2392, 'snake': 2393, 'stared': 2394, 'affect': 2395, 'wit': 2396, 'speaks': 2397, 'fiery': 2398, 'possibly': 2399, 'helper': 2400, 'fat': 2401, 'fingertips': 2402, 'liberty': 2403, 'otherwise': 2404, 'smaller': 2405, 'detail': 2406, 'guide': 2407, 'flattened': 2408, 'indications': 2409, 'dangling': 2410, 'altogether': 2411, 'blazing': 2412, 'manual': 2413, 'labour': 2414, 'especially': 2415, 'elbow': 2416, 'desk': 2417, 'literature': 2418, 'suffer': 2419, 'follows': 2420, 'ezekiah': 2421, 'hopkins': 2422, 'eligible': 2423, 'fleet': 2424, 'announcement': 2425, 'isn’t': 2426, 'household': 2427, '1890': 2428, 'employé': 2429, 'price': 2430, 'employers': 2431, 'faults': 2432, 'photography': 2433, 'rabbit': 2434, 'roof': 2435, 'debts': 2436, 'gets': 2437, 'vacancies': 2438, 'trustees': 2439, 'crib': 2440, 'particulars': 2441, 'enormous': 2442, 'berths': 2443, 'grown': 2444, 'cared': 2445, 'yourselves': 2446, 'holiday': 2447, 'shut': 2448, 'brick': 2449, 'pinch': 2450, 'fill': 2451, 'recall': 2452, 'backward': 2453, 'cocked': 2454, 'warmly': 2455, 'tales': 2456, 'wax': 2457, 'groan': 2458, 'disappointment': 2459, 'fund': 2460, 'gravely': 2461, 'lengthened': 2462, 'duties': 2463, 'mostly': 2464, 'billet': 2465, 'britannica': 2466, 'blotting': 2467, 'pleased': 2468, 'copying': 2469, 'reasoned': 2470, 'anyhow': 2471, 'foolscap': 2472, 'week’s': 2473, 'degrees': 2474, 'risk': 2475, 'cardboard': 2476, 'laughter': 2477, 'flushing': 2478, 'roots': 2479, 'morris': 2480, 'using': 2481, 'temporary': 2482, 'paul’s': 2483, 'caps': 2484, 'issues': 2485, 'hang': 2486, 'expensive': 2487, '“about': 2488, 'month': 2489, 'acid': 2490, 'excitement': 2491, 'earrings': 2492, 'proves': 2493, 'featureless': 2494, 'nodding': 2495, 'mantelpiece': 2496, 'james’s': 2497, 'storied': 2498, 'announced': 2499, 'brightly': 2500, 'lids': 2501, 'vigorously': 2502, 'knocked': 2503, 'shaven': 2504, 'wilson’s': 2505, 'inquired': 2506, 'beat': 2507, 'enemy’s': 2508, 'flowing': 2509, 'inward': 2510, 'swarm': 2511, 'abutted': 2512, 'exact': 2513, 'clients': 2514, 'relentless': 2515, 'witted': 2516, 'conceive': 2517, 'alternately': 2518, 'represented': 2519, 'swing': 2520, 'languor': 2521, 'lust': 2522, 'brilliant': 2523, 'intuition': 2524, 'contemplation': 2525, 'army': 2526, 'happen': 2527, 'armed': 2528, 'explanation': 2529, 'oxford': 2530, 'treasure': 2531, 'correct': 2532, 'deference': 2533, 'stake': 2534, 'grandfather': 2535, 'raising': 2536, 'i’ve': 2537, 'agree': 2538, 'endless': 2539, 'labyrinth': 2540, 'bulldog': 2541, 'corridor': 2542, 'massive': 2543, 'gate': 2544, 'boxes': 2545, 'striking': 2546, 'solemn': 2547, 'perched': 2548, 'magnifying': 2549, 'seconds': 2550, '“for': 2551, 'pawnbroker': 2552, 'chairman': 2553, 'criminals': 2554, 'warnings': 2555, 'strengthen': 2556, 'resources': 2557, 'borrowed': 2558, 'napoleons': 2559, 'reserve': 2560, 'bullion': 2561, 'pack': 2562, 'cards': 2563, 'preparations': 2564, 'choose': 2565, 'flash': 2566, 'shooting': 2567, 'smell': 2568, 'assure': 2569, 'holes': 2570, 'gentle': 2571, 'companions': 2572, 'breath': 2573, 'lurid': 2574, 'writhing': 2575, 'protruded': 2576, 'rending': 2577, 'pistol': 2578, 'pal': 2579, 'compliment': 2580, 'wrists': 2581, 'veins': 2582, '“really': 2583, 'expense': 2584, 'ingenious': 2585, 'rogue': 2586, 'manage': 2587, 'vanishing': 2588, 'tunnel': 2589, 'burrowing': 2590, 'essential': 2591, 'admiration': 2592, 'link': 2593, 'rings': 2594, 'commonplaces': 2595, 'race': 2596, 'c’est': 2597, 'tout': 2598, 'george': 2599, 'infinitely': 2600, 'leading': 2601, 'outré': 2602, 'bald': 2603, 'limits': 2604, 'wanting': 2605, 'magistrate': 2606, 'observer': 2607, 'depend': 2608, 'adviser': 2609, 'everybody': 2610, 'contact': 2611, 'sister': 2612, 'homely': 2613, 'served': 2614, 'feature': 2615, 'analysis': 2616, 'gazing': 2617, 'curling': 2618, 'feather': 2619, 'hesitating': 2620, 'tiny': 2621, 'realising': 2622, 'purport': 2623, 'i’m': 2624, 'tips': 2625, 'vacuous': 2626, 'wasn’t': 2627, 'fifteen': 2628, 'hardy': 2629, 'foreman': 2630, 'superior': 2631, 'traveller': 2632, 'impatient': 2633, 'paying': 2634, 'thousand': 2635, 'gasfitters’': 2636, 'tickets': 2637, 'treat': 2638, 'visitors': 2639, 'circle': 2640, 'worst': 2641, 'retiring': 2642, 'throat': 2643, 'speech': 2644, 'glare': 2645, 'swear': 2646, 'testament': 2647, 'passion': 2648, 'marrying': 2649, 'sly': 2650, 'treated': 2651, 'meaning': 2652, 'foresaw': 2653, 'doors': 2654, 'sob': 2655, 'try': 2656, 'advertised': 2657, 'camberwell': 2658, 'westhouse': 2659, 'marbank': 2660, 'fenchurch': 2661, 'faith': 2662, 'leaned': 2663, 'invisible': 2664, 'slate': 2665, 'jet': 2666, 'gloves': 2667, 'greyish': 2668, 'softly': 2669, 'wonderfully': 2670, 'hit': 2671, 'material': 2672, 'defined': 2673, 'farthest': 2674, 'pince': 2675, 'nez': 2676, 'odd': 2677, 'slightly': 2678, 'toe': 2679, 'noted': 2680, 'torn': 2681, 'violet': 2682, 'moustache': 2683, 'bears': 2684, 'asking': 2685, 'relatives': 2686, 'assured': 2687, 'footfall': 2688, 'sized': 2689, 'skinned': 2690, 'insinuating': 2691, 'penetrating': 2692, 'sideboard': 2693, 'nearest': 2694, 'troubled': 2695, 'pleasant': 2696, 'abroad': 2697, 'discovering': 2698, 'individuality': 2699, 'handwriting': 2700, 'characteristics': 2701, 'devoted': 2702, 'waste': 2703, 'stepping': 2704, 'solve': 2705, 'collapsed': 2706, 'ghastly': 2707, 'glitter': 2708, 'actionable': 2709, 'stammered': 2710, 'cruel': 2711, 'petty': 2712, 'huddled': 2713, 'breast': 2714, 'leaning': 2715, 'disposition': 2716, 'affectionate': 2717, 'hearted': 2718, 'fair': 2719, 'personal': 2720, 'forbidding': 2721, 'seek': 2722, 'loudly': 2723, 'meetings': 2724, 'punishment': 2725, 'jove': 2726, 'bitter': 2727, 'blooded': 2728, 'ends': 2729, 'respects': 2730, 'devoid': 2731, 'suspicions': 2732, 'smallest': 2733, 'spotted': 2734, 'characteristic': 2735, 'seated': 2736, 'paddington': 2737, 'onto': 2738, 'accounts': 2739, 'invariably': 2740, 'herefordshire': 2741, 'largest': 2742, 'proprietor': 2743, 'australia': 2744, 'ex': 2745, 'neighbouring': 2746, '3rd': 2747, 'mile': 2748, 'actually': 2749, 'moran': 2750, 'picking': 2751, 'quarrelling': 2752, 'blows': 2753, 'inflicted': 2754, 'butt': 2755, 'damning': 2756, 'culprit': 2757, 'theory': 2758, 'earth—”': 2759, 'shave': 2760, 'season': 2761, 'jaw': 2762, 'deserts': 2763, 'minds': 2764, 'coroner’s': 2765, 'policy': 2766, 'according': 2767, 'displayed': 2768, 'guilty': 2769, '“many': 2770, 'wrongfully': 2771, 'paragraph': 2772, 'rapidly': 2773, 'roughly': 2774, 'turner’s': 2775, 'popular': 2776, 'enemies': 2777, 'mumbled': 2778, 'delirious': 2779, 'refusal': 2780, '‘cooee’': 2781, 'uttered': 2782, 'confusion': 2783, '“': 2784, 'severe': 2785, 'pains': 2786, 'strongest': 2787, 'consciousness': 2788, 'approach': 2789, 'difficulty': 2790, 'hereford': 2791, 'sky': 2792, 'newspapers': 2793, 'bless': 2794, 'tender': 2795, 'flaw': 2796, 'hide': 2797, 'union': 2798, '“may': 2799, 'wreck': 2800, 'dad': 2801, 'mines': 2802, 'rattle': 2803, 'dignity': 2804, 'wandered': 2805, 'backed': 2806, 'plot': 2807, 'compared': 2808, 'wander': 2809, 'unhappy': 2810, 'terrible': 2811, 'county': 2812, 'spot': 2813, 'indicate': 2814, 'charming': 2815, 'hangs': 2816, 'tale': 2817, 'clutches': 2818, 'maddening': 2819, 'sheer': 2820, 'frenzy': 2821, 'truth': 2822, '“an': 2823, 'add': 2824, 'tackle': 2825, 'grasped': 2826, 'is—”': 2827, 'merest': 2828, 'moonshine': 2829, 'stricken': 2830, 'thinker': 2831, 'downward': 2832, 'nostrils': 2833, 'animal': 2834, 'snarl': 2835, 'wealthy': 2836, 'belt': 2837, 'trees': 2838, 'eager': 2839, 'mole': 2840, 'tracks': 2841, 'waterproof': 2842, 'tiptoes': 2843, 'losing': 2844, 'traced': 2845, 'bark': 2846, 'moss': 2847, 'regained': 2848, 'carrying': 2849, 'uses': 2850, 'knife': 2851, 'calmly': 2852, '“just': 2853, 'commence': 2854, 'meant': 2855, 'whoever': 2856, 'map': 2857, 'colony': 2858, 'conception': 2859, 'strangers': 2860, 'trifles': 2861, 'judge': 2862, 'ash': 2863, 'possessed': 2864, 'drooping': 2865, 'diggings': 2866, 'chap': 2867, 'reckless': 2868, 'jack': 2869, 'leaf': 2870, 'shaking': 2871, 'grinning': 2872, 'mixed': 2873, 'dislike': 2874, 'braved': 2875, 'regard': 2876, 'limb': 2877, 'signed': 2878, 'exposed': 2879, 'easier': 2880, 'submitted': 2881, 'happily': 2882, 'ignorance': 2883, 'publicity': 2884, 'degree': 2885, 'analytical': 2886, 'skill': 2887, 'ending': 2888, 'conjecture': 2889, 'retain': 2890, 'amateur': 2891, 'club': 2892, 'equinoctial': 2893, 'gales': 2894, 'screamed': 2895, 'storm': 2896, 'sobbed': 2897, 'newcomer': 2898, 'umbrella': 2899, 'dry': 2900, 'prendergast': 2901, 'commencement': 2902, 'retire': 2903, 'drank': 2904, 'begged': 2905, 'liked': 2906, 'disturb': 2907, 'exception': 2908, 'lumber': 2909, 'plate': 2910, 'receive': 2911, 'pattered': 2912, 'protruding': 2913, 'putty': 2914, '‘k': 2915, 'scrawled': 2916, 'terror': 2917, 'fordham': 2918, 'grate': 2919, 'treble': 2920, 'shows': 2921, 'emerge': 2922, 'green': 2923, '14': 2924, 'foresee': 2925, 'suicide': 2926, '10': 2927, 'southern': 2928, 'politics': 2929, 'nonsense': 2930, 'record': 2931, 'begun': 2932, 'crumpled': 2933, 'guard': 2934, 'deaths': 2935, 'particular': 2936, 'page': 2937, 'diary': 2938, 'mccauley': 2939, 'paramore': 2940, 'swain': 2941, 'visited': 2942, 'described': 2943, 'web': 2944, 'perils': 2945, 'elbows': 2946, '“would': 2947, 'attain': 2948, 'education': 2949, 'rare': 2950, 'mail': 2951, 'individual': 2952, 'klux': 2953, 'klan': 2954, 'confederate': 2955, 'branches': 2956, 'georgia': 2957, 'views': 2958, 'outrages': 2959, 'victim': 2960, 'organisation': 2961, 'succeeded': 2962, 'movement': 2963, 'sun': 2964, 'dim': 2965, 'constable': 2966, 'h': 2967, 'passers': 2968, 'landing': 2969, 'condition': 2970, 'riverside': 2971, 'hurts': 2972, 'addressed': 2973, 'calhoun': 2974, 'port': 2975, 'dates': 2976, 'touched': 2977, 'homeward': 2978, 'themselves': 2979, 'swinging': 2980, 'college': 2981, 'lap': 2982, 'control': 2983, 'doubtless': 2984, 'poison': 2985, 'timid': 2986, 'pluck': 2987, 'whitney’s': 2988, 'promised': 2989, 'wharves': 2990, 'glimmered': 2991, 'pipes': 2992, 'brazier': 2993, 'attendant': 2994, 'supply': 2995, 'beckoning': 2996, 'pitiable': 2997, 'heavens': 2998, 'frighten': 2999, 'loose': 3000, 'sworn': 3001, '1000': 3002, 'vilest': 3003, 'whistle': 3004, 'clink': 3005, 'bedded': 3006, 'sombre': 3007, 'regular': 3008, 'villas': 3009, 'plenty': 3010, 'counties': 3011, '“last': 3012, 'fresno': 3013, 'ejaculation': 3014, 'frantically': 3015, 'attempted': 3016, 'ascend': 3017, 'swore': 3018, 'protested': 3019, 'lodger': 3020, 'matches': 3021, 'horrible': 3022, 'fainted': 3023, 'shirt': 3024, 'afford': 3025, 'weighted': 3026, 'outskirts': 3027, 'surrey': 3028, 'disposal': 3029, 'whoa': 3030, 'eagerness': 3031, 'dining': 3032, 'supper': 3033, '“frankly': 3034, 'coarse': 3035, 'valuable': 3036, 'gown': 3037, 'pillows': 3038, 'ounce': 3039, 'apartment': 3040, 'gladstone': 3041, 'metropolis': 3042, 'cells': 3043, 'bath': 3044, 'tattered': 3045, 'repulsive': 3046, 'exposure': 3047, 'destiny': 3048, '26': 3049, 'smearing': 3050, 'coppers': 3051, 'hung': 3052, 'cracked': 3053, 'frost': 3054, '“only': 3055, 'recover': 3056, 'owner': 3057, 'roughs': 3058, 'henry': 3059, 'bird’s': 3060, 'bakers': 3061, 'securer': 3062, 'moral': 3063, 'retrogression': 3064, 'decline': 3065, 'training': 3066, 'tallow': 3067, 'gem': 3068, 'cosmopolitan': 3069, '22nd': 3070, 'morcar': 3071, 'ryder': 3072, '\\ufeff': 3073, \"gutenberg's\": 3074, 'restrictions': 3075, 'whatsoever': 3076, 're': 3077, 'included': 3078, 'online': 3079, 'www': 3080, 'author': 3081, 'release': 3082, 'november': 3083, '29': 3084, '2002': 3085, '1661': 3086, 'updated': 3087, '20': 3088, '2019': 3089, 'encoding': 3090, 'utf': 3091, '8': 3092, 'anonymous': 3093, 'volunteer': 3094, 'jose': 3095, 'menendez': 3096, 'viii': 3097, 'speckled': 3098, 'ix': 3099, 'engineer’s': 3100, 'x': 3101, 'xi': 3102, 'coronet': 3103, 'xii': 3104, 'beeches': 3105, 'eclipses': 3106, 'predominates': 3107, 'sex': 3108, 'emotions': 3109, 'abhorrent': 3110, 'balanced': 3111, 'lover': 3112, 'softer': 3113, 'passions': 3114, 'gibe': 3115, 'observer—excellent': 3116, 'motives': 3117, 'intrusions': 3118, 'finely': 3119, 'temperament': 3120, 'distracting': 3121, 'mental': 3122, 'grit': 3123, 'sensitive': 3124, 'instrument': 3125, 'lenses': 3126, 'disturbing': 3127, 'dubious': 3128, 'questionable': 3129, 'centred': 3130, 'around': 3131, 'establishment': 3132, 'sufficient': 3133, 'absorb': 3134, 'loathed': 3135, 'alternating': 3136, 'ambition': 3137, 'drowsiness': 3138, 'occupied': 3139, 'faculties': 3140, 'abandoned': 3141, 'hopeless': 3142, 'summons': 3143, 'odessa': 3144, 'trepoff': 3145, 'atkinson': 3146, 'brothers': 3147, 'trincomalee': 3148, 'delicately': 3149, 'successfully': 3150, 'activity': 3151, 'shared': 3152, 'readers': 3153, '1888—i': 3154, 'wooing': 3155, 'silhouette': 3156, 'clasped': 3157, 'attitude': 3158, 'created': 3159, 'effusive': 3160, 'spirit': 3161, 'gasogene': 3162, '“wedlock': 3163, 'suits': 3164, '“seven': 3165, 'intended': 3166, 'clumsy': 3167, 'careless': 3168, 'centuries': 3169, 'mess': 3170, 'jane': 3171, 'incorrigible': 3172, 'simplicity': 3173, 'shoe': 3174, 'firelight': 3175, 'strikes': 3176, 'carelessly': 3177, 'scraped': 3178, 'edges': 3179, 'sole': 3180, 'crusted': 3181, 'malignant': 3182, 'slitting': 3183, 'specimen': 3184, 'slavey': 3185, 'iodoform': 3186, 'nitrate': 3187, 'bulge': 3188, 'secreted': 3189, 'stethoscope': 3190, 'ridiculously': 3191, 'distinction': 3192, '“frequently': 3193, 'seventeen': 3194, 'experiences': 3195, 'notepaper': 3196, '“read': 3197, 'aloud': 3198, 'undated': 3199, 'desires': 3200, 'exaggerated': 3201, 'theorise': 3202, 'insensibly': 3203, 'begins': 3204, 'endeavouring': 3205, 'imitate': 3206, 'companion’s': 3207, 'processes': 3208, '“such': 3209, 'peculiarly': 3210, '“peculiar—that': 3211, '“e”': 3212, '“g': 3213, '“p': 3214, '“g”': 3215, '“t”': 3216, 'texture': 3217, 'maker': 3218, 'monogram': 3219, '‘g’': 3220, '‘t’': 3221, '‘gesellschaft': 3222, '‘company': 3223, 'customary': 3224, '‘co': 3225, '‘p': 3226, '‘papier': 3227, '‘eg': 3228, 'continental': 3229, 'gazetteer': 3230, '“eglow': 3231, 'eglonitz—here': 3232, 'egria': 3233, 'speaking': 3234, 'country—in': 3235, 'carlsbad': 3236, '‘remarkable': 3237, 'wallenstein': 3238, 'numerous': 3239, 'factories': 3240, 'mills': 3241, 'triumphant': 3242, 'construction': 3243, 'sentence—‘this': 3244, 'frenchman': 3245, 'russian': 3246, 'uncourteous': 3247, 'verbs': 3248, 'discover': 3249, 'writes': 3250, 'prefers': 3251, 'curb': 3252, 'beauties': 3253, 'guineas': 3254, 'apiece': 3255, 'boswell': 3256, 'client—”': 3257, 'loud': 3258, 'authoritative': 3259, 'hercules': 3260, 'richness': 3261, 'bands': 3262, 'astrakhan': 3263, 'slashed': 3264, 'fronts': 3265, 'breasted': 3266, 'secured': 3267, 'brooch': 3268, 'consisted': 3269, 'extended': 3270, 'calves': 3271, 'trimmed': 3272, 'tops': 3273, 'barbaric': 3274, 'opulence': 3275, 'cheekbones': 3276, 'vizard': 3277, 'obstinacy': 3278, 'harsh': 3279, 'accent': 3280, 'nobleman': 3281, 'communicate': 3282, 'binding': 3283, 'secrecy': 3284, 'european': 3285, 'history': 3286, 'august': 3287, 'employs': 3288, 'dryly': 3289, 'quench': 3290, 'grow': 3291, 'compromise': 3292, 'implicates': 3293, 'kings': 3294, 'settling': 3295, 'apparent': 3296, 'depicted': 3297, 'reopened': 3298, 'impatiently': 3299, 'condescend': 3300, 'desperation': 3301, 'addressing': 3302, 'wilhelm': 3303, 'gottsreich': 3304, 'sigismond': 3305, 'cassel': 3306, 'felstein': 3307, 'incognito': 3308, 'prague': 3309, 'consulting': 3310, 'shutting': 3311, 'lengthy': 3312, 'warsaw': 3313, 'adventuress': 3314, '“kindly': 3315, 'adopted': 3316, 'docketing': 3317, 'paragraphs': 3318, 'concerning': 3319, 'furnish': 3320, 'biography': 3321, 'sandwiched': 3322, 'hebrew': 3323, 'rabbi': 3324, 'staff': 3325, 'commander': 3326, 'fishes': 3327, 'jersey': 3328, '1858': 3329, 'contralto—hum': 3330, 'la': 3331, 'scala': 3332, 'prima': 3333, 'donna': 3334, 'imperial': 3335, 'opera': 3336, 'warsaw—yes': 3337, 'operatic': 3338, 'stage—ha': 3339, 'london—quite': 3340, 'compromising': 3341, 'desirous': 3342, 'how—”': 3343, 'certificates': 3344, 'blackmailing': 3345, 'authenticity': 3346, '“pooh': 3347, 'pooh': 3348, 'seal': 3349, '“imitated': 3350, '“bought': 3351, 'indiscretion': 3352, 'mad—insane': 3353, 'compromised': 3354, 'prince': 3355, '“five': 3356, 'burglars': 3357, 'diverted': 3358, 'luggage': 3359, 'reproachfully': 3360, 'clotilde': 3361, 'lothman': 3362, 'meningen': 3363, 'scandinavia': 3364, 'principles': 3365, '“threatens': 3366, 'lengths': 3367, 'go—none': 3368, 'betrothal': 3369, 'publicly': 3370, 'proclaimed': 3371, 'langham': 3372, 'progress': 3373, 'carte': 3374, 'blanche': 3375, 'provinces': 3376, 'expenses': 3377, 'chamois': 3378, 'scribbled': 3379, 'receipt': 3380, 'mademoiselle’s': 3381, 'john’s': 3382, 'chat': 3383, 'precisely': 3384, 'awaiting': 3385, 'grim': 3386, 'exalted': 3387, 'apart': 3388, 'masterly': 3389, 'disentangled': 3390, 'inextricable': 3391, 'invariable': 3392, 'kempt': 3393, 'whiskered': 3394, 'inflamed': 3395, 'amazing': 3396, 'disguises': 3397, 'nod': 3398, 'obliged': 3399, 'sequel': 3400, 'horsey': 3401, 'bijou': 3402, 'chubb': 3403, 'fasteners': 3404, 'coach': 3405, 'noting': 3406, 'lent': 3407, 'fills': 3408, 'biographies': 3409, 'daintiest': 3410, 'bonnet': 3411, 'planet': 3412, 'concerts': 3413, 'campaign': 3414, 'sounded': 3415, 'visits': 3416, 'issue': 3417, 'depended': 3418, 'moustached—evidently': 3419, 'glimpses': 3420, 'excitedly': 3421, 'flurried': 3422, 'earnestly': 3423, '‘drive': 3424, '‘first': 3425, 'gross': 3426, 'hankey’s': 3427, 'guinea': 3428, '“away': 3429, 'tags': 3430, 'buckles': 3431, 'perch': 3432, 'cabby': 3433, 'fast': 3434, 'faster': 3435, 'steaming': 3436, 'surpliced': 3437, 'expostulating': 3438, 'aisle': 3439, 'idler': 3440, '“‘thank': 3441, '‘you’ll': 3442, '“‘come': 3443, 'dragged': 3444, 'responses': 3445, 'vouching': 3446, 'assisting': 3447, 'tying': 3448, 'spinster': 3449, 'thanking': 3450, 'beamed': 3451, 'informality': 3452, 'sally': 3453, 'bride': 3454, 'menaced': 3455, 'immediate': 3456, 'necessitate': 3457, 'measures': 3458, 'separated': 3459, 'beef': 3460, 'beer': 3461, 'ringing': 3462, 'food': 3463, 'busier': 3464, 'co': 3465, 'operation': 3466, 'tray': 3467, 'hungrily': 3468, 'provided': 3469, 'eat': 3470, 'madame': 3471, 'insist': 3472, 'unpleasantness': 3473, 'hand—so—you': 3474, 'shaped': 3475, 'roll': 3476, 'plumber’s': 3477, 'fitted': 3478, 'task': 3479, 'rejoin': 3480, 'prepare': 3481, 'role': 3482, 'minded': 3483, 'nonconformist': 3484, 'benevolent': 3485, 'hare': 3486, 'equalled': 3487, 'vary': 3488, 'assumed': 3489, 'science': 3490, 'specialist': 3491, 'dusk': 3492, 'lighted': 3493, 'occupant': 3494, 'pictured': 3495, 'succinct': 3496, 'locality': 3497, 'group': 3498, 'shabbily': 3499, 'wheel': 3500, 'flirting': 3501, 'nurse': 3502, 'mouths': 3503, 'fro': 3504, 'simplifies': 3505, 'chances': 3506, 'princess': 3507, 'unlikely': 3508, 'concealment': 3509, '“her': 3510, 'banker': 3511, 'secretive': 3512, 'secreting': 3513, 'guardianship': 3514, 'indirect': 3515, 'bear': 3516, 'resolved': 3517, 'burgled': 3518, '“pshaw': 3519, 'rumble': 3520, 'gleam': 3521, 'sidelights': 3522, 'curve': 3523, 'smart': 3524, 'loafing': 3525, 'earning': 3526, 'elbowed': 3527, 'loafer': 3528, 'sides': 3529, 'struggling': 3530, 'savagely': 3531, 'attend': 3532, 'superb': 3533, 'hospital': 3534, 'purse': 3535, 'rough': 3536, 'ah': 3537, 'marm': 3538, 'conspiring': 3539, 'kindliness': 3540, 'blackest': 3541, 'intrusted': 3542, 'hardened': 3543, 'preventing': 3544, 'spectators': 3545, 'ill—gentlemen': 3546, 'maids—joined': 3547, 'figures': 3548, 'assuring': 3549, 'slipping': 3550, 'rejoiced': 3551, 'uproar': 3552, 'accomplice': 3553, 'guessed': 3554, 'motioned': 3555, 'thinks': 3556, 'instinct': 3557, 'values': 3558, 'impulse': 3559, 'darlington': 3560, 'substitution': 3561, 'arnsworth': 3562, 'castle': 3563, 'grabs': 3564, 'unmarried': 3565, 'responded': 3566, 'recess': 3567, 'replaced': 3568, 'excuses': 3569, 'hesitated': 3570, 'narrowly': 3571, 'precipitance': 3572, 'regain': 3573, 'searching': 3574, 'mister': 3575, 'slim': 3576, '“i’ve': 3577, 'deuce': 3578, 'toast': 3579, 'grasping': 3580, 'impatience': 3581, 'simplify': 3582, 'descended': 3583, '“married': 3584, '“yesterday': 3585, 'annoyance': 3586, 'loves': 3587, 'yet—': 3588, 'relapsed': 3589, 'moody': 3590, 'sardonic': 3591, 'continent': 3592, 'hoarsely': 3593, 'dismantled': 3594, 'drawers': 3595, 'shutter': 3596, 'plunging': 3597, 'superscribed': 3598, '“sherlock': 3599, 'esq': 3600, 'dated': 3601, 'preceding': 3602, '—you': 3603, 'betrayed': 3604, 'warned': 3605, 'actress': 3606, 'freedom': 3607, 'departed': 3608, 'celebrated': 3609, 'imprudently': 3610, 'pursued': 3611, 'antagonist': 3612, 'nest': 3613, 'hindrance': 3614, 'cruelly': 3615, 'safeguard': 3616, 'née': 3617, 'woman—oh': 3618, 'epistle': 3619, 'coldly': 3620, 'inviolate': 3621, 'immensely': 3622, 'ring—”': 3623, 'emerald': 3624, 'amazement': 3625, '“irene’s': 3626, 'merry': 3627, 'cleverness': 3628, 'refers': 3629, 'honourable': 3630, 'autumn': 3631, 'florid': 3632, 'intrusion': 3633, 'withdraw': 3634, 'abruptly': 3635, 'cordially': 3636, 'partner': 3637, 'bob': 3638, 'encircled': 3639, '“try': 3640, 'settee': 3641, 'relapsing': 3642, 'custom': 3643, 'judicial': 3644, 'moods': 3645, 'share': 3646, 'conventions': 3647, 'humdrum': 3648, 'everyday': 3649, 'relish': 3650, 'enthusiasm': 3651, 'prompted': 3652, 'embellish': 3653, 'combinations': 3654, 'proposition': 3655, 'doubting': 3656, 'piling': 3657, 'breaks': 3658, 'acknowledges': 3659, 'strangest': 3660, 'recommence': 3661, 'indication': 3662, 'portly': 3663, 'puffed': 3664, 'greatcoat': 3665, 'inspection': 3666, 'tradesman': 3667, 'obese': 3668, 'pompous': 3669, 'shepherd’s': 3670, 'check': 3671, 'unbuttoned': 3672, 'drab': 3673, 'brassy': 3674, 'ornament': 3675, 'frayed': 3676, 'velvet': 3677, 'discontent': 3678, '“beyond': 3679, 'freemason': 3680, 'gospel': 3681, 'ship’s': 3682, 'carpenter': 3683, 'muscles': 3684, 'developed': 3685, 'insult': 3686, 'intelligence': 3687, 'rules': 3688, 'arc': 3689, 'compass': 3690, 'breastpin': 3691, 'cuff': 3692, 'patch': 3693, 'fish': 3694, 'tattooed': 3695, 'tattoo': 3696, 'contributed': 3697, 'staining': 3698, 'fishes’': 3699, 'scales': 3700, 'addition': 3701, 'chinese': 3702, 'coin': 3703, 'explaining': 3704, '‘': 3705, 'omne': 3706, 'ignotum': 3707, 'pro': 3708, 'magnifico': 3709, 'reputation': 3710, 'shipwreck': 3711, 'candid': 3712, 'planted': 3713, 'bequest': 3714, 'lebanon': 3715, 'pennsylvania': 3716, 'u': 3717, 'entitles': 3718, 'salary': 3719, '7': 3720, 'wriggled': 3721, 'scratch': 3722, 'april': 3723, '27': 3724, 'mopping': 3725, 'assistants': 3726, 'job': 3727, 'obliging': 3728, 'smarter': 3729, 'ideas': 3730, 'snapping': 3731, 'camera': 3732, 'improving': 3733, 'diving': 3734, 'develop': 3735, 'pictures': 3736, 'worker': 3737, 'vice': 3738, 'cooking': 3739, 'clean—that’s': 3740, 'widower': 3741, 'asks': 3742, '‘here’s': 3743, 'wits’': 3744, 'mat': 3745, '“‘have': 3746, '“‘never': 3747, 'one’s': 3748, 'occupations': 3749, 'prick': 3750, 'extra': 3751, '“‘tell': 3752, 'millionaire': 3753, 'instructions': 3754, 'providing': 3755, 'splendid': 3756, '“‘but': 3757, 'millions': 3758, '“‘not': 3759, 'londoners': 3760, 'applying': 3761, 'sake': 3762, 'competition': 3763, 'shutters': 3764, 'tramped': 3765, 'coster’s': 3766, 'barrow': 3767, 'were—straw': 3768, 'lemon': 3769, 'irish': 3770, 'setter': 3771, 'liver': 3772, 'vivid': 3773, 'butted': 3774, 'dejected': 3775, 'wedged': 3776, 'entertaining': 3777, 'refreshed': 3778, 'chairs': 3779, 'redder': 3780, 'candidate': 3781, 'managed': 3782, 'disqualify': 3783, 'favourable': 3784, '“‘this': 3785, '‘he': 3786, 'requirement': 3787, 'bashful': 3788, 'plunged': 3789, 'wrung': 3790, 'congratulated': 3791, '“‘it': 3792, 'injustice': 3793, 'hesitate': 3794, 'tugged': 3795, 'yelled': 3796, 'pain': 3797, 'released': 3798, 'deceived': 3799, 'wigs': 3800, 'cobbler’s': 3801, 'disgust': 3802, 'trooped': 3803, '“‘my': 3804, '‘is': 3805, 'pensioners': 3806, '“‘dear': 3807, '‘that': 3808, 'propagation': 3809, 'spread': 3810, 'maintenance': 3811, '“‘in': 3812, 'objection': 3813, 'fatal': 3814, 'stretch': 3815, 'awkward': 3816, '“‘ten': 3817, 'mornings': 3818, '“‘that': 3819, 'forfeit': 3820, 'comply': 3821, 'conditions': 3822, 'budge': 3823, '“‘it’s': 3824, 'avail': 3825, '‘neither': 3826, 'sickness': 3827, 'pens': 3828, 'provide': 3829, '“‘certainly': 3830, 'congratulate': 3831, 'persuaded': 3832, 'hoax': 3833, 'fraud': 3834, 'cheer': 3835, 'bedtime': 3836, 'penny': 3837, 'bottle': 3838, 'quill': 3839, 'delight': 3840, 'bade': 3841, 'complimented': 3842, 'planked': 3843, 'sovereigns': 3844, 'dared': 3845, '“eight': 3846, 'abbots': 3847, 'archery': 3848, 'armour': 3849, 'architecture': 3850, 'attica': 3851, 'diligence': 3852, 'b’s': 3853, 'writings': 3854, 'hammered': 3855, 'tack': 3856, 'dissolved': 3857, 'october': 3858, '9': 3859, 'surveyed': 3860, 'curt': 3861, 'rueful': 3862, 'comical': 3863, 'overtopped': 3864, 'roar': 3865, 'elsewhere': 3866, 'shoving': 3867, 'refreshingly': 3868, 'landlord': 3869, 'accountant': 3870, '‘his': 3871, 'solicitor': 3872, 'convenience': 3873, '“‘where': 3874, '17': 3875, 'edward': 3876, 'manufactory': 3877, 'artificial': 3878, 'struggle': 3879, 'wisely': 3880, 'graver': 3881, '“grave': 3882, 'pound': 3883, 'grievance': 3884, 'prank—if': 3885, 'prank—upon': 3886, 'endeavour': 3887, 'advertisement—how': 3888, 'applicant': 3889, 'pick': 3890, 'cheap': 3891, '“small': 3892, 'gipsy': 3893, 'attended': 3894, 'complain': 3895, 'frankly': 3896, 'puzzling': 3897, 'identify': 3898, 'hawk': 3899, 'thrusting': 3900, 'bird': 3901, '“sarasate': 3902, 'plays': 3903, 'patients': 3904, 'absorbing': 3905, 'programme': 3906, 'italian': 3907, 'introspect': 3908, 'underground': 3909, 'aldersgate': 3910, 'poky': 3911, 'genteel': 3912, 'dingy': 3913, 'railed': 3914, 'lawn': 3915, 'weedy': 3916, 'clumps': 3917, 'laurel': 3918, 'bushes': 3919, 'laden': 3920, 'uncongenial': 3921, 'atmosphere': 3922, 'gilt': 3923, 'balls': 3924, '“jabez': 3925, 'wilson”': 3926, 'puckered': 3927, 'thumped': 3928, 'strand': 3929, '“third': 3930, 'promptly': 3931, '“smart': 3932, 'judgment': 3933, 'smartest': 3934, '“evidently': 3935, 'counts': 3936, 'spies': 3937, 'explore': 3938, 'picture': 3939, 'arteries': 3940, 'traffic': 3941, 'roadway': 3942, 'blocked': 3943, 'commerce': 3944, 'outward': 3945, 'footpaths': 3946, 'pedestrians': 3947, 'shops': 3948, 'stately': 3949, 'stagnant': 3950, 'quitted': 3951, 'hobby': 3952, 'mortimer’s': 3953, 'tobacconist': 3954, 'vegetarian': 3955, 'restaurant': 3956, 'mcfarlane’s': 3957, 'depot': 3958, 'block': 3959, 'we’ve': 3960, 'sandwich': 3961, 'sweetness': 3962, 'harmony': 3963, 'vex': 3964, 'conundrums': 3965, 'enthusiastic': 3966, 'musician': 3967, 'performer': 3968, 'composer': 3969, 'merit': 3970, 'stalls': 3971, 'wrapped': 3972, 'dreamy': 3973, 'sleuth': 3974, 'hound': 3975, 'dual': 3976, 'asserted': 3977, 'exactness': 3978, 'astuteness': 3979, 'poetic': 3980, 'contemplative': 3981, 'predominated': 3982, 'devouring': 3983, 'improvisations': 3984, 'editions': 3985, 'unacquainted': 3986, 'askance': 3987, 'mortals': 3988, 'enwrapped': 3989, 'hunt': 3990, 'complicates': 3991, '“ten': 3992, 'heel': 3993, 'neighbours': 3994, 'oppressed': 3995, 'stupidity': 3996, 'dealings': 3997, 'confused': 3998, 'grotesque': 3999, 'kensington': 4000, 'copier': 4001, 'nocturnal': 4002, 'hint': 4003, 'man—a': 4004, 'puzzle': 4005, 'aside': 4006, 'hansoms': 4007, 'entering': 4008, 'peter': 4009, 'oppressively': 4010, 'buttoning': 4011, 'pea': 4012, '“watson': 4013, 'night’s': 4014, '“we’re': 4015, 'couples': 4016, 'consequential': 4017, 'gloomily': 4018, 'confidence': 4019, 'loftily': 4020, 'theoretical': 4021, 'makings': 4022, 'sholto': 4023, 'agra': 4024, '“still': 4025, 'exciting': 4026, '“john': 4027, 'thief': 4028, 'smasher': 4029, 'forger': 4030, 'bracelets': 4031, 'eton': 4032, 'build': 4033, 'orphanage': 4034, 'cornwall': 4035, 'introducing': 4036, 'turns': 4037, 'communicative': 4038, 'humming': 4039, 'tunes': 4040, 'farrington': 4041, 'virtue': 4042, 'tenacious': 4043, 'lobster': 4044, 'claws': 4045, 'thoroughfare': 4046, 'cabs': 4047, 'dismissed': 4048, 'guidance': 4049, 'iron': 4050, 'terminated': 4051, 'conducted': 4052, 'piled': 4053, 'crates': 4054, 'vulnerable': 4055, 'flags': 4056, 'severely': 4057, 'imperilled': 4058, 'examine': 4059, 'minutely': 4060, 'cracks': 4061, 'sufficed': 4062, 'satisfy': 4063, 'doctor—as': 4064, 'divined—in': 4065, 'banks': 4066, 'unpack': 4067, 'contains': 4068, 'packed': 4069, 'layers': 4070, 'foil': 4071, 'misgivings': 4072, 'justified': 4073, 'screen': 4074, 'partie': 4075, 'carrée': 4076, 'positions': 4077, 'disadvantage': 4078, 'stand': 4079, 'crouched': 4080, 'slide': 4081, 'darkness—such': 4082, 'experienced': 4083, 'moment’s': 4084, 'expectancy': 4085, 'depressing': 4086, 'subduing': 4087, 'dank': 4088, 'retreat': 4089, 'officers': 4090, 'comparing': 4091, 'dawn': 4092, 'tension': 4093, 'distinguish': 4094, 'deeper': 4095, 'heavier': 4096, 'bulky': 4097, 'sighing': 4098, 'glint': 4099, 'gash': 4100, 'womanly': 4101, 'area': 4102, 'withdrawn': 4103, 'chink': 4104, 'momentary': 4105, 'gaping': 4106, 'streamed': 4107, 'boyish': 4108, 'aperture': 4109, 'waist': 4110, 'hauling': 4111, 'lithe': 4112, 'chisel': 4113, 'bags': 4114, 'scott': 4115, 'archie': 4116, 'sprung': 4117, 'intruder': 4118, 'dived': 4119, 'clutched': 4120, 'skirts': 4121, 'flashed': 4122, 'barrel': 4123, 'clinked': 4124, 'blandly': 4125, 'coolness': 4126, 'tails': 4127, 'effective': 4128, 'quicker': 4129, 'climbing': 4130, 'fix': 4131, 'derbies': 4132, 'filthy': 4133, 'handcuffs': 4134, 'clattered': 4135, '‘sir’': 4136, '‘please': 4137, 'stare': 4138, 'snigger': 4139, 'highness': 4140, 'serenely': 4141, 'sweeping': 4142, 'custody': 4143, 'repay': 4144, 'detected': 4145, 'defeated': 4146, 'scores': 4147, 'refund': 4148, 'amply': 4149, 'repaid': 4150, 'whisky': 4151, 'soda': 4152, 'managing': 4153, 'clay’s': 4154, 'accomplice’s': 4155, 'lure': 4156, 'incites': 4157, 'securing': 4158, 'intrigue': 4159, 'elaborate': 4160, 'expenditure': 4161, 'assistant’s': 4162, 'fondness': 4163, 'coolest': 4164, 'cellar—something': 4165, 'beating': 4166, 'ascertaining': 4167, 'skirmishes': 4168, 'remaining': 4169, 'concert': 4170, 'presence—in': 4171, 'unfeigned': 4172, 'ennui': 4173, 'yawning': 4174, '“alas': 4175, 'feel': 4176, '“‘': 4177, 'l’homme': 4178, 'rien—l’œuvre': 4179, 'gustave': 4180, 'flaubert': 4181, 'sand': 4182, '“life': 4183, 'dare': 4184, 'hover': 4185, 'roofs': 4186, 'peep': 4187, 'queer': 4188, 'coincidences': 4189, 'plannings': 4190, 'chains': 4191, 'generations': 4192, 'fiction': 4193, 'conventionalities': 4194, 'foreseen': 4195, 'stale': 4196, 'unprofitable': 4197, 'reports': 4198, 'realism': 4199, 'fascinating': 4200, 'artistic': 4201, 'selection': 4202, 'producing': 4203, 'realistic': 4204, 'report': 4205, 'stress': 4206, 'platitudes': 4207, 'contain': 4208, 'essence': 4209, 'smiled': 4210, 'unofficial': 4211, 'throughout': 4212, 'continents': 4213, 'here”—i': 4214, 'ground—“let': 4215, '‘a': 4216, 'cruelty': 4217, 'print': 4218, 'push': 4219, 'bruise': 4220, 'crudest': 4221, 'writers': 4222, 'crude': 4223, 'argument': 4224, 'dundas': 4225, 'separation': 4226, 'happens': 4227, 'teetotaler': 4228, 'complained': 4229, 'meal': 4230, 'hurling': 4231, 'teller': 4232, 'acknowledge': 4233, 'snuffbox': 4234, 'amethyst': 4235, 'splendour': 4236, 'commenting': 4237, 'souvenir': 4238, 'unimportant': 4239, 'charm': 4240, 'apt': 4241, 'simpler': 4242, 'bigger': 4243, 'intricate': 4244, 'marseilles': 4245, 'presents': 4246, 'opposite': 4247, 'boa': 4248, 'tilted': 4249, 'coquettish': 4250, 'duchess': 4251, 'devonshire': 4252, 'panoply': 4253, 'oscillated': 4254, 'fidgeted': 4255, 'plunge': 4256, 'swimmer': 4257, 'clang': 4258, 'symptoms': 4259, '“oscillation': 4260, 'affaire': 4261, 'cœur': 4262, 'communication': 4263, 'discriminate': 4264, 'oscillates': 4265, 'symptom': 4266, 'perplexed': 4267, 'grieved': 4268, 'announce': 4269, 'loomed': 4270, 'sailed': 4271, 'merchant': 4272, 'pilot': 4273, 'welcomed': 4274, 'courtesy': 4275, 'humoured': 4276, '“you’ve': 4277, '“else': 4278, 'overlook': 4279, 'etherege': 4280, 'bang': 4281, 'windibank—that': 4282, 'father—took': 4283, 'younger': 4284, 'tidy': 4285, 'wines': 4286, '4700': 4287, 'goodwill': 4288, 'rambling': 4289, 'inconsequential': 4290, 'concentration': 4291, '“does': 4292, 'ned': 4293, 'auckland': 4294, 'zealand': 4295, '4½': 4296, 'per': 4297, 'cent': 4298, 'bargain': 4299, 'indulge': 4300, '60': 4301, 'burden': 4302, 'draws': 4303, 'pays': 4304, 'brings': 4305, 'stole': 4306, 'sutherland’s': 4307, 'nervously': 4308, 'sunday': 4309, 'drawer': 4310, 'annoyed': 4311, 'denying': 4312, 'him—that': 4313, '“were': 4314, 'hosmer—mr': 4315, 'angel—was': 4316, 'cashier': 4317, 'street—and—”': 4318, '“that’s': 4319, '“no—except': 4320, 'chaffed': 4321, 'clerks': 4322, 'typewrite': 4323, 'axiom': 4324, 'shy': 4325, 'daylight': 4326, 'hated': 4327, 'conspicuous': 4328, 'gentlemanly': 4329, 'he’d': 4330, 'quinsy': 4331, 'swollen': 4332, 'glands': 4333, 'whispering': 4334, 'proposed': 4335, 'earnest': 4336, 'fonder': 4337, 'bordeaux': 4338, 'saviour’s': 4339, 'king’s': 4340, 'pancras': 4341, 'shamefully': 4342, 'pledged': 4343, 'pledge': 4344, '“most': 4345, 'catastrophe': 4346, 'notion': 4347, 'independent': 4348, 'shilling': 4349, 'wink': 4350, 'handkerchief': 4351, 'muff': 4352, 'dwell': 4353, 'vanish': 4354, 'accurate': 4355, 'saturday’s': 4356, '31': 4357, 'lyon': 4358, 'angel’s': 4359, 'travels': 4360, 'claret': 4361, 'importers': 4362, 'whenever': 4363, 'summoned': 4364, 'pressed': 4365, 'oily': 4366, 'counsellor': 4367, 'wreaths': 4368, 'spinning': 4369, 'infinite': 4370, 'trite': 4371, 'andover': 4372, '’77': 4373, 'hague': 4374, 'instructive': 4375, 'unnoticed': 4376, 'suggestiveness': 4377, 'nails': 4378, 'lace': 4379, 'straw': 4380, 'brickish': 4381, 'beads': 4382, 'sewn': 4383, 'ornaments': 4384, 'darker': 4385, '“’pon': 4386, 'impressions': 4387, 'concentrate': 4388, 'trouser': 4389, 'typewritist': 4390, 'presses': 4391, 'sewing': 4392, 'type': 4393, 'broadest': 4394, 'dint': 4395, 'ventured': 4396, 'decorated': 4397, 'fifth': 4398, 'neatly': 4399, 'fully': 4400, 'dipped': 4401, 'amusing': 4402, 'elementary': 4403, '“missing': 4404, 'fourteenth': 4405, 'ft': 4406, 'complexion': 4407, 'infirmity': 4408, 'harris': 4409, 'gaiters': 4410, 'sided': 4411, 'anybody': 4412, 'quotes': 4413, 'balzac': 4414, '‘hosmer': 4415, 'angel’': 4416, 'bottom': 4417, 'superscription': 4418, 'suggestive—in': 4419, 'conclusive': 4420, 'deny': 4421, 'breach': 4422, 'instituted': 4423, 'answers': 4424, 'interim': 4425, 'solid': 4426, 'demeanour': 4427, 'weird': 4428, 'tangle': 4429, 'unravel': 4430, 'puffing': 4431, 'disappearing': 4432, 'gravity': 4433, 'engaging': 4434, 'bedside': 4435, 'sufferer': 4436, 'spring': 4437, 'assist': 4438, 'dénouement': 4439, 'recesses': 4440, 'array': 4441, 'bottles': 4442, 'tubes': 4443, 'pungent': 4444, 'cleanly': 4445, 'hydrochloric': 4446, 'chemical': 4447, 'bisulphate': 4448, 'baryta': 4449, 'salt': 4450, 'drawback': 4451, 'deserting': 4452, 'sturdy': 4453, 'bland': 4454, 'sidled': 4455, 'linen': 4456, 'public': 4457, 'excitable': 4458, 'impulsive': 4459, 'controlled': 4460, 'misfortune': 4461, 'noised': 4462, 'useless': 4463, 'succeed': 4464, 'alike': 4465, 'slurring': 4466, '‘e': 4467, 'defect': 4468, 'tail': 4469, '‘r': 4470, 'correspondence': 4471, '‘e’s’': 4472, 'slurred': 4473, '‘r’s’': 4474, 'tailless': 4475, 'alluded': 4476, 'do—really': 4477, 'suavely': 4478, 'transparent': 4479, 'that’s': 4480, 'brow': 4481, '“it—it’s': 4482, 'selfish': 4483, 'heartless': 4484, 'contradict': 4485, 'crushed': 4486, 'stuck': 4487, 'enjoyed': 4488, 'warm': 4489, 'restive': 4490, 'insisted': 4491, 'rights': 4492, 'conceives': 4493, 'creditable': 4494, 'connivance': 4495, 'disguised': 4496, 'masked': 4497, 'whisper': 4498, 'doubly': 4499, 'lovers': 4500, 'decidedly': 4501, 'flattered': 4502, 'attentions': 4503, 'expressed': 4504, 'engagement': 4505, 'affections': 4506, 'deception': 4507, 'pretended': 4508, 'journeys': 4509, 'cumbrous': 4510, 'dramatic': 4511, 'permanent': 4512, 'suitor': 4513, 'vows': 4514, 'fidelity': 4515, 'exacted': 4516, 'allusions': 4517, 'happening': 4518, 'rate': 4519, 'conveniently': 4520, 'assurance': 4521, 'assault': 4522, 'illegal': 4523, 'constraint': 4524, 'unlocking': 4525, '“yet': 4526, 'deserved': 4527, 'to—”': 4528, 'swift': 4529, 'clatter': 4530, 'banged': 4531, 'speed': 4532, '“there’s': 4533, 'gallows': 4534, 'profited': 4535, 'spectacles': 4536, 'hinted': 4537, 'confirmed': 4538, 'inferred': 4539, 'sample': 4540, 'isolated': 4541, 'verify': 4542, '“having': 4543, 'corroboration': 4544, 'eliminated': 4545, 'disguise—the': 4546, 'inform': 4547, 'travellers': 4548, 'peculiarities': 4549, 'revealed': 4550, 'defects': 4551, 'tallied': 4552, 'voilà': 4553, 'persian': 4554, 'taketh': 4555, 'tiger': 4556, 'cub': 4557, 'whoso': 4558, 'snatches': 4559, 'delusion': 4560, 'hafiz': 4561, 'horace': 4562, 'scenery': 4563, '11': 4564, '“will': 4565, 'list': 4566, 'anstruther': 4567, 'ungrateful': 4568, 'camp': 4569, 'afghanistan': 4570, 'valise': 4571, 'rattling': 4572, 'gaunt': 4573, 'gaunter': 4574, 'taller': 4575, 'travelling': 4576, 'fitting': 4577, 'worthless': 4578, 'biassed': 4579, 'seats': 4580, 'litter': 4581, 'intervals': 4582, 'meditation': 4583, 'paradoxical': 4584, 'profoundly': 4585, 'singularity': 4586, 'established': 4587, 'granted': 4588, 'opportunity': 4589, '“boscombe': 4590, 'landed': 4591, 'farms': 4592, 'charles': 4593, 'colonies': 4594, 'tenant': 4595, 'equality': 4596, 'eighteen': 4597, 'wives': 4598, 'avoided': 4599, 'sport': 4600, 'servants—a': 4601, 'spreading': 4602, 'serving': 4603, 'farmhouse': 4604, 'mentioned': 4605, 'employ': 4606, 'witnesses': 4607, 'depose': 4608, 'adds': 4609, 'thickly': 4610, 'wooded': 4611, 'flowers': 4612, 'border': 4613, 'elder': 4614, '‘wilful': 4615, 'murder’': 4616, 'tuesday': 4617, 'magistrates': 4618, 'circumstantial': 4619, '“circumstantial': 4620, 'tricky': 4621, 'thoughtfully': 4622, 'shift': 4623, 'uncompromising': 4624, 'grave': 4625, 'landowner': 4626, 'recollect': 4627, 'westward': 4628, 'digesting': 4629, 'breakfasts': 4630, 'deceptive': 4631, '“besides': 4632, 'boasting': 4633, 'confirm': 4634, 'destroy': 4635, 'incapable': 4636, 'understanding': 4637, 'military': 4638, 'neatness': 4639, 'characterises': 4640, 'sunlight': 4641, 'shaving': 4642, 'positively': 4643, 'slovenly': 4644, 'illuminated': 4645, 'equal': 4646, 'quote': 4647, 'inference': 4648, 'therein': 4649, 'métier': 4650, 'service': 4651, 'constabulary': 4652, 'informing': 4653, 'removing': 4654, 'protestation': 4655, '“coming': 4656, 'brightest': 4657, 'rift': 4658, 'feigned': 4659, 'indignation': 4660, 'anger': 4661, 'scheming': 4662, 'frank': 4663, 'acceptance': 4664, 'restraint': 4665, 'firmness': 4666, 'forgotten': 4667, 'filial': 4668, 'bandy': 4669, 'reproach': 4670, 'contrition': 4671, 'healthy': 4672, 'slighter': 4673, 'encouraging': 4674, 'supporters': 4675, 'absent': 4676, 'arrival': 4677, 'cobb': 4678, 'strolled': 4679, 'visiting': 4680, 'warren': 4681, '“cooee': 4682, 'ensued': 4683, 'temper': 4684, 'becoming': 4685, 'ungovernable': 4686, '150': 4687, 'outcry': 4688, 'expiring': 4689, 'expired': 4690, 'knelt': 4691, 'manners': 4692, 'allusion': 4693, 'final': 4694, 'decide': 4695, 'prejudice': 4696, 'arise': 4697, 'juryman': 4698, 'aroused': 4699, 'fatally': 4700, 'disturbed': 4701, 'plaid': 4702, '“‘do': 4703, '“‘how': 4704, '“‘a': 4705, '“‘about': 4706, 'concluded': 4707, 'concluding': 4708, 'discrepancy': 4709, 'signalled': 4710, 'cushioned': 4711, '“both': 4712, 'evolved': 4713, 'whither': 4714, 'petrarch': 4715, 'swindon': 4716, 'stroud': 4717, 'gleaming': 4718, 'severn': 4719, 'lean': 4720, 'ferret': 4721, 'furtive': 4722, 'dustcoat': 4723, 'leggings': 4724, 'rustic': 4725, 'surroundings': 4726, 'recognising': 4727, 'tea': 4728, 'complimentary': 4729, 'barometric': 4730, 'pressure': 4731, 'caseful': 4732, 'cigarettes': 4733, 'abomination': 4734, 'indulgently': 4735, 'pikestaff': 4736, 'plainer': 4737, 'repeatedly': 4738, 'concern': 4739, 'fastening': 4740, 'absurd': 4741, 'loophole': 4742, 'defiantly': 4743, 'forming': 4744, 'disagreements': 4745, 'and—and—well': 4746, 'quarrels': 4747, 'blush': 4748, 'willows': 4749, 'misses': 4750, 'undertaking': 4751, 'impulsively': 4752, 'minutes’': 4753, 'disappoint': 4754, 'reconsider': 4755, '“ample': 4756, 'novel': 4757, 'puny': 4758, 'groping': 4759, 'continually': 4760, 'flung': 4761, 'supposing': 4762, 'hellish': 4763, 'calamity': 4764, 'screams': 4765, 'glade': 4766, 'instincts': 4767, 'weekly': 4768, 'contained': 4769, 'verbatim': 4770, 'surgeon’s': 4771, 'deposition': 4772, 'posterior': 4773, 'parietal': 4774, 'occipital': 4775, 'extent': 4776, 'delirium': 4777, 'commonly': 4778, 'cudgelled': 4779, 'brains': 4780, 'hardihood': 4781, 'kneeling': 4782, 'tissue': 4783, 'improbabilities': 4784, 'lestrade’s': 4785, 'insight': 4786, 'keenest': 4787, 'fagged': 4788, '“could': 4789, 'screening': 4790, 'comely': 4791, 'admire': 4792, 'thereby': 4793, 'painful': 4794, 'madly': 4795, 'insanely': 4796, 'boarding': 4797, 'idiot': 4798, 'registry': 4799, 'upbraided': 4800, 'goading': 4801, 'supporting': 4802, 'bermuda': 4803, 'dockyard': 4804, 'consoled': 4805, 'suffered': 4806, 'crucial': 4807, 'depends': 4808, 'meredith': 4809, 'foretold': 4810, 'cloudless': 4811, 'despaired': 4812, 'sixty': 4813, 'constitution': 4814, 'helped': 4815, 'obligations': 4816, 'heiress': 4817, 'cocksure': 4818, 'proposal': 4819, 'deductions': 4820, 'winking': 4821, 'fancies': 4822, 'demurely': 4823, '“anyhow': 4824, 'replied': 4825, 'warmth': 4826, 'senior': 4827, 'junior': 4828, 'brighter': 4829, 'fog': 4830, 'widespread': 4831, 'roofed': 4832, 'blotches': 4833, 'lichen': 4834, 'walls': 4835, 'smokeless': 4836, 'chimneys': 4837, 'measured': 4838, 'desired': 4839, 'transformed': 4840, 'logician': 4841, 'darkened': 4842, 'brows': 4843, 'shone': 4844, 'steely': 4845, 'compressed': 4846, 'whipcord': 4847, 'sinewy': 4848, 'dilate': 4849, 'concentrated': 4850, 'unheeded': 4851, 'provoked': 4852, 'silently': 4853, 'meadows': 4854, 'damp': 4855, 'marshy': 4856, 'bounded': 4857, 'detour': 4858, 'meadow': 4859, 'indifferent': 4860, 'contemptuous': 4861, 'reed': 4862, 'girt': 4863, 'situated': 4864, 'boundary': 4865, 'jutting': 4866, 'pinnacles': 4867, 'site': 4868, 'landowner’s': 4869, 'dwelling': 4870, 'sodden': 4871, 'trampled': 4872, 'fished': 4873, 'rake': 4874, 'vanishes': 4875, 'herd': 4876, 'buffalo': 4877, 'wallowed': 4878, '“these': 4879, 'soles': 4880, 'listening': 4881, 'again—of': 4882, 'beech': 4883, 'gathering': 4884, 'examining': 4885, 'jagged': 4886, 'pathway': 4887, 'highroad': 4888, 'luncheon': 4889, 'growing': 4890, 'lain': 4891, 'corresponds': 4892, 'limps': 4893, 'wears': 4894, 'soled': 4895, 'smokes': 4896, 'sceptic': 4897, '“theories': 4898, 'nous': 4899, 'verrons': 4900, 'unfinished': 4901, 'populous': 4902, 'undertake': 4903, 'pained': 4904, 'perplexing': 4905, '“look': 4906, 'preach': 4907, 'expound': 4908, 'impressed': 4909, 'research': 4910, 'presuming': 4911, 'earshot': 4912, 'attract': 4913, 'australians': 4914, 'folded': 4915, '“arat': 4916, '“ballarat': 4917, 'syllables': 4918, 'utter': 4919, 'narrowed': 4920, 'garment': 4921, 'granting': 4922, 'vagueness': 4923, 'personality': 4924, 'stride': 4925, 'lameness': 4926, 'limped—he': 4927, 'lame': 4928, 'handedness': 4929, 'injury': 4930, 'surgeon': 4931, 'special': 4932, 'enables': 4933, '140': 4934, 'varieties': 4935, 'stump': 4936, 'variety': 4937, 'rotterdam': 4938, 'tip': 4939, 'bitten': 4940, 'cord': 4941, 'waiter': 4942, 'ushering': 4943, 'impressive': 4944, 'limping': 4945, 'decrepitude': 4946, 'craggy': 4947, 'beard': 4948, 'outstanding': 4949, 'eyebrows': 4950, 'combined': 4951, 'ashen': 4952, 'corners': 4953, 'tinged': 4954, 'chronic': 4955, 'disease': 4956, 'answering': 4957, 'heart—it': 4958, 'hears': 4959, 'required': 4960, 'diabetes': 4961, 'gaol': 4962, 'jot': 4963, 'extremity': 4964, 'incarnate': 4965, 'blasted': 4966, '’60’s': 4967, 'luck': 4968, 'bush': 4969, 'highway': 4970, 'robber': 4971, 'stopping': 4972, 'wagons': 4973, 'convoy': 4974, 'melbourne': 4975, 'attacked': 4976, 'troopers': 4977, 'emptied': 4978, 'saddles': 4979, 'volley': 4980, 'boys': 4981, 'killed': 4982, 'swag': 4983, 'wagon': 4984, 'spared': 4985, 'wicked': 4986, 'pals': 4987, 'chanced': 4988, 'earned': 4989, 'wee': 4990, 'investment': 4991, '“‘here': 4992, 'touching': 4993, '‘we’ll': 4994, 'don’t—it’s': 4995, 'abiding': 4996, 'hail': 4997, 'forgetfulness': 4998, 'stroke': 4999, 'cursed': 5000, 'midway': 5001, 'uppermost': 5002, 'urging': 5003, 'slut': 5004, 'snap': 5005, 'bond': 5006, 'desperate': 5007, 'tongue': 5008, 'sinned': 5009, 'martyrdom': 5010, 'atone': 5011, 'meshes': 5012, 'venomous': 5013, 'beast': 5014, 'fetch': 5015, 'temptation': 5016, 'intend': 5017, 'condemned': 5018, 'mortal': 5019, '“farewell': 5020, 'deathbeds': 5021, 'tottering': 5022, 'giant': 5023, 'frame': 5024, 'stumbled': 5025, 'tricks': 5026, 'worms': 5027, 'baxter’s': 5028, 'acquitted': 5029, 'objections': 5030, 'defending': 5031, 'counsel': 5032, 'prospect': 5033, 'rests': 5034, '’82': 5035, '’90': 5036, 'qualities': 5037, 'illustrate': 5038, 'narratives': 5039, 'beginnings': 5040, 'partially': 5041, 'explanations': 5042, 'surmise': 5043, 'logical': 5044, 'startling': 5045, 'tempted': 5046, '’87': 5047, 'headings': 5048, 'paradol': 5049, 'mendicant': 5050, 'luxurious': 5051, 'warehouse': 5052, 'sophy': 5053, 'anderson': 5054, 'grice': 5055, 'patersons': 5056, 'island': 5057, 'uffa': 5058, 'poisoning': 5059, 'wound': 5060, 'time—a': 5061, 'sketch': 5062, 'september': 5063, 'elemental': 5064, 'forces': 5065, 'mankind': 5066, 'bars': 5067, 'civilisation': 5068, 'untamed': 5069, 'beasts': 5070, 'cage': 5071, 'louder': 5072, 'chimney': 5073, 'moodily': 5074, 'fireplace': 5075, 'indexing': 5076, 'clark': 5077, 'russell’s': 5078, 'howl': 5079, 'gale': 5080, 'blend': 5081, 'text': 5082, 'lengthen': 5083, 'swash': 5084, 'waves': 5085, 'mother’s': 5086, 'dweller': 5087, '“except': 5088, 'encourage': 5089, 'crony': 5090, 'landlady’s': 5091, 'tapping': 5092, 'vacant': 5093, 'groomed': 5094, 'trimly': 5095, 'refinement': 5096, 'streaming': 5097, 'anxiously': 5098, 'weighed': 5099, 'intruding': 5100, 'snug': 5101, '“give': 5102, 'hook': 5103, 'mixture': 5104, 'distinctive': 5105, 'tankerville': 5106, 'cheating': 5107, 'times—three': 5108, 'successes': 5109, 'appeal': 5110, 'inexplicable': 5111, 'blaze': 5112, 'awful': 5113, 'sons—my': 5114, 'joseph': 5115, 'factory': 5116, 'coventry': 5117, 'enlarged': 5118, 'invention': 5119, 'bicycling': 5120, 'patentee': 5121, 'unbreakable': 5122, 'tire': 5123, 'competence': 5124, 'emigrated': 5125, 'planter': 5126, 'fought': 5127, 'jackson’s': 5128, 'hood': 5129, 'plantation': 5130, '1870': 5131, 'sussex': 5132, 'aversion': 5133, 'negroes': 5134, 'republican': 5135, 'franchise': 5136, 'tempered': 5137, 'mouthed': 5138, 'fields': 5139, 'exercise': 5140, 'brandy': 5141, 'youngster': 5142, '1878': 5143, 'sober': 5144, 'backgammon': 5145, 'draughts': 5146, 'representative': 5147, 'servants': 5148, 'tradespeople': 5149, 'sixteen': 5150, 'keys': 5151, 'privacy': 5152, 'attics': 5153, 'permit': 5154, 'boy’s': 5155, 'keyhole': 5156, 'collection': 5157, 'trunks': 5158, 'bundles': 5159, 'day—it': 5160, '1883—a': 5161, 'foreign': 5162, 'stamp': 5163, 'colonel’s': 5164, 'bills': 5165, '‘from': 5166, 'india': 5167, '‘pondicherry': 5168, 'skin': 5169, 'glared': 5170, 'trembling': 5171, 'shrieked': 5172, '‘my': 5173, 'sins': 5174, 'overtaken': 5175, '“‘death': 5176, 'palpitating': 5177, 'gum': 5178, 'ascended': 5179, 'rusty': 5180, 'belonged': 5181, 'cashbox': 5182, '“‘they': 5183, 'checkmate': 5184, 'oath': 5185, '‘tell': 5186, 'mass': 5187, '‘to': 5188, 'disadvantages': 5189, 'descend': 5190, 'enjoy': 5191, 'deadliest': 5192, 'pondered': 5193, 'dread': 5194, 'sensation': 5195, 'spend': 5196, 'tear': 5197, 'screaming': 5198, 'cooped': 5199, 'sheep': 5200, 'fits': 5201, 'tumultuously': 5202, 'brazen': 5203, 'glisten': 5204, 'basin': 5205, 'abuse': 5206, 'sallies': 5207, 'scummed': 5208, 'eccentricity': 5209, '‘suicide': 5210, 'winced': 5211, 'ado': 5212, 'persuade': 5213, 'interposed': 5214, 'reception': 5215, 'supposed': 5216, '1883': 5217, '2nd': 5218, 'proceed': 5219, 'label': 5220, '‘letters': 5221, 'memoranda': 5222, 'receipts': 5223, 'register’': 5224, 'repute': 5225, 'soldier': 5226, 'reconstruction': 5227, 'opposing': 5228, 'carpet': 5229, 'politicians': 5230, '’84': 5231, 'outstretched': 5232, 'cock': 5233, 'bull': 5234, 'scared': 5235, '‘it': 5236, '‘so': 5237, '‘here': 5238, '“‘put': 5239, 'peeping': 5240, '‘but': 5241, '“‘pooh': 5242, 'gripping': 5243, 'courage': 5244, '‘we': 5245, 'civilised': 5246, 'tomfoolery': 5247, '“‘from': 5248, '“‘some': 5249, '‘what': 5250, 'sundials': 5251, 'forbid': 5252, 'fuss': 5253, 'vain': 5254, 'argue': 5255, 'obstinate': 5256, 'forebodings': 5257, 'freebody': 5258, 'command': 5259, 'forts': 5260, 'portsdown': 5261, 'hill': 5262, 'imploring': 5263, 'pits': 5264, 'abound': 5265, 'senseless': 5266, 'skull': 5267, 'fareham': 5268, 'twilight': 5269, 'pit': 5270, 'unfenced': 5271, 'hesitation': 5272, '‘death': 5273, 'accidental': 5274, 'causes': 5275, 'footmarks': 5276, 'roads': 5277, 'nigh': 5278, 'inheritance': 5279, 'dispose': 5280, 'dependent': 5281, 'curse': 5282, 'generation': 5283, 'comfort': 5284, 'london—eastern': 5285, 'message': 5286, '‘put': 5287, 'truth”—he': 5288, 'hands—“i': 5289, 'rabbits': 5290, 'resistless': 5291, 'inexorable': 5292, 'precautions': 5293, '“tut': 5294, 'jokes': 5295, 'relations': 5296, 'accidents': 5297, 'clenched': 5298, '“incredible': 5299, 'imbecility': 5300, '“has': 5301, 'raved': 5302, 'advised': 5303, 'acted': 5304, 'us—no': 5305, 'remembrance': 5306, 'unburned': 5307, 'margins': 5308, 'fluttered': 5309, 'destruction': 5310, 'helps': 5311, 'undoubtedly': 5312, 'ragged': 5313, '“march': 5314, 'enigmatical': 5315, 'notices': 5316, '“4th': 5317, 'hudson': 5318, '“7th': 5319, 'augustine': 5320, '“9th': 5321, '“10th': 5322, '“12th': 5323, 'folding': 5324, 'assert': 5325, 'revenge': 5326, 'weave': 5327, 'theirs': 5328, 'threatens': 5329, 'punish': 5330, 'parties': 5331, 'meanwhile': 5332, 'imminent': 5333, 'safety': 5334, 'splashed': 5335, 'elements—blown': 5336, 'weed': 5337, 'gale—and': 5338, 'reabsorbed': 5339, 'glow': 5340, 'chased': 5341, '“save': 5342, 'sholtos': 5343, '“formed': 5344, 'pursue': 5345, 'ideal': 5346, 'bearings': 5347, 'cuvier': 5348, 'correctly': 5349, 'understood': 5350, 'accurately': 5351, 'sought': 5352, 'senses': 5353, 'art': 5354, 'necessary': 5355, 'utilise': 5356, 'implies': 5357, 'readily': 5358, 'encyclopædias': 5359, 'accomplishment': 5360, 'rightly': 5361, 'friendship': 5362, 'document': 5363, 'philosophy': 5364, 'astronomy': 5365, 'zero': 5366, 'botany': 5367, 'variable': 5368, 'geology': 5369, 'profound': 5370, 'regards': 5371, 'region': 5372, 'chemistry': 5373, 'eccentric': 5374, 'anatomy': 5375, 'unsystematic': 5376, 'sensational': 5377, 'player': 5378, 'boxer': 5379, 'swordsman': 5380, 'poisoner': 5381, 'grinned': 5382, 'item': 5383, 'stocked': 5384, 'library': 5385, 'muster': 5386, 'willingly': 5387, 'climate': 5388, 'lonely': 5389, 'provincial': 5390, 'solitude': 5391, 'suggests': 5392, 'assume': 5393, 'successors': 5394, 'postmarks': 5395, 'seaports': 5396, '“excellent': 5397, 'probability—the': 5398, 'probability—is': 5399, 'threat': 5400, 'fulfilment': 5401, 'token': 5402, 'steamer': 5403, '“more': 5404, 'urgency': 5405, 'urged': 5406, 'caution': 5407, 'senders': 5408, 'persecution': 5409, 'persons': 5410, 'deceive': 5411, 'determination': 5412, 'ceases': 5413, 'badge': 5414, 'never—”': 5415, 'bending': 5416, 'voice—“have': 5417, 'ku': 5418, '“‘ku': 5419, 'derived': 5420, 'fanciful': 5421, 'resemblance': 5422, 'cocking': 5423, 'rifle': 5424, 'soldiers': 5425, 'notably': 5426, 'tennessee': 5427, 'louisiana': 5428, 'carolinas': 5429, 'principally': 5430, 'terrorising': 5431, 'negro': 5432, 'voters': 5433, 'murdering': 5434, 'opposed': 5435, 'preceded': 5436, 'shape—a': 5437, 'sprig': 5438, 'oak': 5439, 'melon': 5440, 'seeds': 5441, 'receiving': 5442, 'openly': 5443, 'abjure': 5444, 'unfailingly': 5445, 'systematic': 5446, 'braving': 5447, 'impunity': 5448, 'perpetrators': 5449, 'flourished': 5450, 'efforts': 5451, 'united': 5452, 'government': 5453, 'classes': 5454, 'community': 5455, 'sporadic': 5456, 'outbreaks': 5457, 'coincident': 5458, 'implacable': 5459, 'register': 5460, 'implicate': 5461, 'seen—”': 5462, '‘sent': 5463, 'c’—that': 5464, 'society’s': 5465, 'entries': 5466, 'subdued': 5467, 'brightness': 5468, 'openshaw’s': 5469, 'lifted': 5470, 'unopened': 5471, 'chill': 5472, '‘tragedy': 5473, '“‘between': 5474, 'cook': 5475, 'stormy': 5476, 'rescue': 5477, 'proved': 5478, 'residence': 5479, 'haste': 5480, 'steamboats': 5481, 'exhibited': 5482, 'accident': 5483, 'stages': 5484, 'depressed': 5485, 'shaken': 5486, 'sends': 5487, 'death—': 5488, 'clasping': 5489, 'unclasping': 5490, 'devils': 5491, 'decoyed': 5492, 'embankment': 5493, 'direct': 5494, 'win': 5495, 'spun': 5496, 'flies': 5497, 'loaf': 5498, 'devoured': 5499, 'voraciously': 5500, 'washing': 5501, 'draught': 5502, 'hungry': 5503, '“starving': 5504, 'bite': 5505, 'unavenged': 5506, 'devilish': 5507, 'cupboard': 5508, 'pieces': 5509, 'squeezed': 5510, '“s': 5511, 'j': 5512, 'o': 5513, '“captain': 5514, 'await': 5515, 'enters': 5516, 'chuckling': 5517, 'sleepless': 5518, 'precursor': 5519, 'captain': 5520, 'leader': 5521, 'names': 5522, '“over': 5523, 'lloyd’s': 5524, 'registers': 5525, 'files': 5526, 'career': 5527, 'february': 5528, '’83': 5529, 'ships': 5530, 'tonnage': 5531, '“texas': 5532, 'origin': 5533, 'vessels': 5534, 'dock': 5535, 'easterly': 5536, 'goodwins': 5537, 'isle': 5538, 'wight': 5539, 'mates': 5540, 'native': 5541, 'americans': 5542, 'finns': 5543, 'germans': 5544, 'stevedore': 5545, 'loading': 5546, 'cargo': 5547, 'cable': 5548, 'badly': 5549, 'murderers': 5550, 'somewhere': 5551, 'atlantic': 5552, 'stern': 5553, 'trough': 5554, 'wave': 5555, '“l': 5556, 'carved': 5557, 'theological': 5558, 'george’s': 5559, 'addicted': 5560, 'foolish': 5561, 'freak': 5562, 'quincey’s': 5563, 'sensations': 5564, 'drenched': 5565, 'laudanum': 5566, 'slave': 5567, 'mingled': 5568, 'pasty': 5569, 'pin': 5570, 'pupils': 5571, '’89—there': 5572, 'clock': 5573, 'needle': 5574, 'linoleum': 5575, 'stuff': 5576, 'grief': 5577, 'birds': 5578, 'lighthouse': 5579, 'sweet': 5580, 'wine': 5581, 'comfortably': 5582, 'doctor’s': 5583, 'soothed': 5584, 'comforted': 5585, 'surest': 5586, 'hitherto': 5587, 'orgies': 5588, 'twitching': 5589, 'spell': 5590, 'forty': 5591, 'dregs': 5592, 'docks': 5593, 'sleeping': 5594, 'ruffians': 5595, 'escort': 5596, 'cheery': 5597, 'speeding': 5598, 'eastward': 5599, 'errand': 5600, 'alley': 5601, 'lurking': 5602, 'slop': 5603, 'gin': 5604, 'steep': 5605, 'gap': 5606, 'cave': 5607, 'ordering': 5608, 'ceaseless': 5609, 'tread': 5610, 'flickering': 5611, 'oil': 5612, 'latch': 5613, 'terraced': 5614, 'forecastle': 5615, 'emigrant': 5616, 'poses': 5617, 'chins': 5618, 'lack': 5619, 'lustre': 5620, 'shadows': 5621, 'circles': 5622, 'faint': 5623, 'waxed': 5624, 'waned': 5625, 'bowls': 5626, 'muttered': 5627, 'monotonous': 5628, 'gushes': 5629, 'tailing': 5630, 'heed': 5631, 'neighbour': 5632, 'charcoal': 5633, 'stool': 5634, 'resting': 5635, 'malay': 5636, 'berth': 5637, 'exclamation': 5638, 'haggard': 5639, 'unkempt': 5640, 'nerve': 5641, 'twitter': 5642, '“nearly': 5643, '19th': 5644, 'd’you': 5645, 'you’ve': 5646, 'pipes—i': 5647, 'kate—poor': 5648, 'sleepers': 5649, 'stupefying': 5650, 'fumes': 5651, 'skirt': 5652, '“walk': 5653, 'absorbed': 5654, 'lassitude': 5655, 'wrinkles': 5656, 'subsided': 5657, 'doddering': 5658, 'lipped': 5659, 'senility': 5660, 'sottish': 5661, 'mischief': 5662, 'recommend': 5663, 'lot': 5664, 'requests': 5665, 'mastery': 5666, 'normal': 5667, 'decrepit': 5668, 'shuffled': 5669, 'straightened': 5670, 'hearty': 5671, 'injections': 5672, 'weaknesses': 5673, 'favoured': 5674, 'prey': 5675, 'midst': 5676, 'incoherent': 5677, 'ramblings': 5678, 'sots': 5679, 'hour’s': 5680, 'purchase': 5681, 'rascally': 5682, 'vengeance': 5683, 'moonless': 5684, 'nights': 5685, '“ay': 5686, 'forefingers': 5687, 'shrilly—a': 5688, 'cart': 5689, 'tunnels': 5690, 'lanterns': 5691, 'trusty': 5692, 'comrade': 5693, 'chronicler': 5694, '“near': 5695, 'you’ll': 5696, 'flicked': 5697, 'succession': 5698, 'deserted': 5699, 'gradually': 5700, 'balustraded': 5701, 'murky': 5702, 'sluggishly': 5703, 'wilderness': 5704, 'mortar': 5705, 'songs': 5706, 'shouts': 5707, 'belated': 5708, 'revellers': 5709, 'wrack': 5710, 'drifting': 5711, 'rifts': 5712, 'tax': 5713, 'sorely': 5714, 'current': 5715, 'gift': 5716, 'invaluable': 5717, '’pon': 5718, 'meets': 5719, 'absurdly': 5720, 'somehow': 5721, 'thread': 5722, 'concisely': 5723, 'maybe': 5724, '“proceed': 5725, 'ago—to': 5726, '1884—there': 5727, 'style': 5728, '1887': 5729, 'brewer': 5730, 'companies': 5731, 'cannon': 5732, 'temperate': 5733, 'ascertain': 5734, '88': 5735, '220': 5736, 'weighing': 5737, 'earlier': 5738, 'remarking': 5739, 'commissions': 5740, 'perform': 5741, 'parcel': 5742, 'expecting': 5743, 'aberdeen': 5744, 'shipping': 5745, 'shopping': 5746, 'proceeded': 5747, 'company’s': 5748, '35': 5749, 'describes': 5750, 'agitated': 5751, 'plucked': 5752, 'irresistible': 5753, 'feminine': 5754, 'necktie': 5755, '“convinced': 5756, 'steps—for': 5757, 'night—and': 5758, 'aided': 5759, 'dane': 5760, 'acts': 5761, 'fears': 5762, 'accompanied': 5763, 'resistance': 5764, 'crippled': 5765, 'wretch': 5766, 'aspect': 5767, 'stoutly': 5768, 'denial': 5769, 'deluded': 5770, 'cascade': 5771, 'children’s': 5772, 'toy': 5773, 'discovery': 5774, 'abominable': 5775, 'strip': 5776, 'windowsill': 5777, 'drops': 5778, 'curtain': 5779, 'socks': 5780, 'watch—all': 5781, 'exit': 5782, 'bloodstains': 5783, 'sill': 5784, 'swimming': 5785, 'villains': 5786, 'implicated': 5787, 'antecedents': 5788, 'accessory': 5789, 'defence': 5790, 'regulations': 5791, 'pretends': 5792, 'vestas': 5793, 'threadneedle': 5794, 'charity': 5795, 'descends': 5796, 'greasy': 5797, 'harvest': 5798, 'reaped': 5799, 'disfigured': 5800, 'outer': 5801, 'mendicants': 5802, 'chaff': 5803, 'prime': 5804, 'powerful': 5805, 'nurtured': 5806, 'weakness': 5807, 'compensated': 5808, '“mrs': 5809, 'escorted': 5810, 'investigations': 5811, 'barton': 5812, 'arresting': 5813, 'communicated': 5814, 'remedied': 5815, 'incriminate': 5816, 'nail': 5817, 'bleeding': 5818, 'adding': 5819, 'source': 5820, 'denied': 5821, 'strenuously': 5822, 'assertion': 5823, 'declared': 5824, 'dreaming': 5825, 'protesting': 5826, 'ebbing': 5827, 'uncovered': 5828, 'receded': 5829, 'stuffed': 5830, 'pennies—421': 5831, '270': 5832, 'swept': 5833, 'eddy': 5834, 'stripped': 5835, 'sucked': 5836, 'speciously': 5837, 'seize': 5838, 'swim': 5839, 'sink': 5840, 'rushes': 5841, 'hoard': 5842, 'accumulated': 5843, 'fruits': 5844, 'beggary': 5845, 'stuffs': 5846, 'coins': 5847, 'coat’s': 5848, 'throws': 5849, 'feasible': 5850, 'solved—what': 5851, 'disappearance—are': 5852, 'detailing': 5853, 'whirling': 5854, 'straggling': 5855, 'hedge': 5856, 'villages': 5857, 'middlesex': 5858, 'sits': 5859, 'conducting': 5860, 'welcome': 5861, 'hate': 5862, 'springing': 5863, 'gravel': 5864, 'blonde': 5865, 'mousseline': 5866, 'soie': 5867, 'chiffon': 5868, 'flood': 5869, 'associate': 5870, 'forgive': 5871, 'campaigner': 5872, 'feelings': 5873, 'hysterical': 5874, 'fainting': 5875, 'simply': 5876, '“upon': 5877, 'hearts': 5878, 'embarrassed': 5879, 'rug': 5880, 'basket': 5881, '“murdered': 5882, 'galvanised': 5883, 'roared': 5884, 'snatched': 5885, 'smoothing': 5886, 'intently': 5887, 'stamped': 5888, '“coarse': 5889, 'inquire': 5890, 'blotted': 5891, 'pause': 5892, 'signet': 5893, '“‘dearest': 5894, 'rectify': 5895, '—neville': 5896, 'pencil': 5897, 'octavo': 5898, 'gummed': 5899, 'chewing': 5900, 'lighten': 5901, 'venture': 5902, '“unless': 5903, 'discourage': 5904, 'respond': 5905, 'ignorant': 5906, 'corroborate': 5907, 'unthinkable': 5908, 'inarticulate': 5909, 'leaped': 5910, 'bare': 5911, 'unsolved': 5912, 'rearranging': 5913, 'fathomed': 5914, 'insufficient': 5915, 'preparing': 5916, 'collecting': 5917, 'cushions': 5918, 'armchairs': 5919, 'constructed': 5920, 'eastern': 5921, 'divan': 5922, 'briar': 5923, 'vacantly': 5924, 'motionless': 5925, 'wake': 5926, 'summer': 5927, 'haze': 5928, 'heap': 5929, '“awake': 5930, '“game': 5931, 'sleeps': 5932, 'fools': 5933, 'deserve': 5934, 'kicked': 5935, 'bathroom': 5936, 'incredulity': 5937, 'sunshine': 5938, 'carts': 5939, 'vegetables': 5940, 'lifeless': 5941, 'dream': 5942, 'flicking': 5943, 'gallop': 5944, 'wisdom': 5945, 'earliest': 5946, 'risers': 5947, 'sleepily': 5948, 'crossed': 5949, 'wellington': 5950, 'wheeled': 5951, 'sharply': 5952, 'saluted': 5953, '“inspector': 5954, 'flagged': 5955, 'peaked': 5956, 'frogged': 5957, 'ledger': 5958, 'telephone': 5959, 'projecting': 5960, 'beggarman': 5961, 'boone—the': 5962, 'remanded': 5963, '“dirty': 5964, 'tinker’s': 5965, 'barred': 5966, 'whitewashed': 5967, 'coarsely': 5968, 'grime': 5969, 'ugliness': 5970, 'wheal': 5971, 'perpetual': 5972, 'beauty': 5973, 'needs': 5974, 'tools': 5975, 'doesn’t': 5976, 'cell': 5977, 'sleeper': 5978, 'slumber': 5979, 'stooped': 5980, 'jug': 5981, 'moistened': 5982, 'prisoner’s': 5983, 'peeled': 5984, 'horrid': 5985, 'seamed': 5986, 'twitch': 5987, 'refined': 5988, 'haired': 5989, 'sleepy': 5990, 'bewilderment': 5991, 'scream': 5992, 'pillow': 5993, '“great': 5994, 'abandons': 5995, '“be': 5996, '“with': 5997, '—': 5998, 'grin': 5999, 'cake': 6000, 'illegally': 6001, 'detained': 6002, 'patted': 6003, 'convince': 6004, 'submit': 6005, 'proper': 6006, 'passionately': 6007, 'endured': 6008, 'imprisonment': 6009, 'ay': 6010, 'execution': 6011, 'blot': 6012, 'schoolmaster': 6013, 'chesterfield': 6014, 'reporter': 6015, 'editor': 6016, 'volunteered': 6017, 'base': 6018, 'secrets': 6019, 'famous': 6020, 'attainments': 6021, 'painted': 6022, 'flesh': 6023, 'plaster': 6024, 'appropriate': 6025, 'ostensibly': 6026, 'match': 6027, 'seller': 6028, 'plied': 6029, 'writ': 6030, '25': 6031, 'wit’s': 6032, 'fortnight’s': 6033, 'creditor': 6034, 'debt': 6035, 'arduous': 6036, 'dollars': 6037, 'won': 6038, 'reporting': 6039, 'chosen': 6040, 'inspiring': 6041, 'filling': 6042, 'squalid': 6043, 'evenings': 6044, 'transform': 6045, 'saving': 6046, 'sums': 6047, '700': 6048, 'year—which': 6049, 'takings—but': 6050, 'facility': 6051, 'repartee': 6052, 'improved': 6053, 'varied': 6054, 'poured': 6055, 'ambitious': 6056, 'entreated': 6057, 'pigments': 6058, 'wig': 6059, 'pierce': 6060, 'betray': 6061, 'reopening': 6062, 'takings': 6063, 'thames': 6064, 'relief': 6065, 'identified': 6066, 'preference': 6067, 'confided': 6068, 'scrawl': 6069, 'unobserved': 6070, 'sailor': 6071, 'customer': 6072, 'approvingly': 6073, 'prosecuted': 6074, 'hush': 6075, 'oaths': 6076, 'consuming': 6077, 'wishing': 6078, 'compliments': 6079, 'pile': 6080, 'studied': 6081, 'seedy': 6082, 'forceps': 6083, 'suspended': 6084, '“perhaps': 6085, 'interrupt': 6086, 'one”—he': 6087, 'jerked': 6088, 'hat—“but': 6089, 'instruction': 6090, 'warmed': 6091, 'crackling': 6092, 'ice': 6093, 'crystals': 6094, 'linked': 6095, 'it—that': 6096, 'whimsical': 6097, 'million': 6098, 'beings': 6099, 'jostling': 6100, 'space': 6101, 'humanity': 6102, 'combination': 6103, 'allude': 6104, 'category': 6105, 'trophy': 6106, 'belongs': 6107, 'billycock': 6108, 'roasting': 6109, 'peterson’s': 6110, 'honest': 6111, 'jollification': 6112, 'gaslight': 6113, 'tallish': 6114, 'stagger': 6115, 'slung': 6116, 'goodge': 6117, 'defend': 6118, 'smashed': 6119, 'assailants': 6120, 'shocked': 6121, 'uniform': 6122, 'fled': 6123, 'battle': 6124, 'spoils': 6125, 'victory': 6126, 'unimpeachable': 6127, 'restored': 6128, '‘for': 6129, 'baker’': 6130, 'tied': 6131, '‘h': 6132, 'legible': 6133, 'ours': 6134, 'restore': 6135, 'eaten': 6136, 'unnecessary': 6137, 'finder': 6138, 'fulfil': 6139, 'ultimate': 6140, 'advertise': 6141, 'article': 6142, 'ruefully': 6143, 'maker’s': 6144, '“h': 6145, 'brim': 6146, 'dusty': 6147, 'patches': 6148, 'handing': 6149, 'infer': 6150, 'represent': 6151, 'balance': 6152, 'probability': 6153, 'disregarding': 6154, 'remonstrance': 6155, 'leads': 6156, 'sedentary': 6157, 'anoints': 6158, 'patent': 6159, 'improbable': 6160, 'attained': 6161, 'stupid': 6162, 'cubic': 6163, 'capacity': 6164, 'flat': 6165, 'brims': 6166, 'quality': 6167, 'ribbed': 6168, 'buy': 6169, 'assuredly': 6170, 'disc': 6171, 'loop': 6172, 'sold': 6173, 'hats': 6174, 'replace': 6175, 'weakening': 6176, 'daubing': 6177, 'plausible': 6178, 'recently': 6179, 'gathered': 6180, 'discloses': 6181, 'barber': 6182, 'adhesive': 6183, 'odour': 6184, 'gritty': 6185, 'indoors': 6186, 'wearer': 6187, 'perspired': 6188, 'wife—you': 6189, 'accumulation': 6190, 'allows': 6191, 'affection': 6192, '“nay': 6193, 'offering': 6194, 'stain': 6195, 'frequent': 6196, 'tallow—walks': 6197, 'guttering': 6198, 'candle': 6199, 'dazed': 6200, 'gasped': 6201, '“eh': 6202, 'flapped': 6203, 'kitchen': 6204, 'fairer': 6205, '“see': 6206, 'scintillating': 6207, 'bean': 6208, 'purity': 6209, 'radiance': 6210, 'electric': 6211, 'trove': 6212, 'diamond': 6213, 'morcar’s': 6214, 'mercy': 6215, 'plumped': 6216, 'sentimental': 6217, 'considerations': 6218, 'background': 6219, 'induce': 6220, 'aright': 6221, 'december': 6222, 'smoothed': 6223, 'doubled': 6224, '“hotel': 6225, 'inst': 6226, 'solder': 6227, 'bureau': 6228, 'morocco': 6229, 'casket': 6230, 'transpired': 6231, 'catherine': 6232, 'cusack': 6233, 'deposed': 6234, 'ryder’s': 6235, 'dismay': 6236, 'struggled': 6237, 'summarily': 6238, 'offence': 6239, 'intense': 6240}\n"
          ]
        }
      ]
    },
    {
      "cell_type": "markdown",
      "source": [
        "Create the n-gram"
      ],
      "metadata": {
        "id": "iofFoVPn4VFw"
      }
    },
    {
      "cell_type": "code",
      "source": [
        "input_sequences = []\n",
        "#j=0\n",
        "for line in text.split('\\n'):\n",
        "    token_list = tokenizer.texts_to_sequences([line])[0]\n",
        "    #if(j<5):\n",
        "    #    print(j, line)\n",
        "    #    print(token_list)\n",
        "    #    j+=1\n",
        "    for i in range(1, len(token_list)):\n",
        "        n_gram_sequence = token_list[:i+1]\n",
        "        #print (\"\\n\", n_gram_sequence)\n",
        "        input_sequences.append(n_gram_sequence)\n",
        "\n",
        "\n",
        "print(\"input_sequences count\",len(input_sequences))\n",
        "#print(\"input_sequences\",input_sequences[:5])\n",
        "print(\"0 input sequence\", input_sequences[0])\n",
        "print(\"1 input sequence\", input_sequences[1])\n",
        "print(\"2 input sequence\", input_sequences[2])\n",
        "print(\"3 input sequence\", input_sequences[3])\n",
        "print(\"4 input sequence\", input_sequences[4])"
      ],
      "metadata": {
        "colab": {
          "base_uri": "https://localhost:8080/"
        },
        "id": "7DQ2geNj4gS4",
        "outputId": "3913862f-476d-4b20-da86-d08b289150a5"
      },
      "execution_count": null,
      "outputs": [
        {
          "output_type": "stream",
          "name": "stdout",
          "text": [
            "input_sequences count 50641\n",
            "0 input sequence [1266, 3074]\n",
            "1 input sequence [1266, 3074, 1]\n",
            "2 input sequence [1266, 3074, 1, 711]\n",
            "3 input sequence [1266, 3074, 1, 711, 3]\n",
            "4 input sequence [1266, 3074, 1, 711, 3, 104]\n"
          ]
        }
      ]
    },
    {
      "cell_type": "markdown",
      "source": [
        "#Pad and make all sequence the same length\n",
        "padding should be added at the beginning of each sequence using the ‘padding=pre’ argument.\n"
      ],
      "metadata": {
        "id": "7qxdohshaBkV"
      }
    },
    {
      "cell_type": "code",
      "source": [
        "max_sequence_len = max([len(seq) for seq in input_sequences])\n",
        "print(\"max_sequence_len\", max_sequence_len)\n",
        "input_sequences = np.array(pad_sequences(input_sequences, maxlen=max_sequence_len, padding='pre'))"
      ],
      "metadata": {
        "colab": {
          "base_uri": "https://localhost:8080/"
        },
        "id": "ffDg4zPSaN3U",
        "outputId": "98fb7fe4-ecf1-4a90-968a-826578481292"
      },
      "execution_count": null,
      "outputs": [
        {
          "output_type": "stream",
          "name": "stdout",
          "text": [
            "max_sequence_len 20\n"
          ]
        }
      ]
    },
    {
      "cell_type": "markdown",
      "source": [
        "#Prepare features(n-gram) against label\n",
        "Let's create two numpy arrays x for storing the features and y for storing its corresponding label.\n",
        "\n",
        "We will iterate x and y if the word is available so that the corresponding position becomes 1"
      ],
      "metadata": {
        "id": "nJBUZefg8XgO"
      }
    },
    {
      "cell_type": "code",
      "source": [
        "X = input_sequences[:, :-1]\n",
        "y = input_sequences[:, -1]\n",
        "print(X.shape)\n",
        "print(y.shape)\n",
        "\n",
        "print(X[:5])\n",
        "print(y[0])\n",
        "print(y[1])\n",
        "print(y[2])\n",
        "print(y[3])\n",
        "print(y[4])"
      ],
      "metadata": {
        "colab": {
          "base_uri": "https://localhost:8080/"
        },
        "id": "v1O96q6D8dft",
        "outputId": "2c85202c-a0bb-49d1-d4c8-c7cac458fdaa"
      },
      "execution_count": null,
      "outputs": [
        {
          "output_type": "stream",
          "name": "stdout",
          "text": [
            "(50641, 19)\n",
            "(50641,)\n",
            "[[   0    0    0    0    0    0    0    0    0    0    0    0    0    0\n",
            "     0    0    0    0 1266]\n",
            " [   0    0    0    0    0    0    0    0    0    0    0    0    0    0\n",
            "     0    0    0 1266 3074]\n",
            " [   0    0    0    0    0    0    0    0    0    0    0    0    0    0\n",
            "     0    0 1266 3074    1]\n",
            " [   0    0    0    0    0    0    0    0    0    0    0    0    0    0\n",
            "     0 1266 3074    1  711]\n",
            " [   0    0    0    0    0    0    0    0    0    0    0    0    0    0\n",
            "  1266 3074    1  711    3]]\n",
            "3074\n",
            "1\n",
            "711\n",
            "3\n",
            "104\n"
          ]
        }
      ]
    },
    {
      "cell_type": "markdown",
      "source": [
        "Converting the output array into a suitable format for training a model, where each target word is represented as a binary vector."
      ],
      "metadata": {
        "id": "qnOYakfIiy1Y"
      }
    },
    {
      "cell_type": "code",
      "source": [
        "y = np.array(tf.keras.utils.to_categorical(y, num_classes=total_words))\n",
        "print(np.shape(y))"
      ],
      "metadata": {
        "colab": {
          "base_uri": "https://localhost:8080/"
        },
        "id": "ApFslIMaixiF",
        "outputId": "88a2a092-1c20-4166-884c-50a165daa1f2"
      },
      "execution_count": null,
      "outputs": [
        {
          "output_type": "stream",
          "name": "stdout",
          "text": [
            "(50641, 6241)\n"
          ]
        }
      ]
    },
    {
      "cell_type": "markdown",
      "source": [],
      "metadata": {
        "id": "kqZR15m5ixPe"
      }
    },
    {
      "cell_type": "markdown",
      "source": [
        "#Build Recurrent Neural Network\n",
        "1.   The first layer added to the model is the ‘Embedding’ layer, which is responsible for converting the input sequences into dense vectors of fixed size. It takes three arguments:\n",
        "\n",
        "\n",
        "*   ‘total_words’, which represents the total number of distinct words in the vocabulary;\n",
        "*   ‘100’, which denotes the dimensionality of the word embeddings\n",
        "*   ‘input_length’, which specifies the length of the input sequences.\n",
        "\n",
        "\n",
        "\n",
        "2.   The next layer added is the ‘LSTM’ layer, a type of recurrent neural network (RNN) layer designed for capturing sequential dependencies in the data. It has 150 units, which means it will learn 150 internal representations or memory cells.\n",
        "\n",
        "3.   Finally, the ‘Dense’ layer is added, which is a fully connected layer that produces the output predictions. It has ‘total_words’ units and uses the ‘softmax’ activation function to convert the predicted scores into probabilities, indicating the likelihood of each word being the next one in the sequence."
      ],
      "metadata": {
        "id": "zYQyx4MC8xqp"
      }
    },
    {
      "cell_type": "code",
      "source": [
        "print(\"total_words\",total_words)\n",
        "print(\"max_sequence_len\",max_sequence_len)\n",
        "\n",
        "model = Sequential()\n",
        "#model.add(Embedding(total_words, 100, input_length=max_sequence_len-1))\n",
        "#model.add(LSTM(150))\n",
        "#model.add(Dense(total_words, activation='softmax'))\n",
        "\n",
        "model = Sequential([\n",
        "    Embedding(total_words, 50, input_length=max_sequence_len-1),\n",
        "    LSTM(50),\n",
        "    Dense(total_words, activation='softmax')\n",
        "])\n",
        "\n",
        "print(model.summary())"
      ],
      "metadata": {
        "colab": {
          "base_uri": "https://localhost:8080/",
          "height": 332
        },
        "id": "e6QT8X1q8xFb",
        "outputId": "afedd8da-1423-4b95-c09c-7a72b3403108"
      },
      "execution_count": null,
      "outputs": [
        {
          "output_type": "stream",
          "name": "stdout",
          "text": [
            "total_words 6241\n",
            "max_sequence_len 20\n"
          ]
        },
        {
          "output_type": "stream",
          "name": "stderr",
          "text": [
            "/usr/local/lib/python3.10/dist-packages/keras/src/layers/core/embedding.py:90: UserWarning: Argument `input_length` is deprecated. Just remove it.\n",
            "  warnings.warn(\n"
          ]
        },
        {
          "output_type": "display_data",
          "data": {
            "text/plain": [
              "\u001b[1mModel: \"sequential_1\"\u001b[0m\n"
            ],
            "text/html": [
              "<pre style=\"white-space:pre;overflow-x:auto;line-height:normal;font-family:Menlo,'DejaVu Sans Mono',consolas,'Courier New',monospace\"><span style=\"font-weight: bold\">Model: \"sequential_1\"</span>\n",
              "</pre>\n"
            ]
          },
          "metadata": {}
        },
        {
          "output_type": "display_data",
          "data": {
            "text/plain": [
              "┏━━━━━━━━━━━━━━━━━━━━━━━━━━━━━━━━━━━━━━┳━━━━━━━━━━━━━━━━━━━━━━━━━━━━━┳━━━━━━━━━━━━━━━━━┓\n",
              "┃\u001b[1m \u001b[0m\u001b[1mLayer (type)                        \u001b[0m\u001b[1m \u001b[0m┃\u001b[1m \u001b[0m\u001b[1mOutput Shape               \u001b[0m\u001b[1m \u001b[0m┃\u001b[1m \u001b[0m\u001b[1m        Param #\u001b[0m\u001b[1m \u001b[0m┃\n",
              "┡━━━━━━━━━━━━━━━━━━━━━━━━━━━━━━━━━━━━━━╇━━━━━━━━━━━━━━━━━━━━━━━━━━━━━╇━━━━━━━━━━━━━━━━━┩\n",
              "│ embedding (\u001b[38;5;33mEmbedding\u001b[0m)                │ ?                           │     \u001b[38;5;34m0\u001b[0m (unbuilt) │\n",
              "├──────────────────────────────────────┼─────────────────────────────┼─────────────────┤\n",
              "│ lstm (\u001b[38;5;33mLSTM\u001b[0m)                          │ ?                           │     \u001b[38;5;34m0\u001b[0m (unbuilt) │\n",
              "├──────────────────────────────────────┼─────────────────────────────┼─────────────────┤\n",
              "│ dense (\u001b[38;5;33mDense\u001b[0m)                        │ ?                           │     \u001b[38;5;34m0\u001b[0m (unbuilt) │\n",
              "└──────────────────────────────────────┴─────────────────────────────┴─────────────────┘\n"
            ],
            "text/html": [
              "<pre style=\"white-space:pre;overflow-x:auto;line-height:normal;font-family:Menlo,'DejaVu Sans Mono',consolas,'Courier New',monospace\">┏━━━━━━━━━━━━━━━━━━━━━━━━━━━━━━━━━━━━━━┳━━━━━━━━━━━━━━━━━━━━━━━━━━━━━┳━━━━━━━━━━━━━━━━━┓\n",
              "┃<span style=\"font-weight: bold\"> Layer (type)                         </span>┃<span style=\"font-weight: bold\"> Output Shape                </span>┃<span style=\"font-weight: bold\">         Param # </span>┃\n",
              "┡━━━━━━━━━━━━━━━━━━━━━━━━━━━━━━━━━━━━━━╇━━━━━━━━━━━━━━━━━━━━━━━━━━━━━╇━━━━━━━━━━━━━━━━━┩\n",
              "│ embedding (<span style=\"color: #0087ff; text-decoration-color: #0087ff\">Embedding</span>)                │ ?                           │     <span style=\"color: #00af00; text-decoration-color: #00af00\">0</span> (unbuilt) │\n",
              "├──────────────────────────────────────┼─────────────────────────────┼─────────────────┤\n",
              "│ lstm (<span style=\"color: #0087ff; text-decoration-color: #0087ff\">LSTM</span>)                          │ ?                           │     <span style=\"color: #00af00; text-decoration-color: #00af00\">0</span> (unbuilt) │\n",
              "├──────────────────────────────────────┼─────────────────────────────┼─────────────────┤\n",
              "│ dense (<span style=\"color: #0087ff; text-decoration-color: #0087ff\">Dense</span>)                        │ ?                           │     <span style=\"color: #00af00; text-decoration-color: #00af00\">0</span> (unbuilt) │\n",
              "└──────────────────────────────────────┴─────────────────────────────┴─────────────────┘\n",
              "</pre>\n"
            ]
          },
          "metadata": {}
        },
        {
          "output_type": "display_data",
          "data": {
            "text/plain": [
              "\u001b[1m Total params: \u001b[0m\u001b[38;5;34m0\u001b[0m (0.00 B)\n"
            ],
            "text/html": [
              "<pre style=\"white-space:pre;overflow-x:auto;line-height:normal;font-family:Menlo,'DejaVu Sans Mono',consolas,'Courier New',monospace\"><span style=\"font-weight: bold\"> Total params: </span><span style=\"color: #00af00; text-decoration-color: #00af00\">0</span> (0.00 B)\n",
              "</pre>\n"
            ]
          },
          "metadata": {}
        },
        {
          "output_type": "display_data",
          "data": {
            "text/plain": [
              "\u001b[1m Trainable params: \u001b[0m\u001b[38;5;34m0\u001b[0m (0.00 B)\n"
            ],
            "text/html": [
              "<pre style=\"white-space:pre;overflow-x:auto;line-height:normal;font-family:Menlo,'DejaVu Sans Mono',consolas,'Courier New',monospace\"><span style=\"font-weight: bold\"> Trainable params: </span><span style=\"color: #00af00; text-decoration-color: #00af00\">0</span> (0.00 B)\n",
              "</pre>\n"
            ]
          },
          "metadata": {}
        },
        {
          "output_type": "display_data",
          "data": {
            "text/plain": [
              "\u001b[1m Non-trainable params: \u001b[0m\u001b[38;5;34m0\u001b[0m (0.00 B)\n"
            ],
            "text/html": [
              "<pre style=\"white-space:pre;overflow-x:auto;line-height:normal;font-family:Menlo,'DejaVu Sans Mono',consolas,'Courier New',monospace\"><span style=\"font-weight: bold\"> Non-trainable params: </span><span style=\"color: #00af00; text-decoration-color: #00af00\">0</span> (0.00 B)\n",
              "</pre>\n"
            ]
          },
          "metadata": {}
        },
        {
          "output_type": "stream",
          "name": "stdout",
          "text": [
            "None\n"
          ]
        }
      ]
    },
    {
      "cell_type": "markdown",
      "source": [
        "Train the next word prediction model with 20 epochs"
      ],
      "metadata": {
        "id": "_sEUSfNp8-ma"
      }
    },
    {
      "cell_type": "code",
      "source": [
        "#optimizer = RMSprop(learning_rate=0.01)\n",
        "model.compile(loss='categorical_crossentropy', optimizer='adam', metrics=['accuracy'])\n",
        "history = model.fit(X, y, validation_split=0.2, batch_size=128, epochs=60, shuffle=True).history"
      ],
      "metadata": {
        "colab": {
          "base_uri": "https://localhost:8080/"
        },
        "id": "GgzuHsHv9BXc",
        "outputId": "8e698299-4242-4a40-ce85-d7a5e4b7c817"
      },
      "execution_count": null,
      "outputs": [
        {
          "output_type": "stream",
          "name": "stdout",
          "text": [
            "Epoch 1/60\n",
            "\u001b[1m317/317\u001b[0m \u001b[32m━━━━━━━━━━━━━━━━━━━━\u001b[0m\u001b[37m\u001b[0m \u001b[1m9s\u001b[0m 15ms/step - accuracy: 0.0516 - loss: 7.2637 - val_accuracy: 0.0570 - val_loss: 6.4392\n",
            "Epoch 2/60\n",
            "\u001b[1m317/317\u001b[0m \u001b[32m━━━━━━━━━━━━━━━━━━━━\u001b[0m\u001b[37m\u001b[0m \u001b[1m4s\u001b[0m 12ms/step - accuracy: 0.0524 - loss: 6.1744 - val_accuracy: 0.0570 - val_loss: 6.4679\n",
            "Epoch 3/60\n",
            "\u001b[1m317/317\u001b[0m \u001b[32m━━━━━━━━━━━━━━━━━━━━\u001b[0m\u001b[37m\u001b[0m \u001b[1m3s\u001b[0m 11ms/step - accuracy: 0.0547 - loss: 6.0894 - val_accuracy: 0.0571 - val_loss: 6.4901\n",
            "Epoch 4/60\n",
            "\u001b[1m317/317\u001b[0m \u001b[32m━━━━━━━━━━━━━━━━━━━━\u001b[0m\u001b[37m\u001b[0m \u001b[1m6s\u001b[0m 13ms/step - accuracy: 0.0563 - loss: 6.0150 - val_accuracy: 0.0687 - val_loss: 6.4793\n",
            "Epoch 5/60\n",
            "\u001b[1m317/317\u001b[0m \u001b[32m━━━━━━━━━━━━━━━━━━━━\u001b[0m\u001b[37m\u001b[0m \u001b[1m5s\u001b[0m 11ms/step - accuracy: 0.0671 - loss: 5.9432 - val_accuracy: 0.0734 - val_loss: 6.4500\n",
            "Epoch 6/60\n",
            "\u001b[1m317/317\u001b[0m \u001b[32m━━━━━━━━━━━━━━━━━━━━\u001b[0m\u001b[37m\u001b[0m \u001b[1m5s\u001b[0m 11ms/step - accuracy: 0.0721 - loss: 5.8760 - val_accuracy: 0.0766 - val_loss: 6.4261\n",
            "Epoch 7/60\n",
            "\u001b[1m317/317\u001b[0m \u001b[32m━━━━━━━━━━━━━━━━━━━━\u001b[0m\u001b[37m\u001b[0m \u001b[1m4s\u001b[0m 13ms/step - accuracy: 0.0776 - loss: 5.7874 - val_accuracy: 0.0840 - val_loss: 6.3989\n",
            "Epoch 8/60\n",
            "\u001b[1m317/317\u001b[0m \u001b[32m━━━━━━━━━━━━━━━━━━━━\u001b[0m\u001b[37m\u001b[0m \u001b[1m3s\u001b[0m 11ms/step - accuracy: 0.0886 - loss: 5.7123 - val_accuracy: 0.0906 - val_loss: 6.3634\n",
            "Epoch 9/60\n",
            "\u001b[1m317/317\u001b[0m \u001b[32m━━━━━━━━━━━━━━━━━━━━\u001b[0m\u001b[37m\u001b[0m \u001b[1m3s\u001b[0m 11ms/step - accuracy: 0.0990 - loss: 5.6188 - val_accuracy: 0.0963 - val_loss: 6.3267\n",
            "Epoch 10/60\n",
            "\u001b[1m317/317\u001b[0m \u001b[32m━━━━━━━━━━━━━━━━━━━━\u001b[0m\u001b[37m\u001b[0m \u001b[1m4s\u001b[0m 12ms/step - accuracy: 0.1139 - loss: 5.5097 - val_accuracy: 0.1019 - val_loss: 6.2882\n",
            "Epoch 11/60\n",
            "\u001b[1m317/317\u001b[0m \u001b[32m━━━━━━━━━━━━━━━━━━━━\u001b[0m\u001b[37m\u001b[0m \u001b[1m5s\u001b[0m 11ms/step - accuracy: 0.1196 - loss: 5.4216 - val_accuracy: 0.1069 - val_loss: 6.2672\n",
            "Epoch 12/60\n",
            "\u001b[1m317/317\u001b[0m \u001b[32m━━━━━━━━━━━━━━━━━━━━\u001b[0m\u001b[37m\u001b[0m \u001b[1m4s\u001b[0m 11ms/step - accuracy: 0.1236 - loss: 5.3285 - val_accuracy: 0.1103 - val_loss: 6.2712\n",
            "Epoch 13/60\n",
            "\u001b[1m317/317\u001b[0m \u001b[32m━━━━━━━━━━━━━━━━━━━━\u001b[0m\u001b[37m\u001b[0m \u001b[1m6s\u001b[0m 14ms/step - accuracy: 0.1334 - loss: 5.2558 - val_accuracy: 0.1167 - val_loss: 6.2731\n",
            "Epoch 14/60\n",
            "\u001b[1m317/317\u001b[0m \u001b[32m━━━━━━━━━━━━━━━━━━━━\u001b[0m\u001b[37m\u001b[0m \u001b[1m4s\u001b[0m 11ms/step - accuracy: 0.1407 - loss: 5.2008 - val_accuracy: 0.1171 - val_loss: 6.2829\n",
            "Epoch 15/60\n",
            "\u001b[1m317/317\u001b[0m \u001b[32m━━━━━━━━━━━━━━━━━━━━\u001b[0m\u001b[37m\u001b[0m \u001b[1m3s\u001b[0m 11ms/step - accuracy: 0.1457 - loss: 5.1184 - val_accuracy: 0.1177 - val_loss: 6.3042\n",
            "Epoch 16/60\n",
            "\u001b[1m317/317\u001b[0m \u001b[32m━━━━━━━━━━━━━━━━━━━━\u001b[0m\u001b[37m\u001b[0m \u001b[1m4s\u001b[0m 13ms/step - accuracy: 0.1515 - loss: 5.0729 - val_accuracy: 0.1220 - val_loss: 6.3153\n",
            "Epoch 17/60\n",
            "\u001b[1m317/317\u001b[0m \u001b[32m━━━━━━━━━━━━━━━━━━━━\u001b[0m\u001b[37m\u001b[0m \u001b[1m3s\u001b[0m 11ms/step - accuracy: 0.1575 - loss: 4.9880 - val_accuracy: 0.1212 - val_loss: 6.3329\n",
            "Epoch 18/60\n",
            "\u001b[1m317/317\u001b[0m \u001b[32m━━━━━━━━━━━━━━━━━━━━\u001b[0m\u001b[37m\u001b[0m \u001b[1m5s\u001b[0m 11ms/step - accuracy: 0.1563 - loss: 4.9485 - val_accuracy: 0.1239 - val_loss: 6.3458\n",
            "Epoch 19/60\n",
            "\u001b[1m317/317\u001b[0m \u001b[32m━━━━━━━━━━━━━━━━━━━━\u001b[0m\u001b[37m\u001b[0m \u001b[1m4s\u001b[0m 13ms/step - accuracy: 0.1600 - loss: 4.9113 - val_accuracy: 0.1231 - val_loss: 6.3726\n",
            "Epoch 20/60\n",
            "\u001b[1m317/317\u001b[0m \u001b[32m━━━━━━━━━━━━━━━━━━━━\u001b[0m\u001b[37m\u001b[0m \u001b[1m3s\u001b[0m 11ms/step - accuracy: 0.1649 - loss: 4.8727 - val_accuracy: 0.1242 - val_loss: 6.3953\n",
            "Epoch 21/60\n",
            "\u001b[1m317/317\u001b[0m \u001b[32m━━━━━━━━━━━━━━━━━━━━\u001b[0m\u001b[37m\u001b[0m \u001b[1m3s\u001b[0m 11ms/step - accuracy: 0.1681 - loss: 4.8250 - val_accuracy: 0.1270 - val_loss: 6.4159\n",
            "Epoch 22/60\n",
            "\u001b[1m317/317\u001b[0m \u001b[32m━━━━━━━━━━━━━━━━━━━━\u001b[0m\u001b[37m\u001b[0m \u001b[1m4s\u001b[0m 12ms/step - accuracy: 0.1754 - loss: 4.7655 - val_accuracy: 0.1270 - val_loss: 6.4409\n",
            "Epoch 23/60\n",
            "\u001b[1m317/317\u001b[0m \u001b[32m━━━━━━━━━━━━━━━━━━━━\u001b[0m\u001b[37m\u001b[0m \u001b[1m5s\u001b[0m 11ms/step - accuracy: 0.1771 - loss: 4.7128 - val_accuracy: 0.1279 - val_loss: 6.4624\n",
            "Epoch 24/60\n",
            "\u001b[1m317/317\u001b[0m \u001b[32m━━━━━━━━━━━━━━━━━━━━\u001b[0m\u001b[37m\u001b[0m \u001b[1m3s\u001b[0m 11ms/step - accuracy: 0.1814 - loss: 4.6773 - val_accuracy: 0.1256 - val_loss: 6.4914\n",
            "Epoch 25/60\n",
            "\u001b[1m317/317\u001b[0m \u001b[32m━━━━━━━━━━━━━━━━━━━━\u001b[0m\u001b[37m\u001b[0m \u001b[1m6s\u001b[0m 13ms/step - accuracy: 0.1832 - loss: 4.6250 - val_accuracy: 0.1264 - val_loss: 6.5182\n",
            "Epoch 26/60\n",
            "\u001b[1m317/317\u001b[0m \u001b[32m━━━━━━━━━━━━━━━━━━━━\u001b[0m\u001b[37m\u001b[0m \u001b[1m4s\u001b[0m 11ms/step - accuracy: 0.1875 - loss: 4.6012 - val_accuracy: 0.1274 - val_loss: 6.5460\n",
            "Epoch 27/60\n",
            "\u001b[1m317/317\u001b[0m \u001b[32m━━━━━━━━━━━━━━━━━━━━\u001b[0m\u001b[37m\u001b[0m \u001b[1m5s\u001b[0m 11ms/step - accuracy: 0.1872 - loss: 4.5405 - val_accuracy: 0.1263 - val_loss: 6.5753\n",
            "Epoch 28/60\n",
            "\u001b[1m317/317\u001b[0m \u001b[32m━━━━━━━━━━━━━━━━━━━━\u001b[0m\u001b[37m\u001b[0m \u001b[1m5s\u001b[0m 11ms/step - accuracy: 0.1935 - loss: 4.5023 - val_accuracy: 0.1284 - val_loss: 6.6012\n",
            "Epoch 29/60\n",
            "\u001b[1m317/317\u001b[0m \u001b[32m━━━━━━━━━━━━━━━━━━━━\u001b[0m\u001b[37m\u001b[0m \u001b[1m3s\u001b[0m 11ms/step - accuracy: 0.1947 - loss: 4.4771 - val_accuracy: 0.1284 - val_loss: 6.6380\n",
            "Epoch 30/60\n",
            "\u001b[1m317/317\u001b[0m \u001b[32m━━━━━━━━━━━━━━━━━━━━\u001b[0m\u001b[37m\u001b[0m \u001b[1m4s\u001b[0m 12ms/step - accuracy: 0.2002 - loss: 4.4133 - val_accuracy: 0.1269 - val_loss: 6.6622\n",
            "Epoch 31/60\n",
            "\u001b[1m317/317\u001b[0m \u001b[32m━━━━━━━━━━━━━━━━━━━━\u001b[0m\u001b[37m\u001b[0m \u001b[1m4s\u001b[0m 12ms/step - accuracy: 0.1981 - loss: 4.3903 - val_accuracy: 0.1264 - val_loss: 6.6989\n",
            "Epoch 32/60\n",
            "\u001b[1m317/317\u001b[0m \u001b[32m━━━━━━━━━━━━━━━━━━━━\u001b[0m\u001b[37m\u001b[0m \u001b[1m5s\u001b[0m 11ms/step - accuracy: 0.2010 - loss: 4.3692 - val_accuracy: 0.1291 - val_loss: 6.7361\n",
            "Epoch 33/60\n",
            "\u001b[1m317/317\u001b[0m \u001b[32m━━━━━━━━━━━━━━━━━━━━\u001b[0m\u001b[37m\u001b[0m \u001b[1m6s\u001b[0m 13ms/step - accuracy: 0.2077 - loss: 4.3115 - val_accuracy: 0.1307 - val_loss: 6.7554\n",
            "Epoch 34/60\n",
            "\u001b[1m317/317\u001b[0m \u001b[32m━━━━━━━━━━━━━━━━━━━━\u001b[0m\u001b[37m\u001b[0m \u001b[1m5s\u001b[0m 11ms/step - accuracy: 0.2059 - loss: 4.3008 - val_accuracy: 0.1310 - val_loss: 6.7977\n",
            "Epoch 35/60\n",
            "\u001b[1m317/317\u001b[0m \u001b[32m━━━━━━━━━━━━━━━━━━━━\u001b[0m\u001b[37m\u001b[0m \u001b[1m4s\u001b[0m 11ms/step - accuracy: 0.2108 - loss: 4.2364 - val_accuracy: 0.1321 - val_loss: 6.8266\n",
            "Epoch 36/60\n",
            "\u001b[1m317/317\u001b[0m \u001b[32m━━━━━━━━━━━━━━━━━━━━\u001b[0m\u001b[37m\u001b[0m \u001b[1m4s\u001b[0m 13ms/step - accuracy: 0.2149 - loss: 4.1923 - val_accuracy: 0.1311 - val_loss: 6.8587\n",
            "Epoch 37/60\n",
            "\u001b[1m317/317\u001b[0m \u001b[32m━━━━━━━━━━━━━━━━━━━━\u001b[0m\u001b[37m\u001b[0m \u001b[1m5s\u001b[0m 11ms/step - accuracy: 0.2159 - loss: 4.1705 - val_accuracy: 0.1320 - val_loss: 6.8985\n",
            "Epoch 38/60\n",
            "\u001b[1m317/317\u001b[0m \u001b[32m━━━━━━━━━━━━━━━━━━━━\u001b[0m\u001b[37m\u001b[0m \u001b[1m5s\u001b[0m 12ms/step - accuracy: 0.2202 - loss: 4.1404 - val_accuracy: 0.1318 - val_loss: 6.9389\n",
            "Epoch 39/60\n",
            "\u001b[1m317/317\u001b[0m \u001b[32m━━━━━━━━━━━━━━━━━━━━\u001b[0m\u001b[37m\u001b[0m \u001b[1m4s\u001b[0m 12ms/step - accuracy: 0.2205 - loss: 4.1034 - val_accuracy: 0.1311 - val_loss: 6.9759\n",
            "Epoch 40/60\n",
            "\u001b[1m317/317\u001b[0m \u001b[32m━━━━━━━━━━━━━━━━━━━━\u001b[0m\u001b[37m\u001b[0m \u001b[1m5s\u001b[0m 11ms/step - accuracy: 0.2260 - loss: 4.0594 - val_accuracy: 0.1324 - val_loss: 7.0247\n",
            "Epoch 41/60\n",
            "\u001b[1m317/317\u001b[0m \u001b[32m━━━━━━━━━━━━━━━━━━━━\u001b[0m\u001b[37m\u001b[0m \u001b[1m6s\u001b[0m 13ms/step - accuracy: 0.2274 - loss: 4.0549 - val_accuracy: 0.1311 - val_loss: 7.0558\n",
            "Epoch 42/60\n",
            "\u001b[1m317/317\u001b[0m \u001b[32m━━━━━━━━━━━━━━━━━━━━\u001b[0m\u001b[37m\u001b[0m \u001b[1m5s\u001b[0m 11ms/step - accuracy: 0.2298 - loss: 4.0116 - val_accuracy: 0.1297 - val_loss: 7.0945\n",
            "Epoch 43/60\n",
            "\u001b[1m317/317\u001b[0m \u001b[32m━━━━━━━━━━━━━━━━━━━━\u001b[0m\u001b[37m\u001b[0m \u001b[1m4s\u001b[0m 11ms/step - accuracy: 0.2372 - loss: 3.9728 - val_accuracy: 0.1310 - val_loss: 7.1323\n",
            "Epoch 44/60\n",
            "\u001b[1m317/317\u001b[0m \u001b[32m━━━━━━━━━━━━━━━━━━━━\u001b[0m\u001b[37m\u001b[0m \u001b[1m5s\u001b[0m 12ms/step - accuracy: 0.2374 - loss: 3.9447 - val_accuracy: 0.1317 - val_loss: 7.1759\n",
            "Epoch 45/60\n",
            "\u001b[1m317/317\u001b[0m \u001b[32m━━━━━━━━━━━━━━━━━━━━\u001b[0m\u001b[37m\u001b[0m \u001b[1m5s\u001b[0m 11ms/step - accuracy: 0.2423 - loss: 3.9098 - val_accuracy: 0.1312 - val_loss: 7.2129\n",
            "Epoch 46/60\n",
            "\u001b[1m317/317\u001b[0m \u001b[32m━━━━━━━━━━━━━━━━━━━━\u001b[0m\u001b[37m\u001b[0m \u001b[1m4s\u001b[0m 12ms/step - accuracy: 0.2476 - loss: 3.8734 - val_accuracy: 0.1276 - val_loss: 7.2655\n",
            "Epoch 47/60\n",
            "\u001b[1m317/317\u001b[0m \u001b[32m━━━━━━━━━━━━━━━━━━━━\u001b[0m\u001b[37m\u001b[0m \u001b[1m5s\u001b[0m 11ms/step - accuracy: 0.2464 - loss: 3.8608 - val_accuracy: 0.1288 - val_loss: 7.3019\n",
            "Epoch 48/60\n",
            "\u001b[1m317/317\u001b[0m \u001b[32m━━━━━━━━━━━━━━━━━━━━\u001b[0m\u001b[37m\u001b[0m \u001b[1m3s\u001b[0m 11ms/step - accuracy: 0.2526 - loss: 3.8238 - val_accuracy: 0.1294 - val_loss: 7.3397\n",
            "Epoch 49/60\n",
            "\u001b[1m317/317\u001b[0m \u001b[32m━━━━━━━━━━━━━━━━━━━━\u001b[0m\u001b[37m\u001b[0m \u001b[1m4s\u001b[0m 12ms/step - accuracy: 0.2590 - loss: 3.7903 - val_accuracy: 0.1276 - val_loss: 7.3817\n",
            "Epoch 50/60\n",
            "\u001b[1m317/317\u001b[0m \u001b[32m━━━━━━━━━━━━━━━━━━━━\u001b[0m\u001b[37m\u001b[0m \u001b[1m4s\u001b[0m 11ms/step - accuracy: 0.2609 - loss: 3.7732 - val_accuracy: 0.1304 - val_loss: 7.4247\n",
            "Epoch 51/60\n",
            "\u001b[1m317/317\u001b[0m \u001b[32m━━━━━━━━━━━━━━━━━━━━\u001b[0m\u001b[37m\u001b[0m \u001b[1m5s\u001b[0m 11ms/step - accuracy: 0.2633 - loss: 3.7448 - val_accuracy: 0.1293 - val_loss: 7.4695\n",
            "Epoch 52/60\n",
            "\u001b[1m317/317\u001b[0m \u001b[32m━━━━━━━━━━━━━━━━━━━━\u001b[0m\u001b[37m\u001b[0m \u001b[1m6s\u001b[0m 12ms/step - accuracy: 0.2691 - loss: 3.6945 - val_accuracy: 0.1294 - val_loss: 7.5042\n",
            "Epoch 53/60\n",
            "\u001b[1m317/317\u001b[0m \u001b[32m━━━━━━━━━━━━━━━━━━━━\u001b[0m\u001b[37m\u001b[0m \u001b[1m5s\u001b[0m 11ms/step - accuracy: 0.2692 - loss: 3.6903 - val_accuracy: 0.1281 - val_loss: 7.5508\n",
            "Epoch 54/60\n",
            "\u001b[1m317/317\u001b[0m \u001b[32m━━━━━━━━━━━━━━━━━━━━\u001b[0m\u001b[37m\u001b[0m \u001b[1m3s\u001b[0m 11ms/step - accuracy: 0.2769 - loss: 3.6451 - val_accuracy: 0.1296 - val_loss: 7.5777\n",
            "Epoch 55/60\n",
            "\u001b[1m317/317\u001b[0m \u001b[32m━━━━━━━━━━━━━━━━━━━━\u001b[0m\u001b[37m\u001b[0m \u001b[1m4s\u001b[0m 13ms/step - accuracy: 0.2819 - loss: 3.6249 - val_accuracy: 0.1277 - val_loss: 7.6170\n",
            "Epoch 56/60\n",
            "\u001b[1m317/317\u001b[0m \u001b[32m━━━━━━━━━━━━━━━━━━━━\u001b[0m\u001b[37m\u001b[0m \u001b[1m5s\u001b[0m 11ms/step - accuracy: 0.2819 - loss: 3.6088 - val_accuracy: 0.1302 - val_loss: 7.6591\n",
            "Epoch 57/60\n",
            "\u001b[1m317/317\u001b[0m \u001b[32m━━━━━━━━━━━━━━━━━━━━\u001b[0m\u001b[37m\u001b[0m \u001b[1m4s\u001b[0m 13ms/step - accuracy: 0.2837 - loss: 3.5833 - val_accuracy: 0.1293 - val_loss: 7.6942\n",
            "Epoch 58/60\n",
            "\u001b[1m317/317\u001b[0m \u001b[32m━━━━━━━━━━━━━━━━━━━━\u001b[0m\u001b[37m\u001b[0m \u001b[1m5s\u001b[0m 12ms/step - accuracy: 0.2869 - loss: 3.5512 - val_accuracy: 0.1297 - val_loss: 7.7233\n",
            "Epoch 59/60\n",
            "\u001b[1m317/317\u001b[0m \u001b[32m━━━━━━━━━━━━━━━━━━━━\u001b[0m\u001b[37m\u001b[0m \u001b[1m4s\u001b[0m 11ms/step - accuracy: 0.2914 - loss: 3.5266 - val_accuracy: 0.1283 - val_loss: 7.7721\n",
            "Epoch 60/60\n",
            "\u001b[1m317/317\u001b[0m \u001b[32m━━━━━━━━━━━━━━━━━━━━\u001b[0m\u001b[37m\u001b[0m \u001b[1m4s\u001b[0m 11ms/step - accuracy: 0.2891 - loss: 3.5292 - val_accuracy: 0.1281 - val_loss: 7.8131\n"
          ]
        }
      ]
    },
    {
      "cell_type": "markdown",
      "source": [
        "#Save the Model"
      ],
      "metadata": {
        "id": "1ib5mFwUKmoC"
      }
    },
    {
      "cell_type": "code",
      "source": [
        "model.save('next_Word_16_Nov_v1.h5')\n",
        "model.save('next_Word_16_Nov_v1.keras')"
      ],
      "metadata": {
        "colab": {
          "base_uri": "https://localhost:8080/"
        },
        "id": "Yag1LJRIJGql",
        "outputId": "04e77b85-b6f9-49b4-be4a-e3f4d138e347"
      },
      "execution_count": null,
      "outputs": [
        {
          "output_type": "stream",
          "name": "stderr",
          "text": [
            "WARNING:absl:You are saving your model as an HDF5 file via `model.save()` or `keras.saving.save_model(model)`. This file format is considered legacy. We recommend using instead the native Keras format, e.g. `model.save('my_model.keras')` or `keras.saving.save_model(model, 'my_model.keras')`. \n"
          ]
        }
      ]
    },
    {
      "cell_type": "markdown",
      "source": [
        "#Download the Model"
      ],
      "metadata": {
        "id": "xCPYM3-CKoVa"
      }
    },
    {
      "cell_type": "code",
      "source": [
        "from google.colab import files\n",
        "files.download('next_Word_16_Nov_v1.h5')\n",
        "files.download('next_Word_16_Nov_v1.keras')"
      ],
      "metadata": {
        "colab": {
          "base_uri": "https://localhost:8080/",
          "height": 17
        },
        "id": "NGAbhnorJ2EC",
        "outputId": "fd608b1f-ae3b-47dc-a90d-1334c20ee75a"
      },
      "execution_count": null,
      "outputs": [
        {
          "output_type": "display_data",
          "data": {
            "text/plain": [
              "<IPython.core.display.Javascript object>"
            ],
            "application/javascript": [
              "\n",
              "    async function download(id, filename, size) {\n",
              "      if (!google.colab.kernel.accessAllowed) {\n",
              "        return;\n",
              "      }\n",
              "      const div = document.createElement('div');\n",
              "      const label = document.createElement('label');\n",
              "      label.textContent = `Downloading \"${filename}\": `;\n",
              "      div.appendChild(label);\n",
              "      const progress = document.createElement('progress');\n",
              "      progress.max = size;\n",
              "      div.appendChild(progress);\n",
              "      document.body.appendChild(div);\n",
              "\n",
              "      const buffers = [];\n",
              "      let downloaded = 0;\n",
              "\n",
              "      const channel = await google.colab.kernel.comms.open(id);\n",
              "      // Send a message to notify the kernel that we're ready.\n",
              "      channel.send({})\n",
              "\n",
              "      for await (const message of channel.messages) {\n",
              "        // Send a message to notify the kernel that we're ready.\n",
              "        channel.send({})\n",
              "        if (message.buffers) {\n",
              "          for (const buffer of message.buffers) {\n",
              "            buffers.push(buffer);\n",
              "            downloaded += buffer.byteLength;\n",
              "            progress.value = downloaded;\n",
              "          }\n",
              "        }\n",
              "      }\n",
              "      const blob = new Blob(buffers, {type: 'application/binary'});\n",
              "      const a = document.createElement('a');\n",
              "      a.href = window.URL.createObjectURL(blob);\n",
              "      a.download = filename;\n",
              "      div.appendChild(a);\n",
              "      a.click();\n",
              "      div.remove();\n",
              "    }\n",
              "  "
            ]
          },
          "metadata": {}
        },
        {
          "output_type": "display_data",
          "data": {
            "text/plain": [
              "<IPython.core.display.Javascript object>"
            ],
            "application/javascript": [
              "download(\"download_569172d4-ba91-4deb-ae43-71ad4f8d99e4\", \"next_Word_16_Nov_v1.h5\", 24004740)"
            ]
          },
          "metadata": {}
        },
        {
          "output_type": "display_data",
          "data": {
            "text/plain": [
              "<IPython.core.display.Javascript object>"
            ],
            "application/javascript": [
              "\n",
              "    async function download(id, filename, size) {\n",
              "      if (!google.colab.kernel.accessAllowed) {\n",
              "        return;\n",
              "      }\n",
              "      const div = document.createElement('div');\n",
              "      const label = document.createElement('label');\n",
              "      label.textContent = `Downloading \"${filename}\": `;\n",
              "      div.appendChild(label);\n",
              "      const progress = document.createElement('progress');\n",
              "      progress.max = size;\n",
              "      div.appendChild(progress);\n",
              "      document.body.appendChild(div);\n",
              "\n",
              "      const buffers = [];\n",
              "      let downloaded = 0;\n",
              "\n",
              "      const channel = await google.colab.kernel.comms.open(id);\n",
              "      // Send a message to notify the kernel that we're ready.\n",
              "      channel.send({})\n",
              "\n",
              "      for await (const message of channel.messages) {\n",
              "        // Send a message to notify the kernel that we're ready.\n",
              "        channel.send({})\n",
              "        if (message.buffers) {\n",
              "          for (const buffer of message.buffers) {\n",
              "            buffers.push(buffer);\n",
              "            downloaded += buffer.byteLength;\n",
              "            progress.value = downloaded;\n",
              "          }\n",
              "        }\n",
              "      }\n",
              "      const blob = new Blob(buffers, {type: 'application/binary'});\n",
              "      const a = document.createElement('a');\n",
              "      a.href = window.URL.createObjectURL(blob);\n",
              "      a.download = filename;\n",
              "      div.appendChild(a);\n",
              "      a.click();\n",
              "      div.remove();\n",
              "    }\n",
              "  "
            ]
          },
          "metadata": {}
        },
        {
          "output_type": "display_data",
          "data": {
            "text/plain": [
              "<IPython.core.display.Javascript object>"
            ],
            "application/javascript": [
              "download(\"download_58466fe1-7a24-419f-a83b-fb29c745b189\", \"next_Word_16_Nov_v1.keras\", 23995073)"
            ]
          },
          "metadata": {}
        }
      ]
    },
    {
      "cell_type": "markdown",
      "source": [
        "Save the model"
      ],
      "metadata": {
        "id": "Buaiyj9z-Mc6"
      }
    },
    {
      "cell_type": "code",
      "source": [
        "#model.save('grp10_nextWord_1.keras')\n",
        "#with open('training_history.pickle', 'wb') as f:\n",
        "#    pickle.dump(history.history, f)\n",
        "pickle.dump(history, open(\"history.p\", \"wb\"))\n",
        "model = load_model('next_Word_16_Nov_v1.keras')\n",
        "history = pickle.load(open(\"history.p\", \"rb\"))"
      ],
      "metadata": {
        "id": "sUbTkWJn-LC1",
        "colab": {
          "base_uri": "https://localhost:8080/"
        },
        "outputId": "e4989622-49ca-4901-cdf7-ef5769acf1bc"
      },
      "execution_count": null,
      "outputs": [
        {
          "output_type": "stream",
          "name": "stderr",
          "text": [
            "/usr/local/lib/python3.10/dist-packages/keras/src/saving/saving_lib.py:713: UserWarning: Skipping variable loading for optimizer 'rmsprop', because it has 8 variables whereas the saved optimizer has 14 variables. \n",
            "  saveable.load_own_variables(weights_store.get(inner_path))\n"
          ]
        }
      ]
    },
    {
      "cell_type": "markdown",
      "source": [
        "# Evaluate the Next word Predition Model"
      ],
      "metadata": {
        "id": "bOV1rWI0fRdj"
      }
    },
    {
      "cell_type": "code",
      "source": [
        "plt.plot(history['accuracy'])\n",
        "plt.plot(history['val_accuracy'])\n",
        "plt.title('model accuracy')\n",
        "plt.ylabel('accuracy')\n",
        "plt.xlabel('epoch')\n",
        "plt.legend(['train', 'test'], loc='upper left')"
      ],
      "metadata": {
        "colab": {
          "base_uri": "https://localhost:8080/",
          "height": 489
        },
        "id": "CUstlqcefVg5",
        "outputId": "e979de3f-55ac-46c4-f71e-caa6ffdde871"
      },
      "execution_count": null,
      "outputs": [
        {
          "output_type": "execute_result",
          "data": {
            "text/plain": [
              "<matplotlib.legend.Legend at 0x7850d7e632b0>"
            ]
          },
          "metadata": {},
          "execution_count": 13
        },
        {
          "output_type": "display_data",
          "data": {
            "text/plain": [
              "<Figure size 640x480 with 1 Axes>"
            ],
            "image/png": "[encoded data removed]"
          },
          "metadata": {}
        }
      ]
    },
    {
      "cell_type": "code",
      "source": [
        "plt.plot(history['loss'])\n",
        "plt.plot(history['val_loss'])\n",
        "plt.title('model loss')\n",
        "plt.ylabel('loss')\n",
        "plt.xlabel('epoch')\n",
        "plt.legend(['train', 'test'], loc='upper left')"
      ],
      "metadata": {
        "colab": {
          "base_uri": "https://localhost:8080/",
          "height": 489
        },
        "id": "zTctihelrqLJ",
        "outputId": "e3669a5c-e8c2-48ee-87c7-f5f2ea9e3933"
      },
      "execution_count": null,
      "outputs": [
        {
          "output_type": "execute_result",
          "data": {
            "text/plain": [
              "<matplotlib.legend.Legend at 0x7850d4d6f0d0>"
            ]
          },
          "metadata": {},
          "execution_count": 14
        },
        {
          "output_type": "display_data",
          "data": {
            "text/plain": [
              "<Figure size 640x480 with 1 Axes>"
            ],
            "image/png": "[encoded data removed]"
          },
          "metadata": {}
        }
      ]
    },
    {
      "cell_type": "markdown",
      "source": [
        "# Test Next Word Prediction Model"
      ],
      "metadata": {
        "id": "33GwZ3u2rwBt"
      }
    },
    {
      "cell_type": "code",
      "source": [
        "#seed_text = \"she is incorrigible, and my\"\n",
        "#next_words = 3\n",
        "def predict_next_n_words(seed_text, next_words):\n",
        "    predicted_next_n_words = \"\"\n",
        "    for _ in range(next_words):\n",
        "        token_list = tokenizer.texts_to_sequences([seed_text])[0]\n",
        "        token_list = pad_sequences([token_list], maxlen=max_sequence_len-1, padding='pre')\n",
        "        preds = model.predict(token_list, verbose=0)\n",
        "        #print(preds[0][303])\n",
        "        #print(preds[0][304])\n",
        "        #print(\"preds\",preds)\n",
        "        #print(preds.shape)\n",
        "        predicted = np.argmax(preds, axis=-1)\n",
        "        index=predicted[0]\n",
        "        #print(predicted.shape)\n",
        "        #print(\"predicted\", predicted)\n",
        "\n",
        "        output_word = \"\"\n",
        "\n",
        "        # Get the word at the given index from the word_index\n",
        "        output_word=list(word_index.keys())[list(word_index.values()).index(index)]\n",
        "\n",
        "        # print(\"predicted\", output_word)\n",
        "        \"\"\"\n",
        "        for word, index in tokenizer.word_index.items():\n",
        "            print(\"word\",word)\n",
        "            print(\"index\",index)\n",
        "            if index == predicted:\n",
        "                output_word = word\n",
        "                break\n",
        "        \"\"\"\n",
        "        seed_text += \" \" + output_word\n",
        "        predicted_next_n_words += \" \" + output_word\n",
        "\n",
        "       #print(save_seed_text)\n",
        "        #print(output_word)\n",
        "    return predicted_next_n_words\n",
        "\n",
        "def predict_next_word_top_options(seed_text, num_words):\n",
        "    predicted_words = []\n",
        "    token_list = tokenizer.texts_to_sequences([seed_text])[0]\n",
        "    token_list = pad_sequences([token_list], maxlen=max_sequence_len-1, padding='pre')\n",
        "    preds = model.predict(token_list,verbose=0)[0]\n",
        "    # Get the indices of the  n largest elements from an iterable.\n",
        "    # find out the top predictions from preds\n",
        "    top_indices = heapq.nlargest(num_words, range(len(preds)), preds.take)\n",
        "    #print(top_indices)\n",
        "    # Get the corresponding words from the unique word index\n",
        "    predicted_words = [list(word_index.keys())[list(word_index.values()).index(i)] for i in top_indices]\n",
        "    return predicted_words\n",
        "\n",
        "\n",
        "seed_text = \"she is incorrigible, and my\"\n",
        "next_words = 5\n",
        "result = predict_next_n_words(seed_text, next_words)\n",
        "print(\"Seed Text: she is incorrigible, and my\")\n",
        "print(result)\n",
        "\n",
        "result = predict_next_word_top_options(seed_text, 5)\n",
        "print(result)"
      ],
      "metadata": {
        "id": "_kaNT2uur6kX",
        "colab": {
          "base_uri": "https://localhost:8080/"
        },
        "outputId": "3d49c798-393b-4f5e-c363-be66fa967bca"
      },
      "execution_count": null,
      "outputs": [
        {
          "output_type": "stream",
          "name": "stdout",
          "text": [
            "Seed Text: she is incorrigible, and my\n",
            " own man and the king\n",
            "['own', 'father', 'wife', 'face', 'eyes']\n"
          ]
        }
      ]
    },
    {
      "cell_type": "code",
      "source": [
        "\"\"\"\n",
        "quotes = [\n",
        "    \"she is incorrigible, and my\",\n",
        "    \"It is not a lack of love but a lack of friendship that makes unhappy marriages.\",\n",
        "    \"That which does not kill us makes us stronger.\",\n",
        "    \"I'm not upset that you lied to me, I'm upset that from now on I can't believe you.\",\n",
        "    \"And those who were seen dancing were thought to be insane by those who could not hear the music.\",\n",
        "    \"It is hard enough to remember my opinions, without also remembering my reasons for them!\"\n",
        "]\n",
        "\"\"\"\n",
        "quotes = [\n",
        "    \"she is incorrigible, and my\",\n",
        "    \"It is not a lack of love but a lack of friendship\",\n",
        "    \"That which does not kill us makes \",\n",
        "    \"I'm not upset that you lied to me, I'm upset that from\",\n",
        "    \"And those who were seen dancing were thought to be insane\",\n",
        "    \"It is hard enough to remember my opinions, without\"\n",
        "]\n",
        "print(\"***** NEXT 5 WORDS *****\")\n",
        "for q in quotes:\n",
        "\n",
        "    if(len(q)>1000):\n",
        "        seq = q[:40].lower()\n",
        "    else:\n",
        "        seq = q.lower()\n",
        "\n",
        "    predicted_words = predict_next_n_words(seq,5)\n",
        "    print(f\"Input Text: {seq}\")\n",
        "    print(f\"Predicted Next Words: {predicted_words}\\n\")\n",
        "\n",
        "print(\"***** ***** ***** *****\")\n",
        "\n",
        "print(\"***** NEXT WORD OPTIONS *****\")\n",
        "for q in quotes:\n",
        "    if(len(q)>1000):\n",
        "        seq = q[:40].lower()\n",
        "    else:\n",
        "        seq = q.lower()\n",
        "    predicted_words = predict_next_word_top_options(seq,5)\n",
        "    print(f\"Input Text: {seq}\")\n",
        "    print(f\"Predicted Next Words: {predicted_words}\\n\")\n",
        "\n",
        "print(\"***** ***** ***** *****\")"
      ],
      "metadata": {
        "colab": {
          "base_uri": "https://localhost:8080/"
        },
        "id": "nGYRCP462KJd",
        "outputId": "fcfd68f8-fcb1-4f58-df61-b582b18faca0"
      },
      "execution_count": null,
      "outputs": [
        {
          "output_type": "stream",
          "name": "stdout",
          "text": [
            "***** NEXT 5 WORDS *****\n",
            "Input Text: she is incorrigible, and my\n",
            "Predicted Next Words:  own man and the king\n",
            "\n",
            "Input Text: it is not a lack of love but a lack of friendship\n",
            "Predicted Next Words:  the key in the bell\n",
            "\n",
            "Input Text: that which does not kill us makes \n",
            "Predicted Next Words:  a little country looking of\n",
            "\n",
            "Input Text: i'm not upset that you lied to me, i'm upset that from\n",
            "Predicted Next Words:  the matter ” said holmes\n",
            "\n",
            "Input Text: and those who were seen dancing were thought to be insane\n",
            "Predicted Next Words:  the main other idler who\n",
            "\n",
            "Input Text: it is hard enough to remember my opinions, without\n",
            "Predicted Next Words:  grass which he had been\n",
            "\n",
            "***** ***** ***** *****\n",
            "***** NEXT WORD OPTIONS *****\n",
            "Input Text: she is incorrigible, and my\n",
            "Predicted Next Words: ['own', 'father', 'wife', 'face', 'eyes']\n",
            "\n",
            "Input Text: it is not a lack of love but a lack of friendship\n",
            "Predicted Next Words: ['the', 'silence', 'round', 'my', 'immediately']\n",
            "\n",
            "Input Text: that which does not kill us makes \n",
            "Predicted Next Words: ['a', 'the', 'to', 'my', 'me']\n",
            "\n",
            "Input Text: i'm not upset that you lied to me, i'm upset that from\n",
            "Predicted Next Words: ['the', 'his', 'home', 'him', 'my']\n",
            "\n",
            "Input Text: and those who were seen dancing were thought to be insane\n",
            "Predicted Next Words: ['the', 'a', 'in', 'some', 'upon']\n",
            "\n",
            "Input Text: it is hard enough to remember my opinions, without\n",
            "Predicted Next Words: ['grass', 'of', 'looking', 'ball', 'one']\n",
            "\n",
            "***** ***** ***** *****\n"
          ]
        }
      ]
    }
  ]
}