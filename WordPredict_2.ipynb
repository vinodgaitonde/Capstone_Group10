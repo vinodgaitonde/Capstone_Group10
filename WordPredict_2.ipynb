{
  "nbformat": 4,
  "nbformat_minor": 0,
  "metadata": {
    "colab": {
      "provenance": [],
      "gpuType": "T4",
      "toc_visible": true,
      "authorship_tag": "ABX9TyPHdFRBnl8rvDAvOfyjlVIr",
      "include_colab_link": true
    },
    "kernelspec": {
      "name": "python3",
      "display_name": "Python 3"
    },
    "language_info": {
      "name": "python"
    },
    "accelerator": "GPU"
  },
  "cells": [
    {
      "cell_type": "markdown",
      "metadata": {
        "id": "view-in-github",
        "colab_type": "text"
      },
      "source": [
        "<a href=\"https://colab.research.google.com/github/vinodgaitonde/ProjIdeas/blob/main/WordPredict_2.ipynb\" target=\"_parent\"><img src=\"https://colab.research.google.com/assets/colab-badge.svg\" alt=\"Open In Colab\"/></a>"
      ]
    },
    {
      "cell_type": "markdown",
      "source": [
        "# Import Required packages"
      ],
      "metadata": {
        "id": "4qFJycWLsshL"
      }
    },
    {
      "cell_type": "code",
      "source": [
        "from keras.models import Sequential\n",
        "from keras.layers import Dense, Dropout, LSTM\n",
        "from keras.optimizers import RMSprop\n",
        "import numpy as np\n",
        "import random\n",
        "import sys"
      ],
      "metadata": {
        "id": "QBu203n0szjD"
      },
      "execution_count": 3,
      "outputs": []
    },
    {
      "cell_type": "markdown",
      "source": [
        "Load Text"
      ],
      "metadata": {
        "id": "r4xs28pKs-rT"
      }
    },
    {
      "cell_type": "code",
      "source": [
        "filename = \"./sample_data/junglebook.txt\"\n",
        "raw_text = open(filename, 'r', encoding='utf-8').read()\n",
        "raw_text = raw_text.lower()\n",
        "print('corpus length:', len(raw_text))\n",
        "print(raw_text[0:100])"
      ],
      "metadata": {
        "colab": {
          "base_uri": "https://localhost:8080/"
        },
        "id": "bIQ2E5q-tDiT",
        "outputId": "4f1ffcb0-9485-4955-c47c-83f371a14e8f"
      },
      "execution_count": 4,
      "outputs": [
        {
          "output_type": "stream",
          "name": "stdout",
          "text": [
            "corpus length: 305345\n",
            "the project gutenberg ebook of the jungle book\n",
            "    \n",
            "this ebook is for the use of anyone anywhere in \n"
          ]
        }
      ]
    },
    {
      "cell_type": "markdown",
      "source": [
        "# Data Preparation - Clean text"
      ],
      "metadata": {
        "id": "4mhFrPf_trsx"
      }
    },
    {
      "cell_type": "code",
      "source": [
        "raw_text = ''.join(c for c in raw_text if not c.isdigit())"
      ],
      "metadata": {
        "id": "27dBdCpltwUR"
      },
      "execution_count": 5,
      "outputs": []
    },
    {
      "cell_type": "code",
      "source": [
        "#How many total characters do we have in our training text?\n",
        "chars = sorted(list(set(raw_text))) #List of every character\n",
        "print('total chars:', len(chars))"
      ],
      "metadata": {
        "colab": {
          "base_uri": "https://localhost:8080/"
        },
        "id": "lCUftN1_t4Rs",
        "outputId": "835ad3b3-eea6-4cdc-ee88-a48a2c672e4d"
      },
      "execution_count": 6,
      "outputs": [
        {
          "output_type": "stream",
          "name": "stdout",
          "text": [
            "total chars: 57\n"
          ]
        }
      ]
    },
    {
      "cell_type": "code",
      "source": [
        "#Character sequences must be encoded as integers.\n",
        "#Each unique character will be assigned an integer value.\n",
        "#Create a dictionary of characters mapped to integer values\n",
        "char_to_int = dict((c, i) for i, c in enumerate(chars))"
      ],
      "metadata": {
        "id": "A2877gBeuP_0"
      },
      "execution_count": 7,
      "outputs": []
    },
    {
      "cell_type": "code",
      "source": [
        "#Do the reverse so we can print our predictions in characters and not integers\n",
        "int_to_char = dict((i, c) for i, c in enumerate(chars))"
      ],
      "metadata": {
        "id": "02V82WFTuXL0"
      },
      "execution_count": 8,
      "outputs": []
    },
    {
      "cell_type": "markdown",
      "source": [
        "Summarize the data"
      ],
      "metadata": {
        "id": "qqgDgbg5uaMg"
      }
    },
    {
      "cell_type": "code",
      "source": [
        "n_chars = len(raw_text)\n",
        "n_vocab = len(chars)\n",
        "print(\"Total Characters in the text; corpus length: \", n_chars)\n",
        "print(\"Total Vocab: \", n_vocab)"
      ],
      "metadata": {
        "colab": {
          "base_uri": "https://localhost:8080/"
        },
        "id": "Twxrb6SGuc-B",
        "outputId": "a2cf52ed-3ce0-4526-fddc-e10a9748f8e2"
      },
      "execution_count": 9,
      "outputs": [
        {
          "output_type": "stream",
          "name": "stdout",
          "text": [
            "Total Characters in the text; corpus length:  305014\n",
            "Total Vocab:  57\n"
          ]
        }
      ]
    },
    {
      "cell_type": "markdown",
      "source": [
        "Create Input/Output sequence for training"
      ],
      "metadata": {
        "id": "3pc02kcS-N5W"
      }
    },
    {
      "cell_type": "code",
      "source": [
        "seq_length = 60  #Length of each input sequence\n",
        "step = 10   #Instead of moving 1 letter at a time, try skipping a few.\n",
        "sentences = []    # X values (Sentences)\n",
        "next_chars = []   # Y values. The character that follows the sentence defined as X\n",
        "for i in range(0, n_chars - seq_length, step):  #step=1 means each sentence is offset just by a single letter\n",
        "    sentences.append(raw_text[i: i + seq_length])  #Sequence in\n",
        "    next_chars.append(raw_text[i + seq_length])  #Sequence out\n",
        "n_patterns = len(sentences)\n",
        "print('Number of sequences:', n_patterns)"
      ],
      "metadata": {
        "colab": {
          "base_uri": "https://localhost:8080/"
        },
        "id": "mx1sB_QJ-TuV",
        "outputId": "cad3ded7-c20b-47d5-9e7c-1eab9ba4afc4"
      },
      "execution_count": 10,
      "outputs": [
        {
          "output_type": "stream",
          "name": "stdout",
          "text": [
            "Number of sequences: 30496\n"
          ]
        }
      ]
    },
    {
      "cell_type": "code",
      "source": [
        "x = np.zeros((len(sentences), seq_length, n_vocab), dtype=bool)\n",
        "y = np.zeros((len(sentences), n_vocab), dtype=bool)\n",
        "for i, sentence in enumerate(sentences):\n",
        "    for t, char in enumerate(sentence):\n",
        "        x[i, t, char_to_int[char]] = 1\n",
        "    y[i, char_to_int[next_chars[i]]] = 1\n",
        "\n",
        "print(x.shape)\n",
        "print(y.shape)\n",
        "\n",
        "print(y[0:10])"
      ],
      "metadata": {
        "colab": {
          "base_uri": "https://localhost:8080/"
        },
        "id": "Ou0TwYtR-cM1",
        "outputId": "670e7ec0-cd45-47a7-a8ed-ea50bd947c96"
      },
      "execution_count": 11,
      "outputs": [
        {
          "output_type": "stream",
          "name": "stdout",
          "text": [
            "(30496, 60, 57)\n",
            "(30496, 57)\n",
            "[[False False False False False False False False False False False False\n",
            "  False False False False False False False False False False False False\n",
            "  False False False False False False False False False False False  True\n",
            "  False False False False False False False False False False False False\n",
            "  False False False False False False False False False]\n",
            " [False False False False False False False False False False False False\n",
            "  False False False False False False False False False False False False\n",
            "  False False False False False False False False False False False False\n",
            "  False False False False  True False False False False False False False\n",
            "  False False False False False False False False False]\n",
            " [False  True False False False False False False False False False False\n",
            "  False False False False False False False False False False False False\n",
            "  False False False False False False False False False False False False\n",
            "  False False False False False False False False False False False False\n",
            "  False False False False False False False False False]\n",
            " [False False False False False False False False False False False False\n",
            "  False False False False False False False False False False False False\n",
            "  False False False False False False False False False False False False\n",
            "  False False False False False False False False False  True False False\n",
            "  False False False False False False False False False]\n",
            " [False False False False False False False False False False False False\n",
            "  False False False False False False False False False False False False\n",
            "  False False False False False False False False False False False False\n",
            "  False False False False  True False False False False False False False\n",
            "  False False False False False False False False False]\n",
            " [False  True False False False False False False False False False False\n",
            "  False False False False False False False False False False False False\n",
            "  False False False False False False False False False False False False\n",
            "  False False False False False False False False False False False False\n",
            "  False False False False False False False False False]\n",
            " [False False False False False False False False False False False False\n",
            "  False False False False False False False False False False False False\n",
            "   True False False False False False False False False False False False\n",
            "  False False False False False False False False False False False False\n",
            "  False False False False False False False False False]\n",
            " [False False False False False False False False False False False False\n",
            "  False False False False False False False False False False False False\n",
            "  False  True False False False False False False False False False False\n",
            "  False False False False False False False False False False False False\n",
            "  False False False False False False False False False]\n",
            " [False False False False False False False False False False False False\n",
            "  False False False False False False False False False False False False\n",
            "  False False  True False False False False False False False False False\n",
            "  False False False False False False False False False False False False\n",
            "  False False False False False False False False False]\n",
            " [False False False False False False False False False False False False\n",
            "  False False False False False False False False False False False False\n",
            "   True False False False False False False False False False False False\n",
            "  False False False False False False False False False False False False\n",
            "  False False False False False False False False False]]\n"
          ]
        }
      ]
    },
    {
      "cell_type": "markdown",
      "source": [
        "#Basic model with one LSTM"
      ],
      "metadata": {
        "id": "Wo_GajVWBOSB"
      }
    },
    {
      "cell_type": "code",
      "source": [
        "model = Sequential()\n",
        "model.add(LSTM(128, input_shape=(seq_length, n_vocab)))\n",
        "model.add(Dense(n_vocab, activation='softmax'))\n",
        "\n",
        "optimizer = RMSprop(learning_rate=0.01)\n",
        "model.compile(loss='categorical_crossentropy', optimizer=optimizer, metrics = [\"accuracy\"])\n",
        "model.summary()"
      ],
      "metadata": {
        "colab": {
          "base_uri": "https://localhost:8080/",
          "height": 259
        },
        "id": "mHUw9s6RBPxf",
        "outputId": "5460e30c-6ec3-410e-a4d3-16ee3de39ca8"
      },
      "execution_count": 12,
      "outputs": [
        {
          "output_type": "stream",
          "name": "stderr",
          "text": [
            "/usr/local/lib/python3.10/dist-packages/keras/src/layers/rnn/rnn.py:204: UserWarning: Do not pass an `input_shape`/`input_dim` argument to a layer. When using Sequential models, prefer using an `Input(shape)` object as the first layer in the model instead.\n",
            "  super().__init__(**kwargs)\n"
          ]
        },
        {
          "output_type": "display_data",
          "data": {
            "text/plain": [
              "\u001b[1mModel: \"sequential\"\u001b[0m\n"
            ],
            "text/html": [
              "<pre style=\"white-space:pre;overflow-x:auto;line-height:normal;font-family:Menlo,'DejaVu Sans Mono',consolas,'Courier New',monospace\"><span style=\"font-weight: bold\">Model: \"sequential\"</span>\n",
              "</pre>\n"
            ]
          },
          "metadata": {}
        },
        {
          "output_type": "display_data",
          "data": {
            "text/plain": [
              "┏━━━━━━━━━━━━━━━━━━━━━━━━━━━━━━━━━━━━━━┳━━━━━━━━━━━━━━━━━━━━━━━━━━━━━┳━━━━━━━━━━━━━━━━━┓\n",
              "┃\u001b[1m \u001b[0m\u001b[1mLayer (type)                        \u001b[0m\u001b[1m \u001b[0m┃\u001b[1m \u001b[0m\u001b[1mOutput Shape               \u001b[0m\u001b[1m \u001b[0m┃\u001b[1m \u001b[0m\u001b[1m        Param #\u001b[0m\u001b[1m \u001b[0m┃\n",
              "┡━━━━━━━━━━━━━━━━━━━━━━━━━━━━━━━━━━━━━━╇━━━━━━━━━━━━━━━━━━━━━━━━━━━━━╇━━━━━━━━━━━━━━━━━┩\n",
              "│ lstm (\u001b[38;5;33mLSTM\u001b[0m)                          │ (\u001b[38;5;45mNone\u001b[0m, \u001b[38;5;34m128\u001b[0m)                 │          \u001b[38;5;34m95,232\u001b[0m │\n",
              "├──────────────────────────────────────┼─────────────────────────────┼─────────────────┤\n",
              "│ dense (\u001b[38;5;33mDense\u001b[0m)                        │ (\u001b[38;5;45mNone\u001b[0m, \u001b[38;5;34m57\u001b[0m)                  │           \u001b[38;5;34m7,353\u001b[0m │\n",
              "└──────────────────────────────────────┴─────────────────────────────┴─────────────────┘\n"
            ],
            "text/html": [
              "<pre style=\"white-space:pre;overflow-x:auto;line-height:normal;font-family:Menlo,'DejaVu Sans Mono',consolas,'Courier New',monospace\">┏━━━━━━━━━━━━━━━━━━━━━━━━━━━━━━━━━━━━━━┳━━━━━━━━━━━━━━━━━━━━━━━━━━━━━┳━━━━━━━━━━━━━━━━━┓\n",
              "┃<span style=\"font-weight: bold\"> Layer (type)                         </span>┃<span style=\"font-weight: bold\"> Output Shape                </span>┃<span style=\"font-weight: bold\">         Param # </span>┃\n",
              "┡━━━━━━━━━━━━━━━━━━━━━━━━━━━━━━━━━━━━━━╇━━━━━━━━━━━━━━━━━━━━━━━━━━━━━╇━━━━━━━━━━━━━━━━━┩\n",
              "│ lstm (<span style=\"color: #0087ff; text-decoration-color: #0087ff\">LSTM</span>)                          │ (<span style=\"color: #00d7ff; text-decoration-color: #00d7ff\">None</span>, <span style=\"color: #00af00; text-decoration-color: #00af00\">128</span>)                 │          <span style=\"color: #00af00; text-decoration-color: #00af00\">95,232</span> │\n",
              "├──────────────────────────────────────┼─────────────────────────────┼─────────────────┤\n",
              "│ dense (<span style=\"color: #0087ff; text-decoration-color: #0087ff\">Dense</span>)                        │ (<span style=\"color: #00d7ff; text-decoration-color: #00d7ff\">None</span>, <span style=\"color: #00af00; text-decoration-color: #00af00\">57</span>)                  │           <span style=\"color: #00af00; text-decoration-color: #00af00\">7,353</span> │\n",
              "└──────────────────────────────────────┴─────────────────────────────┴─────────────────┘\n",
              "</pre>\n"
            ]
          },
          "metadata": {}
        },
        {
          "output_type": "display_data",
          "data": {
            "text/plain": [
              "\u001b[1m Total params: \u001b[0m\u001b[38;5;34m102,585\u001b[0m (400.72 KB)\n"
            ],
            "text/html": [
              "<pre style=\"white-space:pre;overflow-x:auto;line-height:normal;font-family:Menlo,'DejaVu Sans Mono',consolas,'Courier New',monospace\"><span style=\"font-weight: bold\"> Total params: </span><span style=\"color: #00af00; text-decoration-color: #00af00\">102,585</span> (400.72 KB)\n",
              "</pre>\n"
            ]
          },
          "metadata": {}
        },
        {
          "output_type": "display_data",
          "data": {
            "text/plain": [
              "\u001b[1m Trainable params: \u001b[0m\u001b[38;5;34m102,585\u001b[0m (400.72 KB)\n"
            ],
            "text/html": [
              "<pre style=\"white-space:pre;overflow-x:auto;line-height:normal;font-family:Menlo,'DejaVu Sans Mono',consolas,'Courier New',monospace\"><span style=\"font-weight: bold\"> Trainable params: </span><span style=\"color: #00af00; text-decoration-color: #00af00\">102,585</span> (400.72 KB)\n",
              "</pre>\n"
            ]
          },
          "metadata": {}
        },
        {
          "output_type": "display_data",
          "data": {
            "text/plain": [
              "\u001b[1m Non-trainable params: \u001b[0m\u001b[38;5;34m0\u001b[0m (0.00 B)\n"
            ],
            "text/html": [
              "<pre style=\"white-space:pre;overflow-x:auto;line-height:normal;font-family:Menlo,'DejaVu Sans Mono',consolas,'Courier New',monospace\"><span style=\"font-weight: bold\"> Non-trainable params: </span><span style=\"color: #00af00; text-decoration-color: #00af00\">0</span> (0.00 B)\n",
              "</pre>\n"
            ]
          },
          "metadata": {}
        }
      ]
    },
    {
      "cell_type": "markdown",
      "source": [
        "# define the checkpoint"
      ],
      "metadata": {
        "id": "fg4yCXGUBydv"
      }
    },
    {
      "cell_type": "code",
      "source": [
        "from keras.callbacks import ModelCheckpoint\n",
        "\n",
        "filepath=\"saved_weights/saved_weights-{epoch:02d}-{loss:.4f}.keras\"\n",
        "checkpoint = ModelCheckpoint(filepath, monitor='loss', verbose=1, save_best_only=True, mode='min')\n",
        "\n",
        "callbacks_list = [checkpoint]"
      ],
      "metadata": {
        "id": "I8PcmgJzBzt_"
      },
      "execution_count": 13,
      "outputs": []
    },
    {
      "cell_type": "markdown",
      "source": [
        "# Fit the model"
      ],
      "metadata": {
        "id": "lxn15xK4CclW"
      }
    },
    {
      "cell_type": "code",
      "source": [
        "history = model.fit(x, y,\n",
        "          batch_size=128,\n",
        "          epochs=50,\n",
        "          validation_split=0.2,\n",
        "          callbacks=callbacks_list)\n",
        "\n",
        "model.save('my_saved_weights_book_50epochs.keras')"
      ],
      "metadata": {
        "colab": {
          "base_uri": "https://localhost:8080/"
        },
        "id": "aCAvE_oBCdd9",
        "outputId": "b8aae44c-3e00-44d3-da67-44da404d1438"
      },
      "execution_count": 14,
      "outputs": [
        {
          "output_type": "stream",
          "name": "stdout",
          "text": [
            "Epoch 1/50\n",
            "\u001b[1m188/191\u001b[0m \u001b[32m━━━━━━━━━━━━━━━━━━━\u001b[0m\u001b[37m━\u001b[0m \u001b[1m0s\u001b[0m 9ms/step - accuracy: 0.2128 - loss: 2.9121\n",
            "Epoch 1: loss improved from inf to 2.62072, saving model to saved_weights/saved_weights-01-2.6207.keras\n",
            "\u001b[1m191/191\u001b[0m \u001b[32m━━━━━━━━━━━━━━━━━━━━\u001b[0m\u001b[37m\u001b[0m \u001b[1m4s\u001b[0m 12ms/step - accuracy: 0.2141 - loss: 2.9061 - val_accuracy: 0.3056 - val_loss: 2.4705\n",
            "Epoch 2/50\n",
            "\u001b[1m185/191\u001b[0m \u001b[32m━━━━━━━━━━━━━━━━━━━\u001b[0m\u001b[37m━\u001b[0m \u001b[1m0s\u001b[0m 7ms/step - accuracy: 0.3729 - loss: 2.1864\n",
            "Epoch 2: loss improved from 2.62072 to 2.13113, saving model to saved_weights/saved_weights-02-2.1311.keras\n",
            "\u001b[1m191/191\u001b[0m \u001b[32m━━━━━━━━━━━━━━━━━━━━\u001b[0m\u001b[37m\u001b[0m \u001b[1m1s\u001b[0m 8ms/step - accuracy: 0.3734 - loss: 2.1844 - val_accuracy: 0.3562 - val_loss: 2.2894\n",
            "Epoch 3/50\n",
            "\u001b[1m190/191\u001b[0m \u001b[32m━━━━━━━━━━━━━━━━━━━\u001b[0m\u001b[37m━\u001b[0m \u001b[1m0s\u001b[0m 6ms/step - accuracy: 0.4428 - loss: 1.9445\n",
            "Epoch 3: loss improved from 2.13113 to 1.92268, saving model to saved_weights/saved_weights-03-1.9227.keras\n",
            "\u001b[1m191/191\u001b[0m \u001b[32m━━━━━━━━━━━━━━━━━━━━\u001b[0m\u001b[37m\u001b[0m \u001b[1m2s\u001b[0m 8ms/step - accuracy: 0.4429 - loss: 1.9442 - val_accuracy: 0.3846 - val_loss: 2.2171\n",
            "Epoch 4/50\n",
            "\u001b[1m182/191\u001b[0m \u001b[32m━━━━━━━━━━━━━━━━━━━\u001b[0m\u001b[37m━\u001b[0m \u001b[1m0s\u001b[0m 6ms/step - accuracy: 0.4770 - loss: 1.7985\n",
            "Epoch 4: loss improved from 1.92268 to 1.78457, saving model to saved_weights/saved_weights-04-1.7846.keras\n",
            "\u001b[1m191/191\u001b[0m \u001b[32m━━━━━━━━━━━━━━━━━━━━\u001b[0m\u001b[37m\u001b[0m \u001b[1m1s\u001b[0m 8ms/step - accuracy: 0.4773 - loss: 1.7977 - val_accuracy: 0.3987 - val_loss: 2.1653\n",
            "Epoch 5/50\n",
            "\u001b[1m189/191\u001b[0m \u001b[32m━━━━━━━━━━━━━━━━━━━\u001b[0m\u001b[37m━\u001b[0m \u001b[1m0s\u001b[0m 6ms/step - accuracy: 0.5061 - loss: 1.6729\n",
            "Epoch 5: loss improved from 1.78457 to 1.66476, saving model to saved_weights/saved_weights-05-1.6648.keras\n",
            "\u001b[1m191/191\u001b[0m \u001b[32m━━━━━━━━━━━━━━━━━━━━\u001b[0m\u001b[37m\u001b[0m \u001b[1m3s\u001b[0m 7ms/step - accuracy: 0.5062 - loss: 1.6727 - val_accuracy: 0.3974 - val_loss: 2.1941\n",
            "Epoch 6/50\n",
            "\u001b[1m185/191\u001b[0m \u001b[32m━━━━━━━━━━━━━━━━━━━\u001b[0m\u001b[37m━\u001b[0m \u001b[1m0s\u001b[0m 7ms/step - accuracy: 0.5365 - loss: 1.5501\n",
            "Epoch 6: loss improved from 1.66476 to 1.56015, saving model to saved_weights/saved_weights-06-1.5601.keras\n",
            "\u001b[1m191/191\u001b[0m \u001b[32m━━━━━━━━━━━━━━━━━━━━\u001b[0m\u001b[37m\u001b[0m \u001b[1m3s\u001b[0m 9ms/step - accuracy: 0.5365 - loss: 1.5505 - val_accuracy: 0.4084 - val_loss: 2.1718\n",
            "Epoch 7/50\n",
            "\u001b[1m183/191\u001b[0m \u001b[32m━━━━━━━━━━━━━━━━━━━\u001b[0m\u001b[37m━\u001b[0m \u001b[1m0s\u001b[0m 6ms/step - accuracy: 0.5697 - loss: 1.4314\n",
            "Epoch 7: loss improved from 1.56015 to 1.45347, saving model to saved_weights/saved_weights-07-1.4535.keras\n",
            "\u001b[1m191/191\u001b[0m \u001b[32m━━━━━━━━━━━━━━━━━━━━\u001b[0m\u001b[37m\u001b[0m \u001b[1m2s\u001b[0m 7ms/step - accuracy: 0.5695 - loss: 1.4324 - val_accuracy: 0.4067 - val_loss: 2.2310\n",
            "Epoch 8/50\n",
            "\u001b[1m187/191\u001b[0m \u001b[32m━━━━━━━━━━━━━━━━━━━\u001b[0m\u001b[37m━\u001b[0m \u001b[1m0s\u001b[0m 7ms/step - accuracy: 0.6004 - loss: 1.3248\n",
            "Epoch 8: loss improved from 1.45347 to 1.35845, saving model to saved_weights/saved_weights-08-1.3584.keras\n",
            "\u001b[1m191/191\u001b[0m \u001b[32m━━━━━━━━━━━━━━━━━━━━\u001b[0m\u001b[37m\u001b[0m \u001b[1m3s\u001b[0m 8ms/step - accuracy: 0.6001 - loss: 1.3257 - val_accuracy: 0.4118 - val_loss: 2.2862\n",
            "Epoch 9/50\n",
            "\u001b[1m187/191\u001b[0m \u001b[32m━━━━━━━━━━━━━━━━━━━\u001b[0m\u001b[37m━\u001b[0m \u001b[1m0s\u001b[0m 6ms/step - accuracy: 0.6235 - loss: 1.2390\n",
            "Epoch 9: loss improved from 1.35845 to 1.26924, saving model to saved_weights/saved_weights-09-1.2692.keras\n",
            "\u001b[1m191/191\u001b[0m \u001b[32m━━━━━━━━━━━━━━━━━━━━\u001b[0m\u001b[37m\u001b[0m \u001b[1m3s\u001b[0m 8ms/step - accuracy: 0.6232 - loss: 1.2398 - val_accuracy: 0.4084 - val_loss: 2.3081\n",
            "Epoch 10/50\n",
            "\u001b[1m191/191\u001b[0m \u001b[32m━━━━━━━━━━━━━━━━━━━━\u001b[0m\u001b[37m\u001b[0m \u001b[1m0s\u001b[0m 6ms/step - accuracy: 0.6466 - loss: 1.1523\n",
            "Epoch 10: loss improved from 1.26924 to 1.18650, saving model to saved_weights/saved_weights-10-1.1865.keras\n",
            "\u001b[1m191/191\u001b[0m \u001b[32m━━━━━━━━━━━━━━━━━━━━\u001b[0m\u001b[37m\u001b[0m \u001b[1m1s\u001b[0m 7ms/step - accuracy: 0.6465 - loss: 1.1525 - val_accuracy: 0.4052 - val_loss: 2.4033\n",
            "Epoch 11/50\n",
            "\u001b[1m186/191\u001b[0m \u001b[32m━━━━━━━━━━━━━━━━━━━\u001b[0m\u001b[37m━\u001b[0m \u001b[1m0s\u001b[0m 6ms/step - accuracy: 0.6778 - loss: 1.0599\n",
            "Epoch 11: loss improved from 1.18650 to 1.11548, saving model to saved_weights/saved_weights-11-1.1155.keras\n",
            "\u001b[1m191/191\u001b[0m \u001b[32m━━━━━━━━━━━━━━━━━━━━\u001b[0m\u001b[37m\u001b[0m \u001b[1m3s\u001b[0m 8ms/step - accuracy: 0.6773 - loss: 1.0616 - val_accuracy: 0.3908 - val_loss: 2.4707\n",
            "Epoch 12/50\n",
            "\u001b[1m186/191\u001b[0m \u001b[32m━━━━━━━━━━━━━━━━━━━\u001b[0m\u001b[37m━\u001b[0m \u001b[1m0s\u001b[0m 9ms/step - accuracy: 0.6922 - loss: 1.0120\n",
            "Epoch 12: loss improved from 1.11548 to 1.06593, saving model to saved_weights/saved_weights-12-1.0659.keras\n",
            "\u001b[1m191/191\u001b[0m \u001b[32m━━━━━━━━━━━━━━━━━━━━\u001b[0m\u001b[37m\u001b[0m \u001b[1m2s\u001b[0m 10ms/step - accuracy: 0.6916 - loss: 1.0137 - val_accuracy: 0.3861 - val_loss: 2.5337\n",
            "Epoch 13/50\n",
            "\u001b[1m183/191\u001b[0m \u001b[32m━━━━━━━━━━━━━━━━━━━\u001b[0m\u001b[37m━\u001b[0m \u001b[1m0s\u001b[0m 7ms/step - accuracy: 0.7045 - loss: 0.9559\n",
            "Epoch 13: loss improved from 1.06593 to 1.01901, saving model to saved_weights/saved_weights-13-1.0190.keras\n",
            "\u001b[1m191/191\u001b[0m \u001b[32m━━━━━━━━━━━━━━━━━━━━\u001b[0m\u001b[37m\u001b[0m \u001b[1m2s\u001b[0m 8ms/step - accuracy: 0.7035 - loss: 0.9588 - val_accuracy: 0.3908 - val_loss: 2.5352\n",
            "Epoch 14/50\n",
            "\u001b[1m184/191\u001b[0m \u001b[32m━━━━━━━━━━━━━━━━━━━\u001b[0m\u001b[37m━\u001b[0m \u001b[1m0s\u001b[0m 6ms/step - accuracy: 0.7106 - loss: 0.9353\n",
            "Epoch 14: loss improved from 1.01901 to 0.98297, saving model to saved_weights/saved_weights-14-0.9830.keras\n",
            "\u001b[1m191/191\u001b[0m \u001b[32m━━━━━━━━━━━━━━━━━━━━\u001b[0m\u001b[37m\u001b[0m \u001b[1m3s\u001b[0m 8ms/step - accuracy: 0.7100 - loss: 0.9373 - val_accuracy: 0.3905 - val_loss: 2.6232\n",
            "Epoch 15/50\n",
            "\u001b[1m190/191\u001b[0m \u001b[32m━━━━━━━━━━━━━━━━━━━\u001b[0m\u001b[37m━\u001b[0m \u001b[1m0s\u001b[0m 7ms/step - accuracy: 0.7222 - loss: 0.8929\n",
            "Epoch 15: loss improved from 0.98297 to 0.94907, saving model to saved_weights/saved_weights-15-0.9491.keras\n",
            "\u001b[1m191/191\u001b[0m \u001b[32m━━━━━━━━━━━━━━━━━━━━\u001b[0m\u001b[37m\u001b[0m \u001b[1m2s\u001b[0m 8ms/step - accuracy: 0.7220 - loss: 0.8935 - val_accuracy: 0.3862 - val_loss: 2.7234\n",
            "Epoch 16/50\n",
            "\u001b[1m184/191\u001b[0m \u001b[32m━━━━━━━━━━━━━━━━━━━\u001b[0m\u001b[37m━\u001b[0m \u001b[1m0s\u001b[0m 6ms/step - accuracy: 0.7237 - loss: 0.8793\n",
            "Epoch 16: loss improved from 0.94907 to 0.92032, saving model to saved_weights/saved_weights-16-0.9203.keras\n",
            "\u001b[1m191/191\u001b[0m \u001b[32m━━━━━━━━━━━━━━━━━━━━\u001b[0m\u001b[37m\u001b[0m \u001b[1m2s\u001b[0m 7ms/step - accuracy: 0.7232 - loss: 0.8810 - val_accuracy: 0.3907 - val_loss: 2.7298\n",
            "Epoch 17/50\n",
            "\u001b[1m185/191\u001b[0m \u001b[32m━━━━━━━━━━━━━━━━━━━\u001b[0m\u001b[37m━\u001b[0m \u001b[1m0s\u001b[0m 6ms/step - accuracy: 0.7401 - loss: 0.8327\n",
            "Epoch 17: loss improved from 0.92032 to 0.89610, saving model to saved_weights/saved_weights-17-0.8961.keras\n",
            "\u001b[1m191/191\u001b[0m \u001b[32m━━━━━━━━━━━━━━━━━━━━\u001b[0m\u001b[37m\u001b[0m \u001b[1m1s\u001b[0m 7ms/step - accuracy: 0.7393 - loss: 0.8350 - val_accuracy: 0.3892 - val_loss: 2.7294\n",
            "Epoch 18/50\n",
            "\u001b[1m187/191\u001b[0m \u001b[32m━━━━━━━━━━━━━━━━━━━\u001b[0m\u001b[37m━\u001b[0m \u001b[1m0s\u001b[0m 7ms/step - accuracy: 0.7500 - loss: 0.8078\n",
            "Epoch 18: loss improved from 0.89610 to 0.87279, saving model to saved_weights/saved_weights-18-0.8728.keras\n",
            "\u001b[1m191/191\u001b[0m \u001b[32m━━━━━━━━━━━━━━━━━━━━\u001b[0m\u001b[37m\u001b[0m \u001b[1m2s\u001b[0m 9ms/step - accuracy: 0.7493 - loss: 0.8095 - val_accuracy: 0.3864 - val_loss: 2.8097\n",
            "Epoch 19/50\n",
            "\u001b[1m191/191\u001b[0m \u001b[32m━━━━━━━━━━━━━━━━━━━━\u001b[0m\u001b[37m\u001b[0m \u001b[1m0s\u001b[0m 9ms/step - accuracy: 0.7529 - loss: 0.7928\n",
            "Epoch 19: loss improved from 0.87279 to 0.85341, saving model to saved_weights/saved_weights-19-0.8534.keras\n",
            "\u001b[1m191/191\u001b[0m \u001b[32m━━━━━━━━━━━━━━━━━━━━\u001b[0m\u001b[37m\u001b[0m \u001b[1m2s\u001b[0m 11ms/step - accuracy: 0.7528 - loss: 0.7931 - val_accuracy: 0.3846 - val_loss: 2.8775\n",
            "Epoch 20/50\n",
            "\u001b[1m184/191\u001b[0m \u001b[32m━━━━━━━━━━━━━━━━━━━\u001b[0m\u001b[37m━\u001b[0m \u001b[1m0s\u001b[0m 6ms/step - accuracy: 0.7565 - loss: 0.7785\n",
            "Epoch 20: loss improved from 0.85341 to 0.84543, saving model to saved_weights/saved_weights-20-0.8454.keras\n",
            "\u001b[1m191/191\u001b[0m \u001b[32m━━━━━━━━━━━━━━━━━━━━\u001b[0m\u001b[37m\u001b[0m \u001b[1m1s\u001b[0m 7ms/step - accuracy: 0.7556 - loss: 0.7812 - val_accuracy: 0.3800 - val_loss: 2.8541\n",
            "Epoch 21/50\n",
            "\u001b[1m187/191\u001b[0m \u001b[32m━━━━━━━━━━━━━━━━━━━\u001b[0m\u001b[37m━\u001b[0m \u001b[1m0s\u001b[0m 6ms/step - accuracy: 0.7613 - loss: 0.7686\n",
            "Epoch 21: loss improved from 0.84543 to 0.81504, saving model to saved_weights/saved_weights-21-0.8150.keras\n",
            "\u001b[1m191/191\u001b[0m \u001b[32m━━━━━━━━━━━━━━━━━━━━\u001b[0m\u001b[37m\u001b[0m \u001b[1m3s\u001b[0m 7ms/step - accuracy: 0.7607 - loss: 0.7698 - val_accuracy: 0.3930 - val_loss: 2.8844\n",
            "Epoch 22/50\n",
            "\u001b[1m191/191\u001b[0m \u001b[32m━━━━━━━━━━━━━━━━━━━━\u001b[0m\u001b[37m\u001b[0m \u001b[1m0s\u001b[0m 7ms/step - accuracy: 0.7647 - loss: 0.7453\n",
            "Epoch 22: loss improved from 0.81504 to 0.80268, saving model to saved_weights/saved_weights-22-0.8027.keras\n",
            "\u001b[1m191/191\u001b[0m \u001b[32m━━━━━━━━━━━━━━━━━━━━\u001b[0m\u001b[37m\u001b[0m \u001b[1m3s\u001b[0m 8ms/step - accuracy: 0.7646 - loss: 0.7456 - val_accuracy: 0.3775 - val_loss: 2.9443\n",
            "Epoch 23/50\n",
            "\u001b[1m188/191\u001b[0m \u001b[32m━━━━━━━━━━━━━━━━━━━\u001b[0m\u001b[37m━\u001b[0m \u001b[1m0s\u001b[0m 6ms/step - accuracy: 0.7706 - loss: 0.7256\n",
            "Epoch 23: loss improved from 0.80268 to 0.79240, saving model to saved_weights/saved_weights-23-0.7924.keras\n",
            "\u001b[1m191/191\u001b[0m \u001b[32m━━━━━━━━━━━━━━━━━━━━\u001b[0m\u001b[37m\u001b[0m \u001b[1m2s\u001b[0m 7ms/step - accuracy: 0.7700 - loss: 0.7270 - val_accuracy: 0.3839 - val_loss: 2.9615\n",
            "Epoch 24/50\n",
            "\u001b[1m186/191\u001b[0m \u001b[32m━━━━━━━━━━━━━━━━━━━\u001b[0m\u001b[37m━\u001b[0m \u001b[1m0s\u001b[0m 8ms/step - accuracy: 0.7789 - loss: 0.7105\n",
            "Epoch 24: loss improved from 0.79240 to 0.77993, saving model to saved_weights/saved_weights-24-0.7799.keras\n",
            "\u001b[1m191/191\u001b[0m \u001b[32m━━━━━━━━━━━━━━━━━━━━\u001b[0m\u001b[37m\u001b[0m \u001b[1m3s\u001b[0m 10ms/step - accuracy: 0.7780 - loss: 0.7126 - val_accuracy: 0.3856 - val_loss: 3.0357\n",
            "Epoch 25/50\n",
            "\u001b[1m190/191\u001b[0m \u001b[32m━━━━━━━━━━━━━━━━━━━\u001b[0m\u001b[37m━\u001b[0m \u001b[1m0s\u001b[0m 7ms/step - accuracy: 0.7710 - loss: 0.7255\n",
            "Epoch 25: loss improved from 0.77993 to 0.76665, saving model to saved_weights/saved_weights-25-0.7667.keras\n",
            "\u001b[1m191/191\u001b[0m \u001b[32m━━━━━━━━━━━━━━━━━━━━\u001b[0m\u001b[37m\u001b[0m \u001b[1m2s\u001b[0m 8ms/step - accuracy: 0.7708 - loss: 0.7260 - val_accuracy: 0.3852 - val_loss: 2.9972\n",
            "Epoch 26/50\n",
            "\u001b[1m187/191\u001b[0m \u001b[32m━━━━━━━━━━━━━━━━━━━\u001b[0m\u001b[37m━\u001b[0m \u001b[1m0s\u001b[0m 6ms/step - accuracy: 0.7819 - loss: 0.6943\n",
            "Epoch 26: loss improved from 0.76665 to 0.76410, saving model to saved_weights/saved_weights-26-0.7641.keras\n",
            "\u001b[1m191/191\u001b[0m \u001b[32m━━━━━━━━━━━━━━━━━━━━\u001b[0m\u001b[37m\u001b[0m \u001b[1m2s\u001b[0m 7ms/step - accuracy: 0.7813 - loss: 0.6961 - val_accuracy: 0.3780 - val_loss: 3.0056\n",
            "Epoch 27/50\n",
            "\u001b[1m191/191\u001b[0m \u001b[32m━━━━━━━━━━━━━━━━━━━━\u001b[0m\u001b[37m\u001b[0m \u001b[1m0s\u001b[0m 7ms/step - accuracy: 0.7827 - loss: 0.6936\n",
            "Epoch 27: loss improved from 0.76410 to 0.74655, saving model to saved_weights/saved_weights-27-0.7465.keras\n",
            "\u001b[1m191/191\u001b[0m \u001b[32m━━━━━━━━━━━━━━━━━━━━\u001b[0m\u001b[37m\u001b[0m \u001b[1m3s\u001b[0m 8ms/step - accuracy: 0.7826 - loss: 0.6938 - val_accuracy: 0.3738 - val_loss: 3.0741\n",
            "Epoch 28/50\n",
            "\u001b[1m189/191\u001b[0m \u001b[32m━━━━━━━━━━━━━━━━━━━\u001b[0m\u001b[37m━\u001b[0m \u001b[1m0s\u001b[0m 6ms/step - accuracy: 0.7884 - loss: 0.6699\n",
            "Epoch 28: loss improved from 0.74655 to 0.73620, saving model to saved_weights/saved_weights-28-0.7362.keras\n",
            "\u001b[1m191/191\u001b[0m \u001b[32m━━━━━━━━━━━━━━━━━━━━\u001b[0m\u001b[37m\u001b[0m \u001b[1m1s\u001b[0m 7ms/step - accuracy: 0.7880 - loss: 0.6709 - val_accuracy: 0.3725 - val_loss: 3.1089\n",
            "Epoch 29/50\n",
            "\u001b[1m190/191\u001b[0m \u001b[32m━━━━━━━━━━━━━━━━━━━\u001b[0m\u001b[37m━\u001b[0m \u001b[1m0s\u001b[0m 6ms/step - accuracy: 0.7911 - loss: 0.6500\n",
            "Epoch 29: loss improved from 0.73620 to 0.71787, saving model to saved_weights/saved_weights-29-0.7179.keras\n",
            "\u001b[1m191/191\u001b[0m \u001b[32m━━━━━━━━━━━━━━━━━━━━\u001b[0m\u001b[37m\u001b[0m \u001b[1m3s\u001b[0m 7ms/step - accuracy: 0.7908 - loss: 0.6507 - val_accuracy: 0.3785 - val_loss: 3.1281\n",
            "Epoch 30/50\n",
            "\u001b[1m189/191\u001b[0m \u001b[32m━━━━━━━━━━━━━━━━━━━\u001b[0m\u001b[37m━\u001b[0m \u001b[1m0s\u001b[0m 8ms/step - accuracy: 0.7926 - loss: 0.6488\n",
            "Epoch 30: loss improved from 0.71787 to 0.71182, saving model to saved_weights/saved_weights-30-0.7118.keras\n",
            "\u001b[1m191/191\u001b[0m \u001b[32m━━━━━━━━━━━━━━━━━━━━\u001b[0m\u001b[37m\u001b[0m \u001b[1m2s\u001b[0m 10ms/step - accuracy: 0.7923 - loss: 0.6498 - val_accuracy: 0.3782 - val_loss: 3.1398\n",
            "Epoch 31/50\n",
            "\u001b[1m185/191\u001b[0m \u001b[32m━━━━━━━━━━━━━━━━━━━\u001b[0m\u001b[37m━\u001b[0m \u001b[1m0s\u001b[0m 7ms/step - accuracy: 0.7919 - loss: 0.6453\n",
            "Epoch 31: loss improved from 0.71182 to 0.70750, saving model to saved_weights/saved_weights-31-0.7075.keras\n",
            "\u001b[1m191/191\u001b[0m \u001b[32m━━━━━━━━━━━━━━━━━━━━\u001b[0m\u001b[37m\u001b[0m \u001b[1m2s\u001b[0m 8ms/step - accuracy: 0.7912 - loss: 0.6475 - val_accuracy: 0.3884 - val_loss: 3.1673\n",
            "Epoch 32/50\n",
            "\u001b[1m186/191\u001b[0m \u001b[32m━━━━━━━━━━━━━━━━━━━\u001b[0m\u001b[37m━\u001b[0m \u001b[1m0s\u001b[0m 7ms/step - accuracy: 0.7948 - loss: 0.6399\n",
            "Epoch 32: loss improved from 0.70750 to 0.69220, saving model to saved_weights/saved_weights-32-0.6922.keras\n",
            "\u001b[1m191/191\u001b[0m \u001b[32m━━━━━━━━━━━━━━━━━━━━\u001b[0m\u001b[37m\u001b[0m \u001b[1m3s\u001b[0m 9ms/step - accuracy: 0.7942 - loss: 0.6415 - val_accuracy: 0.3818 - val_loss: 3.1438\n",
            "Epoch 33/50\n",
            "\u001b[1m190/191\u001b[0m \u001b[32m━━━━━━━━━━━━━━━━━━━\u001b[0m\u001b[37m━\u001b[0m \u001b[1m0s\u001b[0m 6ms/step - accuracy: 0.7964 - loss: 0.6265\n",
            "Epoch 33: loss improved from 0.69220 to 0.67629, saving model to saved_weights/saved_weights-33-0.6763.keras\n",
            "\u001b[1m191/191\u001b[0m \u001b[32m━━━━━━━━━━━━━━━━━━━━\u001b[0m\u001b[37m\u001b[0m \u001b[1m1s\u001b[0m 7ms/step - accuracy: 0.7963 - loss: 0.6271 - val_accuracy: 0.3867 - val_loss: 3.2226\n",
            "Epoch 34/50\n",
            "\u001b[1m186/191\u001b[0m \u001b[32m━━━━━━━━━━━━━━━━━━━\u001b[0m\u001b[37m━\u001b[0m \u001b[1m0s\u001b[0m 6ms/step - accuracy: 0.8052 - loss: 0.6154\n",
            "Epoch 34: loss improved from 0.67629 to 0.67065, saving model to saved_weights/saved_weights-34-0.6707.keras\n",
            "\u001b[1m191/191\u001b[0m \u001b[32m━━━━━━━━━━━━━━━━━━━━\u001b[0m\u001b[37m\u001b[0m \u001b[1m1s\u001b[0m 8ms/step - accuracy: 0.8044 - loss: 0.6171 - val_accuracy: 0.3838 - val_loss: 3.2562\n",
            "Epoch 35/50\n",
            "\u001b[1m189/191\u001b[0m \u001b[32m━━━━━━━━━━━━━━━━━━━\u001b[0m\u001b[37m━\u001b[0m \u001b[1m0s\u001b[0m 7ms/step - accuracy: 0.8052 - loss: 0.6092\n",
            "Epoch 35: loss improved from 0.67065 to 0.65961, saving model to saved_weights/saved_weights-35-0.6596.keras\n",
            "\u001b[1m191/191\u001b[0m \u001b[32m━━━━━━━━━━━━━━━━━━━━\u001b[0m\u001b[37m\u001b[0m \u001b[1m1s\u001b[0m 8ms/step - accuracy: 0.8049 - loss: 0.6100 - val_accuracy: 0.3720 - val_loss: 3.2998\n",
            "Epoch 36/50\n",
            "\u001b[1m188/191\u001b[0m \u001b[32m━━━━━━━━━━━━━━━━━━━\u001b[0m\u001b[37m━\u001b[0m \u001b[1m0s\u001b[0m 7ms/step - accuracy: 0.8149 - loss: 0.5802\n",
            "Epoch 36: loss improved from 0.65961 to 0.64678, saving model to saved_weights/saved_weights-36-0.6468.keras\n",
            "\u001b[1m191/191\u001b[0m \u001b[32m━━━━━━━━━━━━━━━━━━━━\u001b[0m\u001b[37m\u001b[0m \u001b[1m3s\u001b[0m 8ms/step - accuracy: 0.8143 - loss: 0.5815 - val_accuracy: 0.3730 - val_loss: 3.2909\n",
            "Epoch 37/50\n",
            "\u001b[1m186/191\u001b[0m \u001b[32m━━━━━━━━━━━━━━━━━━━\u001b[0m\u001b[37m━\u001b[0m \u001b[1m0s\u001b[0m 8ms/step - accuracy: 0.8198 - loss: 0.5689\n",
            "Epoch 37: loss improved from 0.64678 to 0.64380, saving model to saved_weights/saved_weights-37-0.6438.keras\n",
            "\u001b[1m191/191\u001b[0m \u001b[32m━━━━━━━━━━━━━━━━━━━━\u001b[0m\u001b[37m\u001b[0m \u001b[1m3s\u001b[0m 9ms/step - accuracy: 0.8189 - loss: 0.5712 - val_accuracy: 0.3875 - val_loss: 3.2599\n",
            "Epoch 38/50\n",
            "\u001b[1m188/191\u001b[0m \u001b[32m━━━━━━━━━━━━━━━━━━━\u001b[0m\u001b[37m━\u001b[0m \u001b[1m0s\u001b[0m 7ms/step - accuracy: 0.8173 - loss: 0.5787\n",
            "Epoch 38: loss improved from 0.64380 to 0.63321, saving model to saved_weights/saved_weights-38-0.6332.keras\n",
            "\u001b[1m191/191\u001b[0m \u001b[32m━━━━━━━━━━━━━━━━━━━━\u001b[0m\u001b[37m\u001b[0m \u001b[1m2s\u001b[0m 8ms/step - accuracy: 0.8168 - loss: 0.5799 - val_accuracy: 0.3761 - val_loss: 3.3203\n",
            "Epoch 39/50\n",
            "\u001b[1m188/191\u001b[0m \u001b[32m━━━━━━━━━━━━━━━━━━━\u001b[0m\u001b[37m━\u001b[0m \u001b[1m0s\u001b[0m 6ms/step - accuracy: 0.8265 - loss: 0.5558\n",
            "Epoch 39: loss improved from 0.63321 to 0.62256, saving model to saved_weights/saved_weights-39-0.6226.keras\n",
            "\u001b[1m191/191\u001b[0m \u001b[32m━━━━━━━━━━━━━━━━━━━━\u001b[0m\u001b[37m\u001b[0m \u001b[1m2s\u001b[0m 7ms/step - accuracy: 0.8260 - loss: 0.5572 - val_accuracy: 0.3711 - val_loss: 3.3585\n",
            "Epoch 40/50\n",
            "\u001b[1m185/191\u001b[0m \u001b[32m━━━━━━━━━━━━━━━━━━━\u001b[0m\u001b[37m━\u001b[0m \u001b[1m0s\u001b[0m 6ms/step - accuracy: 0.8212 - loss: 0.5551\n",
            "Epoch 40: loss improved from 0.62256 to 0.61087, saving model to saved_weights/saved_weights-40-0.6109.keras\n",
            "\u001b[1m191/191\u001b[0m \u001b[32m━━━━━━━━━━━━━━━━━━━━\u001b[0m\u001b[37m\u001b[0m \u001b[1m3s\u001b[0m 7ms/step - accuracy: 0.8205 - loss: 0.5571 - val_accuracy: 0.3834 - val_loss: 3.3435\n",
            "Epoch 41/50\n",
            "\u001b[1m187/191\u001b[0m \u001b[32m━━━━━━━━━━━━━━━━━━━\u001b[0m\u001b[37m━\u001b[0m \u001b[1m0s\u001b[0m 7ms/step - accuracy: 0.8248 - loss: 0.5526\n",
            "Epoch 41: loss improved from 0.61087 to 0.60039, saving model to saved_weights/saved_weights-41-0.6004.keras\n",
            "\u001b[1m191/191\u001b[0m \u001b[32m━━━━━━━━━━━━━━━━━━━━\u001b[0m\u001b[37m\u001b[0m \u001b[1m2s\u001b[0m 8ms/step - accuracy: 0.8243 - loss: 0.5538 - val_accuracy: 0.3787 - val_loss: 3.3872\n",
            "Epoch 42/50\n",
            "\u001b[1m187/191\u001b[0m \u001b[32m━━━━━━━━━━━━━━━━━━━\u001b[0m\u001b[37m━\u001b[0m \u001b[1m0s\u001b[0m 10ms/step - accuracy: 0.8240 - loss: 0.5510\n",
            "Epoch 42: loss improved from 0.60039 to 0.59848, saving model to saved_weights/saved_weights-42-0.5985.keras\n",
            "\u001b[1m191/191\u001b[0m \u001b[32m━━━━━━━━━━━━━━━━━━━━\u001b[0m\u001b[37m\u001b[0m \u001b[1m3s\u001b[0m 12ms/step - accuracy: 0.8235 - loss: 0.5522 - val_accuracy: 0.3733 - val_loss: 3.3974\n",
            "Epoch 43/50\n",
            "\u001b[1m188/191\u001b[0m \u001b[32m━━━━━━━━━━━━━━━━━━━\u001b[0m\u001b[37m━\u001b[0m \u001b[1m0s\u001b[0m 8ms/step - accuracy: 0.8332 - loss: 0.5263\n",
            "Epoch 43: loss improved from 0.59848 to 0.58587, saving model to saved_weights/saved_weights-43-0.5859.keras\n",
            "\u001b[1m191/191\u001b[0m \u001b[32m━━━━━━━━━━━━━━━━━━━━\u001b[0m\u001b[37m\u001b[0m \u001b[1m2s\u001b[0m 9ms/step - accuracy: 0.8326 - loss: 0.5276 - val_accuracy: 0.3810 - val_loss: 3.3923\n",
            "Epoch 44/50\n",
            "\u001b[1m186/191\u001b[0m \u001b[32m━━━━━━━━━━━━━━━━━━━\u001b[0m\u001b[37m━\u001b[0m \u001b[1m0s\u001b[0m 6ms/step - accuracy: 0.8326 - loss: 0.5286\n",
            "Epoch 44: loss improved from 0.58587 to 0.57617, saving model to saved_weights/saved_weights-44-0.5762.keras\n",
            "\u001b[1m191/191\u001b[0m \u001b[32m━━━━━━━━━━━━━━━━━━━━\u001b[0m\u001b[37m\u001b[0m \u001b[1m1s\u001b[0m 7ms/step - accuracy: 0.8320 - loss: 0.5301 - val_accuracy: 0.3793 - val_loss: 3.4533\n",
            "Epoch 45/50\n",
            "\u001b[1m187/191\u001b[0m \u001b[32m━━━━━━━━━━━━━━━━━━━\u001b[0m\u001b[37m━\u001b[0m \u001b[1m0s\u001b[0m 7ms/step - accuracy: 0.8356 - loss: 0.5156\n",
            "Epoch 45: loss improved from 0.57617 to 0.57078, saving model to saved_weights/saved_weights-45-0.5708.keras\n",
            "\u001b[1m191/191\u001b[0m \u001b[32m━━━━━━━━━━━━━━━━━━━━\u001b[0m\u001b[37m\u001b[0m \u001b[1m2s\u001b[0m 8ms/step - accuracy: 0.8351 - loss: 0.5170 - val_accuracy: 0.3852 - val_loss: 3.4063\n",
            "Epoch 46/50\n",
            "\u001b[1m184/191\u001b[0m \u001b[32m━━━━━━━━━━━━━━━━━━━\u001b[0m\u001b[37m━\u001b[0m \u001b[1m0s\u001b[0m 7ms/step - accuracy: 0.8318 - loss: 0.5112\n",
            "Epoch 46: loss improved from 0.57078 to 0.56244, saving model to saved_weights/saved_weights-46-0.5624.keras\n",
            "\u001b[1m191/191\u001b[0m \u001b[32m━━━━━━━━━━━━━━━━━━━━\u001b[0m\u001b[37m\u001b[0m \u001b[1m1s\u001b[0m 8ms/step - accuracy: 0.8310 - loss: 0.5133 - val_accuracy: 0.3790 - val_loss: 3.4307\n",
            "Epoch 47/50\n",
            "\u001b[1m188/191\u001b[0m \u001b[32m━━━━━━━━━━━━━━━━━━━\u001b[0m\u001b[37m━\u001b[0m \u001b[1m0s\u001b[0m 6ms/step - accuracy: 0.8336 - loss: 0.5149\n",
            "Epoch 47: loss did not improve from 0.56244\n",
            "\u001b[1m191/191\u001b[0m \u001b[32m━━━━━━━━━━━━━━━━━━━━\u001b[0m\u001b[37m\u001b[0m \u001b[1m1s\u001b[0m 8ms/step - accuracy: 0.8332 - loss: 0.5159 - val_accuracy: 0.3692 - val_loss: 3.5361\n",
            "Epoch 48/50\n",
            "\u001b[1m188/191\u001b[0m \u001b[32m━━━━━━━━━━━━━━━━━━━\u001b[0m\u001b[37m━\u001b[0m \u001b[1m0s\u001b[0m 7ms/step - accuracy: 0.8322 - loss: 0.5097\n",
            "Epoch 48: loss improved from 0.56244 to 0.55204, saving model to saved_weights/saved_weights-48-0.5520.keras\n",
            "\u001b[1m191/191\u001b[0m \u001b[32m━━━━━━━━━━━━━━━━━━━━\u001b[0m\u001b[37m\u001b[0m \u001b[1m3s\u001b[0m 8ms/step - accuracy: 0.8319 - loss: 0.5106 - val_accuracy: 0.3808 - val_loss: 3.4848\n",
            "Epoch 49/50\n",
            "\u001b[1m185/191\u001b[0m \u001b[32m━━━━━━━━━━━━━━━━━━━\u001b[0m\u001b[37m━\u001b[0m \u001b[1m0s\u001b[0m 8ms/step - accuracy: 0.8342 - loss: 0.4972\n",
            "Epoch 49: loss did not improve from 0.55204\n",
            "\u001b[1m191/191\u001b[0m \u001b[32m━━━━━━━━━━━━━━━━━━━━\u001b[0m\u001b[37m\u001b[0m \u001b[1m3s\u001b[0m 9ms/step - accuracy: 0.8336 - loss: 0.4992 - val_accuracy: 0.3785 - val_loss: 3.4931\n",
            "Epoch 50/50\n",
            "\u001b[1m191/191\u001b[0m \u001b[32m━━━━━━━━━━━━━━━━━━━━\u001b[0m\u001b[37m\u001b[0m \u001b[1m0s\u001b[0m 6ms/step - accuracy: 0.8440 - loss: 0.4817\n",
            "Epoch 50: loss improved from 0.55204 to 0.54174, saving model to saved_weights/saved_weights-50-0.5417.keras\n",
            "\u001b[1m191/191\u001b[0m \u001b[32m━━━━━━━━━━━━━━━━━━━━\u001b[0m\u001b[37m\u001b[0m \u001b[1m1s\u001b[0m 7ms/step - accuracy: 0.8438 - loss: 0.4820 - val_accuracy: 0.3738 - val_loss: 3.5506\n"
          ]
        }
      ]
    },
    {
      "cell_type": "markdown",
      "source": [
        "Plot"
      ],
      "metadata": {
        "id": "eiT5LGKe0VCK"
      }
    },
    {
      "cell_type": "code",
      "source": [
        "from matplotlib import pyplot as plt\n",
        "\n",
        "plt.plot(history.history['accuracy'])\n",
        "plt.plot(history.history['val_accuracy'])\n",
        "plt.title('model accuracy')\n",
        "plt.ylabel('accuracy')\n",
        "plt.xlabel('epoch')\n",
        "plt.legend(['train', 'test'], loc='upper left')"
      ],
      "metadata": {
        "colab": {
          "base_uri": "https://localhost:8080/",
          "height": 489
        },
        "id": "kLjpunLQKhNG",
        "outputId": "a023210b-3dc0-4888-88fe-9575f6f0c8e8"
      },
      "execution_count": 15,
      "outputs": [
        {
          "output_type": "execute_result",
          "data": {
            "text/plain": [
              "<matplotlib.legend.Legend at 0x7ad88cd3fe80>"
            ]
          },
          "metadata": {},
          "execution_count": 15
        },
        {
          "output_type": "display_data",
          "data": {
            "text/plain": [
              "<Figure size 640x480 with 1 Axes>"
            ],
            "image/png": "[encoded data removed]"
          },
          "metadata": {}
        }
      ]
    },
    {
      "cell_type": "code",
      "source": [
        "from matplotlib import pyplot as plt\n",
        "#plot the training and validation accuracy and loss at each epoch\n",
        "loss = history.history['loss']\n",
        "epochs = range(1, len(loss) + 1)\n",
        "plt.plot(epochs, loss, 'y', label='Training loss')\n",
        "plt.title('Training loss')\n",
        "plt.xlabel('Epochs')\n",
        "plt.ylabel('Loss')\n",
        "plt.legend()\n",
        "plt.show()"
      ],
      "metadata": {
        "colab": {
          "base_uri": "https://localhost:8080/",
          "height": 472
        },
        "id": "Q-cuL52W0nKs",
        "outputId": "7908b9d0-a494-4bbc-f995-2264cec9a9e7"
      },
      "execution_count": 16,
      "outputs": [
        {
          "output_type": "display_data",
          "data": {
            "text/plain": [
              "<Figure size 640x480 with 1 Axes>"
            ],
            "image/png": "[encoded data removed]"
          },
          "metadata": {}
        }
      ]
    },
    {
      "cell_type": "markdown",
      "source": [
        "Generate Characters"
      ],
      "metadata": {
        "id": "vemnTPCf1I4s"
      }
    },
    {
      "cell_type": "code",
      "source": [
        "def sample(preds):\n",
        "    preds = np.asarray(preds).astype('float64')\n",
        "    preds = np.log(preds)\n",
        "    exp_preds = np.exp(preds) #exp of log (x), isn't this same as x??\n",
        "    preds = exp_preds / np.sum(exp_preds)\n",
        "    probas = np.random.multinomial(1, preds, 1)\n",
        "    return np.argmax(probas)"
      ],
      "metadata": {
        "id": "nmNmrPHf1LWR"
      },
      "execution_count": 17,
      "outputs": []
    },
    {
      "cell_type": "markdown",
      "source": [
        "# Prediction"
      ],
      "metadata": {
        "id": "B6HSbvCM1Qzx"
      }
    },
    {
      "cell_type": "code",
      "source": [
        "filename = \"my_saved_weights_book_50epochs.keras\"\n",
        "model.load_weights(filename)"
      ],
      "metadata": {
        "id": "VlGOjGBY1TbS"
      },
      "execution_count": 18,
      "outputs": []
    },
    {
      "cell_type": "markdown",
      "source": [
        "Pick a random sentence from the text as seed."
      ],
      "metadata": {
        "id": "SHeq33Lu1hxQ"
      }
    },
    {
      "cell_type": "code",
      "source": [
        "start_index = random.randint(0, n_chars - seq_length - 1)"
      ],
      "metadata": {
        "id": "L7120eX-1kT7"
      },
      "execution_count": 19,
      "outputs": []
    },
    {
      "cell_type": "markdown",
      "source": [
        "Initiate generated text and keep adding new predictions and print them out"
      ],
      "metadata": {
        "id": "zU_A6LQb1rSx"
      }
    },
    {
      "cell_type": "code",
      "source": [
        "generated = ''\n",
        "sentence = raw_text[start_index: start_index + seq_length]\n",
        "generated += sentence\n",
        "\n",
        "print('----- Seed for our text prediction: \"' + sentence + '\"')"
      ],
      "metadata": {
        "colab": {
          "base_uri": "https://localhost:8080/"
        },
        "id": "Od_yo6jo1tUm",
        "outputId": "37a581af-a2c9-401f-969f-d08695d85d8a"
      },
      "execution_count": 20,
      "outputs": [
        {
          "output_type": "stream",
          "name": "stdout",
          "text": [
            "----- Seed for our text prediction: \" obtain a refund from the person\n",
            "or entity to whom you paid \"\n"
          ]
        }
      ]
    },
    {
      "cell_type": "code",
      "source": [
        "for i in range(400):   # Number of characters including spaces\n",
        "    x_pred = np.zeros((1, seq_length, n_vocab))\n",
        "    for t, char in enumerate(sentence):\n",
        "        x_pred[0, t, char_to_int[char]] = 1.\n",
        "\n",
        "    preds = model.predict(x_pred, verbose=0)[0]\n",
        "    next_index = sample(preds)\n",
        "    next_char = int_to_char[next_index]\n",
        "\n",
        "    generated += next_char\n",
        "    sentence = sentence[1:] + next_char\n",
        "\n",
        "    sys.stdout.write(next_char)\n",
        "    sys.stdout.flush()\n",
        "print()"
      ],
      "metadata": {
        "colab": {
          "base_uri": "https://localhost:8080/"
        },
        "id": "nwX48JcN1ymT",
        "outputId": "80831b7d-d051-4f5c-ca13-37c3af11a9c2"
      },
      "execution_count": 21,
      "outputs": [
        {
          "output_type": "stream",
          "name": "stdout",
          "text": [
            "of the castlessultmond\n",
            "strippes. i he\n",
            "want off back\n",
            "wanderry and spratching over kooned beliugh and\n",
            "the was done muldend--aring the blasong,'s shoulder. he was but when il under they long down rool? the shoub, me pittle kot\n",
            "many what was ansing the faid of the\n",
            "kipli-tungle, but he hall the other kaias in the smare clock. it old very could camp.\"\n",
            "\n",
            "\"or the hill genscred ripped him see\n",
            "trub\n",
            "bedong br\n",
            "ot"
          ]
        }
      ]
    }
  ]
}