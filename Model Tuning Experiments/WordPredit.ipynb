{
  "nbformat": 4,
  "nbformat_minor": 0,
  "metadata": {
    "colab": {
      "provenance": [],
      "authorship_tag": "ABX9TyNGrBbJctwasqKKuDV1NrHb",
      "include_colab_link": true
    },
    "kernelspec": {
      "name": "python3",
      "display_name": "Python 3"
    },
    "language_info": {
      "name": "python"
    }
  },
  "cells": [
    {
      "cell_type": "markdown",
      "metadata": {
        "id": "view-in-github",
        "colab_type": "text"
      },
      "source": [
        "<a href=\"https://colab.research.google.com/github/vinodgaitonde/ProjIdeas/blob/main/WordPredit.ipynb\" target=\"_parent\"><img src=\"https://colab.research.google.com/assets/colab-badge.svg\" alt=\"Open In Colab\"/></a>"
      ]
    },
    {
      "cell_type": "markdown",
      "source": [
        "# Import required packages"
      ],
      "metadata": {
        "id": "xOLmTs6jWGMf"
      }
    },
    {
      "cell_type": "code",
      "source": [
        "import numpy as np\n",
        "import re\n",
        "from nltk.tokenize import RegexpTokenizer\n",
        "from tensorflow.keras.models import Sequential, load_model\n",
        "from tensorflow.keras.layers import LSTM\n",
        "from tensorflow.keras.layers import Dense, Activation\n",
        "from tensorflow.keras.optimizers import RMSprop\n",
        "import matplotlib.pyplot as plt\n",
        "import pickle\n",
        "import heapq"
      ],
      "metadata": {
        "id": "QzSRbwR3VHco"
      },
      "execution_count": 2,
      "outputs": []
    },
    {
      "cell_type": "markdown",
      "source": [
        "# Read Data"
      ],
      "metadata": {
        "id": "3w0d5Q6lWqVz"
      }
    },
    {
      "cell_type": "code",
      "source": [
        "with open('./sample_data/1661-split.txt', 'r') as f:\n",
        "    text = f.read().lower()\n",
        "print('corpus length:', len(text))\n",
        "print(text[:100])"
      ],
      "metadata": {
        "id": "AzmhPbNzWtpT",
        "outputId": "44c1c179-49fc-43e5-91a4-20cb246cb372",
        "colab": {
          "base_uri": "https://localhost:8080/"
        }
      },
      "execution_count": 3,
      "outputs": [
        {
          "output_type": "stream",
          "name": "stdout",
          "text": [
            "corpus length: 282300\n",
            "﻿\n",
            "project gutenberg's the adventures of sherlock holmes, by arthur conan doyle\n",
            "\n",
            "this ebook is for th\n"
          ]
        }
      ]
    },
    {
      "cell_type": "markdown",
      "source": [
        "# Split the dataset"
      ],
      "metadata": {
        "id": "Gd99sSh0m6Oy"
      }
    },
    {
      "cell_type": "code",
      "source": [
        "tokenizer = RegexpTokenizer(r'\\w+')\n",
        "words = tokenizer.tokenize(text)\n",
        "\n",
        "print(len(words))\n",
        "print(words[:100])"
      ],
      "metadata": {
        "id": "AU1eSREmm9Dy",
        "outputId": "165a7855-488c-430b-92a4-0db7f8297020",
        "colab": {
          "base_uri": "https://localhost:8080/"
        }
      },
      "execution_count": 4,
      "outputs": [
        {
          "output_type": "stream",
          "name": "stdout",
          "text": [
            "53047\n",
            "['project', 'gutenberg', 's', 'the', 'adventures', 'of', 'sherlock', 'holmes', 'by', 'arthur', 'conan', 'doyle', 'this', 'ebook', 'is', 'for', 'the', 'use', 'of', 'anyone', 'anywhere', 'at', 'no', 'cost', 'and', 'with', 'almost', 'no', 'restrictions', 'whatsoever', 'you', 'may', 'copy', 'it', 'give', 'it', 'away', 'or', 're', 'use', 'it', 'under', 'the', 'terms', 'of', 'the', 'project', 'gutenberg', 'license', 'included', 'with', 'this', 'ebook', 'or', 'online', 'at', 'www', 'gutenberg', 'net', 'title', 'the', 'adventures', 'of', 'sherlock', 'holmes', 'author', 'arthur', 'conan', 'doyle', 'release', 'date', 'november', '29', '2002', 'ebook', '1661', 'last', 'updated', 'may', '20', '2019', 'language', 'english', 'character', 'set', 'encoding', 'utf', '8', 'start', 'of', 'this', 'project', 'gutenberg', 'ebook', 'the', 'adventures', 'of', 'sherlock', 'holmes', 'produced']\n"
          ]
        }
      ]
    },
    {
      "cell_type": "markdown",
      "source": [
        "# Unique Words"
      ],
      "metadata": {
        "id": "VwHZ9N3Bn7dn"
      }
    },
    {
      "cell_type": "code",
      "source": [
        "unique_words = np.unique(words)\n",
        "unique_word_index = dict((c, i) for i, c in enumerate(unique_words))\n",
        "\n",
        "print(unique_words)"
      ],
      "metadata": {
        "id": "ITv6801En_yi",
        "outputId": "8aef65ca-1e8f-4395-82ae-0a64a66308f0",
        "colab": {
          "base_uri": "https://localhost:8080/"
        }
      },
      "execution_count": 5,
      "outputs": [
        {
          "output_type": "stream",
          "name": "stdout",
          "text": [
            "['000' '10' '1000' ... 'zealand' 'zero' 'œuvre']\n"
          ]
        }
      ]
    },
    {
      "cell_type": "markdown",
      "source": [
        "Define a Word length which will represent the number of previous words that will determine our next word.\n",
        "Define prev words to keep five previous words and their corresponding next words in the list of next words."
      ],
      "metadata": {
        "id": "_xlNy_QhpSQp"
      }
    },
    {
      "cell_type": "code",
      "source": [
        "WORD_LENGTH = 5\n",
        "prev_words = []\n",
        "next_words = []\n",
        "for i in range(len(words) - WORD_LENGTH):\n",
        "    prev_words.append(words[i:i + WORD_LENGTH])\n",
        "    next_words.append(words[i + WORD_LENGTH])\n",
        "print(prev_words[0])\n",
        "print(next_words[0])"
      ],
      "metadata": {
        "id": "NLui-qGTpSqh",
        "outputId": "b51489ec-2179-4662-f63b-f6426f263865",
        "colab": {
          "base_uri": "https://localhost:8080/"
        }
      },
      "execution_count": 6,
      "outputs": [
        {
          "output_type": "stream",
          "name": "stdout",
          "text": [
            "['project', 'gutenberg', 's', 'the', 'adventures']\n",
            "of\n"
          ]
        }
      ]
    },
    {
      "cell_type": "markdown",
      "source": [
        "Create two numpy arrays X for storing the features and Y for storing its corresponding label."
      ],
      "metadata": {
        "id": "q5G73c-EroZU"
      }
    },
    {
      "cell_type": "code",
      "source": [
        "X = np.zeros((len(prev_words), WORD_LENGTH, len(unique_words)), dtype=bool)\n",
        "Y = np.zeros((len(next_words), len(unique_words)), dtype=bool)\n",
        "for i, each_words in enumerate(prev_words):\n",
        "    for j, each_word in enumerate(each_words):\n",
        "        X[i, j, unique_word_index[each_word]] = 1\n",
        "    Y[i, unique_word_index[next_words[i]]] = 1\n",
        "\n",
        "print(X[0][0])"
      ],
      "metadata": {
        "id": "J2TMnesqrwL2",
        "outputId": "9532601b-1432-4c94-8928-616adfb4b8c6",
        "colab": {
          "base_uri": "https://localhost:8080/"
        }
      },
      "execution_count": 7,
      "outputs": [
        {
          "output_type": "stream",
          "name": "stdout",
          "text": [
            "[False False False ... False False False]\n"
          ]
        }
      ]
    },
    {
      "cell_type": "markdown",
      "source": [
        "# Building the Recurrent Neural network"
      ],
      "metadata": {
        "id": "xW5nNehOsVYU"
      }
    },
    {
      "cell_type": "markdown",
      "source": [
        "Use the Recurrent Neural Networks for next word prediction model.\n",
        "Here we will use the LSTM model, which is a very powerful RNN"
      ],
      "metadata": {
        "id": "z50FvNV1sXyr"
      }
    },
    {
      "cell_type": "code",
      "source": [
        "model = Sequential()\n",
        "model.add(LSTM(128, input_shape=(WORD_LENGTH, len(unique_words))))\n",
        "model.add(Dense(len(unique_words)))\n",
        "model.add(Activation('softmax'))"
      ],
      "metadata": {
        "id": "DQaqHr2qsjl_",
        "outputId": "195d5239-616c-42d0-de74-9c0f5cc71a35",
        "colab": {
          "base_uri": "https://localhost:8080/"
        }
      },
      "execution_count": 8,
      "outputs": [
        {
          "output_type": "stream",
          "name": "stderr",
          "text": [
            "/usr/local/lib/python3.10/dist-packages/keras/src/layers/rnn/rnn.py:204: UserWarning: Do not pass an `input_shape`/`input_dim` argument to a layer. When using Sequential models, prefer using an `Input(shape)` object as the first layer in the model instead.\n",
            "  super().__init__(**kwargs)\n"
          ]
        }
      ]
    },
    {
      "cell_type": "markdown",
      "source": [
        "Training the Next Word Prediction Model"
      ],
      "metadata": {
        "id": "Bz6oGe32uF55"
      }
    },
    {
      "cell_type": "code",
      "source": [
        "optimizer = RMSprop(learning_rate=0.01)\n",
        "model.compile(loss='categorical_crossentropy', optimizer=optimizer, metrics=['accuracy'])\n",
        "history = model.fit(X, Y, validation_split=0.05, batch_size=128, epochs=45, shuffle=True).history"
      ],
      "metadata": {
        "id": "G9hjudaJuHYS",
        "outputId": "4f2194af-7a55-4ffa-9eae-ffec5cb15db9",
        "colab": {
          "base_uri": "https://localhost:8080/"
        }
      },
      "execution_count": 9,
      "outputs": [
        {
          "output_type": "stream",
          "name": "stdout",
          "text": [
            "Epoch 1/45\n",
            "\u001b[1m394/394\u001b[0m \u001b[32m━━━━━━━━━━━━━━━━━━━━\u001b[0m\u001b[37m\u001b[0m \u001b[1m101s\u001b[0m 251ms/step - accuracy: 0.0484 - loss: 6.6991 - val_accuracy: 0.0893 - val_loss: 6.1533\n",
            "Epoch 2/45\n",
            "\u001b[1m394/394\u001b[0m \u001b[32m━━━━━━━━━━━━━━━━━━━━\u001b[0m\u001b[37m\u001b[0m \u001b[1m142s\u001b[0m 252ms/step - accuracy: 0.0951 - loss: 5.9688 - val_accuracy: 0.1150 - val_loss: 5.8694\n",
            "Epoch 3/45\n",
            "\u001b[1m394/394\u001b[0m \u001b[32m━━━━━━━━━━━━━━━━━━━━\u001b[0m\u001b[37m\u001b[0m \u001b[1m140s\u001b[0m 248ms/step - accuracy: 0.1248 - loss: 5.6190 - val_accuracy: 0.1255 - val_loss: 5.7385\n",
            "Epoch 4/45\n",
            "\u001b[1m394/394\u001b[0m \u001b[32m━━━━━━━━━━━━━━━━━━━━\u001b[0m\u001b[37m\u001b[0m \u001b[1m142s\u001b[0m 250ms/step - accuracy: 0.1348 - loss: 5.3957 - val_accuracy: 0.1289 - val_loss: 5.7311\n",
            "Epoch 5/45\n",
            "\u001b[1m394/394\u001b[0m \u001b[32m━━━━━━━━━━━━━━━━━━━━\u001b[0m\u001b[37m\u001b[0m \u001b[1m100s\u001b[0m 253ms/step - accuracy: 0.1560 - loss: 5.1484 - val_accuracy: 0.1210 - val_loss: 5.7214\n",
            "Epoch 6/45\n",
            "\u001b[1m394/394\u001b[0m \u001b[32m━━━━━━━━━━━━━━━━━━━━\u001b[0m\u001b[37m\u001b[0m \u001b[1m141s\u001b[0m 252ms/step - accuracy: 0.1792 - loss: 4.8499 - val_accuracy: 0.1210 - val_loss: 5.7701\n",
            "Epoch 7/45\n",
            "\u001b[1m394/394\u001b[0m \u001b[32m━━━━━━━━━━━━━━━━━━━━\u001b[0m\u001b[37m\u001b[0m \u001b[1m140s\u001b[0m 247ms/step - accuracy: 0.2108 - loss: 4.5381 - val_accuracy: 0.1229 - val_loss: 5.7940\n",
            "Epoch 8/45\n",
            "\u001b[1m394/394\u001b[0m \u001b[32m━━━━━━━━━━━━━━━━━━━━\u001b[0m\u001b[37m\u001b[0m \u001b[1m98s\u001b[0m 249ms/step - accuracy: 0.2514 - loss: 4.1738 - val_accuracy: 0.1157 - val_loss: 5.8680\n",
            "Epoch 9/45\n",
            "\u001b[1m394/394\u001b[0m \u001b[32m━━━━━━━━━━━━━━━━━━━━\u001b[0m\u001b[37m\u001b[0m \u001b[1m143s\u001b[0m 251ms/step - accuracy: 0.3065 - loss: 3.7428 - val_accuracy: 0.0988 - val_loss: 6.0973\n",
            "Epoch 10/45\n",
            "\u001b[1m394/394\u001b[0m \u001b[32m━━━━━━━━━━━━━━━━━━━━\u001b[0m\u001b[37m\u001b[0m \u001b[1m142s\u001b[0m 250ms/step - accuracy: 0.3617 - loss: 3.3505 - val_accuracy: 0.1063 - val_loss: 6.3280\n",
            "Epoch 11/45\n",
            "\u001b[1m394/394\u001b[0m \u001b[32m━━━━━━━━━━━━━━━━━━━━\u001b[0m\u001b[37m\u001b[0m \u001b[1m99s\u001b[0m 252ms/step - accuracy: 0.4316 - loss: 2.9242 - val_accuracy: 0.0912 - val_loss: 6.5383\n",
            "Epoch 12/45\n",
            "\u001b[1m394/394\u001b[0m \u001b[32m━━━━━━━━━━━━━━━━━━━━\u001b[0m\u001b[37m\u001b[0m \u001b[1m141s\u001b[0m 250ms/step - accuracy: 0.4922 - loss: 2.5615 - val_accuracy: 0.0988 - val_loss: 6.7993\n",
            "Epoch 13/45\n",
            "\u001b[1m394/394\u001b[0m \u001b[32m━━━━━━━━━━━━━━━━━━━━\u001b[0m\u001b[37m\u001b[0m \u001b[1m138s\u001b[0m 241ms/step - accuracy: 0.5595 - loss: 2.2032 - val_accuracy: 0.0810 - val_loss: 7.1943\n",
            "Epoch 14/45\n",
            "\u001b[1m394/394\u001b[0m \u001b[32m━━━━━━━━━━━━━━━━━━━━\u001b[0m\u001b[37m\u001b[0m \u001b[1m95s\u001b[0m 240ms/step - accuracy: 0.6202 - loss: 1.8952 - val_accuracy: 0.0890 - val_loss: 7.2934\n",
            "Epoch 15/45\n",
            "\u001b[1m394/394\u001b[0m \u001b[32m━━━━━━━━━━━━━━━━━━━━\u001b[0m\u001b[37m\u001b[0m \u001b[1m142s\u001b[0m 242ms/step - accuracy: 0.6836 - loss: 1.6039 - val_accuracy: 0.0841 - val_loss: 7.8290\n",
            "Epoch 16/45\n",
            "\u001b[1m394/394\u001b[0m \u001b[32m━━━━━━━━━━━━━━━━━━━━\u001b[0m\u001b[37m\u001b[0m \u001b[1m93s\u001b[0m 237ms/step - accuracy: 0.7406 - loss: 1.3559 - val_accuracy: 0.0841 - val_loss: 8.0021\n",
            "Epoch 17/45\n",
            "\u001b[1m394/394\u001b[0m \u001b[32m━━━━━━━━━━━━━━━━━━━━\u001b[0m\u001b[37m\u001b[0m \u001b[1m144s\u001b[0m 241ms/step - accuracy: 0.7920 - loss: 1.1349 - val_accuracy: 0.0784 - val_loss: 8.4516\n",
            "Epoch 18/45\n",
            "\u001b[1m394/394\u001b[0m \u001b[32m━━━━━━━━━━━━━━━━━━━━\u001b[0m\u001b[37m\u001b[0m \u001b[1m94s\u001b[0m 238ms/step - accuracy: 0.8325 - loss: 0.9447 - val_accuracy: 0.0739 - val_loss: 8.6660\n",
            "Epoch 19/45\n",
            "\u001b[1m394/394\u001b[0m \u001b[32m━━━━━━━━━━━━━━━━━━━━\u001b[0m\u001b[37m\u001b[0m \u001b[1m95s\u001b[0m 241ms/step - accuracy: 0.8747 - loss: 0.7652 - val_accuracy: 0.0724 - val_loss: 8.8513\n",
            "Epoch 20/45\n",
            "\u001b[1m394/394\u001b[0m \u001b[32m━━━━━━━━━━━━━━━━━━━━\u001b[0m\u001b[37m\u001b[0m \u001b[1m141s\u001b[0m 238ms/step - accuracy: 0.9038 - loss: 0.6305 - val_accuracy: 0.0773 - val_loss: 9.1745\n",
            "Epoch 21/45\n",
            "\u001b[1m394/394\u001b[0m \u001b[32m━━━━━━━━━━━━━━━━━━━━\u001b[0m\u001b[37m\u001b[0m \u001b[1m170s\u001b[0m 308ms/step - accuracy: 0.9238 - loss: 0.5116 - val_accuracy: 0.0712 - val_loss: 9.5338\n",
            "Epoch 22/45\n",
            "\u001b[1m394/394\u001b[0m \u001b[32m━━━━━━━━━━━━━━━━━━━━\u001b[0m\u001b[37m\u001b[0m \u001b[1m121s\u001b[0m 255ms/step - accuracy: 0.9435 - loss: 0.4001 - val_accuracy: 0.0814 - val_loss: 9.7661\n",
            "Epoch 23/45\n",
            "\u001b[1m394/394\u001b[0m \u001b[32m━━━━━━━━━━━━━━━━━━━━\u001b[0m\u001b[37m\u001b[0m \u001b[1m137s\u001b[0m 243ms/step - accuracy: 0.9573 - loss: 0.3142 - val_accuracy: 0.0671 - val_loss: 9.9603\n",
            "Epoch 24/45\n",
            "\u001b[1m394/394\u001b[0m \u001b[32m━━━━━━━━━━━━━━━━━━━━\u001b[0m\u001b[37m\u001b[0m \u001b[1m140s\u001b[0m 238ms/step - accuracy: 0.9660 - loss: 0.2399 - val_accuracy: 0.0822 - val_loss: 10.0501\n",
            "Epoch 25/45\n",
            "\u001b[1m394/394\u001b[0m \u001b[32m━━━━━━━━━━━━━━━━━━━━\u001b[0m\u001b[37m\u001b[0m \u001b[1m95s\u001b[0m 241ms/step - accuracy: 0.9731 - loss: 0.1906 - val_accuracy: 0.0735 - val_loss: 10.4128\n",
            "Epoch 26/45\n",
            "\u001b[1m394/394\u001b[0m \u001b[32m━━━━━━━━━━━━━━━━━━━━\u001b[0m\u001b[37m\u001b[0m \u001b[1m141s\u001b[0m 238ms/step - accuracy: 0.9767 - loss: 0.1507 - val_accuracy: 0.0712 - val_loss: 10.5509\n",
            "Epoch 27/45\n",
            "\u001b[1m394/394\u001b[0m \u001b[32m━━━━━━━━━━━━━━━━━━━━\u001b[0m\u001b[37m\u001b[0m \u001b[1m144s\u001b[0m 243ms/step - accuracy: 0.9803 - loss: 0.1262 - val_accuracy: 0.0712 - val_loss: 10.8643\n",
            "Epoch 28/45\n",
            "\u001b[1m394/394\u001b[0m \u001b[32m━━━━━━━━━━━━━━━━━━━━\u001b[0m\u001b[37m\u001b[0m \u001b[1m94s\u001b[0m 239ms/step - accuracy: 0.9835 - loss: 0.1069 - val_accuracy: 0.0694 - val_loss: 10.9503\n",
            "Epoch 29/45\n",
            "\u001b[1m394/394\u001b[0m \u001b[32m━━━━━━━━━━━━━━━━━━━━\u001b[0m\u001b[37m\u001b[0m \u001b[1m95s\u001b[0m 242ms/step - accuracy: 0.9846 - loss: 0.0964 - val_accuracy: 0.0724 - val_loss: 11.1690\n",
            "Epoch 30/45\n",
            "\u001b[1m394/394\u001b[0m \u001b[32m━━━━━━━━━━━━━━━━━━━━\u001b[0m\u001b[37m\u001b[0m \u001b[1m141s\u001b[0m 239ms/step - accuracy: 0.9849 - loss: 0.0872 - val_accuracy: 0.0773 - val_loss: 11.2346\n",
            "Epoch 31/45\n",
            "\u001b[1m394/394\u001b[0m \u001b[32m━━━━━━━━━━━━━━━━━━━━\u001b[0m\u001b[37m\u001b[0m \u001b[1m143s\u001b[0m 242ms/step - accuracy: 0.9865 - loss: 0.0780 - val_accuracy: 0.0765 - val_loss: 11.4194\n",
            "Epoch 32/45\n",
            "\u001b[1m394/394\u001b[0m \u001b[32m━━━━━━━━━━━━━━━━━━━━\u001b[0m\u001b[37m\u001b[0m \u001b[1m141s\u001b[0m 241ms/step - accuracy: 0.9875 - loss: 0.0753 - val_accuracy: 0.0746 - val_loss: 11.5284\n",
            "Epoch 33/45\n",
            "\u001b[1m394/394\u001b[0m \u001b[32m━━━━━━━━━━━━━━━━━━━━\u001b[0m\u001b[37m\u001b[0m \u001b[1m143s\u001b[0m 243ms/step - accuracy: 0.9896 - loss: 0.0641 - val_accuracy: 0.0697 - val_loss: 11.5689\n",
            "Epoch 34/45\n",
            "\u001b[1m394/394\u001b[0m \u001b[32m━━━━━━━━━━━━━━━━━━━━\u001b[0m\u001b[37m\u001b[0m \u001b[1m95s\u001b[0m 240ms/step - accuracy: 0.9889 - loss: 0.0636 - val_accuracy: 0.0769 - val_loss: 11.6296\n",
            "Epoch 35/45\n",
            "\u001b[1m394/394\u001b[0m \u001b[32m━━━━━━━━━━━━━━━━━━━━\u001b[0m\u001b[37m\u001b[0m \u001b[1m143s\u001b[0m 242ms/step - accuracy: 0.9905 - loss: 0.0575 - val_accuracy: 0.0739 - val_loss: 12.0215\n",
            "Epoch 36/45\n",
            "\u001b[1m394/394\u001b[0m \u001b[32m━━━━━━━━━━━━━━━━━━━━\u001b[0m\u001b[37m\u001b[0m \u001b[1m97s\u001b[0m 246ms/step - accuracy: 0.9899 - loss: 0.0578 - val_accuracy: 0.0739 - val_loss: 12.0184\n",
            "Epoch 37/45\n",
            "\u001b[1m394/394\u001b[0m \u001b[32m━━━━━━━━━━━━━━━━━━━━\u001b[0m\u001b[37m\u001b[0m \u001b[1m94s\u001b[0m 238ms/step - accuracy: 0.9900 - loss: 0.0557 - val_accuracy: 0.0701 - val_loss: 12.0841\n",
            "Epoch 38/45\n",
            "\u001b[1m394/394\u001b[0m \u001b[32m━━━━━━━━━━━━━━━━━━━━\u001b[0m\u001b[37m\u001b[0m \u001b[1m96s\u001b[0m 243ms/step - accuracy: 0.9906 - loss: 0.0548 - val_accuracy: 0.0678 - val_loss: 12.2474\n",
            "Epoch 39/45\n",
            "\u001b[1m394/394\u001b[0m \u001b[32m━━━━━━━━━━━━━━━━━━━━\u001b[0m\u001b[37m\u001b[0m \u001b[1m140s\u001b[0m 240ms/step - accuracy: 0.9900 - loss: 0.0550 - val_accuracy: 0.0788 - val_loss: 11.9740\n",
            "Epoch 40/45\n",
            "\u001b[1m394/394\u001b[0m \u001b[32m━━━━━━━━━━━━━━━━━━━━\u001b[0m\u001b[37m\u001b[0m \u001b[1m143s\u001b[0m 242ms/step - accuracy: 0.9919 - loss: 0.0475 - val_accuracy: 0.0761 - val_loss: 12.4165\n",
            "Epoch 41/45\n",
            "\u001b[1m394/394\u001b[0m \u001b[32m━━━━━━━━━━━━━━━━━━━━\u001b[0m\u001b[37m\u001b[0m \u001b[1m140s\u001b[0m 238ms/step - accuracy: 0.9905 - loss: 0.0505 - val_accuracy: 0.0746 - val_loss: 12.3530\n",
            "Epoch 42/45\n",
            "\u001b[1m394/394\u001b[0m \u001b[32m━━━━━━━━━━━━━━━━━━━━\u001b[0m\u001b[37m\u001b[0m \u001b[1m97s\u001b[0m 245ms/step - accuracy: 0.9911 - loss: 0.0486 - val_accuracy: 0.0754 - val_loss: 12.2292\n",
            "Epoch 43/45\n",
            "\u001b[1m394/394\u001b[0m \u001b[32m━━━━━━━━━━━━━━━━━━━━\u001b[0m\u001b[37m\u001b[0m \u001b[1m139s\u001b[0m 239ms/step - accuracy: 0.9908 - loss: 0.0489 - val_accuracy: 0.0678 - val_loss: 12.5345\n",
            "Epoch 44/45\n",
            "\u001b[1m394/394\u001b[0m \u001b[32m━━━━━━━━━━━━━━━━━━━━\u001b[0m\u001b[37m\u001b[0m \u001b[1m143s\u001b[0m 242ms/step - accuracy: 0.9913 - loss: 0.0462 - val_accuracy: 0.0746 - val_loss: 12.4227\n",
            "Epoch 45/45\n",
            "\u001b[1m394/394\u001b[0m \u001b[32m━━━━━━━━━━━━━━━━━━━━\u001b[0m\u001b[37m\u001b[0m \u001b[1m141s\u001b[0m 239ms/step - accuracy: 0.9925 - loss: 0.0412 - val_accuracy: 0.0765 - val_loss: 12.5036\n"
          ]
        }
      ]
    },
    {
      "cell_type": "markdown",
      "source": [
        "Save the model"
      ],
      "metadata": {
        "id": "ASXVKsfkfVs8"
      }
    },
    {
      "cell_type": "code",
      "source": [
        "model.save('grp10_nextWord_1.keras')\n",
        "pickle.dump(history, open(\"history.p\", \"wb\"))\n",
        "model = load_model('grp10_nextWord_1.keras')\n",
        "history = pickle.load(open(\"history.p\", \"rb\"))"
      ],
      "metadata": {
        "id": "WGAj3Ga3fY36"
      },
      "execution_count": 10,
      "outputs": []
    },
    {
      "cell_type": "markdown",
      "source": [
        "# Evaluate the model"
      ],
      "metadata": {
        "id": "EgHOKXyXflDB"
      }
    },
    {
      "cell_type": "code",
      "source": [
        "plt.plot(history['accuracy'])\n",
        "plt.plot(history['val_accuracy'])\n",
        "plt.title('model accuracy')\n",
        "plt.ylabel('accuracy')\n",
        "plt.xlabel('epoch')\n",
        "plt.legend(['train', 'test'], loc='upper left')"
      ],
      "metadata": {
        "id": "DOUsO7jkfoJ8",
        "outputId": "8fbdc51f-4f8b-4e0c-e0a6-43daf55c4ced",
        "colab": {
          "base_uri": "https://localhost:8080/",
          "height": 489
        }
      },
      "execution_count": 11,
      "outputs": [
        {
          "output_type": "execute_result",
          "data": {
            "text/plain": [
              "<matplotlib.legend.Legend at 0x7834043f7c40>"
            ]
          },
          "metadata": {},
          "execution_count": 11
        },
        {
          "output_type": "display_data",
          "data": {
            "text/plain": [
              "<Figure size 640x480 with 1 Axes>"
            ],
            "image/png": "[encoded data removed]"
          },
          "metadata": {}
        }
      ]
    },
    {
      "cell_type": "code",
      "source": [
        "plt.plot(history['loss'])\n",
        "plt.plot(history['val_loss'])\n",
        "plt.title('model loss')\n",
        "plt.ylabel('loss')\n",
        "plt.xlabel('epoch')\n",
        "plt.legend(['train', 'test'], loc='upper left')"
      ],
      "metadata": {
        "id": "J0x9zimgfvDA",
        "outputId": "2221e85b-7fe9-4cf4-9c81-7bff38ade0a3",
        "colab": {
          "base_uri": "https://localhost:8080/",
          "height": 489
        }
      },
      "execution_count": 12,
      "outputs": [
        {
          "output_type": "execute_result",
          "data": {
            "text/plain": [
              "<matplotlib.legend.Legend at 0x7834042c9ea0>"
            ]
          },
          "metadata": {},
          "execution_count": 12
        },
        {
          "output_type": "display_data",
          "data": {
            "text/plain": [
              "<Figure size 640x480 with 1 Axes>"
            ],
            "image/png": "[encoded data removed]"
          },
          "metadata": {}
        }
      ]
    },
    {
      "cell_type": "markdown",
      "source": [
        "# Next word prediction"
      ],
      "metadata": {
        "id": "9RTXJ8Caf4dC"
      }
    },
    {
      "cell_type": "code",
      "source": [
        "def prepare_input(text):\n",
        "    # Convert text to lowercase and tokenize\n",
        "    words = tokenizer.tokenize(text.lower())\n",
        "    # Get the last WORD_LENGTH words\n",
        "    input_words = words[-WORD_LENGTH:]\n",
        "    # Create an empty input array with the same shape as used during training\n",
        "    x = np.zeros((1, WORD_LENGTH, len(unique_words)))\n",
        "    # Encode the input words using the unique word index\n",
        "    for i, word in enumerate(input_words):\n",
        "        if word in unique_word_index:\n",
        "            x[0, i, unique_word_index[word]] = 1\n",
        "    return x"
      ],
      "metadata": {
        "id": "3XbFfg2mf78a"
      },
      "execution_count": 13,
      "outputs": []
    },
    {
      "cell_type": "markdown",
      "source": [
        "Some text for testing"
      ],
      "metadata": {
        "id": "LTt5K8hNh3kf"
      }
    },
    {
      "cell_type": "code",
      "source": [
        "quotes = [\n",
        "    \"It is not a lack of love but a lack of friendship that makes unhappy marriages.\",\n",
        "    \"That which does not kill us makes us stronger.\",\n",
        "    \"I'm not upset that you lied to me, I'm upset that from now on I can't believe you.\",\n",
        "    \"And those who were seen dancing were thought to be insane by those who could not hear the music.\",\n",
        "    \"It is hard enough to remember my opinions, without also remembering my reasons for them!\"\n",
        "]"
      ],
      "metadata": {
        "id": "sInOxyyph8bH"
      },
      "execution_count": 14,
      "outputs": []
    },
    {
      "cell_type": "markdown",
      "source": [
        "# Test Model"
      ],
      "metadata": {
        "id": "EZVk7e1liAXm"
      }
    },
    {
      "cell_type": "code",
      "source": [
        "def predict_next_word(text):\n",
        "\n",
        "    # Prepare the input text\n",
        "    x = prepare_input(text)\n",
        "    # Use the model to make a prediction\n",
        "    preds = model.predict(x, verbose=0)[0]\n",
        "    # Get the index of the word with the highest probability\n",
        "    next_index = np.argmax(preds)\n",
        "    # Get the actual word from the unique word index\n",
        "    next_word = unique_words[next_index]\n",
        "    return next_word\n",
        "\n",
        "\n",
        "def predict_next_words(text, num_words=5):\n",
        "    # Prepare the input text\n",
        "    x = prepare_input(text)\n",
        "    # Use the model to make a prediction\n",
        "    preds = model.predict(x, verbose=0)[0]\n",
        "    # Get the indices of the top num_words most likely words\n",
        "    top_indices = heapq.nlargest(num_words, range(len(preds)), preds.take)\n",
        "    # Get the corresponding words from the unique word index\n",
        "    predicted_words = [unique_words[i] for i in top_indices]\n",
        "    return predicted_words"
      ],
      "metadata": {
        "id": "NswecBvCiGLe"
      },
      "execution_count": 15,
      "outputs": []
    },
    {
      "cell_type": "code",
      "source": [
        "# Example usage:\n",
        "input_text = \"the quick brown fox\"\n",
        "next_word = predict_next_word(input_text)\n",
        "print(f\"Input Text: {input_text}\")\n",
        "print(f\"Predicted Next Word: {next_word}\")\n",
        "\n",
        "# Example usage:\n",
        "input_text = \"the quick brown fox\"\n",
        "predicted_words = predict_next_words(input_text, num_words=5)\n",
        "print(f\"Input Text: {input_text}\")\n",
        "print(f\"Predicted Next Words: {predicted_words}\")"
      ],
      "metadata": {
        "id": "59yxE5qeiT_3",
        "outputId": "64761dcd-089a-476c-e108-54a0be3c7f2b",
        "colab": {
          "base_uri": "https://localhost:8080/"
        }
      },
      "execution_count": 16,
      "outputs": [
        {
          "output_type": "stream",
          "name": "stdout",
          "text": [
            "Input Text: the quick brown fox\n",
            "Predicted Next Word: reply\n",
            "Input Text: the quick brown fox\n",
            "Predicted Next Words: ['reply', 'from', 'voices', 'sheet', 'four']\n"
          ]
        }
      ]
    },
    {
      "cell_type": "code",
      "source": [
        "for q in quotes:\n",
        "    seq = q[:40].lower()\n",
        "    predicted_words = predict_next_words(seq)\n",
        "    print(f\"Input Text: {seq}\")\n",
        "    print(f\"Predicted Next Words: {predicted_words}\\n\")"
      ],
      "metadata": {
        "id": "CoY0VPSfih5s",
        "outputId": "ca9a3b1e-7d84-4be4-c039-62183ac47615",
        "colab": {
          "base_uri": "https://localhost:8080/"
        }
      },
      "execution_count": 17,
      "outputs": [
        {
          "output_type": "stream",
          "name": "stdout",
          "text": [
            "Input Text: it is not a lack of love but a lack of f\n",
            "Predicted Next Words: ['in', 'who', 'locked', 'natural', 'on']\n",
            "\n",
            "Input Text: that which does not kill us makes us str\n",
            "Predicted Next Words: ['a', 'as', 'from', 'on', 'is']\n",
            "\n",
            "Input Text: i'm not upset that you lied to me, i'm u\n",
            "Predicted Next Words: ['whether', 'belt', 'heart', 'invisible', 'income']\n",
            "\n",
            "Input Text: and those who were seen dancing were tho\n",
            "Predicted Next Words: ['in', 'a', 'they', 'black', 'to']\n",
            "\n",
            "Input Text: it is hard enough to remember my opinion\n",
            "Predicted Next Words: ['i', 'we', 'and', 'which', 's']\n",
            "\n"
          ]
        }
      ]
    }
  ]
}