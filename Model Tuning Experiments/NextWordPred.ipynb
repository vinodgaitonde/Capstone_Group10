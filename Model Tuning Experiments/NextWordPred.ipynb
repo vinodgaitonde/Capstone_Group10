{
  "nbformat": 4,
  "nbformat_minor": 0,
  "metadata": {
    "colab": {
      "provenance": [],
      "gpuType": "T4",
      "include_colab_link": true
    },
    "kernelspec": {
      "name": "python3",
      "display_name": "Python 3"
    },
    "language_info": {
      "name": "python"
    },
    "accelerator": "GPU"
  },
  "cells": [
    {
      "cell_type": "markdown",
      "metadata": {
        "id": "view-in-github",
        "colab_type": "text"
      },
      "source": [
        "<a href=\"https://colab.research.google.com/github/vinodgaitonde/ProjIdeas/blob/main/NextWordPred.ipynb\" target=\"_parent\"><img src=\"https://colab.research.google.com/assets/colab-badge.svg\" alt=\"Open In Colab\"/></a>"
      ]
    },
    {
      "cell_type": "markdown",
      "source": [
        "# Imports"
      ],
      "metadata": {
        "id": "zKxhkpON3PuA"
      }
    },
    {
      "cell_type": "code",
      "execution_count": 1,
      "metadata": {
        "id": "I10yjA61zdu8"
      },
      "outputs": [],
      "source": [
        "import numpy as np\n",
        "import tensorflow as tf\n",
        "#import re\n",
        "from tensorflow.keras.preprocessing.text import Tokenizer\n",
        "from tensorflow.keras.preprocessing.sequence import pad_sequences\n",
        "#from nltk.tokenize import RegexpTokenizer\n",
        "from tensorflow.keras.models import Sequential, load_model\n",
        "from tensorflow.keras.layers import LSTM, Embedding, Dense, Activation\n",
        "from tensorflow.keras.optimizers import RMSprop\n",
        "import matplotlib.pyplot as plt\n",
        "import pickle\n",
        "import heapq"
      ]
    },
    {
      "cell_type": "markdown",
      "source": [
        "# Read the Data from the file"
      ],
      "metadata": {
        "id": "uWvnIIRz3HhU"
      }
    },
    {
      "cell_type": "code",
      "source": [
        "with open('./sample_data/1661-split.txt', 'r', encoding='utf-8') as file:\n",
        "    text = file.read()\n",
        "\n",
        "#with open('./sample_data/1661-half.txt', 'r') as f:\n",
        "#    text = f.read().lower()\n",
        "print('corpus length:', len(text))\n",
        "print(text[:100])"
      ],
      "metadata": {
        "colab": {
          "base_uri": "https://localhost:8080/"
        },
        "id": "1c0jcjLn2GjN",
        "outputId": "70d0923f-7eec-431f-a32e-53d42c731ffb"
      },
      "execution_count": 3,
      "outputs": [
        {
          "output_type": "stream",
          "name": "stdout",
          "text": [
            "corpus length: 282300\n",
            "﻿\n",
            "Project Gutenberg's The Adventures of Sherlock Holmes, by Arthur Conan Doyle\n",
            "\n",
            "This eBook is for th\n"
          ]
        }
      ]
    },
    {
      "cell_type": "markdown",
      "source": [
        "# Tokenize and Create Uniue Word Dictionary\n",
        "Now split the dataset into each word in order but without the presence of some special characters."
      ],
      "metadata": {
        "id": "fqaPI5x-3Z2o"
      }
    },
    {
      "cell_type": "code",
      "source": [
        "#tokenizer = RegexpTokenizer(r'[^a-zA-Z0-9\\s]', '')\n",
        "#tokenizer = RegexpTokenizer(r'\\w+')\n",
        "#words = tokenizer.tokenize(text)\n",
        "\n",
        "tokenizer = Tokenizer()\n",
        "tokenizer.fit_on_texts([text])\n",
        "# Get the word index\n",
        "word_index = tokenizer.word_index\n",
        "\n",
        "total_words = len(tokenizer.word_index) + 1\n",
        "\n",
        "print(\"tokenizer.word_index: \",len(tokenizer.word_index))\n",
        "print(\"total_words: \",total_words)\n",
        "#print first 100 words\n",
        "print(\"word_index : \",tokenizer.word_index)"
      ],
      "metadata": {
        "colab": {
          "base_uri": "https://localhost:8080/"
        },
        "id": "JXu1czih2ULB",
        "outputId": "db17753b-ad35-485c-8fc5-ac9e19b4e492"
      },
      "execution_count": 4,
      "outputs": [
        {
          "output_type": "stream",
          "name": "stdout",
          "text": [
            "tokenizer.word_index:  6152\n",
            "total_words:  6153\n",
            "word_index :  {'the': 1, 'and': 2, 'of': 3, 'to': 4, 'a': 5, '”': 6, 'i': 7, 'in': 8, 'that': 9, 'he': 10, 'it': 11, 'was': 12, 'his': 13, 'you': 14, 'is': 15, 'as': 16, 'have': 17, 'with': 18, 'my': 19, 'had': 20, 'which': 21, 'at': 22, 'for': 23, 'not': 24, 'be': 25, 'me': 26, 'but': 27, 'upon': 28, 'from': 29, 'holmes': 30, 'him': 31, 'said': 32, 'we': 33, 'there': 34, 'this': 35, 'been': 36, 'so': 37, 'on': 38, '“i': 39, 'very': 40, 'all': 41, 'by': 42, 'an': 43, 'she': 44, 'one': 45, 'her': 46, 'are': 47, 'were': 48, 'would': 49, 'your': 50, 'man': 51, 'when': 52, 'no': 53, 'out': 54, 'mr': 55, 'what': 56, 'up': 57, 'do': 58, 'could': 59, 'then': 60, 'some': 61, '’': 62, 'has': 63, 'will': 64, 'who': 65, 'little': 66, 'down': 67, 'if': 68, 'or': 69, 'see': 70, 'into': 71, 'may': 72, 'am': 73, 'now': 74, 'us': 75, 'they': 76, 'come': 77, 'know': 78, 'can': 79, 'must': 80, 'more': 81, 'over': 82, 'about': 83, 'than': 84, 'should': 85, 'did': 86, 'two': 87, 'other': 88, 'shall': 89, 'our': 90, '“it': 91, 'time': 92, 'before': 93, 'them': 94, 'only': 95, 'case': 96, 'such': 97, 'think': 98, 'face': 99, '“and': 100, 'much': 101, '“you': 102, 'back': 103, 'well': 104, 'room': 105, 'day': 106, 'sherlock': 107, 'came': 108, 'found': 109, 'might': 110, 'father': 111, 'way': 112, 'made': 113, 'here': 114, 'any': 115, 'how': 116, 'hand': 117, 'never': 118, 'own': 119, 'street': 120, 'just': 121, 'nothing': 122, 'their': 123, 'where': 124, 'left': 125, 'good': 126, 'matter': 127, 'however': 128, 'door': 129, 'heard': 130, 'yet': 131, 'right': 132, 'young': 133, 'took': 134, 'after': 135, 'eyes': 136, 'morning': 137, 'away': 138, 'most': 139, 'first': 140, 'every': 141, 'like': 142, 'watson': 143, 'long': 144, '“the': 145, 'asked': 146, '“but': 147, 'go': 148, 'seen': 149, 'himself': 150, '“yes': 151, 'say': 152, 'find': 153, 'last': 154, 'red': 155, 'through': 156, 'remarked': 157, 'until': 158, 'still': 159, 'side': 160, 'house': 161, 'quite': 162, 'take': 163, 'too': 164, '“well': 165, 'night': 166, 'small': 167, 'its': 168, 'business': 169, 'st': 170, 'done': 171, 'those': 172, '“what': 173, 'once': 174, 'while': 175, 'between': 176, 'rather': 177, 'home': 178, 'old': 179, 'tell': 180, 'having': 181, 'answered': 182, 'paper': 183, 'three': 184, 'off': 185, 'doubt': 186, 'even': 187, 'head': 188, 'half': 189, 'thought': 190, '“then': 191, 'though': 192, 'chair': 193, '“that': 194, 'seemed': 195, 'these': 196, 'saw': 197, 'myself': 198, 'window': 199, 'mccarthy': 200, 'always': 201, 'ever': 202, 'friend': 203, 'few': 204, 'without': 205, 'make': 206, 'great': 207, 'men': 208, '“no': 209, 'anything': 210, 'years': 211, 'something': 212, 'life': 213, 'mind': 214, 'looked': 215, 'black': 216, 'course': 217, 'let': 218, 'also': 219, 'get': 220, 'behind': 221, 'put': 222, 'far': 223, 'cried': 224, 'papers': 225, 'looking': 226, 'woman': 227, 'hands': 228, 'look': 229, 'minutes': 230, 'give': 231, 'police': 232, 'again': 233, 'thing': 234, 'point': 235, 'light': 236, 'sat': 237, 'really': 238, '“he': 239, 'under': 240, 'name': 241, 'against': 242, 'work': 243, 'hat': 244, 'help': 245, 'many': 246, 'understand': 247, '“oh': 248, 'lay': 249, 'sir': 250, 'dear': 251, 'round': 252, 'indeed': 253, 'open': 254, 'end': 255, 'days': 256, 'front': 257, 'went': 258, 'knew': 259, 'london': 260, 'being': 261, 'why': 262, 'does': 263, 'interest': 264, 'wish': 265, 'letter': 266, 'got': 267, 'son': 268, 'use': 269, 'five': 270, 'whole': 271, 'singular': 272, 'yourself': 273, 'wife': 274, 'clear': 275, 'both': 276, 'facts': 277, 'photograph': 278, 'four': 279, 'turned': 280, 'within': 281, 'possible': 282, 'lestrade': 283, 'clair': 284, 'headed': 285, 'fire': 286, 'table': 287, 'money': 288, 'else': 289, 'better': 290, 'miss': 291, 'letters': 292, 'already': 293, 'leave': 294, 'same': 295, 'cry': 296, 'enough': 297, 'note': 298, 'call': 299, 'less': 300, 'able': 301, 'john': 302, 'brought': 303, 'words': 304, 'hosmer': 305, 'crime': 306, '“my': 307, '“this': 308, 'gentleman': 309, 'either': 310, 'whom': 311, 'strange': 312, 'king': 313, 'sure': 314, 'question': 315, 'turner': 316, 'read': 317, 'hair': 318, 'city': 319, 'cannot': 320, 'returned': 321, 'hardly': 322, 'across': 323, 'steps': 324, 'address': 325, 'doctor': 326, 'coat': 327, 'present': 328, 'lodge': 329, 'cab': 330, 'lady': 331, 'wilson': 332, 'fact': 333, 'office': 334, 'inspector': 335, 'windibank': 336, 'pool': 337, 'k': 338, 'dark': 339, 'told': 340, 'part': 341, 'true': 342, 'country': 343, 'entered': 344, 'called': 345, 'gave': 346, 'perhaps': 347, 'suddenly': 348, 'obvious': 349, 'angel': 350, 'neville': 351, 'set': 352, 'league': 353, 'each': 354, 'among': 355, 'new': 356, 'word': 357, 'corner': 358, 'stood': 359, 'seven': 360, 'since': 361, 'written': 362, 'sitting': 363, 'another': 364, 'near': 365, 'whether': 366, 'evening': 367, 'fellow': 368, 'going': 369, 'adler': 370, 'save': 371, 'strong': 372, 'baker': 373, 'week': 374, 'account': 375, 'together': 376, 'hear': 377, 'simple': 378, 'o’clock': 379, 'taken': 380, 'majesty': 381, 'known': 382, 'started': 383, 'sort': 384, 'gone': 385, 'body': 386, 'met': 387, 'james': 388, 'boscombe': 389, 'felt': 390, 'attention': 391, 'led': 392, 'story': 393, 'given': 394, 'don’t': 395, '“there': 396, 'heavy': 397, 'want': 398, 'deep': 399, 'appeared': 400, 'none': 401, 'soon': 402, 'quick': 403, 'drove': 404, 'air': 405, 'mean': 406, 'hours': 407, 'hope': 408, 'several': 409, 'above': 410, 'used': 411, 'afraid': 412, '£': 413, 'place': 414, 'points': 415, 'happened': 416, 'openshaw': 417, 'mystery': 418, 'irene': 419, 'things': 420, 'companion': 421, 'passed': 422, 'certainly': 423, 'six': 424, 'observed': 425, 'visitor': 426, 'large': 427, 'followed': 428, 'lost': 429, 'past': 430, 'cases': 431, '“if': 432, '“your': 433, 'became': 434, '“we': 435, 'bring': 436, 'laid': 437, 'walked': 438, 'twenty': 439, 'others': 440, 'hard': 441, 'ten': 442, 'rushed': 443, 'husband': 444, 'reason': 445, 'ran': 446, 'held': 447, 'square': 448, 'considerable': 449, 'assistant': 450, 'town': 451, 'nature': 452, 'late': 453, 'family': 454, 'twice': 455, 'imagine': 456, 'wrote': 457, 'glancing': 458, 'best': 459, 'feet': 460, 'single': 461, 'ground': 462, '“why': 463, 'beside': 464, 'station': 465, 'road': 466, 'floor': 467, 'remarkable': 468, 'pocket': 469, 'instant': 470, 'easy': 471, 'remember': 472, 'forward': 473, 'ross': 474, 'court': 475, 'pipe': 476, 'bank': 477, 'mother': 478, 'pips': 479, 'adventure': 480, 'bell': 481, 'eye': 482, '“how': 483, 'moment': 484, 'importance': 485, '“not': 486, 'hundred': 487, 'shoulders': 488, 'boots': 489, 'surprise': 490, 'white': 491, 'year': 492, 'sign': 493, '“to': 494, 'daughter': 495, 'monday': 496, 'began': 497, 'object': 498, 'fear': 499, 'pulled': 500, 'god': 501, 'waiting': 502, 'mine': 503, 'box': 504, 'rest': 505, 'keep': 506, 'advertisement': 507, 'effect': 508, 'colour': 509, 'sight': 510, 'merryweather': 511, 'idea': 512, 'coroner': 513, 'envelope': 514, 'opium': 515, 'den': 516, 'lascar': 517, 'anyone': 518, 'almost': 519, 'bohemia': 520, 'orange': 521, 'love': 522, 'high': 523, 'manner': 524, 'problem': 525, 'threw': 526, 'girl': 527, 'clothes': 528, 'double': 529, 'laughing': 530, 'believe': 531, '“a': 532, 'hour': 533, 'death': 534, 'sent': 535, 'carried': 536, 'broad': 537, 'voice': 538, 'person': 539, 'client': 540, 'gold': 541, 'briony': 542, 'morrow': 543, 'lane': 544, 'quietly': 545, 'important': 546, 'likely': 547, 'details': 548, 'towards': 549, 'streets': 550, 'mrs': 551, 'dressed': 552, 'carriage': 553, 'dead': 554, 'silence': 555, 'events': 556, 'grey': 557, 'ready': 558, 'clay': 559, 'talk': 560, 'jones': 561, 'blue': 562, 'position': 563, 'society': 564, 'finally': 565, 'armchair': 566, 'sheet': 567, 'eight': 568, 'writing': 569, 'boy': 570, 'peculiar': 571, 'continued': 572, 'step': 573, 'passage': 574, 'appearance': 575, 'caught': 576, 'glanced': 577, 'sprang': 578, 'during': 579, 'difficult': 580, 'laughed': 581, 'serious': 582, 'married': 583, 'second': 584, 'news': 585, 'opened': 586, 'bedroom': 587, 'least': 588, 'whose': 589, 'deal': 590, 'wait': 591, 'church': 592, 'hurried': 593, 'standing': 594, 'dropped': 595, 'seems': 596, 'absolutely': 597, 'drive': 598, 'different': 599, 'chance': 600, 'action': 601, 'smoke': 602, 'entirely': 603, 'coming': 604, 'blow': 605, 'struck': 606, 'heart': 607, 'ask': 608, 'lips': 609, 'weeks': 610, 'foot': 611, 'water': 612, 'thin': 613, 'instantly': 614, '“thank': 615, 'man’s': 616, 'alive': 617, 'uncle': 618, 'seeing': 619, 'hatherley': 620, 'keeper': 621, 'horsham': 622, 'date': 623, 'lip': 624, 'cold': 625, 'spoke': 626, 'results': 627, 'remained': 628, 'study': 629, 'extraordinary': 630, 'figure': 631, 'glad': 632, 'fashion': 633, 'deduce': 634, 'walk': 635, 'can’t': 636, 'someone': 637, 'top': 638, 'yours': 639, 'often': 640, 'times': 641, 'interested': 642, 'thick': 643, 'matters': 644, 'received': 645, 'brown': 646, 'comes': 647, 'sharp': 648, 'sound': 649, 'sit': 650, 'bad': 651, 'alone': 652, 'attempt': 653, 'doing': 654, 'pray': 655, '“so': 656, 'send': 657, 'line': 658, 'afternoon': 659, 'close': 660, 'reached': 661, 'expected': 662, 'people': 663, 'neighbourhood': 664, 'listened': 665, 'turn': 666, 'watch': 667, 'won’t': 668, 'usual': 669, 'raise': 670, 'cigar': 671, 'quiet': 672, '“they': 673, 'need': 674, 'engaged': 675, 'months': 676, 'ring': 677, 'sutherland': 678, 'coburg': 679, 'experience': 680, 'cellar': 681, 'didn’t': 682, 'advice': 683, 'knowledge': 684, 'short': 685, 'danger': 686, 'edge': 687, 'cut': 688, 'clue': 689, 'surprised': 690, 'stepfather': 691, 'traces': 692, 'evidence': 693, '“witness': 694, 'grew': 695, 'cleared': 696, 'ship': 697, 'adventures': 698, 'character': 699, 'throw': 700, 'power': 701, 'keen': 702, 'following': 703, 'lit': 704, 'spoken': 705, 'observe': 706, 'ago': 707, 'order': 708, 'mark': 709, 'appears': 710, '“quite': 711, 'hall': 712, 'because': 713, 'glance': 714, 'pair': 715, 'interesting': 716, 'dress': 717, 'england': 718, 'pushed': 719, 'trust': 720, 'agent': 721, 'secret': 722, 'follow': 723, 'pay': 724, '“very': 725, 'next': 726, '“certainly': 727, 'wood': 728, 'windows': 729, 'view': 730, 'tobacco': 731, 'arms': 732, 'running': 733, 'chain': 734, 'meet': 735, 'self': 736, 'ourselves': 737, 'holmes’': 738, 'contrary': 739, 'direction': 740, 'poor': 741, 'drawn': 742, 'showed': 743, 'fell': 744, 'making': 745, 'pavement': 746, 'shoulder': 747, 'walking': 748, 'wished': 749, '“on': 750, 'finger': 751, 'jabez': 752, 'remark': 753, 'slight': 754, 'shook': 755, '“ah': 756, 'age': 757, 'spaulding': 758, 'full': 759, 'live': 760, 'ways': 761, 'bright': 762, 'answer': 763, 'favour': 764, 'low': 765, '“in': 766, 'grass': 767, 'third': 768, 'tide': 769, 'amid': 770, 'goose': 771, 'pale': 772, 'innocent': 773, 'swandam': 774, 'english': 775, 'scandal': 776, 'valley': 777, 'reasoning': 778, 'memory': 779, 'marriage': 780, 'soul': 781, 'official': 782, 'murder': 783, 'signs': 784, 'returning': 785, 'tall': 786, 'spare': 787, 'hot': 788, 'shown': 789, 'kindly': 790, 'lived': 791, 'mary': 792, 'itself': 793, 'lead': 794, 'tinted': 795, 'lying': 796, 'post': 797, 'houses': 798, 'german': 799, 'scene': 800, 'glass': 801, 'therefore': 802, 'wanted': 803, 'there’s': 804, 'outside': 805, 'cloak': 806, 'upper': 807, 'marked': 808, '“pray': 809, 'extreme': 810, 'rose': 811, 'shrugged': 812, 'absolute': 813, 'excuse': 814, 'speak': 815, 'slowly': 816, '“none': 817, 'result': 818, 'saxe': 819, 'herself': 820, 'handed': 821, '“one': 822, 'features': 823, 'stretched': 824, 'dozen': 825, 'norton': 826, 'lawyer': 827, 'lose': 828, 'arrived': 829, 'faced': 830, 'secure': 831, 'law': 832, 'cause': 833, 'afterwards': 834, 'formidable': 835, 'taking': 836, 'remain': 837, 'fine': 838, 'description': 839, 'blood': 840, '“nothing': 841, 'cross': 842, 'return': 843, 'evil': 844, 'turning': 845, 'company': 846, 'it’s': 847, 'vacancy': 848, 'duncan': 849, 'track': 850, 'learn': 851, 'seem': 852, 'says': 853, 'worth': 854, 'real': 855, 'statement': 856, 'human': 857, 'exceedingly': 858, 'leaving': 859, 'pen': 860, 'yes': 861, 'knees': 862, 'yard': 863, 'france': 864, 'presence': 865, 'i’ll': 866, 'worn': 867, 'write': 868, 'breakfast': 869, 'occurred': 870, 'definite': 871, 'trap': 872, 'estate': 873, 'violence': 874, 'farm': 875, 'jury': 876, 'dying': 877, 'rain': 878, 'bent': 879, 'although': 880, 'lamp': 881, 'lee': 882, 'star': 883, 'boone': 884, 'start': 885, 'placed': 886, 'reasoner': 887, 'complete': 888, 'observation': 889, 'merely': 890, 'practice': 891, 'seized': 892, 'rooms': 893, 'swiftly': 894, 'inside': 895, 'show': 896, 'explain': 897, 'throwing': 898, 'example': 899, 'quarter': 900, 'wear': 901, 'means': 902, 'carefully': 903, 'examined': 904, 'ha': 905, 'wheels': 906, 'stay': 907, '“never': 908, 'rich': 909, 'thrown': 910, 'coloured': 911, 'neck': 912, 'impression': 913, 'wore': 914, 'suggestive': 915, 'aware': 916, 'circumstances': 917, 'passing': 918, 'opening': 919, 'subject': 920, 'thirty': 921, 'bag': 922, '“is': 923, 'pockets': 924, 'funny': 925, 'suppose': 926, 'garden': 927, 'probably': 928, 'field': 929, 'hurry': 930, 'shouted': 931, 'maid': 932, 'catch': 933, 'presently': 934, 'shot': 935, 'reach': 936, 'wind': 937, '“‘what': 938, 'whispered': 939, 'nearly': 940, 'cap': 941, 'number': 942, 'play': 943, 'fresh': 944, 'becomes': 945, 'weapon': 946, 'carry': 947, 'crowd': 948, 'watched': 949, 'he’s': 950, 'sofa': 951, 'waited': 952, 'perfectly': 953, 'determined': 954, 'drew': 955, 'nor': 956, 'change': 957, 'key': 958, '“now': 959, 'wonder': 960, 'hopes': 961, 'future': 962, '“mr': 963, 'train': 964, 'flight': 965, 'gives': 966, 'bowed': 967, 'beaten': 968, 'closed': 969, 'saying': 970, 'narrative': 971, 'connected': 972, 'impossible': 973, 'commonplace': 974, 'fortune': 975, '4': 976, 'apply': 977, 'offices': 978, 'earn': 979, '“‘and': 980, 'wooden': 981, 'ink': 982, 'locked': 983, 'piece': 984, 'become': 985, 'premises': 986, 'gained': 987, '“have': 988, 'lad': 989, 'opinion': 990, 'beg': 991, 'along': 992, 'shining': 993, 'criminal': 994, 'clearly': 995, 'parted': 996, 'game': 997, 'nine': 998, 'fantastic': 999, 'winding': 1000, 'stone': 1001, 'lantern': 1002, 'lens': 1003, 'bed': 1004, 'unless': 1005, 'sudden': 1006, 'silent': 1007, 'prisoner': 1008, 'spent': 1009, '“of': 1010, 'picked': 1011, 'husband’s': 1012, 'connection': 1013, 'oh': 1014, 'mad': 1015, 'surely': 1016, 'father’s': 1017, 'firm': 1018, 'typewritten': 1019, 'incident': 1020, 'free': 1021, 'rat': 1022, 'fate': 1023, 'farther': 1024, 'formed': 1025, 'gun': 1026, 'states': 1027, 'lies': 1028, 'natural': 1029, 'bristol': 1030, 'examination': 1031, 'spite': 1032, 'shattered': 1033, 'dried': 1034, 'bridge': 1035, 'river': 1036, 'lone': 1037, 'whitney': 1038, 'beggar': 1039, 'bradstreet': 1040, 'christmas': 1041, 'thumb': 1042, 'perfect': 1043, 'machine': 1044, 'delicate': 1045, 'master': 1046, 'drug': 1047, 'fierce': 1048, 'deeply': 1049, 'powers': 1050, 'clearing': 1051, 'tragedy': 1052, 'sunk': 1053, 'pounds': 1054, 'chuckled': 1055, 'leather': 1056, 'hence': 1057, 'dull': 1058, 'medical': 1059, 'easily': 1060, 'problems': 1061, 'chronicle': 1062, 'signature': 1063, 'consult': 1064, 'europe': 1065, 'mask': 1066, 'suit': 1067, 'instead': 1068, '“precisely': 1069, 'fifty': 1070, 'bit': 1071, 'stairs': 1072, 'immediately': 1073, 'lined': 1074, 'raised': 1075, 'dr': 1076, 'begin': 1077, 'promise': 1078, 'confess': 1079, 'delicacy': 1080, 'state': 1081, 'paced': 1082, 'putting': 1083, 'visit': 1084, 'familiar': 1085, '“was': 1086, 'private': 1087, 'recovered': 1088, 'pretty': 1089, 'women': 1090, 'marry': 1091, 'notes': 1092, 'book': 1093, 'serpentine': 1094, 'intention': 1095, 'situation': 1096, 'methods': 1097, 'friend’s': 1098, 'emerged': 1099, '“it’s': 1100, 'habits': 1101, 'goes': 1102, 'godfrey': 1103, 'cabman': 1104, 'driven': 1105, 'repeated': 1106, 'latter': 1107, 'hansom': 1108, 'talking': 1109, 'stepped': 1110, 'ear': 1111, 'run': 1112, 'paid': 1113, 'clergyman': 1114, 'saved': 1115, 'search': 1116, 'busy': 1117, 'breaking': 1118, 'whatever': 1119, 'ordinary': 1120, 'signal': 1121, 'disappeared': 1122, '“where': 1123, 'woman’s': 1124, 'neither': 1125, 'besides': 1126, 'dashed': 1127, 'quarrel': 1128, 'broke': 1129, 'centre': 1130, 'injured': 1131, 'couch': 1132, 'later': 1133, 'alarm': 1134, 'arm': 1135, 'trick': 1136, 'rush': 1137, 'finished': 1138, 'probable': 1139, '“good': 1140, 'youth': 1141, 'broken': 1142, 'questioning': 1143, '“do': 1144, 'kind': 1145, 'conclusion': 1146, 'conversation': 1147, 'presented': 1148, 'daring': 1149, 'rule': 1150, 'dirty': 1151, 'thrust': 1152, 'knee': 1153, 'clean': 1154, '“here': 1155, 'affair': 1156, '“his': 1157, 'vincent': 1158, '“‘why': 1159, 'couple': 1160, 'ears': 1161, 'west': 1162, 'folk': 1163, 'stair': 1164, 'unfortunate': 1165, 'friday': 1166, 'building': 1167, 'encyclopædia': 1168, 'knowing': 1169, 'fairly': 1170, 'saturday': 1171, 'middle': 1172, 'william': 1173, 'happy': 1174, '“as': 1175, 'keenly': 1176, 'fingers': 1177, 'early': 1178, 'evident': 1179, 'scotland': 1180, 'force': 1181, 'murderer': 1182, 'kept': 1183, 'weary': 1184, 'yellow': 1185, 'cloth': 1186, 'touch': 1187, 'settle': 1188, 'curious': 1189, 'convinced': 1190, 'assistance': 1191, 'leaves': 1192, 'astonishment': 1193, 'extremely': 1194, 'ball': 1195, 'prevent': 1196, 'fit': 1197, 'friends': 1198, 'leadenhall': 1199, 'plain': 1200, 'hotel': 1201, 'further': 1202, 'gather': 1203, 'strike': 1204, 'professional': 1205, 'appointment': 1206, 'covered': 1207, 'brother': 1208, 'pointed': 1209, 'aid': 1210, 'assizes': 1211, 'credit': 1212, 'series': 1213, 'yards': 1214, 'trouble': 1215, 'sometimes': 1216, 'tree': 1217, 'ballarat': 1218, 'possession': 1219, 'records': 1220, 'clad': 1221, 'america': 1222, 'sundial': 1223, 'dundee': 1224, 'waterloo': 1225, 'distance': 1226, 'savannah': 1227, 'madam': 1228, 'peterson': 1229, 'project': 1230, 'ebook': 1231, 'gutenberg': 1232, 'cover': 1233, 'identity': 1234, 'twisted': 1235, 'noble': 1236, 'observing': 1237, 'false': 1238, 'sneer': 1239, 'drawing': 1240, 'veil': 1241, 'lately': 1242, 'lodgings': 1243, 'energy': 1244, 'immense': 1245, 'vague': 1246, 'beyond': 1247, 'press': 1248, 'march': 1249, 'remembered': 1250, 'habit': 1251, 'scent': 1252, 'chamber': 1253, 'waved': 1254, '“indeed': 1255, 'fancy': 1256, 'getting': 1257, 'burned': 1258, 'fail': 1259, 'nervous': 1260, 'deduction': 1261, 'forefinger': 1262, 'profession': 1263, '“when': 1264, 'reasons': 1265, 'cigarette': 1266, 'pink': 1267, 'royal': 1268, 'theories': 1269, 'bought': 1270, 'stands': 1271, 'cloud': 1272, 'mistaken': 1273, 'nice': 1274, 'brougham': 1275, 'pity': 1276, 'slow': 1277, 'sleeves': 1278, 'apparently': 1279, 'hanging': 1280, 'straight': 1281, 'seat': 1282, 'count': 1283, 'von': 1284, 'wrist': 1285, 'weight': 1286, 'influence': 1287, 'unknown': 1288, 'seriously': 1289, 'murmured': 1290, 'lounging': 1291, 'tore': 1292, 'forehead': 1293, 'purpose': 1294, 'information': 1295, 'sea': 1296, 'retired': 1297, 'living': 1298, 'purposes': 1299, 'prove': 1300, 'committed': 1301, 'tried': 1302, '“she': 1303, 'conduct': 1304, '“because': 1305, 'avenue': 1306, 'shortly': 1307, 'inquiry': 1308, 'crimes': 1309, 'investigation': 1310, 'success': 1311, 'drunken': 1312, 'certain': 1313, 'vanished': 1314, 'respectable': 1315, 'lie': 1316, 'unusual': 1317, 'wonderful': 1318, 'sympathy': 1319, 'lock': 1320, 'preposterous': 1321, 'shag': 1322, 'heads': 1323, 'lives': 1324, 'except': 1325, 'temple': 1326, 'advantages': 1327, 'continue': 1328, 'devil': 1329, 'landau': 1330, 'tie': 1331, 'glimpse': 1332, '‘and': 1333, 'twelve': 1334, 'generally': 1335, 'witness': 1336, 'occasion': 1337, 'plans': 1338, 'prompt': 1339, '‘i': 1340, 'excellent': 1341, 'rely': 1342, 'occur': 1343, 'interfere': 1344, 'rocket': 1345, 'confined': 1346, 'trousers': 1347, 'general': 1348, 'expression': 1349, 'averse': 1350, 'size': 1351, 'knows': 1352, 'inclined': 1353, 'refuse': 1354, 'crowded': 1355, 'gang': 1356, 'breathing': 1357, 'comfortable': 1358, 'please': 1359, 'principal': 1360, 'playing': 1361, 'ashamed': 1362, 'draw': 1363, 'mouth': 1364, 'clouds': 1365, 'curled': 1366, 'bound': 1367, 'quest': 1368, 'care': 1369, 'stopped': 1370, 'staring': 1371, 'coffee': 1372, 'startled': 1373, 'scattered': 1374, 'completely': 1375, 'suspicion': 1376, 'peace': 1377, '“from': 1378, 'sorry': 1379, 'successful': 1380, 'safe': 1381, 'thank': 1382, 'stout': 1383, 'bizarre': 1384, 'somewhat': 1385, 'unique': 1386, 'larger': 1387, 'positive': 1388, 'anxious': 1389, 'forced': 1390, 'pride': 1391, 'wrinkled': 1392, 'column': 1393, 'gain': 1394, 'waistcoat': 1395, 'collar': 1396, 'noticed': 1397, 'takes': 1398, 'snuff': 1399, 'china': 1400, 'amount': 1401, 'worked': 1402, 'marks': 1403, 'heavily': 1404, 's': 1405, 'purely': 1406, 'earth': 1407, 'pawnbroker’s': 1408, 'common': 1409, 'hole': 1410, 'main': 1411, 'fourteen': 1412, '“‘oh': 1413, '“‘well': 1414, '‘you': 1415, 'american': 1416, '‘there': 1417, 'gentlemen': 1418, 'north': 1419, 'south': 1420, 'east': 1421, 'shade': 1422, 'despair': 1423, 'stream': 1424, 'huge': 1425, 'careful': 1426, 'filled': 1427, 'below': 1428, 'manager': 1429, 'everything': 1430, 'loss': 1431, 'wouldn’t': 1432, 'yesterday': 1433, 'appear': 1434, 'concerned': 1435, 'minute': 1436, 'mysterious': 1437, 'lunch': 1438, 'french': 1439, 'stick': 1440, 'shop': 1441, 'land': 1442, 'gently': 1443, 'chase': 1444, 'revolver': 1445, 'recognised': 1446, 'party': 1447, 'jacket': 1448, 'hunting': 1449, 'rack': 1450, 'wants': 1451, 'wild': 1452, 'stranger': 1453, '000': 1454, 'cunning': 1455, 'narrow': 1456, 'sounds': 1457, 'longer': 1458, 'escape': 1459, 'usually': 1460, 'pitch': 1461, 'gloom': 1462, 'feared': 1463, 'warning': 1464, 'shock': 1465, '’”': 1466, 'bow': 1467, 'method': 1468, 'mere': 1469, 'inquiries': 1470, 'solved': 1471, 'fly': 1472, 'working': 1473, 'puzzled': 1474, 'practical': 1475, 'angry': 1476, 'boat': 1477, 'typewriting': 1478, 'violent': 1479, 'ceiling': 1480, 'older': 1481, 'stock': 1482, 'fringe': 1483, 'glasses': 1484, 'wedding': 1485, 'missed': 1486, 'unforeseen': 1487, 'bringing': 1488, 'settled': 1489, 'sleep': 1490, 'slip': 1491, 'directed': 1492, 'describe': 1493, 'printed': 1494, 'sallow': 1495, 'whiskers': 1496, 'c': 1497, 'conviction': 1498, 'scoundrel': 1499, 'reply': 1500, 'missing': 1501, 'disguise': 1502, 'stated': 1503, 'local': 1504, 'woods': 1505, 'blunt': 1506, 'injuries': 1507, 'son’s': 1508, 'arrested': 1509, 'inquest': 1510, 'retained': 1511, 'miles': 1512, 'angle': 1513, 'consider': 1514, 'duty': 1515, 'children': 1516, 'deadly': 1517, 'mccarthy’s': 1518, '‘cooee': 1519, 'health': 1520, 'horror': 1521, 'beneath': 1522, 'holder': 1523, 'distinctly': 1524, 'ashes': 1525, 'sank': 1526, '“god': 1527, 'alice': 1528, 'fixed': 1529, 'foul': 1530, 'greater': 1531, 'major': 1532, 'colonel': 1533, 'postmark': 1534, 'fallen': 1535, 'attic': 1536, 'brass': 1537, 'initials': 1538, 'january': 1539, 'error': 1540, 'pondicherry': 1541, 'sailing': 1542, 'b': 1543, 'gravesend': 1544, 'isa': 1545, 'clair’s': 1546, 'horse': 1547, 'cripple': 1548, 'hugh': 1549, 'scar': 1550, 'pennies': 1551, 'begging': 1552, 'arthur': 1553, 'conan': 1554, 'doyle': 1555, 'cost': 1556, 'copy': 1557, 'title': 1558, 'produced': 1559, 'ii': 1560, 'iii': 1561, 'bachelor': 1562, 'seldom': 1563, 'particularly': 1564, 'admirably': 1565, 'world': 1566, 'trained': 1567, 'introduce': 1568, 'rise': 1569, 'form': 1570, 'bohemian': 1571, 'cocaine': 1572, 'mysteries': 1573, 'mission': 1574, 'reigning': 1575, 'former': 1576, 'associated': 1577, 'incidents': 1578, 'scarlet': 1579, 'pass': 1580, 'pacing': 1581, 'chest': 1582, 'risen': 1583, 'rang': 1584, 'cigars': 1585, 'indicated': 1586, 'introspective': 1587, 'trifle': 1588, 'servant': 1589, 'notice': 1590, 'obviously': 1591, 'caused': 1592, 'remove': 1593, 'mud': 1594, 'vile': 1595, 'weather': 1596, 'boot': 1597, 'walks': 1598, 'explained': 1599, 'instance': 1600, 'baffled': 1601, 'frequently': 1602, 'safely': 1603, 'quarters': 1604, 'data': 1605, 'mistake': 1606, 'twist': 1607, 'presumably': 1608, 'crown': 1609, 'hold': 1610, 'woven': 1611, 'contraction': 1612, 'volume': 1613, 'showing': 1614, 'doubts': 1615, 'pull': 1616, 'tap': 1617, 'height': 1618, 'limbs': 1619, 'taste': 1620, 'silk': 1621, 'suggested': 1622, 'brimmed': 1623, 'lower': 1624, 'chin': 1625, 'strongly': 1626, 'uncertain': 1627, 'colleague': 1628, 'occasionally': 1629, 'honour': 1630, '“by': 1631, 'exactly': 1632, 'families': 1633, 'plainly': 1634, 'hereditary': 1635, 'closing': 1636, 'incisive': 1637, 'energetic': 1638, 'conceal': 1639, 'accustomed': 1640, 'system': 1641, 'monograph': 1642, '“let': 1643, 'legal': 1644, 'produce': 1645, 'failed': 1646, 'sell': 1647, 'attempts': 1648, 'travelled': 1649, 'ruin': 1650, 'beautiful': 1651, 'resolute': 1652, 'fortunate': 1653, 'drop': 1654, 'added': 1655, 'rolled': 1656, 'landlady': 1657, 'informed': 1658, 'grasp': 1659, 'possibility': 1660, 'enter': 1661, 'groom': 1662, 'ill': 1663, 'whence': 1664, 'suited': 1665, 'limp': 1666, 'helpless': 1667, 'guess': 1668, 'employed': 1669, 'ended': 1670, 'watching': 1671, 'villa': 1672, 'built': 1673, 'furnished': 1674, 'closely': 1675, 'mews': 1676, 'runs': 1677, 'wall': 1678, 'compelled': 1679, 'male': 1680, 'handsome': 1681, 'inner': 1682, 'evidently': 1683, 'ominous': 1684, 'keeping': 1685, 'gentleman’s': 1686, 'thoroughly': 1687, 'monica': 1688, 'neat': 1689, 'coachman': 1690, 'buttoned': 1691, 'sovereign': 1692, '‘the': 1693, 'knot': 1694, 'altar': 1695, 'park': 1696, '“which': 1697, '“some': 1698, 'delighted': 1699, 'arrest': 1700, 'discuss': 1701, 'arranged': 1702, 'neutral': 1703, 'conveyed': 1704, 'visible': 1705, 'smile': 1706, 'peering': 1707, 'stage': 1708, 'smoking': 1709, 'guardsmen': 1710, 'carries': 1711, 'searched': 1712, 'rattled': 1713, 'equally': 1714, 'fall': 1715, 'heels': 1716, '“he’s': 1717, 'brave': 1718, 'lady’s': 1719, '“surely': 1720, 'blinds': 1721, 'compunction': 1722, 'grace': 1723, 'tossed': 1724, 'sooner': 1725, 'rushing': 1726, 'nicely': 1727, 'everyone': 1728, 'row': 1729, 'paint': 1730, 'palm': 1731, 'suspected': 1732, 'overpowering': 1733, 'advantage': 1734, 'nerves': 1735, 'beautifully': 1736, 'panel': 1737, 'escaped': 1738, '“at': 1739, 'delay': 1740, 'dimly': 1741, 'elderly': 1742, 'staggered': 1743, '“all': 1744, 'furniture': 1745, 'hurriedly': 1746, 'suspicious': 1747, 'upstairs': 1748, 'empty': 1749, 'preserve': 1750, 'truly': 1751, 'level': 1752, 'slipped': 1753, 'value': 1754, 'highly': 1755, 'threatened': 1756, 'apology': 1757, 'utmost': 1758, 'routine': 1759, 'greatest': 1760, 'effects': 1761, 'effort': 1762, 'imagination': 1763, 'kindness': 1764, 'makes': 1765, 'thousands': 1766, 'similar': 1767, 'belief': 1768, 'newspaper': 1769, 'average': 1770, 'british': 1771, 'frock': 1772, 'albert': 1773, 'pierced': 1774, 'metal': 1775, 'faded': 1776, 'overcoat': 1777, 'occupation': 1778, 'glances': 1779, 'telling': 1780, 'forgot': 1781, 'shiny': 1782, 'smooth': 1783, 'clever': 1784, 'nominal': 1785, 'eleven': 1786, 'pope’s': 1787, 'spirits': 1788, 'willing': 1789, 'wages': 1790, 'satisfied': 1791, 'ought': 1792, 'fault': 1793, 'presume': 1794, 'keeps': 1795, '“‘i': 1796, 'here’s': 1797, 'handy': 1798, 'founded': 1799, 'died': 1800, 'tint': 1801, 'useful': 1802, 'ordered': 1803, 'gazed': 1804, 'perceive': 1805, 'benefactor': 1806, 'thinking': 1807, '“‘is': 1808, 'forever': 1809, '“‘no': 1810, '“‘then': 1811, 'bye': 1812, 'sum': 1813, 'sheets': 1814, 'golden': 1815, 'hoped': 1816, 'shelf': 1817, 'consideration': 1818, 'burst': 1819, 'laugh': 1820, '“‘yes': 1821, 'moved': 1822, 'personally': 1823, 'richer': 1824, '30': 1825, 'joke': 1826, 'questions': 1827, 'splash': 1828, 'sinking': 1829, 'absence': 1830, 'bill': 1831, 'asleep': 1832, 'music': 1833, 'lines': 1834, 'enclosure': 1835, 'fight': 1836, 'board': 1837, 'fourth': 1838, 'claim': 1839, 'parts': 1840, 'contrast': 1841, 'hurrying': 1842, 'realise': 1843, 'branch': 1844, 'suburban': 1845, 'cup': 1846, 'violin': 1847, 'smiling': 1848, 'unlike': 1849, 'reaction': 1850, 'stop': 1851, 'dense': 1852, 'sense': 1853, 'expedition': 1854, 'sad': 1855, '“ha': 1856, 'crop': 1857, 'starting': 1858, 'dog': 1859, 'detective': 1860, 'rubber': 1861, 'higher': 1862, 'director': 1863, 'imbecile': 1864, 'vault': 1865, 'hollow': 1866, 'goodness': 1867, 'crate': 1868, 'stones': 1869, 'directors': 1870, '2': 1871, 'expect': 1872, 'meantime': 1873, 'harm': 1874, 'darkness': 1875, 'highest': 1876, 'hearing': 1877, 'spark': 1878, 'disappearance': 1879, 'tearing': 1880, 'peeped': 1881, 'rested': 1882, 'jump': 1883, '“you’ll': 1884, 'suggest': 1885, 'motive': 1886, '“had': 1887, 'vulgar': 1888, 'tangled': 1889, 'stained': 1890, 'discovered': 1891, 'removed': 1892, 'exclaimed': 1893, 'existence': 1894, 'invent': 1895, 'conclusions': 1896, 'confessed': 1897, 'vital': 1898, 'unnatural': 1899, 'test': 1900, 'heading': 1901, 'reading': 1902, 'drink': 1903, 'teeth': 1904, 'allow': 1905, 'lid': 1906, 'referred': 1907, 'glove': 1908, 'buttons': 1909, 'de': 1910, 'maiden': 1911, 'trying': 1912, 'tottenham': 1913, 'income': 1914, 'separate': 1915, 'travel': 1916, 'staying': 1917, 'flush': 1918, 'school': 1919, 'purple': 1920, 'plush': 1921, 'fond': 1922, 'weak': 1923, 'talked': 1924, 'wheeler': 1925, 'rising': 1926, 'sealed': 1927, 'respect': 1928, 'bundle': 1929, 'upward': 1930, 'sleeve': 1931, 'ones': 1932, 'bushy': 1933, 'grounds': 1934, '“who': 1935, 'girl’s': 1936, 'wash': 1937, 'typewriter': 1938, 'wrong': 1939, 'utterly': 1940, 'difference': 1941, 'allowed': 1942, 'groaned': 1943, 'whip': 1944, 'recognise': 1945, 'minor': 1946, 'request': 1947, 'trivial': 1948, 'telegram': 1949, 'wired': 1950, 'platform': 1951, 'murdered': 1952, 'district': 1953, 'australian': 1954, 'mccarthys': 1955, 'june': 1956, 'lake': 1957, 'crowder': 1958, 'reeds': 1959, 'patience': 1960, 'frightened': 1961, 'paces': 1962, 'verdict': 1963, 'wednesday': 1964, 'pointing': 1965, 'looks': 1966, 'innocence': 1967, 'flying': 1968, 'considering': 1969, 'confession': 1970, 'hanged': 1971, 'deceased': 1972, 'hideous': 1973, 'terribly': 1974, 'considerably': 1975, 'feeling': 1976, 'remarks': 1977, 'reference': 1978, 'hypothesis': 1979, 'charge': 1980, 'victoria': 1981, 'prison': 1982, 'bone': 1983, 'barmaid': 1984, 'interview': 1985, 'finding': 1986, 'learned': 1987, 'rent': 1988, 'inferences': 1989, 'path': 1990, 'trace': 1991, 'tut': 1992, 'holding': 1993, 'leg': 1994, 'indian': 1995, 'presumption': 1996, 'certainty': 1997, 'approached': 1998, 'smoked': 1999, 'deduced': 2000, '“holmes': 2001, 'strength': 2002, 'grip': 2003, 'avoid': 2004, 'break': 2005, 'acting': 2006, 'needed': 2007, 'policeman': 2008, 'worse': 2009, 'property': 2010, 'deed': 2011, 'barque': 2012, 'exceptional': 2013, 'bearing': 2014, 'owe': 2015, 'chalk': 2016, 'elias': 2017, 'florida': 2018, 'reported': 2019, 'war': 2020, '1869': 2021, 'flap': 2022, 'burning': 2023, 'enemy': 2024, 'destroyed': 2025, 'uncle’s': 2026, 'beginning': 2027, '’85': 2028, 'newly': 2029, 'sinister': 2030, 'troubles': 2031, 'pressing': 2032, 'elapsed': 2033, 'shape': 2034, 'act': 2035, 'discoloured': 2036, 'pulling': 2037, 'solution': 2038, 'stains': 2039, 'writer': 2040, 'vessel': 2041, 'quickly': 2042, 'eventually': 2043, 'laying': 2044, 'forget': 2045, 'miserable': 2046, 'places': 2047, 'calling': 2048, 'authorities': 2049, 'trade': 2050, 'd': 2051, 'rid': 2052, 'kate': 2053, 'bodies': 2054, 'thoughts': 2055, 'legged': 2056, 'wharf': 2057, 'cedars': 2058, 'kent': 2059, 'bricks': 2060, 'constables': 2061, 'garments': 2062, 'downstairs': 2063, 'horse’s': 2064, 'stable': 2065, 'posted': 2066, 'dressing': 2067, 'stirring': 2068, 'joking': 2069, 'charged': 2070, 'sponge': 2071, 'articles': 2072, 'battered': 2073, 'anywhere': 2074, 'terms': 2075, 'license': 2076, 'net': 2077, 'language': 2078, 'contents': 2079, 'iv': 2080, 'v': 2081, 'vi': 2082, 'vii': 2083, 'carbuncle': 2084, 'beryl': 2085, 'copper': 2086, 'mention': 2087, 'emotion': 2088, 'akin': 2089, 'precise': 2090, 'admirable': 2091, 'men’s': 2092, 'actions': 2093, 'admit': 2094, 'adjusted': 2095, 'factor': 2096, 'crack': 2097, 'drifted': 2098, 'happiness': 2099, 'interests': 2100, 'finds': 2101, 'buried': 2102, 'books': 2103, 'attracted': 2104, 'clues': 2105, 'doings': 2106, 'accomplished': 2107, 'holland': 2108, 'daily': 2109, 'night—it': 2110, 'journey': 2111, 'patient': 2112, 'civil': 2113, 'desire': 2114, 'employing': 2115, 'blind': 2116, 'eagerly': 2117, 'mood': 2118, 'dreams': 2119, 'formerly': 2120, 'harness': 2121, 'wet': 2122, 'thursday': 2123, 'dreadful': 2124, 'changed': 2125, 'rubbed': 2126, 'scored': 2127, 'parallel': 2128, 'smelling': 2129, 'silver': 2130, 'pronounce': 2131, 'active': 2132, 'member': 2133, 'ease': 2134, 'process': 2135, 'successive': 2136, 'lighting': 2137, 'hundreds': 2138, 'trifling': 2139, 'deepest': 2140, 'recent': 2141, 'services': 2142, 'trusted': 2143, 'amiss': 2144, 'capital': 2145, 'packet': 2146, 'stiff': 2147, 'shelves': 2148, 'sparkled': 2149, 'remains': 2150, 'wearing': 2151, 'resolve': 2152, 'horses’': 2153, 'hoofs': 2154, 'grating': 2155, 'whistled': 2156, 'promises': 2157, 'paused': 2158, '“come': 2159, 'inches': 2160, 'flame': 2161, 'flaming': 2162, 'halfway': 2163, 'fur': 2164, 'completed': 2165, 'extending': 2166, 'resolution': 2167, 'length': 2168, 'kramm': 2169, 'discretion': 2170, 'prefer': 2171, 'wishes': 2172, 'precaution': 2173, 'ormstein': 2174, 'languid': 2175, 'gigantic': 2176, 'advise': 2177, 'uncontrollable': 2178, 'agitation': 2179, 'gesture': 2180, 'hurled': 2181, 'grand': 2182, 'duke': 2183, 'confide': 2184, 'briefly': 2185, 'acquaintance': 2186, 'index': 2187, '“hum': 2188, 'born': 2189, 'hum': 2190, 'entangled': 2191, 'forgery': 2192, '“stolen': 2193, 'ransacked': 2194, 'waylaid': 2195, '“absolutely': 2196, 'propose': 2197, 'strict': 2198, 'shadow': 2199, 'steel': 2200, 'yawn': 2201, 'anxiety': 2202, 'kingdom': 2203, 'cabinet': 2204, 'surrounded': 2205, 'recorded': 2206, 'pleasure': 2207, 'subtle': 2208, 'failing': 2209, 'ceased': 2210, 'disreputable': 2211, 'tweed': 2212, 'legs': 2213, 'heartily': 2214, 'choked': 2215, 'freemasonry': 2216, 'stories': 2217, 'child': 2218, 'lounged': 2219, 'ostlers': 2220, 'rubbing': 2221, 'horses': 2222, 'exchange': 2223, 'twopence': 2224, 'listen': 2225, 'sings': 2226, 'drives': 2227, 'returns': 2228, 'dinner': 2229, 'dashing': 2230, 'calls': 2231, 'confidant': 2232, 'plan': 2233, 'relation': 2234, 'mistress': 2235, 'transferred': 2236, 'chambers': 2237, 'widened': 2238, 'bore': 2239, 'difficulties': 2240, 'balancing': 2241, 'remarkably': 2242, 'aquiline': 2243, 'waving': 2244, 'regent': 2245, 'edgeware': 2246, 'wondering': 2247, 'sticking': 2248, 'hadn’t': 2249, 'lovely': 2250, 'die': 2251, '“‘the': 2252, 'driver': 2253, 'shabby': 2254, 'fare': 2255, 'jumped': 2256, 'mumbling': 2257, 'lucky': 2258, 'bridegroom': 2259, 'unexpected': 2260, 'affairs': 2261, 'departure': 2262, 'driving': 2263, 'directions': 2264, 'arrangements': 2265, '“nor': 2266, 'join': 2267, '“entirely': 2268, 'amiable': 2269, 'baggy': 2270, 'sympathetic': 2271, 'curiosity': 2272, 'costume': 2273, 'actor': 2274, 'acute': 2275, 'lamps': 2276, 'animated': 2277, 'scissors': 2278, 'grinder': 2279, 'edged': 2280, 'capable': 2281, 'naturally': 2282, 'political': 2283, 'orders': 2284, 'increased': 2285, 'loungers': 2286, 'flushed': 2287, 'fists': 2288, 'sticks': 2289, 'protect': 2290, 'freely': 2291, 'scuffle': 2292, 'outlined': 2293, 'lights': 2294, 'hurt': 2295, 'voices': 2296, 'he’ll': 2297, 'solemnly': 2298, 'borne': 2299, 'proceedings': 2300, 'creature': 2301, 'treachery': 2302, 'ulster': 2303, 'injuring': 2304, 'motion': 2305, '“fire': 2306, 'shriek': 2307, 'shouting': 2308, 'moist': 2309, 'clapped': 2310, 'piteous': 2311, 'spectacle': 2312, 'fathom': 2313, 'baby': 2314, 'reaches': 2315, 'shake': 2316, 'sliding': 2317, 'safer': 2318, '“our': 2319, 'practically': 2320, 'satisfaction': 2321, 'wire': 2322, 'greeting': 2323, 'slept': 2324, '“irene': 2325, 'named': 2326, 'majesty’s': 2327, 'queen': 2328, 'gaze': 2329, '5': 2330, '15': 2331, 'charing': 2332, 'chagrin': 2333, 'till': 2334, 'midnight': 2335, 'reveal': 2336, 'resource': 2337, 'loved': 2338, 'wronged': 2339, 'possess': 2340, '“did': 2341, 'indebted': 2342, 'snake': 2343, 'affect': 2344, 'wit': 2345, 'speaks': 2346, 'fiery': 2347, 'possibly': 2348, 'helper': 2349, 'fat': 2350, 'fingertips': 2351, 'liberty': 2352, 'otherwise': 2353, 'detail': 2354, 'guide': 2355, 'flattened': 2356, 'endeavoured': 2357, 'indications': 2358, 'dangling': 2359, 'altogether': 2360, 'blazing': 2361, 'manual': 2362, 'labour': 2363, 'especially': 2364, 'elbow': 2365, 'desk': 2366, 'literature': 2367, 'suffer': 2368, 'follows': 2369, 'ezekiah': 2370, 'hopkins': 2371, 'eligible': 2372, 'fleet': 2373, 'ejaculated': 2374, 'announcement': 2375, 'isn’t': 2376, 'household': 2377, 'fortunes': 2378, '1890': 2379, 'employé': 2380, 'market': 2381, 'employers': 2382, 'faults': 2383, 'photography': 2384, 'rabbit': 2385, 'roof': 2386, 'debts': 2387, 'lord': 2388, 'gets': 2389, 'vacancies': 2390, 'trustees': 2391, 'crib': 2392, 'particulars': 2393, 'enormous': 2394, 'berths': 2395, 'grown': 2396, 'cared': 2397, 'yourselves': 2398, 'holiday': 2399, 'shut': 2400, 'brick': 2401, 'pinch': 2402, 'fill': 2403, 'recall': 2404, 'backward': 2405, 'cocked': 2406, 'warmly': 2407, 'tales': 2408, 'wax': 2409, 'groan': 2410, 'disappointment': 2411, 'fund': 2412, 'gravely': 2413, 'lengthened': 2414, 'duties': 2415, 'mostly': 2416, 'billet': 2417, 'britannica': 2418, 'blotting': 2419, 'pleased': 2420, 'copying': 2421, 'reasoned': 2422, 'foolscap': 2423, 'degrees': 2424, 'risk': 2425, 'cardboard': 2426, 'laughter': 2427, 'flushing': 2428, 'roots': 2429, 'card': 2430, 'morris': 2431, 'using': 2432, 'temporary': 2433, 'paul’s': 2434, 'caps': 2435, 'issues': 2436, 'hang': 2437, '“about': 2438, 'month': 2439, 'acid': 2440, 'excitement': 2441, 'earrings': 2442, 'proves': 2443, 'featureless': 2444, 'nose': 2445, 'nodding': 2446, 'mantelpiece': 2447, 'james’s': 2448, 'storied': 2449, 'announced': 2450, 'brightly': 2451, 'lids': 2452, 'vigorously': 2453, 'knocked': 2454, 'shaven': 2455, 'wilson’s': 2456, 'inquired': 2457, 'beat': 2458, 'enemy’s': 2459, 'flowing': 2460, 'inward': 2461, 'swarm': 2462, 'abutted': 2463, 'exact': 2464, 'clients': 2465, 'relentless': 2466, 'witted': 2467, 'conceive': 2468, 'alternately': 2469, 'represented': 2470, 'swing': 2471, 'languor': 2472, 'lust': 2473, 'brilliant': 2474, 'intuition': 2475, 'contemplation': 2476, 'army': 2477, 'happen': 2478, 'armed': 2479, 'explanation': 2480, 'oxford': 2481, 'correct': 2482, 'deference': 2483, 'stake': 2484, 'grandfather': 2485, 'brain': 2486, 'raising': 2487, 'i’ve': 2488, 'agree': 2489, 'endless': 2490, 'labyrinth': 2491, 'gas': 2492, 'bulldog': 2493, 'corridor': 2494, 'massive': 2495, 'gate': 2496, 'boxes': 2497, 'striking': 2498, 'solemn': 2499, 'perched': 2500, 'magnifying': 2501, 'seconds': 2502, '“for': 2503, 'pawnbroker': 2504, 'chairman': 2505, 'criminals': 2506, 'warnings': 2507, 'strengthen': 2508, 'resources': 2509, 'borrowed': 2510, 'napoleons': 2511, 'reserve': 2512, 'bullion': 2513, 'pack': 2514, 'cards': 2515, 'preparations': 2516, 'choose': 2517, 'flash': 2518, 'shooting': 2519, 'smell': 2520, 'assure': 2521, 'holes': 2522, 'gentle': 2523, 'companions': 2524, 'breath': 2525, 'lurid': 2526, 'writhing': 2527, 'protruded': 2528, 'rending': 2529, 'pistol': 2530, 'pal': 2531, 'compliment': 2532, 'wrists': 2533, 'veins': 2534, '“really': 2535, 'robbery': 2536, 'expense': 2537, 'rogue': 2538, 'manage': 2539, 'vanishing': 2540, 'tunnel': 2541, 'burrowing': 2542, 'essential': 2543, 'admiration': 2544, 'link': 2545, 'rings': 2546, 'commonplaces': 2547, 'race': 2548, 'c’est': 2549, 'tout': 2550, 'george': 2551, 'infinitely': 2552, 'leading': 2553, 'outré': 2554, 'bald': 2555, 'limits': 2556, 'wanting': 2557, 'observer': 2558, 'depend': 2559, 'adviser': 2560, 'everybody': 2561, 'sister': 2562, 'homely': 2563, 'served': 2564, 'feature': 2565, 'analysis': 2566, 'gazing': 2567, 'curling': 2568, 'feather': 2569, 'hesitating': 2570, 'tiny': 2571, 'realising': 2572, 'purport': 2573, 'i’m': 2574, 'tips': 2575, 'vacuous': 2576, 'wasn’t': 2577, 'fifteen': 2578, 'hardy': 2579, 'foreman': 2580, 'superior': 2581, 'traveller': 2582, 'impatient': 2583, 'paying': 2584, 'gasfitters’': 2585, 'tickets': 2586, 'treat': 2587, 'visitors': 2588, 'circle': 2589, 'worst': 2590, 'offered': 2591, 'retiring': 2592, 'throat': 2593, 'speech': 2594, 'glare': 2595, 'swear': 2596, 'testament': 2597, 'passion': 2598, 'marrying': 2599, 'sly': 2600, 'treated': 2601, 'meaning': 2602, 'foresaw': 2603, 'doors': 2604, 'sob': 2605, 'try': 2606, 'advertised': 2607, 'camberwell': 2608, 'westhouse': 2609, 'marbank': 2610, 'fenchurch': 2611, 'faith': 2612, 'leaned': 2613, 'invisible': 2614, 'slate': 2615, 'gloves': 2616, 'greyish': 2617, 'softly': 2618, 'wonderfully': 2619, 'hit': 2620, 'material': 2621, 'defined': 2622, 'farthest': 2623, 'pince': 2624, 'nez': 2625, 'odd': 2626, 'slightly': 2627, 'toe': 2628, 'noted': 2629, 'torn': 2630, 'violet': 2631, 'moustache': 2632, 'elastic': 2633, 'bears': 2634, 'asking': 2635, 'relatives': 2636, 'assured': 2637, 'footfall': 2638, 'sized': 2639, 'skinned': 2640, 'insinuating': 2641, 'penetrating': 2642, 'sideboard': 2643, 'nearest': 2644, 'pleasant': 2645, 'abroad': 2646, 'individuality': 2647, 'handwriting': 2648, 'characteristics': 2649, 'devoted': 2650, 'stepping': 2651, 'solve': 2652, 'collapsed': 2653, 'ghastly': 2654, 'glitter': 2655, 'moisture': 2656, 'actionable': 2657, 'stammered': 2658, 'cruel': 2659, 'petty': 2660, 'huddled': 2661, 'breast': 2662, 'leaning': 2663, 'disposition': 2664, 'affectionate': 2665, 'hearted': 2666, 'fair': 2667, 'personal': 2668, 'forbidding': 2669, 'seek': 2670, 'loudly': 2671, 'meetings': 2672, 'punishment': 2673, 'bitter': 2674, 'blooded': 2675, 'respects': 2676, 'devoid': 2677, 'suspicions': 2678, 'smallest': 2679, 'spotted': 2680, 'characteristic': 2681, 'seated': 2682, 'paddington': 2683, 'rummaged': 2684, 'onto': 2685, 'accounts': 2686, 'invariably': 2687, 'conjectured': 2688, 'herefordshire': 2689, 'largest': 2690, 'proprietor': 2691, 'australia': 2692, 'ex': 2693, 'neighbouring': 2694, '3rd': 2695, 'mile': 2696, 'actually': 2697, 'moran': 2698, 'picking': 2699, 'quarrelling': 2700, 'excited': 2701, 'blows': 2702, 'inflicted': 2703, 'butt': 2704, 'damning': 2705, 'culprit': 2706, 'aged': 2707, 'theory': 2708, 'earth—”': 2709, 'shave': 2710, 'season': 2711, 'jaw': 2712, 'deserts': 2713, 'minds': 2714, 'coroner’s': 2715, 'policy': 2716, 'according': 2717, 'guilty': 2718, '“many': 2719, 'wrongfully': 2720, 'rapidly': 2721, 'roughly': 2722, 'turner’s': 2723, 'popular': 2724, 'enemies': 2725, 'mumbled': 2726, 'delirious': 2727, 'refusal': 2728, '‘cooee’': 2729, 'uttered': 2730, 'confusion': 2731, '“': 2732, 'severe': 2733, 'pains': 2734, 'consciousness': 2735, 'approach': 2736, 'difficulty': 2737, 'hereford': 2738, 'sky': 2739, 'bless': 2740, 'cheeks': 2741, 'tender': 2742, 'flaw': 2743, 'hide': 2744, 'union': 2745, '“may': 2746, 'wreck': 2747, 'dad': 2748, 'mines': 2749, 'rattle': 2750, 'dignity': 2751, 'wandered': 2752, 'backed': 2753, 'plot': 2754, 'compared': 2755, 'wander': 2756, 'unhappy': 2757, 'terrible': 2758, 'county': 2759, 'spot': 2760, 'accused': 2761, 'indicate': 2762, 'charming': 2763, 'hangs': 2764, 'tale': 2765, 'clutches': 2766, 'maddening': 2767, 'sheer': 2768, 'frenzy': 2769, 'truth': 2770, '“an': 2771, 'add': 2772, 'tackle': 2773, 'grasped': 2774, 'is—”': 2775, 'merest': 2776, 'moonshine': 2777, 'stricken': 2778, 'thinker': 2779, 'downward': 2780, 'nostrils': 2781, 'animal': 2782, 'snarl': 2783, 'wealthy': 2784, 'belt': 2785, 'trees': 2786, 'eager': 2787, 'mole': 2788, 'tracks': 2789, 'waterproof': 2790, 'tiptoes': 2791, 'losing': 2792, 'traced': 2793, 'bark': 2794, 'moss': 2795, 'regained': 2796, 'carrying': 2797, 'knife': 2798, 'calmly': 2799, '“just': 2800, 'commence': 2801, 'meant': 2802, 'whoever': 2803, 'map': 2804, 'colony': 2805, 'conception': 2806, 'strangers': 2807, 'trifles': 2808, 'judge': 2809, 'distinct': 2810, 'ash': 2811, 'possessed': 2812, 'grizzled': 2813, 'drooping': 2814, 'diggings': 2815, 'chap': 2816, 'reckless': 2817, 'jack': 2818, 'leaf': 2819, 'shaking': 2820, 'grinning': 2821, 'mixed': 2822, 'dislike': 2823, 'braved': 2824, 'regard': 2825, 'limb': 2826, 'signed': 2827, 'exposed': 2828, 'easier': 2829, 'submitted': 2830, 'happily': 2831, 'ignorance': 2832, 'publicity': 2833, 'degree': 2834, 'analytical': 2835, 'skill': 2836, 'ending': 2837, 'conjecture': 2838, 'retain': 2839, 'amateur': 2840, 'club': 2841, 'equinoctial': 2842, 'gales': 2843, 'screamed': 2844, 'storm': 2845, 'sobbed': 2846, 'newcomer': 2847, 'umbrella': 2848, 'dry': 2849, 'prendergast': 2850, 'commencement': 2851, 'retire': 2852, 'drank': 2853, 'begged': 2854, 'liked': 2855, 'disturb': 2856, 'exception': 2857, 'lumber': 2858, 'plate': 2859, 'receive': 2860, 'pattered': 2861, 'protruding': 2862, '‘k': 2863, 'scrawled': 2864, 'terror': 2865, 'fordham': 2866, 'fluffy': 2867, 'treble': 2868, 'shows': 2869, 'emerge': 2870, 'bar': 2871, 'green': 2872, '14': 2873, 'foresee': 2874, 'suicide': 2875, '10': 2876, 'southern': 2877, 'politics': 2878, 'nonsense': 2879, 'record': 2880, 'begun': 2881, 'crumpled': 2882, 'division': 2883, 'foresight': 2884, 'guard': 2885, 'deaths': 2886, 'particular': 2887, 'page': 2888, 'diary': 2889, 'mccauley': 2890, 'paramore': 2891, 'swain': 2892, 'visited': 2893, 'web': 2894, 'perils': 2895, 'elbows': 2896, '“would': 2897, 'attain': 2898, 'education': 2899, 'rare': 2900, 'mail': 2901, 'klux': 2902, 'klan': 2903, 'confederate': 2904, 'branches': 2905, 'georgia': 2906, 'views': 2907, 'outrages': 2908, 'victim': 2909, 'organisation': 2910, 'succeeded': 2911, 'movement': 2912, 'sun': 2913, 'dim': 2914, 'constable': 2915, 'h': 2916, 'passers': 2917, 'landing': 2918, 'condition': 2919, 'riverside': 2920, 'hurts': 2921, 'addressed': 2922, 'calhoun': 2923, 'port': 2924, 'touched': 2925, 'homeward': 2926, 'themselves': 2927, 'swinging': 2928, 'college': 2929, 'lap': 2930, 'flew': 2931, 'control': 2932, 'wife’s': 2933, 'doubtless': 2934, 'poison': 2935, 'timid': 2936, 'pluck': 2937, 'whitney’s': 2938, 'promised': 2939, 'wharves': 2940, 'glimmered': 2941, 'pipes': 2942, 'brazier': 2943, 'supply': 2944, 'beckoning': 2945, 'pitiable': 2946, 'heavens': 2947, 'frighten': 2948, 'sworn': 2949, 'vilest': 2950, 'clink': 2951, 'bedded': 2952, 'sombre': 2953, 'regular': 2954, 'twinkled': 2955, 'villas': 2956, 'plenty': 2957, 'counties': 2958, '“last': 2959, 'fresno': 2960, 'ejaculation': 2961, 'attempted': 2962, 'ascend': 2963, 'swore': 2964, 'lodger': 2965, 'matches': 2966, 'horrible': 2967, 'shirt': 2968, 'weighted': 2969, 'outskirts': 2970, 'surrey': 2971, 'disposal': 2972, 'whoa': 2973, 'eagerness': 2974, 'dining': 2975, 'supper': 2976, '“frankly': 2977, 'coarse': 2978, 'gown': 2979, 'pillows': 2980, 'ounce': 2981, 'previous': 2982, 'gladstone': 2983, 'metropolis': 2984, 'cells': 2985, 'bath': 2986, 'tattered': 2987, 'repulsive': 2988, 'exposure': 2989, 'destiny': 2990, 'smearing': 2991, 'coppers': 2992, 'cracked': 2993, 'frost': 2994, '“only': 2995, 'owner': 2996, 'intellectual': 2997, 'roughs': 2998, 'henry': 2999, 'lining': 3000, 'bakers': 3001, '\\ufeff': 3002, \"gutenberg's\": 3003, 'restrictions': 3004, 'whatsoever': 3005, 're': 3006, 'included': 3007, 'online': 3008, 'www': 3009, 'author': 3010, 'release': 3011, 'november': 3012, '29': 3013, '2002': 3014, '1661': 3015, 'updated': 3016, '20': 3017, '2019': 3018, 'encoding': 3019, 'utf': 3020, '8': 3021, 'anonymous': 3022, 'volunteer': 3023, 'jose': 3024, 'menendez': 3025, 'viii': 3026, 'speckled': 3027, 'band': 3028, 'ix': 3029, 'engineer’s': 3030, 'x': 3031, 'xi': 3032, 'coronet': 3033, 'xii': 3034, 'beeches': 3035, 'eclipses': 3036, 'predominates': 3037, 'sex': 3038, 'emotions': 3039, 'abhorrent': 3040, 'balanced': 3041, 'lover': 3042, 'softer': 3043, 'passions': 3044, 'gibe': 3045, 'observer—excellent': 3046, 'motives': 3047, 'intrusions': 3048, 'finely': 3049, 'temperament': 3050, 'distracting': 3051, 'mental': 3052, 'grit': 3053, 'sensitive': 3054, 'instrument': 3055, 'lenses': 3056, 'disturbing': 3057, 'dubious': 3058, 'questionable': 3059, 'centred': 3060, 'around': 3061, 'establishment': 3062, 'sufficient': 3063, 'absorb': 3064, 'loathed': 3065, 'alternating': 3066, 'ambition': 3067, 'drowsiness': 3068, 'occupied': 3069, 'faculties': 3070, 'abandoned': 3071, 'hopeless': 3072, 'summons': 3073, 'odessa': 3074, 'trepoff': 3075, 'atkinson': 3076, 'brothers': 3077, 'trincomalee': 3078, 'delicately': 3079, 'successfully': 3080, 'activity': 3081, 'shared': 3082, 'readers': 3083, 'twentieth': 3084, '1888—i': 3085, 'wooing': 3086, 'brilliantly': 3087, 'silhouette': 3088, 'clasped': 3089, 'attitude': 3090, 'created': 3091, 'effusive': 3092, 'spirit': 3093, 'gasogene': 3094, '“wedlock': 3095, 'suits': 3096, '“seven': 3097, 'intended': 3098, 'clumsy': 3099, 'careless': 3100, 'centuries': 3101, 'mess': 3102, 'jane': 3103, 'incorrigible': 3104, 'simplicity': 3105, 'shoe': 3106, 'firelight': 3107, 'strikes': 3108, 'cuts': 3109, 'carelessly': 3110, 'scraped': 3111, 'edges': 3112, 'sole': 3113, 'crusted': 3114, 'malignant': 3115, 'slitting': 3116, 'specimen': 3117, 'slavey': 3118, 'iodoform': 3119, 'nitrate': 3120, 'bulge': 3121, 'secreted': 3122, 'stethoscope': 3123, 'ridiculously': 3124, 'distinction': 3125, '“frequently': 3126, 'seventeen': 3127, 'experiences': 3128, 'notepaper': 3129, '“read': 3130, 'aloud': 3131, 'undated': 3132, 'desires': 3133, 'exaggerated': 3134, 'theorise': 3135, 'insensibly': 3136, 'begins': 3137, 'endeavouring': 3138, 'imitate': 3139, 'companion’s': 3140, 'processes': 3141, '“such': 3142, 'peculiarly': 3143, '“peculiar—that': 3144, '“e”': 3145, '“g': 3146, '“p': 3147, '“g”': 3148, '“t”': 3149, 'texture': 3150, 'maker': 3151, 'monogram': 3152, '‘g’': 3153, '‘t’': 3154, '‘gesellschaft': 3155, '‘company': 3156, 'customary': 3157, '‘co': 3158, '‘p': 3159, '‘papier': 3160, '‘eg': 3161, 'continental': 3162, 'gazetteer': 3163, '“eglow': 3164, 'eglonitz—here': 3165, 'egria': 3166, 'speaking': 3167, 'country—in': 3168, 'carlsbad': 3169, '‘remarkable': 3170, 'wallenstein': 3171, 'numerous': 3172, 'factories': 3173, 'mills': 3174, 'triumphant': 3175, 'construction': 3176, 'sentence—‘this': 3177, 'frenchman': 3178, 'russian': 3179, 'uncourteous': 3180, 'verbs': 3181, 'discover': 3182, 'writes': 3183, 'prefers': 3184, 'curb': 3185, 'beauties': 3186, 'guineas': 3187, 'apiece': 3188, 'boswell': 3189, 'client—”': 3190, 'loud': 3191, 'authoritative': 3192, 'hercules': 3193, 'richness': 3194, 'bands': 3195, 'astrakhan': 3196, 'slashed': 3197, 'fronts': 3198, 'breasted': 3199, 'secured': 3200, 'brooch': 3201, 'consisted': 3202, 'extended': 3203, 'calves': 3204, 'trimmed': 3205, 'tops': 3206, 'barbaric': 3207, 'opulence': 3208, 'cheekbones': 3209, 'vizard': 3210, 'obstinacy': 3211, 'harsh': 3212, 'accent': 3213, 'nobleman': 3214, 'communicate': 3215, 'binding': 3216, 'secrecy': 3217, 'european': 3218, 'history': 3219, 'august': 3220, 'employs': 3221, 'dryly': 3222, 'quench': 3223, 'grow': 3224, 'compromise': 3225, 'implicates': 3226, 'kings': 3227, 'settling': 3228, 'apparent': 3229, 'depicted': 3230, 'reopened': 3231, 'impatiently': 3232, 'condescend': 3233, 'desperation': 3234, 'addressing': 3235, 'wilhelm': 3236, 'gottsreich': 3237, 'sigismond': 3238, 'cassel': 3239, 'felstein': 3240, 'incognito': 3241, 'prague': 3242, 'consulting': 3243, 'shutting': 3244, 'lengthy': 3245, 'warsaw': 3246, 'adventuress': 3247, '“kindly': 3248, 'adopted': 3249, 'docketing': 3250, 'paragraphs': 3251, 'concerning': 3252, 'furnish': 3253, 'biography': 3254, 'sandwiched': 3255, 'hebrew': 3256, 'rabbi': 3257, 'staff': 3258, 'commander': 3259, 'fishes': 3260, 'jersey': 3261, '1858': 3262, 'contralto—hum': 3263, 'la': 3264, 'scala': 3265, 'prima': 3266, 'donna': 3267, 'imperial': 3268, 'opera': 3269, 'warsaw—yes': 3270, 'operatic': 3271, 'stage—ha': 3272, 'london—quite': 3273, 'compromising': 3274, 'desirous': 3275, 'how—”': 3276, 'certificates': 3277, 'blackmailing': 3278, 'authenticity': 3279, '“pooh': 3280, 'pooh': 3281, 'seal': 3282, '“imitated': 3283, '“bought': 3284, 'indiscretion': 3285, 'mad—insane': 3286, 'compromised': 3287, 'prince': 3288, '“five': 3289, 'burglars': 3290, 'diverted': 3291, 'luggage': 3292, 'reproachfully': 3293, 'clotilde': 3294, 'lothman': 3295, 'meningen': 3296, 'scandinavia': 3297, 'principles': 3298, '“threatens': 3299, 'lengths': 3300, 'go—none': 3301, 'betrothal': 3302, 'publicly': 3303, 'proclaimed': 3304, 'langham': 3305, 'progress': 3306, 'carte': 3307, 'blanche': 3308, 'provinces': 3309, 'expenses': 3310, 'chamois': 3311, 'scribbled': 3312, 'receipt': 3313, 'mademoiselle’s': 3314, 'john’s': 3315, 'chat': 3316, 'precisely': 3317, 'awaiting': 3318, 'grim': 3319, 'exalted': 3320, 'apart': 3321, 'masterly': 3322, 'disentangled': 3323, 'inextricable': 3324, 'invariable': 3325, 'kempt': 3326, 'whiskered': 3327, 'inflamed': 3328, 'amazing': 3329, 'disguises': 3330, 'nod': 3331, 'obliged': 3332, 'sequel': 3333, 'horsey': 3334, 'bijou': 3335, 'chubb': 3336, 'fasteners': 3337, 'coach': 3338, 'noting': 3339, 'lent': 3340, 'fills': 3341, 'biographies': 3342, 'daintiest': 3343, 'bonnet': 3344, 'planet': 3345, 'concerts': 3346, 'campaign': 3347, 'sounded': 3348, 'visits': 3349, 'issue': 3350, 'depended': 3351, 'moustached—evidently': 3352, 'brushed': 3353, 'glimpses': 3354, 'excitedly': 3355, 'flurried': 3356, 'earnestly': 3357, '‘drive': 3358, '‘first': 3359, 'gross': 3360, 'hankey’s': 3361, 'guinea': 3362, '“away': 3363, 'tags': 3364, 'buckles': 3365, 'perch': 3366, 'cabby': 3367, 'fast': 3368, 'faster': 3369, 'steaming': 3370, 'surpliced': 3371, 'expostulating': 3372, 'aisle': 3373, 'idler': 3374, '“‘thank': 3375, '‘you’ll': 3376, '“‘come': 3377, 'dragged': 3378, 'responses': 3379, 'vouching': 3380, 'assisting': 3381, 'tying': 3382, 'spinster': 3383, 'thanking': 3384, 'beamed': 3385, 'informality': 3386, 'refused': 3387, 'sally': 3388, 'bride': 3389, 'menaced': 3390, 'immediate': 3391, 'necessitate': 3392, 'measures': 3393, 'separated': 3394, 'beef': 3395, 'beer': 3396, 'ringing': 3397, 'food': 3398, 'busier': 3399, 'co': 3400, 'operation': 3401, 'tray': 3402, 'hungrily': 3403, 'provided': 3404, 'eat': 3405, 'madame': 3406, 'insist': 3407, 'unpleasantness': 3408, 'hand—so—you': 3409, 'shaped': 3410, 'roll': 3411, 'plumber’s': 3412, 'fitted': 3413, 'task': 3414, 'rejoin': 3415, 'prepare': 3416, 'role': 3417, 'minded': 3418, 'nonconformist': 3419, 'benevolent': 3420, 'hare': 3421, 'equalled': 3422, 'vary': 3423, 'assumed': 3424, 'science': 3425, 'specialist': 3426, 'dusk': 3427, 'lighted': 3428, 'occupant': 3429, 'pictured': 3430, 'succinct': 3431, 'locality': 3432, 'group': 3433, 'shabbily': 3434, 'wheel': 3435, 'flirting': 3436, 'nurse': 3437, 'mouths': 3438, 'fro': 3439, 'simplifies': 3440, 'chances': 3441, 'princess': 3442, 'unlikely': 3443, 'concealment': 3444, '“her': 3445, 'banker': 3446, 'secretive': 3447, 'secreting': 3448, 'guardianship': 3449, 'indirect': 3450, 'bear': 3451, 'resolved': 3452, 'burgled': 3453, '“pshaw': 3454, 'rumble': 3455, 'gleam': 3456, 'sidelights': 3457, 'curve': 3458, 'smart': 3459, 'loafing': 3460, 'earning': 3461, 'elbowed': 3462, 'loafer': 3463, 'sides': 3464, 'struggling': 3465, 'savagely': 3466, 'attend': 3467, 'superb': 3468, 'hospital': 3469, 'purse': 3470, 'rough': 3471, 'ah': 3472, 'marm': 3473, 'conspiring': 3474, 'kindliness': 3475, 'blackest': 3476, 'intrusted': 3477, 'hardened': 3478, 'preventing': 3479, 'spectators': 3480, 'ill—gentlemen': 3481, 'maids—joined': 3482, 'figures': 3483, 'assuring': 3484, 'slipping': 3485, 'rejoiced': 3486, 'uproar': 3487, 'accomplice': 3488, 'guessed': 3489, 'motioned': 3490, 'thinks': 3491, 'instinct': 3492, 'values': 3493, 'impulse': 3494, 'darlington': 3495, 'substitution': 3496, 'arnsworth': 3497, 'castle': 3498, 'grabs': 3499, 'unmarried': 3500, 'jewel': 3501, 'precious': 3502, 'responded': 3503, 'recess': 3504, 'replaced': 3505, 'excuses': 3506, 'hesitated': 3507, 'narrowly': 3508, 'precipitance': 3509, 'regain': 3510, 'searching': 3511, 'mister': 3512, 'slim': 3513, '“i’ve': 3514, 'deuce': 3515, 'toast': 3516, 'grasping': 3517, 'impatience': 3518, 'simplify': 3519, 'descended': 3520, '“married': 3521, '“yesterday': 3522, 'annoyance': 3523, 'loves': 3524, 'yet—': 3525, 'relapsed': 3526, 'moody': 3527, 'sardonic': 3528, 'continent': 3529, 'hoarsely': 3530, 'dismantled': 3531, 'drawers': 3532, 'shutter': 3533, 'plunging': 3534, 'superscribed': 3535, '“sherlock': 3536, 'esq': 3537, 'dated': 3538, 'preceding': 3539, '—you': 3540, 'betrayed': 3541, 'warned': 3542, 'actress': 3543, 'freedom': 3544, 'departed': 3545, 'celebrated': 3546, 'imprudently': 3547, 'pursued': 3548, 'antagonist': 3549, 'nest': 3550, 'hindrance': 3551, 'cruelly': 3552, 'safeguard': 3553, 'née': 3554, 'woman—oh': 3555, 'epistle': 3556, 'coldly': 3557, 'inviolate': 3558, 'immensely': 3559, 'reward': 3560, 'ring—”': 3561, 'emerald': 3562, 'stared': 3563, 'amazement': 3564, '“irene’s': 3565, 'merry': 3566, 'cleverness': 3567, 'refers': 3568, 'honourable': 3569, 'autumn': 3570, 'florid': 3571, 'intrusion': 3572, 'withdraw': 3573, 'abruptly': 3574, 'cordially': 3575, 'partner': 3576, 'bob': 3577, 'encircled': 3578, '“try': 3579, 'settee': 3580, 'relapsing': 3581, 'custom': 3582, 'judicial': 3583, 'moods': 3584, 'share': 3585, 'conventions': 3586, 'humdrum': 3587, 'everyday': 3588, 'relish': 3589, 'enthusiasm': 3590, 'prompted': 3591, 'embellish': 3592, 'combinations': 3593, 'proposition': 3594, 'doubting': 3595, 'piling': 3596, 'breaks': 3597, 'acknowledges': 3598, 'strangest': 3599, 'smaller': 3600, 'recommence': 3601, 'indication': 3602, 'portly': 3603, 'puffed': 3604, 'greatcoat': 3605, 'inspection': 3606, 'tradesman': 3607, 'obese': 3608, 'pompous': 3609, 'shepherd’s': 3610, 'check': 3611, 'unbuttoned': 3612, 'drab': 3613, 'brassy': 3614, 'ornament': 3615, 'frayed': 3616, 'velvet': 3617, 'discontent': 3618, '“beyond': 3619, 'freemason': 3620, 'gospel': 3621, 'ship’s': 3622, 'carpenter': 3623, 'muscles': 3624, 'developed': 3625, 'insult': 3626, 'intelligence': 3627, 'rules': 3628, 'arc': 3629, 'compass': 3630, 'breastpin': 3631, 'cuff': 3632, 'patch': 3633, 'fish': 3634, 'tattooed': 3635, 'tattoo': 3636, 'contributed': 3637, 'staining': 3638, 'fishes’': 3639, 'scales': 3640, 'addition': 3641, 'chinese': 3642, 'coin': 3643, 'explaining': 3644, '‘': 3645, 'omne': 3646, 'ignotum': 3647, 'pro': 3648, 'magnifico': 3649, 'reputation': 3650, 'shipwreck': 3651, 'candid': 3652, 'planted': 3653, 'bequest': 3654, 'lebanon': 3655, 'pennsylvania': 3656, 'u': 3657, 'entitles': 3658, 'salary': 3659, '7': 3660, 'wriggled': 3661, 'scratch': 3662, 'april': 3663, '27': 3664, 'mopping': 3665, 'assistants': 3666, 'job': 3667, 'obliging': 3668, 'smarter': 3669, 'ideas': 3670, 'price': 3671, 'snapping': 3672, 'camera': 3673, 'improving': 3674, 'diving': 3675, 'develop': 3676, 'pictures': 3677, 'worker': 3678, 'vice': 3679, 'cooking': 3680, 'clean—that’s': 3681, 'widower': 3682, 'asks': 3683, '‘here’s': 3684, 'wits’': 3685, 'mat': 3686, '“‘have': 3687, '“‘never': 3688, 'one’s': 3689, 'occupations': 3690, 'prick': 3691, 'extra': 3692, '“‘tell': 3693, 'millionaire': 3694, 'instructions': 3695, 'providing': 3696, 'splendid': 3697, '“‘but': 3698, 'millions': 3699, '“‘not': 3700, 'londoners': 3701, 'applying': 3702, 'sake': 3703, 'competition': 3704, 'shutters': 3705, 'tramped': 3706, 'coster’s': 3707, 'barrow': 3708, 'were—straw': 3709, 'lemon': 3710, 'irish': 3711, 'setter': 3712, 'liver': 3713, 'vivid': 3714, 'butted': 3715, 'dejected': 3716, 'wedged': 3717, 'entertaining': 3718, 'refreshed': 3719, 'chairs': 3720, 'redder': 3721, 'candidate': 3722, 'managed': 3723, 'disqualify': 3724, 'favourable': 3725, '“‘this': 3726, '‘he': 3727, 'requirement': 3728, 'bashful': 3729, 'plunged': 3730, 'wrung': 3731, 'congratulated': 3732, '“‘it': 3733, 'injustice': 3734, 'hesitate': 3735, 'tugged': 3736, 'yelled': 3737, 'pain': 3738, 'released': 3739, 'deceived': 3740, 'wigs': 3741, 'cobbler’s': 3742, 'disgust': 3743, 'trooped': 3744, '“‘my': 3745, '‘is': 3746, 'pensioners': 3747, '“‘dear': 3748, '‘that': 3749, 'propagation': 3750, 'spread': 3751, 'maintenance': 3752, '“‘in': 3753, 'objection': 3754, 'fatal': 3755, 'stretch': 3756, 'awkward': 3757, '“‘ten': 3758, 'mornings': 3759, '“‘that': 3760, 'forfeit': 3761, 'comply': 3762, 'conditions': 3763, 'budge': 3764, '“‘it’s': 3765, 'avail': 3766, '‘neither': 3767, 'sickness': 3768, 'pens': 3769, 'provide': 3770, '“‘certainly': 3771, 'congratulate': 3772, 'persuaded': 3773, 'hoax': 3774, 'fraud': 3775, 'cheer': 3776, 'bedtime': 3777, 'anyhow': 3778, 'penny': 3779, 'bottle': 3780, 'quill': 3781, 'delight': 3782, 'bade': 3783, 'complimented': 3784, 'planked': 3785, 'sovereigns': 3786, 'week’s': 3787, 'dared': 3788, '“eight': 3789, 'abbots': 3790, 'archery': 3791, 'armour': 3792, 'architecture': 3793, 'attica': 3794, 'diligence': 3795, 'b’s': 3796, 'writings': 3797, 'hammered': 3798, 'tack': 3799, 'dissolved': 3800, 'october': 3801, '9': 3802, 'surveyed': 3803, 'curt': 3804, 'rueful': 3805, 'comical': 3806, 'overtopped': 3807, 'roar': 3808, 'elsewhere': 3809, 'shoving': 3810, 'refreshingly': 3811, 'landlord': 3812, 'accountant': 3813, '‘his': 3814, 'solicitor': 3815, 'convenience': 3816, '“‘where': 3817, '17': 3818, 'edward': 3819, 'manufactory': 3820, 'artificial': 3821, 'struggle': 3822, 'wisely': 3823, 'graver': 3824, '“grave': 3825, 'pound': 3826, 'grievance': 3827, 'prank—if': 3828, 'prank—upon': 3829, 'expensive': 3830, 'endeavour': 3831, 'advertisement—how': 3832, 'applicant': 3833, 'pick': 3834, 'cheap': 3835, '“small': 3836, 'gipsy': 3837, 'attended': 3838, 'complain': 3839, 'frankly': 3840, 'puzzling': 3841, 'identify': 3842, 'hawk': 3843, 'thrusting': 3844, 'bird': 3845, '“sarasate': 3846, 'plays': 3847, 'patients': 3848, 'absorbing': 3849, 'programme': 3850, 'italian': 3851, 'introspect': 3852, 'underground': 3853, 'aldersgate': 3854, 'poky': 3855, 'genteel': 3856, 'dingy': 3857, 'railed': 3858, 'lawn': 3859, 'weedy': 3860, 'clumps': 3861, 'laurel': 3862, 'bushes': 3863, 'laden': 3864, 'uncongenial': 3865, 'atmosphere': 3866, 'gilt': 3867, 'balls': 3868, '“jabez': 3869, 'wilson”': 3870, 'puckered': 3871, 'thumped': 3872, 'strand': 3873, '“third': 3874, 'promptly': 3875, '“smart': 3876, 'judgment': 3877, 'smartest': 3878, '“evidently': 3879, 'counts': 3880, 'spies': 3881, 'explore': 3882, 'picture': 3883, 'arteries': 3884, 'traffic': 3885, 'roadway': 3886, 'blocked': 3887, 'commerce': 3888, 'outward': 3889, 'footpaths': 3890, 'pedestrians': 3891, 'shops': 3892, 'stately': 3893, 'stagnant': 3894, 'quitted': 3895, 'hobby': 3896, 'mortimer’s': 3897, 'tobacconist': 3898, 'vegetarian': 3899, 'restaurant': 3900, 'mcfarlane’s': 3901, 'depot': 3902, 'block': 3903, 'we’ve': 3904, 'sandwich': 3905, 'sweetness': 3906, 'harmony': 3907, 'vex': 3908, 'conundrums': 3909, 'enthusiastic': 3910, 'musician': 3911, 'performer': 3912, 'composer': 3913, 'merit': 3914, 'stalls': 3915, 'wrapped': 3916, 'dreamy': 3917, 'sleuth': 3918, 'hound': 3919, 'dual': 3920, 'asserted': 3921, 'exactness': 3922, 'astuteness': 3923, 'poetic': 3924, 'contemplative': 3925, 'predominated': 3926, 'devouring': 3927, 'improvisations': 3928, 'editions': 3929, 'unacquainted': 3930, 'askance': 3931, 'mortals': 3932, 'enwrapped': 3933, 'hunt': 3934, 'complicates': 3935, '“ten': 3936, 'heel': 3937, 'neighbours': 3938, 'oppressed': 3939, 'stupidity': 3940, 'dealings': 3941, 'confused': 3942, 'grotesque': 3943, 'kensington': 3944, 'copier': 3945, 'nocturnal': 3946, 'hint': 3947, 'man—a': 3948, 'puzzle': 3949, 'aside': 3950, 'hansoms': 3951, 'entering': 3952, 'peter': 3953, 'oppressively': 3954, 'buttoning': 3955, 'pea': 3956, '“watson': 3957, 'night’s': 3958, '“we’re': 3959, 'couples': 3960, 'consequential': 3961, 'gloomily': 3962, 'confidence': 3963, 'loftily': 3964, 'theoretical': 3965, 'makings': 3966, 'sholto': 3967, 'agra': 3968, 'treasure': 3969, '“still': 3970, 'exciting': 3971, '“john': 3972, 'thief': 3973, 'smasher': 3974, 'forger': 3975, 'bracelets': 3976, 'eton': 3977, 'build': 3978, 'orphanage': 3979, 'cornwall': 3980, 'introducing': 3981, 'turns': 3982, 'communicative': 3983, 'humming': 3984, 'tunes': 3985, 'farrington': 3986, 'virtue': 3987, 'tenacious': 3988, 'lobster': 3989, 'claws': 3990, 'thoroughfare': 3991, 'cabs': 3992, 'dismissed': 3993, 'guidance': 3994, 'iron': 3995, 'terminated': 3996, 'conducted': 3997, 'piled': 3998, 'crates': 3999, 'vulnerable': 4000, 'flags': 4001, 'severely': 4002, 'imperilled': 4003, 'examine': 4004, 'minutely': 4005, 'cracks': 4006, 'sufficed': 4007, 'satisfy': 4008, 'doctor—as': 4009, 'divined—in': 4010, 'banks': 4011, 'unpack': 4012, 'contains': 4013, 'packed': 4014, 'layers': 4015, 'foil': 4016, 'misgivings': 4017, 'justified': 4018, 'screen': 4019, 'partie': 4020, 'carrée': 4021, 'positions': 4022, 'disadvantage': 4023, 'stand': 4024, 'crouched': 4025, 'slide': 4026, 'darkness—such': 4027, 'experienced': 4028, 'moment’s': 4029, 'expectancy': 4030, 'depressing': 4031, 'subduing': 4032, 'dank': 4033, 'retreat': 4034, 'officers': 4035, 'comparing': 4036, 'dawn': 4037, 'tension': 4038, 'distinguish': 4039, 'deeper': 4040, 'heavier': 4041, 'bulky': 4042, 'sighing': 4043, 'glint': 4044, 'gash': 4045, 'womanly': 4046, 'area': 4047, 'withdrawn': 4048, 'chink': 4049, 'momentary': 4050, 'gaping': 4051, 'streamed': 4052, 'boyish': 4053, 'aperture': 4054, 'waist': 4055, 'hauling': 4056, 'lithe': 4057, 'chisel': 4058, 'bags': 4059, 'scott': 4060, 'archie': 4061, 'sprung': 4062, 'intruder': 4063, 'dived': 4064, 'clutched': 4065, 'skirts': 4066, 'flashed': 4067, 'barrel': 4068, 'clinked': 4069, 'blandly': 4070, 'coolness': 4071, 'tails': 4072, 'effective': 4073, 'quicker': 4074, 'climbing': 4075, 'fix': 4076, 'derbies': 4077, 'filthy': 4078, 'handcuffs': 4079, 'clattered': 4080, '‘sir’': 4081, '‘please': 4082, 'stare': 4083, 'snigger': 4084, 'highness': 4085, 'serenely': 4086, 'sweeping': 4087, 'custody': 4088, 'repay': 4089, 'detected': 4090, 'defeated': 4091, 'scores': 4092, 'refund': 4093, 'amply': 4094, 'repaid': 4095, 'whisky': 4096, 'soda': 4097, 'managing': 4098, 'clay’s': 4099, 'ingenious': 4100, 'accomplice’s': 4101, 'lure': 4102, 'incites': 4103, 'securing': 4104, 'intrigue': 4105, 'elaborate': 4106, 'expenditure': 4107, 'assistant’s': 4108, 'fondness': 4109, 'coolest': 4110, 'cellar—something': 4111, 'beating': 4112, 'ascertaining': 4113, 'skirmishes': 4114, 'remaining': 4115, 'concert': 4116, 'presence—in': 4117, 'unfeigned': 4118, 'ennui': 4119, 'yawning': 4120, '“alas': 4121, 'feel': 4122, '“‘': 4123, 'l’homme': 4124, 'rien—l’œuvre': 4125, 'gustave': 4126, 'flaubert': 4127, 'sand': 4128, '“life': 4129, 'dare': 4130, 'hover': 4131, 'roofs': 4132, 'peep': 4133, 'queer': 4134, 'coincidences': 4135, 'plannings': 4136, 'chains': 4137, 'generations': 4138, 'fiction': 4139, 'conventionalities': 4140, 'foreseen': 4141, 'stale': 4142, 'unprofitable': 4143, 'reports': 4144, 'realism': 4145, 'fascinating': 4146, 'artistic': 4147, 'selection': 4148, 'producing': 4149, 'realistic': 4150, 'report': 4151, 'stress': 4152, 'platitudes': 4153, 'magistrate': 4154, 'contain': 4155, 'essence': 4156, 'smiled': 4157, 'unofficial': 4158, 'throughout': 4159, 'continents': 4160, 'contact': 4161, 'here”—i': 4162, 'ground—“let': 4163, '‘a': 4164, 'cruelty': 4165, 'print': 4166, 'push': 4167, 'bruise': 4168, 'crudest': 4169, 'writers': 4170, 'crude': 4171, 'argument': 4172, 'dundas': 4173, 'separation': 4174, 'happens': 4175, 'teetotaler': 4176, 'complained': 4177, 'meal': 4178, 'hurling': 4179, 'teller': 4180, 'acknowledge': 4181, 'snuffbox': 4182, 'amethyst': 4183, 'splendour': 4184, 'commenting': 4185, 'souvenir': 4186, 'unimportant': 4187, 'charm': 4188, 'apt': 4189, 'simpler': 4190, 'bigger': 4191, 'intricate': 4192, 'marseilles': 4193, 'presents': 4194, 'opposite': 4195, 'boa': 4196, 'tilted': 4197, 'coquettish': 4198, 'duchess': 4199, 'devonshire': 4200, 'panoply': 4201, 'oscillated': 4202, 'fidgeted': 4203, 'plunge': 4204, 'swimmer': 4205, 'clang': 4206, 'symptoms': 4207, '“oscillation': 4208, 'affaire': 4209, 'cœur': 4210, 'communication': 4211, 'discriminate': 4212, 'oscillates': 4213, 'symptom': 4214, 'perplexed': 4215, 'grieved': 4216, 'announce': 4217, 'loomed': 4218, 'sailed': 4219, 'merchant': 4220, 'pilot': 4221, 'welcomed': 4222, 'courtesy': 4223, 'abstracted': 4224, 'humoured': 4225, '“you’ve': 4226, '“else': 4227, 'overlook': 4228, 'etherege': 4229, 'bang': 4230, 'windibank—that': 4231, 'father—took': 4232, 'younger': 4233, 'plumber': 4234, 'tidy': 4235, 'wines': 4236, '4700': 4237, 'goodwill': 4238, 'rambling': 4239, 'inconsequential': 4240, 'concentration': 4241, '“does': 4242, 'ned': 4243, 'auckland': 4244, 'zealand': 4245, '4½': 4246, 'per': 4247, 'cent': 4248, 'thousand': 4249, 'bargain': 4250, 'indulge': 4251, '60': 4252, 'burden': 4253, 'draws': 4254, 'pays': 4255, 'brings': 4256, 'stole': 4257, 'sutherland’s': 4258, 'nervously': 4259, 'sunday': 4260, 'drawer': 4261, 'annoyed': 4262, 'denying': 4263, 'him—that': 4264, '“were': 4265, 'hosmer—mr': 4266, 'angel—was': 4267, 'cashier': 4268, 'street—and—”': 4269, '“that’s': 4270, '“no—except': 4271, 'chaffed': 4272, 'clerks': 4273, 'typewrite': 4274, 'axiom': 4275, 'shy': 4276, 'daylight': 4277, 'hated': 4278, 'conspicuous': 4279, 'gentlemanly': 4280, 'he’d': 4281, 'quinsy': 4282, 'swollen': 4283, 'glands': 4284, 'whispering': 4285, 'proposed': 4286, 'earnest': 4287, 'fonder': 4288, 'bordeaux': 4289, 'saviour’s': 4290, 'king’s': 4291, 'pancras': 4292, 'shamefully': 4293, 'pledged': 4294, 'pledge': 4295, '“most': 4296, 'catastrophe': 4297, 'notion': 4298, 'independent': 4299, 'shilling': 4300, 'wink': 4301, 'handkerchief': 4302, 'muff': 4303, 'dwell': 4304, 'vanish': 4305, 'accurate': 4306, 'saturday’s': 4307, '31': 4308, 'lyon': 4309, 'angel’s': 4310, 'travels': 4311, 'claret': 4312, 'importers': 4313, 'whenever': 4314, 'summoned': 4315, 'pressed': 4316, 'oily': 4317, 'counsellor': 4318, 'wreaths': 4319, 'spinning': 4320, 'infinite': 4321, 'trite': 4322, 'andover': 4323, '’77': 4324, 'hague': 4325, 'instructive': 4326, 'unnoticed': 4327, 'suggestiveness': 4328, 'nails': 4329, 'lace': 4330, 'straw': 4331, 'brickish': 4332, 'beads': 4333, 'sewn': 4334, 'jet': 4335, 'ornaments': 4336, 'darker': 4337, '“’pon': 4338, 'impressions': 4339, 'concentrate': 4340, 'trouser': 4341, 'typewritist': 4342, 'presses': 4343, 'sewing': 4344, 'type': 4345, 'broadest': 4346, 'dint': 4347, 'ventured': 4348, 'decorated': 4349, 'fifth': 4350, 'neatly': 4351, 'fully': 4352, 'dipped': 4353, 'amusing': 4354, 'elementary': 4355, '“missing': 4356, 'fourteenth': 4357, 'ft': 4358, 'complexion': 4359, 'infirmity': 4360, 'harris': 4361, 'gaiters': 4362, 'sided': 4363, 'anybody': 4364, 'quotes': 4365, 'balzac': 4366, '‘hosmer': 4367, 'angel’': 4368, 'bottom': 4369, 'superscription': 4370, 'suggestive—in': 4371, 'conclusive': 4372, 'deny': 4373, 'breach': 4374, 'instituted': 4375, 'answers': 4376, 'interim': 4377, 'solid': 4378, 'demeanour': 4379, 'weird': 4380, 'tangle': 4381, 'unravel': 4382, 'puffing': 4383, 'disappearing': 4384, 'gravity': 4385, 'engaging': 4386, 'bedside': 4387, 'sufferer': 4388, 'spring': 4389, 'assist': 4390, 'dénouement': 4391, 'recesses': 4392, 'array': 4393, 'bottles': 4394, 'tubes': 4395, 'pungent': 4396, 'cleanly': 4397, 'hydrochloric': 4398, 'chemical': 4399, 'bisulphate': 4400, 'baryta': 4401, 'salt': 4402, 'drawback': 4403, 'deserting': 4404, 'sturdy': 4405, 'bland': 4406, 'sidled': 4407, 'troubled': 4408, 'linen': 4409, 'public': 4410, 'excitable': 4411, 'impulsive': 4412, 'controlled': 4413, 'misfortune': 4414, 'noised': 4415, 'useless': 4416, 'succeed': 4417, 'discovering': 4418, 'alike': 4419, 'slurring': 4420, '‘e': 4421, 'defect': 4422, 'tail': 4423, '‘r': 4424, 'correspondence': 4425, '‘e’s’': 4426, 'slurred': 4427, '‘r’s’': 4428, 'tailless': 4429, 'alluded': 4430, 'waste': 4431, 'do—really': 4432, 'suavely': 4433, 'transparent': 4434, 'that’s': 4435, 'brow': 4436, '“it—it’s': 4437, 'selfish': 4438, 'heartless': 4439, 'contradict': 4440, 'crushed': 4441, 'stuck': 4442, 'enjoyed': 4443, 'warm': 4444, 'restive': 4445, 'insisted': 4446, 'rights': 4447, 'conceives': 4448, 'creditable': 4449, 'connivance': 4450, 'disguised': 4451, 'masked': 4452, 'whisper': 4453, 'doubly': 4454, 'lovers': 4455, 'decidedly': 4456, 'flattered': 4457, 'attentions': 4458, 'expressed': 4459, 'engagement': 4460, 'affections': 4461, 'deception': 4462, 'pretended': 4463, 'journeys': 4464, 'cumbrous': 4465, 'dramatic': 4466, 'permanent': 4467, 'suitor': 4468, 'vows': 4469, 'fidelity': 4470, 'exacted': 4471, 'allusions': 4472, 'happening': 4473, 'rate': 4474, 'conveniently': 4475, 'assurance': 4476, 'assault': 4477, 'illegal': 4478, 'constraint': 4479, 'unlocking': 4480, '“yet': 4481, 'deserved': 4482, 'jove': 4483, 'to—”': 4484, 'swift': 4485, 'clatter': 4486, 'banged': 4487, 'speed': 4488, '“there’s': 4489, 'ends': 4490, 'gallows': 4491, 'profited': 4492, 'spectacles': 4493, 'hinted': 4494, 'confirmed': 4495, 'inferred': 4496, 'sample': 4497, 'isolated': 4498, 'verify': 4499, '“having': 4500, 'corroboration': 4501, 'eliminated': 4502, 'disguise—the': 4503, 'inform': 4504, 'travellers': 4505, 'peculiarities': 4506, 'revealed': 4507, 'defects': 4508, 'tallied': 4509, 'voilà': 4510, 'persian': 4511, 'taketh': 4512, 'tiger': 4513, 'cub': 4514, 'whoso': 4515, 'snatches': 4516, 'delusion': 4517, 'hafiz': 4518, 'horace': 4519, 'scenery': 4520, '11': 4521, '“will': 4522, 'list': 4523, 'anstruther': 4524, 'ungrateful': 4525, 'camp': 4526, 'afghanistan': 4527, 'valise': 4528, 'rattling': 4529, 'gaunt': 4530, 'gaunter': 4531, 'taller': 4532, 'travelling': 4533, 'fitting': 4534, 'worthless': 4535, 'biassed': 4536, 'seats': 4537, 'litter': 4538, 'intervals': 4539, 'meditation': 4540, 'paradoxical': 4541, 'profoundly': 4542, 'singularity': 4543, 'established': 4544, 'granted': 4545, 'opportunity': 4546, '“boscombe': 4547, 'landed': 4548, 'farms': 4549, 'charles': 4550, 'colonies': 4551, 'tenant': 4552, 'equality': 4553, 'eighteen': 4554, 'wives': 4555, 'avoided': 4556, 'sport': 4557, 'servants—a': 4558, 'spreading': 4559, 'serving': 4560, 'farmhouse': 4561, 'mentioned': 4562, 'employ': 4563, 'witnesses': 4564, 'depose': 4565, 'adds': 4566, 'thickly': 4567, 'wooded': 4568, 'flowers': 4569, 'border': 4570, 'elder': 4571, '‘wilful': 4572, 'murder’': 4573, 'tuesday': 4574, 'magistrates': 4575, 'circumstantial': 4576, '“circumstantial': 4577, 'tricky': 4578, 'thoughtfully': 4579, 'shift': 4580, 'uncompromising': 4581, 'grave': 4582, 'landowner': 4583, 'recollect': 4584, 'westward': 4585, 'digesting': 4586, 'breakfasts': 4587, 'deceptive': 4588, '“besides': 4589, 'boasting': 4590, 'confirm': 4591, 'destroy': 4592, 'incapable': 4593, 'understanding': 4594, 'military': 4595, 'neatness': 4596, 'characterises': 4597, 'sunlight': 4598, 'shaving': 4599, 'positively': 4600, 'slovenly': 4601, 'illuminated': 4602, 'equal': 4603, 'quote': 4604, 'inference': 4605, 'therein': 4606, 'métier': 4607, 'service': 4608, 'constabulary': 4609, 'informing': 4610, 'removing': 4611, 'protestation': 4612, '“coming': 4613, 'brightest': 4614, 'rift': 4615, 'feigned': 4616, 'indignation': 4617, 'anger': 4618, 'scheming': 4619, 'frank': 4620, 'acceptance': 4621, 'restraint': 4622, 'firmness': 4623, 'forgotten': 4624, 'filial': 4625, 'bandy': 4626, 'reproach': 4627, 'contrition': 4628, 'displayed': 4629, 'healthy': 4630, 'slighter': 4631, 'encouraging': 4632, 'supporters': 4633, 'paragraph': 4634, 'absent': 4635, 'arrival': 4636, 'cobb': 4637, 'strolled': 4638, 'visiting': 4639, 'warren': 4640, '“cooee': 4641, 'ensued': 4642, 'temper': 4643, 'becoming': 4644, 'ungovernable': 4645, '150': 4646, 'outcry': 4647, 'expiring': 4648, 'expired': 4649, 'knelt': 4650, 'manners': 4651, 'allusion': 4652, 'final': 4653, 'decide': 4654, 'prejudice': 4655, 'arise': 4656, 'juryman': 4657, 'aroused': 4658, 'fatally': 4659, 'disturbed': 4660, 'plaid': 4661, '“‘do': 4662, '“‘how': 4663, '“‘a': 4664, '“‘about': 4665, 'concluded': 4666, 'concluding': 4667, 'discrepancy': 4668, 'signalled': 4669, 'cushioned': 4670, '“both': 4671, 'strongest': 4672, 'evolved': 4673, 'whither': 4674, 'petrarch': 4675, 'swindon': 4676, 'stroud': 4677, 'gleaming': 4678, 'severn': 4679, 'lean': 4680, 'ferret': 4681, 'furtive': 4682, 'dustcoat': 4683, 'leggings': 4684, 'rustic': 4685, 'surroundings': 4686, 'recognising': 4687, 'tea': 4688, 'complimentary': 4689, 'barometric': 4690, 'pressure': 4691, 'caseful': 4692, 'cigarettes': 4693, 'abomination': 4694, 'indulgently': 4695, 'newspapers': 4696, 'pikestaff': 4697, 'plainer': 4698, 'repeatedly': 4699, 'concern': 4700, 'fastening': 4701, 'absurd': 4702, 'loophole': 4703, 'defiantly': 4704, 'forming': 4705, 'disagreements': 4706, 'and—and—well': 4707, 'quarrels': 4708, 'blush': 4709, 'willows': 4710, 'misses': 4711, 'undertaking': 4712, 'impulsively': 4713, 'minutes’': 4714, 'disappoint': 4715, 'reconsider': 4716, '“ample': 4717, 'novel': 4718, 'puny': 4719, 'groping': 4720, 'continually': 4721, 'flung': 4722, 'supposing': 4723, 'hellish': 4724, 'calamity': 4725, 'screams': 4726, 'glade': 4727, 'instincts': 4728, 'weekly': 4729, 'contained': 4730, 'verbatim': 4731, 'surgeon’s': 4732, 'deposition': 4733, 'posterior': 4734, 'parietal': 4735, 'occipital': 4736, 'extent': 4737, 'delirium': 4738, 'commonly': 4739, 'cudgelled': 4740, 'brains': 4741, 'hardihood': 4742, 'kneeling': 4743, 'tissue': 4744, 'improbabilities': 4745, 'lestrade’s': 4746, 'insight': 4747, 'keenest': 4748, 'fagged': 4749, '“could': 4750, 'screening': 4751, 'comely': 4752, 'admire': 4753, 'thereby': 4754, 'painful': 4755, 'madly': 4756, 'insanely': 4757, 'boarding': 4758, 'idiot': 4759, 'registry': 4760, 'upbraided': 4761, 'goading': 4762, 'supporting': 4763, 'bermuda': 4764, 'dockyard': 4765, 'consoled': 4766, 'suffered': 4767, 'crucial': 4768, 'depends': 4769, 'meredith': 4770, 'foretold': 4771, 'cloudless': 4772, 'despaired': 4773, 'sixty': 4774, 'constitution': 4775, 'helped': 4776, 'obligations': 4777, 'heiress': 4778, 'cocksure': 4779, 'proposal': 4780, 'deductions': 4781, 'winking': 4782, 'fancies': 4783, 'demurely': 4784, '“anyhow': 4785, 'replied': 4786, 'warmth': 4787, 'senior': 4788, 'junior': 4789, 'brighter': 4790, 'fog': 4791, 'widespread': 4792, 'roofed': 4793, 'blotches': 4794, 'lichen': 4795, 'walls': 4796, 'smokeless': 4797, 'chimneys': 4798, 'measured': 4799, 'desired': 4800, 'transformed': 4801, 'logician': 4802, 'darkened': 4803, 'brows': 4804, 'shone': 4805, 'steely': 4806, 'compressed': 4807, 'whipcord': 4808, 'sinewy': 4809, 'dilate': 4810, 'concentrated': 4811, 'unheeded': 4812, 'provoked': 4813, 'silently': 4814, 'meadows': 4815, 'damp': 4816, 'marshy': 4817, 'bounded': 4818, 'detour': 4819, 'meadow': 4820, 'indifferent': 4821, 'contemptuous': 4822, 'reed': 4823, 'girt': 4824, 'situated': 4825, 'boundary': 4826, 'jutting': 4827, 'pinnacles': 4828, 'site': 4829, 'landowner’s': 4830, 'dwelling': 4831, 'sodden': 4832, 'trampled': 4833, 'fished': 4834, 'rake': 4835, 'vanishes': 4836, 'herd': 4837, 'buffalo': 4838, 'wallowed': 4839, '“these': 4840, 'soles': 4841, 'listening': 4842, 'again—of': 4843, 'beech': 4844, 'gathering': 4845, 'dust': 4846, 'examining': 4847, 'jagged': 4848, 'pathway': 4849, 'highroad': 4850, 'luncheon': 4851, 'growing': 4852, 'lain': 4853, 'corresponds': 4854, 'limps': 4855, 'wears': 4856, 'soled': 4857, 'smokes': 4858, 'uses': 4859, 'sceptic': 4860, '“theories': 4861, 'nous': 4862, 'verrons': 4863, 'unfinished': 4864, 'populous': 4865, 'undertake': 4866, 'pained': 4867, 'perplexing': 4868, '“look': 4869, 'preach': 4870, 'expound': 4871, 'impressed': 4872, 'research': 4873, 'presuming': 4874, 'earshot': 4875, 'attract': 4876, 'australians': 4877, 'folded': 4878, '“arat': 4879, '“ballarat': 4880, 'syllables': 4881, 'utter': 4882, 'narrowed': 4883, 'garment': 4884, 'granting': 4885, 'vagueness': 4886, 'personality': 4887, 'stride': 4888, 'lameness': 4889, 'limped—he': 4890, 'lame': 4891, 'handedness': 4892, 'injury': 4893, 'surgeon': 4894, 'special': 4895, 'enables': 4896, '140': 4897, 'varieties': 4898, 'stump': 4899, 'variety': 4900, 'rotterdam': 4901, 'tip': 4902, 'bitten': 4903, 'cord': 4904, 'waiter': 4905, 'ushering': 4906, 'impressive': 4907, 'limping': 4908, 'decrepitude': 4909, 'craggy': 4910, 'beard': 4911, 'outstanding': 4912, 'eyebrows': 4913, 'combined': 4914, 'ashen': 4915, 'corners': 4916, 'tinged': 4917, 'chronic': 4918, 'disease': 4919, 'answering': 4920, 'heart—it': 4921, 'hears': 4922, 'required': 4923, 'diabetes': 4924, 'gaol': 4925, 'jot': 4926, 'extremity': 4927, 'incarnate': 4928, 'blasted': 4929, '’60’s': 4930, 'luck': 4931, 'bush': 4932, 'highway': 4933, 'robber': 4934, 'stopping': 4935, 'wagons': 4936, 'convoy': 4937, 'melbourne': 4938, 'attacked': 4939, 'troopers': 4940, 'emptied': 4941, 'saddles': 4942, 'volley': 4943, 'boys': 4944, 'killed': 4945, 'swag': 4946, 'wagon': 4947, 'spared': 4948, 'wicked': 4949, 'pals': 4950, 'chanced': 4951, 'earned': 4952, 'wee': 4953, 'investment': 4954, '“‘here': 4955, 'touching': 4956, '‘we’ll': 4957, 'don’t—it’s': 4958, 'abiding': 4959, 'hail': 4960, 'forgetfulness': 4961, 'stroke': 4962, 'cursed': 4963, 'midway': 4964, 'uppermost': 4965, 'urging': 4966, 'slut': 4967, 'snap': 4968, 'bond': 4969, 'desperate': 4970, 'tongue': 4971, 'sinned': 4972, 'martyrdom': 4973, 'atone': 4974, 'meshes': 4975, 'venomous': 4976, 'beast': 4977, 'fetch': 4978, 'temptation': 4979, 'intend': 4980, 'condemned': 4981, 'mortal': 4982, '“farewell': 4983, 'deathbeds': 4984, 'tottering': 4985, 'giant': 4986, 'frame': 4987, 'stumbled': 4988, 'tricks': 4989, 'worms': 4990, 'baxter’s': 4991, 'acquitted': 4992, 'objections': 4993, 'defending': 4994, 'counsel': 4995, 'prospect': 4996, 'rests': 4997, '’82': 4998, '’90': 4999, 'qualities': 5000, 'illustrate': 5001, 'narratives': 5002, 'beginnings': 5003, 'partially': 5004, 'explanations': 5005, 'surmise': 5006, 'logical': 5007, 'proof': 5008, 'startling': 5009, 'tempted': 5010, '’87': 5011, 'headings': 5012, 'paradol': 5013, 'mendicant': 5014, 'luxurious': 5015, 'warehouse': 5016, 'sophy': 5017, 'anderson': 5018, 'grice': 5019, 'patersons': 5020, 'island': 5021, 'uffa': 5022, 'poisoning': 5023, 'wound': 5024, 'time—a': 5025, 'sketch': 5026, 'september': 5027, 'elemental': 5028, 'forces': 5029, 'mankind': 5030, 'bars': 5031, 'civilisation': 5032, 'untamed': 5033, 'beasts': 5034, 'cage': 5035, 'louder': 5036, 'chimney': 5037, 'moodily': 5038, 'fireplace': 5039, 'indexing': 5040, 'clark': 5041, 'russell’s': 5042, 'howl': 5043, 'gale': 5044, 'blend': 5045, 'text': 5046, 'lengthen': 5047, 'swash': 5048, 'waves': 5049, 'mother’s': 5050, 'dweller': 5051, '“except': 5052, 'encourage': 5053, 'crony': 5054, 'landlady’s': 5055, 'tapping': 5056, 'vacant': 5057, 'groomed': 5058, 'trimly': 5059, 'refinement': 5060, 'streaming': 5061, 'anxiously': 5062, 'weighed': 5063, 'intruding': 5064, 'snug': 5065, '“give': 5066, 'hook': 5067, 'mixture': 5068, 'distinctive': 5069, 'tankerville': 5070, 'cheating': 5071, 'times—three': 5072, 'successes': 5073, 'appeal': 5074, 'inexplicable': 5075, 'blaze': 5076, 'awful': 5077, 'sons—my': 5078, 'joseph': 5079, 'factory': 5080, 'coventry': 5081, 'enlarged': 5082, 'invention': 5083, 'bicycling': 5084, 'patentee': 5085, 'unbreakable': 5086, 'tire': 5087, 'competence': 5088, 'emigrated': 5089, 'planter': 5090, 'fought': 5091, 'jackson’s': 5092, 'hood': 5093, 'plantation': 5094, '1870': 5095, 'sussex': 5096, 'aversion': 5097, 'negroes': 5098, 'republican': 5099, 'franchise': 5100, 'tempered': 5101, 'mouthed': 5102, 'fields': 5103, 'exercise': 5104, 'brandy': 5105, 'youngster': 5106, '1878': 5107, 'sober': 5108, 'backgammon': 5109, 'draughts': 5110, 'representative': 5111, 'servants': 5112, 'tradespeople': 5113, 'sixteen': 5114, 'keys': 5115, 'privacy': 5116, 'attics': 5117, 'permit': 5118, 'boy’s': 5119, 'keyhole': 5120, 'collection': 5121, 'trunks': 5122, 'bundles': 5123, 'day—it': 5124, '1883—a': 5125, 'foreign': 5126, 'stamp': 5127, 'colonel’s': 5128, 'bills': 5129, '‘from': 5130, 'india': 5131, '‘pondicherry': 5132, 'skin': 5133, 'putty': 5134, 'glared': 5135, 'trembling': 5136, 'shrieked': 5137, '‘my': 5138, 'sins': 5139, 'overtaken': 5140, '“‘death': 5141, 'palpitating': 5142, 'gum': 5143, 'ascended': 5144, 'rusty': 5145, 'belonged': 5146, 'cashbox': 5147, '“‘they': 5148, 'checkmate': 5149, 'oath': 5150, '‘tell': 5151, 'grate': 5152, 'mass': 5153, '‘to': 5154, 'disadvantages': 5155, 'descend': 5156, 'enjoy': 5157, 'deadliest': 5158, 'pondered': 5159, 'dread': 5160, 'sensation': 5161, 'spend': 5162, 'tear': 5163, 'screaming': 5164, 'cooped': 5165, 'sheep': 5166, 'fits': 5167, 'tumultuously': 5168, 'brazen': 5169, 'glisten': 5170, 'basin': 5171, 'abuse': 5172, 'sallies': 5173, 'scummed': 5174, 'eccentricity': 5175, '‘suicide': 5176, 'winced': 5177, 'ado': 5178, 'persuade': 5179, 'interposed': 5180, 'reception': 5181, 'supposed': 5182, '1883': 5183, '2nd': 5184, 'proceed': 5185, 'label': 5186, '‘letters': 5187, 'memoranda': 5188, 'receipts': 5189, 'register’': 5190, 'repute': 5191, 'soldier': 5192, 'reconstruction': 5193, 'opposing': 5194, 'carpet': 5195, 'politicians': 5196, '’84': 5197, 'outstretched': 5198, 'cock': 5199, 'bull': 5200, 'scared': 5201, '‘it': 5202, '‘so': 5203, '‘here': 5204, '“‘put': 5205, 'peeping': 5206, '‘but': 5207, '“‘pooh': 5208, 'gripping': 5209, 'courage': 5210, '‘we': 5211, 'civilised': 5212, 'tomfoolery': 5213, '“‘from': 5214, '“‘some': 5215, '‘what': 5216, 'sundials': 5217, 'forbid': 5218, 'fuss': 5219, 'vain': 5220, 'argue': 5221, 'obstinate': 5222, 'forebodings': 5223, 'freebody': 5224, 'command': 5225, 'forts': 5226, 'portsdown': 5227, 'hill': 5228, 'imploring': 5229, 'pits': 5230, 'abound': 5231, 'senseless': 5232, 'skull': 5233, 'fareham': 5234, 'twilight': 5235, 'pit': 5236, 'unfenced': 5237, 'hesitation': 5238, '‘death': 5239, 'accidental': 5240, 'causes': 5241, 'unable': 5242, 'footmarks': 5243, 'roads': 5244, 'nigh': 5245, 'inheritance': 5246, 'dispose': 5247, 'dependent': 5248, 'curse': 5249, 'generation': 5250, 'comfort': 5251, 'london—eastern': 5252, 'message': 5253, '‘put': 5254, 'truth”—he': 5255, 'hands—“i': 5256, 'rabbits': 5257, 'resistless': 5258, 'inexorable': 5259, 'precautions': 5260, '“tut': 5261, 'jokes': 5262, 'relations': 5263, 'accidents': 5264, 'clenched': 5265, '“incredible': 5266, 'imbecility': 5267, '“has': 5268, 'raved': 5269, 'advised': 5270, 'acted': 5271, 'us—no': 5272, 'remembrance': 5273, 'unburned': 5274, 'margins': 5275, 'fluttered': 5276, 'destruction': 5277, 'helps': 5278, 'undoubtedly': 5279, 'ragged': 5280, '“march': 5281, 'enigmatical': 5282, 'notices': 5283, '“4th': 5284, 'hudson': 5285, '“7th': 5286, 'augustine': 5287, '“9th': 5288, '“10th': 5289, '“12th': 5290, 'folding': 5291, 'described': 5292, 'assert': 5293, 'revenge': 5294, 'weave': 5295, 'theirs': 5296, 'threatens': 5297, 'punish': 5298, 'parties': 5299, 'meanwhile': 5300, 'imminent': 5301, 'safety': 5302, 'splashed': 5303, 'elements—blown': 5304, 'weed': 5305, 'gale—and': 5306, 'reabsorbed': 5307, 'glow': 5308, 'chased': 5309, '“save': 5310, 'sholtos': 5311, '“formed': 5312, 'pursue': 5313, 'ideal': 5314, 'bearings': 5315, 'cuvier': 5316, 'correctly': 5317, 'understood': 5318, 'accurately': 5319, 'sought': 5320, 'senses': 5321, 'art': 5322, 'necessary': 5323, 'utilise': 5324, 'implies': 5325, 'readily': 5326, 'encyclopædias': 5327, 'accomplishment': 5328, 'rightly': 5329, 'friendship': 5330, 'document': 5331, 'philosophy': 5332, 'astronomy': 5333, 'zero': 5334, 'botany': 5335, 'variable': 5336, 'geology': 5337, 'profound': 5338, 'regards': 5339, 'region': 5340, 'chemistry': 5341, 'eccentric': 5342, 'anatomy': 5343, 'unsystematic': 5344, 'sensational': 5345, 'player': 5346, 'boxer': 5347, 'swordsman': 5348, 'poisoner': 5349, 'grinned': 5350, 'item': 5351, 'stocked': 5352, 'library': 5353, 'muster': 5354, 'willingly': 5355, 'climate': 5356, 'lonely': 5357, 'provincial': 5358, 'solitude': 5359, 'suggests': 5360, 'assume': 5361, 'successors': 5362, 'postmarks': 5363, 'seaports': 5364, '“excellent': 5365, 'probability—the': 5366, 'probability—is': 5367, 'threat': 5368, 'fulfilment': 5369, 'token': 5370, 'steamer': 5371, '“more': 5372, 'urgency': 5373, 'urged': 5374, 'caution': 5375, 'senders': 5376, 'persecution': 5377, 'persons': 5378, 'deceive': 5379, 'determination': 5380, 'ceases': 5381, 'individual': 5382, 'badge': 5383, 'never—”': 5384, 'bending': 5385, 'voice—“have': 5386, 'ku': 5387, '“‘ku': 5388, 'derived': 5389, 'fanciful': 5390, 'resemblance': 5391, 'cocking': 5392, 'rifle': 5393, 'soldiers': 5394, 'notably': 5395, 'tennessee': 5396, 'louisiana': 5397, 'carolinas': 5398, 'principally': 5399, 'terrorising': 5400, 'negro': 5401, 'voters': 5402, 'murdering': 5403, 'opposed': 5404, 'preceded': 5405, 'shape—a': 5406, 'sprig': 5407, 'oak': 5408, 'melon': 5409, 'seeds': 5410, 'receiving': 5411, 'openly': 5412, 'abjure': 5413, 'unfailingly': 5414, 'systematic': 5415, 'braving': 5416, 'impunity': 5417, 'perpetrators': 5418, 'flourished': 5419, 'efforts': 5420, 'united': 5421, 'government': 5422, 'classes': 5423, 'community': 5424, 'sporadic': 5425, 'outbreaks': 5426, 'coincident': 5427, 'implacable': 5428, 'register': 5429, 'implicate': 5430, 'seen—”': 5431, '‘sent': 5432, 'c’—that': 5433, 'society’s': 5434, 'entries': 5435, 'subdued': 5436, 'brightness': 5437, 'openshaw’s': 5438, 'lifted': 5439, 'unopened': 5440, 'chill': 5441, '‘tragedy': 5442, '“‘between': 5443, 'cook': 5444, 'stormy': 5445, 'rescue': 5446, 'proved': 5447, 'residence': 5448, 'haste': 5449, 'steamboats': 5450, 'exhibited': 5451, 'accident': 5452, 'stages': 5453, 'depressed': 5454, 'shaken': 5455, 'sends': 5456, 'death—': 5457, 'clasping': 5458, 'unclasping': 5459, 'devils': 5460, 'decoyed': 5461, 'embankment': 5462, 'direct': 5463, 'win': 5464, 'spun': 5465, 'flies': 5466, 'loaf': 5467, 'devoured': 5468, 'voraciously': 5469, 'washing': 5470, 'draught': 5471, 'hungry': 5472, '“starving': 5473, 'bite': 5474, 'unavenged': 5475, 'devilish': 5476, 'cupboard': 5477, 'pieces': 5478, 'squeezed': 5479, '“s': 5480, 'j': 5481, 'o': 5482, '“captain': 5483, 'await': 5484, 'enters': 5485, 'chuckling': 5486, 'sleepless': 5487, 'precursor': 5488, 'captain': 5489, 'leader': 5490, 'dates': 5491, 'names': 5492, '“over': 5493, 'lloyd’s': 5494, 'registers': 5495, 'files': 5496, 'career': 5497, 'february': 5498, '’83': 5499, 'ships': 5500, 'tonnage': 5501, '“texas': 5502, 'origin': 5503, 'vessels': 5504, 'dock': 5505, 'easterly': 5506, 'goodwins': 5507, 'isle': 5508, 'wight': 5509, 'mates': 5510, 'native': 5511, 'americans': 5512, 'finns': 5513, 'germans': 5514, 'stevedore': 5515, 'loading': 5516, 'cargo': 5517, 'cable': 5518, 'badly': 5519, 'murderers': 5520, 'somewhere': 5521, 'atlantic': 5522, 'stern': 5523, 'trough': 5524, 'wave': 5525, '“l': 5526, 'carved': 5527, 'theological': 5528, 'george’s': 5529, 'addicted': 5530, 'foolish': 5531, 'freak': 5532, 'quincey’s': 5533, 'sensations': 5534, 'drenched': 5535, 'laudanum': 5536, 'slave': 5537, 'mingled': 5538, 'pasty': 5539, 'pin': 5540, 'pupils': 5541, '’89—there': 5542, 'clock': 5543, 'needle': 5544, 'linoleum': 5545, 'stuff': 5546, 'grief': 5547, 'birds': 5548, 'lighthouse': 5549, 'sweet': 5550, 'wine': 5551, 'comfortably': 5552, 'doctor’s': 5553, 'soothed': 5554, 'comforted': 5555, 'surest': 5556, 'hitherto': 5557, 'orgies': 5558, 'twitching': 5559, 'spell': 5560, 'forty': 5561, 'dregs': 5562, 'docks': 5563, 'sleeping': 5564, 'ruffians': 5565, 'escort': 5566, 'cheery': 5567, 'speeding': 5568, 'eastward': 5569, 'errand': 5570, 'alley': 5571, 'lurking': 5572, 'slop': 5573, 'gin': 5574, 'steep': 5575, 'gap': 5576, 'cave': 5577, 'ordering': 5578, 'ceaseless': 5579, 'tread': 5580, 'flickering': 5581, 'oil': 5582, 'latch': 5583, 'terraced': 5584, 'forecastle': 5585, 'emigrant': 5586, 'poses': 5587, 'chins': 5588, 'lack': 5589, 'lustre': 5590, 'shadows': 5591, 'circles': 5592, 'faint': 5593, 'waxed': 5594, 'waned': 5595, 'bowls': 5596, 'muttered': 5597, 'monotonous': 5598, 'gushes': 5599, 'tailing': 5600, 'heed': 5601, 'neighbour': 5602, 'charcoal': 5603, 'stool': 5604, 'resting': 5605, 'malay': 5606, 'attendant': 5607, 'berth': 5608, 'exclamation': 5609, 'haggard': 5610, 'unkempt': 5611, 'nerve': 5612, 'twitter': 5613, '“nearly': 5614, '19th': 5615, 'd’you': 5616, 'you’ve': 5617, 'pipes—i': 5618, 'kate—poor': 5619, 'sleepers': 5620, 'stupefying': 5621, 'fumes': 5622, 'skirt': 5623, '“walk': 5624, 'absorbed': 5625, 'lassitude': 5626, 'wrinkles': 5627, 'subsided': 5628, 'doddering': 5629, 'loose': 5630, 'lipped': 5631, 'senility': 5632, 'sottish': 5633, 'mischief': 5634, 'recommend': 5635, 'lot': 5636, 'requests': 5637, 'mastery': 5638, 'normal': 5639, 'decrepit': 5640, 'shuffled': 5641, 'straightened': 5642, 'hearty': 5643, 'injections': 5644, 'weaknesses': 5645, 'favoured': 5646, 'prey': 5647, 'midst': 5648, 'incoherent': 5649, 'ramblings': 5650, 'sots': 5651, 'hour’s': 5652, 'purchase': 5653, 'rascally': 5654, 'vengeance': 5655, 'moonless': 5656, 'nights': 5657, '“ay': 5658, '1000': 5659, 'forefingers': 5660, 'shrilly—a': 5661, 'whistle': 5662, 'cart': 5663, 'tunnels': 5664, 'lanterns': 5665, 'trusty': 5666, 'comrade': 5667, 'chronicler': 5668, '“near': 5669, 'you’ll': 5670, 'flicked': 5671, 'succession': 5672, 'deserted': 5673, 'gradually': 5674, 'balustraded': 5675, 'murky': 5676, 'sluggishly': 5677, 'wilderness': 5678, 'mortar': 5679, 'songs': 5680, 'shouts': 5681, 'belated': 5682, 'revellers': 5683, 'wrack': 5684, 'drifting': 5685, 'rifts': 5686, 'tax': 5687, 'sorely': 5688, 'current': 5689, 'gift': 5690, 'invaluable': 5691, '’pon': 5692, 'meets': 5693, 'absurdly': 5694, 'somehow': 5695, 'thread': 5696, 'concisely': 5697, 'maybe': 5698, '“proceed': 5699, 'ago—to': 5700, '1884—there': 5701, 'style': 5702, '1887': 5703, 'brewer': 5704, 'companies': 5705, 'cannon': 5706, 'temperate': 5707, 'ascertain': 5708, '88': 5709, '220': 5710, 'weighing': 5711, 'earlier': 5712, 'remarking': 5713, 'commissions': 5714, 'perform': 5715, 'parcel': 5716, 'expecting': 5717, 'aberdeen': 5718, 'shipping': 5719, 'shopping': 5720, 'proceeded': 5721, 'company’s': 5722, '35': 5723, 'describes': 5724, 'agitated': 5725, 'frantically': 5726, 'plucked': 5727, 'irresistible': 5728, 'feminine': 5729, 'necktie': 5730, '“convinced': 5731, 'steps—for': 5732, 'night—and': 5733, 'aided': 5734, 'dane': 5735, 'acts': 5736, 'fears': 5737, 'accompanied': 5738, 'resistance': 5739, 'crippled': 5740, 'wretch': 5741, 'aspect': 5742, 'stoutly': 5743, 'denial': 5744, 'deluded': 5745, 'cascade': 5746, 'children’s': 5747, 'toy': 5748, 'discovery': 5749, 'abominable': 5750, 'strip': 5751, 'windowsill': 5752, 'drops': 5753, 'curtain': 5754, 'socks': 5755, 'watch—all': 5756, 'exit': 5757, 'bloodstains': 5758, 'sill': 5759, 'swimming': 5760, 'villains': 5761, 'implicated': 5762, 'antecedents': 5763, 'accessory': 5764, 'defence': 5765, 'protested': 5766, 'regulations': 5767, 'pretends': 5768, 'vestas': 5769, 'threadneedle': 5770, 'charity': 5771, 'descends': 5772, 'greasy': 5773, 'harvest': 5774, 'reaped': 5775, 'disfigured': 5776, 'outer': 5777, 'mendicants': 5778, 'chaff': 5779, 'prime': 5780, 'powerful': 5781, 'nurtured': 5782, 'weakness': 5783, 'compensated': 5784, '“mrs': 5785, 'fainted': 5786, 'escorted': 5787, 'investigations': 5788, 'barton': 5789, 'arresting': 5790, 'communicated': 5791, 'remedied': 5792, 'incriminate': 5793, 'nail': 5794, 'bleeding': 5795, 'adding': 5796, 'source': 5797, 'denied': 5798, 'strenuously': 5799, 'assertion': 5800, 'declared': 5801, 'dreaming': 5802, 'protesting': 5803, 'ebbing': 5804, 'afford': 5805, 'uncovered': 5806, 'receded': 5807, 'stuffed': 5808, 'pennies—421': 5809, '270': 5810, 'swept': 5811, 'eddy': 5812, 'stripped': 5813, 'sucked': 5814, 'speciously': 5815, 'seize': 5816, 'swim': 5817, 'sink': 5818, 'rushes': 5819, 'hoard': 5820, 'accumulated': 5821, 'fruits': 5822, 'beggary': 5823, 'stuffs': 5824, 'coins': 5825, 'coat’s': 5826, 'throws': 5827, 'feasible': 5828, 'solved—what': 5829, 'disappearance—are': 5830, 'detailing': 5831, 'whirling': 5832, 'straggling': 5833, 'hedge': 5834, 'villages': 5835, 'middlesex': 5836, 'sits': 5837, 'conducting': 5838, 'welcome': 5839, 'hate': 5840, 'springing': 5841, 'gravel': 5842, 'blonde': 5843, 'mousseline': 5844, 'soie': 5845, 'chiffon': 5846, 'flood': 5847, 'associate': 5848, 'forgive': 5849, 'campaigner': 5850, 'feelings': 5851, 'hysterical': 5852, 'fainting': 5853, 'simply': 5854, '“upon': 5855, 'hearts': 5856, 'embarrassed': 5857, 'rug': 5858, 'basket': 5859, '“murdered': 5860, 'galvanised': 5861, 'roared': 5862, 'snatched': 5863, 'smoothing': 5864, 'intently': 5865, 'stamped': 5866, '“coarse': 5867, 'inquire': 5868, 'blotted': 5869, 'pause': 5870, 'signet': 5871, '“‘dearest': 5872, 'rectify': 5873, '—neville': 5874, 'pencil': 5875, 'octavo': 5876, 'gummed': 5877, 'chewing': 5878, 'lighten': 5879, 'venture': 5880, '“unless': 5881, 'discourage': 5882, 'respond': 5883, 'ignorant': 5884, 'valuable': 5885, 'corroborate': 5886, 'unthinkable': 5887, 'inarticulate': 5888, 'leaped': 5889, 'bare': 5890, 'unsolved': 5891, 'rearranging': 5892, 'fathomed': 5893, 'insufficient': 5894, 'preparing': 5895, 'collecting': 5896, 'cushions': 5897, 'armchairs': 5898, 'constructed': 5899, 'eastern': 5900, 'divan': 5901, 'briar': 5902, 'vacantly': 5903, 'motionless': 5904, 'wake': 5905, 'summer': 5906, 'apartment': 5907, 'haze': 5908, 'heap': 5909, '“awake': 5910, '“game': 5911, 'sleeps': 5912, 'fools': 5913, 'deserve': 5914, 'kicked': 5915, 'bathroom': 5916, 'incredulity': 5917, 'sunshine': 5918, 'carts': 5919, 'vegetables': 5920, 'lifeless': 5921, 'dream': 5922, 'flicking': 5923, 'gallop': 5924, 'wisdom': 5925, 'earliest': 5926, 'risers': 5927, 'sleepily': 5928, 'crossed': 5929, 'wellington': 5930, 'wheeled': 5931, 'sharply': 5932, 'saluted': 5933, '“inspector': 5934, 'flagged': 5935, 'peaked': 5936, 'frogged': 5937, 'ledger': 5938, 'telephone': 5939, 'projecting': 5940, 'beggarman': 5941, 'boone—the': 5942, 'remanded': 5943, '“dirty': 5944, 'tinker’s': 5945, 'barred': 5946, 'whitewashed': 5947, 'coarsely': 5948, 'grime': 5949, 'ugliness': 5950, 'wheal': 5951, 'perpetual': 5952, 'beauty': 5953, 'needs': 5954, 'tools': 5955, 'doesn’t': 5956, 'cell': 5957, 'sleeper': 5958, 'slumber': 5959, 'stooped': 5960, 'jug': 5961, 'moistened': 5962, 'prisoner’s': 5963, 'peeled': 5964, 'horrid': 5965, 'seamed': 5966, 'twitch': 5967, 'refined': 5968, 'haired': 5969, 'sleepy': 5970, 'bewilderment': 5971, 'scream': 5972, 'pillow': 5973, '“great': 5974, 'abandons': 5975, '“be': 5976, '“with': 5977, '—': 5978, 'grin': 5979, 'cake': 5980, 'illegally': 5981, 'detained': 5982, 'patted': 5983, 'convince': 5984, 'submit': 5985, 'proper': 5986, 'passionately': 5987, 'endured': 5988, 'imprisonment': 5989, 'ay': 5990, 'execution': 5991, 'blot': 5992, 'schoolmaster': 5993, 'chesterfield': 5994, 'reporter': 5995, 'editor': 5996, 'volunteered': 5997, 'base': 5998, 'secrets': 5999, 'famous': 6000, 'attainments': 6001, 'painted': 6002, 'flesh': 6003, 'plaster': 6004, 'appropriate': 6005, 'ostensibly': 6006, 'match': 6007, 'seller': 6008, 'plied': 6009, '26': 6010, 'writ': 6011, '25': 6012, 'wit’s': 6013, 'fortnight’s': 6014, 'creditor': 6015, 'debt': 6016, 'arduous': 6017, 'dollars': 6018, 'won': 6019, 'reporting': 6020, 'chosen': 6021, 'inspiring': 6022, 'filling': 6023, 'squalid': 6024, 'evenings': 6025, 'transform': 6026, 'saving': 6027, 'sums': 6028, '700': 6029, 'year—which': 6030, 'takings—but': 6031, 'facility': 6032, 'repartee': 6033, 'improved': 6034, 'varied': 6035, 'poured': 6036, 'ambitious': 6037, 'entreated': 6038, 'pigments': 6039, 'wig': 6040, 'pierce': 6041, 'betray': 6042, 'reopening': 6043, 'takings': 6044, 'thames': 6045, 'relief': 6046, 'identified': 6047, 'preference': 6048, 'confided': 6049, 'scrawl': 6050, 'unobserved': 6051, 'sailor': 6052, 'customer': 6053, 'approvingly': 6054, 'prosecuted': 6055, 'hush': 6056, 'oaths': 6057, 'consuming': 6058, 'wishing': 6059, 'compliments': 6060, 'pile': 6061, 'studied': 6062, 'hung': 6063, 'seedy': 6064, 'forceps': 6065, 'suspended': 6066, '“perhaps': 6067, 'interrupt': 6068, 'one”—he': 6069, 'jerked': 6070, 'hat—“but': 6071, 'instruction': 6072, 'warmed': 6073, 'crackling': 6074, 'ice': 6075, 'crystals': 6076, 'linked': 6077, 'it—that': 6078, 'whimsical': 6079, 'million': 6080, 'beings': 6081, 'jostling': 6082, 'space': 6083, 'humanity': 6084, 'combination': 6085, 'allude': 6086, 'recover': 6087, 'category': 6088, 'commissionaire': 6089, 'trophy': 6090, 'belongs': 6091, 'billycock': 6092, 'roasting': 6093, 'peterson’s': 6094, 'honest': 6095, 'jollification': 6096, 'gaslight': 6097, 'tallish': 6098, 'stagger': 6099, 'slung': 6100, 'goodge': 6101, 'defend': 6102, 'smashed': 6103, 'assailants': 6104, 'shocked': 6105, 'uniform': 6106, 'fled': 6107, 'battle': 6108, 'spoils': 6109, 'victory': 6110, 'unimpeachable': 6111, 'restored': 6112, '‘for': 6113, 'baker’': 6114, 'tied': 6115, 'bird’s': 6116, '‘h': 6117, 'legible': 6118, 'ours': 6119, 'restore': 6120, 'eaten': 6121, 'unnecessary': 6122, 'finder': 6123, 'fulfil': 6124, 'ultimate': 6125, 'advertise': 6126, 'article': 6127, 'ruefully': 6128, 'maker’s': 6129, '“h': 6130, 'brim': 6131, 'securer': 6132, 'dusty': 6133, 'patches': 6134, 'handing': 6135, 'infer': 6136, 'represent': 6137, 'balance': 6138, 'probability': 6139, 'moral': 6140, 'retrogression': 6141, 'decline': 6142, 'disregarding': 6143, 'remonstrance': 6144, 'leads': 6145, 'sedentary': 6146, 'training': 6147, 'anoints': 6148, 'lime': 6149, 'cream': 6150, 'patent': 6151, 'improbable': 6152}\n"
          ]
        }
      ]
    },
    {
      "cell_type": "markdown",
      "source": [
        "Create the n-gram"
      ],
      "metadata": {
        "id": "iofFoVPn4VFw"
      }
    },
    {
      "cell_type": "code",
      "source": [
        "input_sequences = []\n",
        "#j=0\n",
        "for line in text.split('\\n'):\n",
        "    token_list = tokenizer.texts_to_sequences([line])[0]\n",
        "    #if(j<5):\n",
        "    #    print(j, line)\n",
        "    #    print(token_list)\n",
        "    #    j+=1\n",
        "    for i in range(1, len(token_list)):\n",
        "        n_gram_sequence = token_list[:i+1]\n",
        "        #print (\"\\n\", n_gram_sequence)\n",
        "        input_sequences.append(n_gram_sequence)\n",
        "\n",
        "\n",
        "print(\"input_sequences count\",len(input_sequences))\n",
        "#print(\"input_sequences\",input_sequences[:5])\n",
        "print(\"0 input sequence\", input_sequences[0])\n",
        "print(\"1 input sequence\", input_sequences[1])\n",
        "print(\"2 input sequence\", input_sequences[2])\n",
        "print(\"3 input sequence\", input_sequences[3])\n",
        "print(\"4 input sequence\", input_sequences[4])"
      ],
      "metadata": {
        "colab": {
          "base_uri": "https://localhost:8080/"
        },
        "id": "7DQ2geNj4gS4",
        "outputId": "bf72b7ef-12e8-4f4b-ea10-7ef90d7148b2"
      },
      "execution_count": 5,
      "outputs": [
        {
          "output_type": "stream",
          "name": "stdout",
          "text": [
            "input_sequences count 49381\n",
            "0 input sequence [1230, 3003]\n",
            "1 input sequence [1230, 3003, 1]\n",
            "2 input sequence [1230, 3003, 1, 698]\n",
            "3 input sequence [1230, 3003, 1, 698, 3]\n",
            "4 input sequence [1230, 3003, 1, 698, 3, 107]\n"
          ]
        }
      ]
    },
    {
      "cell_type": "markdown",
      "source": [
        "#Pad and make all sequence the same length\n",
        "padding should be added at the beginning of each sequence using the ‘padding=pre’ argument.\n"
      ],
      "metadata": {
        "id": "7qxdohshaBkV"
      }
    },
    {
      "cell_type": "code",
      "source": [
        "max_sequence_len = max([len(seq) for seq in input_sequences])\n",
        "print(\"max_sequence_len\", max_sequence_len)\n",
        "input_sequences = np.array(pad_sequences(input_sequences, maxlen=max_sequence_len, padding='pre'))"
      ],
      "metadata": {
        "colab": {
          "base_uri": "https://localhost:8080/"
        },
        "id": "ffDg4zPSaN3U",
        "outputId": "4b6c4084-5a9e-476a-fc42-3aeb35367aa8"
      },
      "execution_count": 6,
      "outputs": [
        {
          "output_type": "stream",
          "name": "stdout",
          "text": [
            "max_sequence_len 20\n"
          ]
        }
      ]
    },
    {
      "cell_type": "markdown",
      "source": [
        "#Prepare features(n-gram) against label\n",
        "Let's create two numpy arrays x for storing the features and y for storing its corresponding label.\n",
        "\n",
        "We will iterate x and y if the word is available so that the corresponding position becomes 1"
      ],
      "metadata": {
        "id": "nJBUZefg8XgO"
      }
    },
    {
      "cell_type": "code",
      "source": [
        "X = input_sequences[:, :-1]\n",
        "y = input_sequences[:, -1]\n",
        "print(X.shape)\n",
        "print(y.shape)\n",
        "\n",
        "print(X[:5])\n",
        "print(y[0])\n",
        "print(y[1])\n",
        "print(y[2])\n",
        "print(y[3])\n",
        "print(y[4])"
      ],
      "metadata": {
        "colab": {
          "base_uri": "https://localhost:8080/"
        },
        "id": "v1O96q6D8dft",
        "outputId": "72df7e48-04c1-4e99-fd0d-fbca947522c5"
      },
      "execution_count": 7,
      "outputs": [
        {
          "output_type": "stream",
          "name": "stdout",
          "text": [
            "(49381, 19)\n",
            "(49381,)\n",
            "[[   0    0    0    0    0    0    0    0    0    0    0    0    0    0\n",
            "     0    0    0    0 1230]\n",
            " [   0    0    0    0    0    0    0    0    0    0    0    0    0    0\n",
            "     0    0    0 1230 3003]\n",
            " [   0    0    0    0    0    0    0    0    0    0    0    0    0    0\n",
            "     0    0 1230 3003    1]\n",
            " [   0    0    0    0    0    0    0    0    0    0    0    0    0    0\n",
            "     0 1230 3003    1  698]\n",
            " [   0    0    0    0    0    0    0    0    0    0    0    0    0    0\n",
            "  1230 3003    1  698    3]]\n",
            "3003\n",
            "1\n",
            "698\n",
            "3\n",
            "107\n"
          ]
        }
      ]
    },
    {
      "cell_type": "markdown",
      "source": [
        "Converting the output array into a suitable format for training a model, where each target word is represented as a binary vector."
      ],
      "metadata": {
        "id": "qnOYakfIiy1Y"
      }
    },
    {
      "cell_type": "code",
      "source": [
        "y = np.array(tf.keras.utils.to_categorical(y, num_classes=total_words))\n",
        "print(np.shape(y))"
      ],
      "metadata": {
        "colab": {
          "base_uri": "https://localhost:8080/"
        },
        "id": "ApFslIMaixiF",
        "outputId": "7ace8959-5d81-4202-e16b-1eb72dc45d0b"
      },
      "execution_count": 8,
      "outputs": [
        {
          "output_type": "stream",
          "name": "stdout",
          "text": [
            "(49381, 6153)\n"
          ]
        }
      ]
    },
    {
      "cell_type": "markdown",
      "source": [],
      "metadata": {
        "id": "kqZR15m5ixPe"
      }
    },
    {
      "cell_type": "markdown",
      "source": [
        "#Build Recurrent Neural Network\n",
        "1.   The first layer added to the model is the ‘Embedding’ layer, which is responsible for converting the input sequences into dense vectors of fixed size. It takes three arguments:\n",
        "\n",
        "\n",
        "*   ‘total_words’, which represents the total number of distinct words in the vocabulary;\n",
        "*   ‘100’, which denotes the dimensionality of the word embeddings\n",
        "*   ‘input_length’, which specifies the length of the input sequences.\n",
        "\n",
        "\n",
        "\n",
        "2.   The next layer added is the ‘LSTM’ layer, a type of recurrent neural network (RNN) layer designed for capturing sequential dependencies in the data. It has 150 units, which means it will learn 150 internal representations or memory cells.\n",
        "\n",
        "3.   Finally, the ‘Dense’ layer is added, which is a fully connected layer that produces the output predictions. It has ‘total_words’ units and uses the ‘softmax’ activation function to convert the predicted scores into probabilities, indicating the likelihood of each word being the next one in the sequence."
      ],
      "metadata": {
        "id": "zYQyx4MC8xqp"
      }
    },
    {
      "cell_type": "code",
      "source": [
        "print(\"total_words\",total_words)\n",
        "print(\"max_sequence_len\",max_sequence_len)\n",
        "\n",
        "model = Sequential()\n",
        "#model.add(Embedding(total_words, 100, input_length=max_sequence_len-1))\n",
        "#model.add(LSTM(150))\n",
        "#model.add(Dense(total_words, activation='softmax'))\n",
        "\n",
        "model = Sequential([\n",
        "    Embedding(total_words, 100, input_length=max_sequence_len-1),\n",
        "    LSTM(150),\n",
        "    Dense(total_words, activation='softmax')\n",
        "])\n",
        "\n",
        "print(model.summary())"
      ],
      "metadata": {
        "colab": {
          "base_uri": "https://localhost:8080/",
          "height": 325
        },
        "id": "e6QT8X1q8xFb",
        "outputId": "16b56227-6adc-4f69-f56c-286d3a3b5eda"
      },
      "execution_count": 9,
      "outputs": [
        {
          "output_type": "stream",
          "name": "stdout",
          "text": [
            "total_words 6153\n",
            "max_sequence_len 20\n"
          ]
        },
        {
          "output_type": "stream",
          "name": "stderr",
          "text": [
            "/usr/local/lib/python3.10/dist-packages/keras/src/layers/core/embedding.py:90: UserWarning: Argument `input_length` is deprecated. Just remove it.\n",
            "  warnings.warn(\n"
          ]
        },
        {
          "output_type": "display_data",
          "data": {
            "text/plain": [
              "\u001b[1mModel: \"sequential_1\"\u001b[0m\n"
            ],
            "text/html": [
              "<pre style=\"white-space:pre;overflow-x:auto;line-height:normal;font-family:Menlo,'DejaVu Sans Mono',consolas,'Courier New',monospace\"><span style=\"font-weight: bold\">Model: \"sequential_1\"</span>\n",
              "</pre>\n"
            ]
          },
          "metadata": {}
        },
        {
          "output_type": "display_data",
          "data": {
            "text/plain": [
              "┏━━━━━━━━━━━━━━━━━━━━━━━━━━━━━━━━━━━━━━┳━━━━━━━━━━━━━━━━━━━━━━━━━━━━━┳━━━━━━━━━━━━━━━━━┓\n",
              "┃\u001b[1m \u001b[0m\u001b[1mLayer (type)                        \u001b[0m\u001b[1m \u001b[0m┃\u001b[1m \u001b[0m\u001b[1mOutput Shape               \u001b[0m\u001b[1m \u001b[0m┃\u001b[1m \u001b[0m\u001b[1m        Param #\u001b[0m\u001b[1m \u001b[0m┃\n",
              "┡━━━━━━━━━━━━━━━━━━━━━━━━━━━━━━━━━━━━━━╇━━━━━━━━━━━━━━━━━━━━━━━━━━━━━╇━━━━━━━━━━━━━━━━━┩\n",
              "│ embedding (\u001b[38;5;33mEmbedding\u001b[0m)                │ ?                           │     \u001b[38;5;34m0\u001b[0m (unbuilt) │\n",
              "├──────────────────────────────────────┼─────────────────────────────┼─────────────────┤\n",
              "│ lstm (\u001b[38;5;33mLSTM\u001b[0m)                          │ ?                           │     \u001b[38;5;34m0\u001b[0m (unbuilt) │\n",
              "├──────────────────────────────────────┼─────────────────────────────┼─────────────────┤\n",
              "│ dense (\u001b[38;5;33mDense\u001b[0m)                        │ ?                           │     \u001b[38;5;34m0\u001b[0m (unbuilt) │\n",
              "└──────────────────────────────────────┴─────────────────────────────┴─────────────────┘\n"
            ],
            "text/html": [
              "<pre style=\"white-space:pre;overflow-x:auto;line-height:normal;font-family:Menlo,'DejaVu Sans Mono',consolas,'Courier New',monospace\">┏━━━━━━━━━━━━━━━━━━━━━━━━━━━━━━━━━━━━━━┳━━━━━━━━━━━━━━━━━━━━━━━━━━━━━┳━━━━━━━━━━━━━━━━━┓\n",
              "┃<span style=\"font-weight: bold\"> Layer (type)                         </span>┃<span style=\"font-weight: bold\"> Output Shape                </span>┃<span style=\"font-weight: bold\">         Param # </span>┃\n",
              "┡━━━━━━━━━━━━━━━━━━━━━━━━━━━━━━━━━━━━━━╇━━━━━━━━━━━━━━━━━━━━━━━━━━━━━╇━━━━━━━━━━━━━━━━━┩\n",
              "│ embedding (<span style=\"color: #0087ff; text-decoration-color: #0087ff\">Embedding</span>)                │ ?                           │     <span style=\"color: #00af00; text-decoration-color: #00af00\">0</span> (unbuilt) │\n",
              "├──────────────────────────────────────┼─────────────────────────────┼─────────────────┤\n",
              "│ lstm (<span style=\"color: #0087ff; text-decoration-color: #0087ff\">LSTM</span>)                          │ ?                           │     <span style=\"color: #00af00; text-decoration-color: #00af00\">0</span> (unbuilt) │\n",
              "├──────────────────────────────────────┼─────────────────────────────┼─────────────────┤\n",
              "│ dense (<span style=\"color: #0087ff; text-decoration-color: #0087ff\">Dense</span>)                        │ ?                           │     <span style=\"color: #00af00; text-decoration-color: #00af00\">0</span> (unbuilt) │\n",
              "└──────────────────────────────────────┴─────────────────────────────┴─────────────────┘\n",
              "</pre>\n"
            ]
          },
          "metadata": {}
        },
        {
          "output_type": "display_data",
          "data": {
            "text/plain": [
              "\u001b[1m Total params: \u001b[0m\u001b[38;5;34m0\u001b[0m (0.00 B)\n"
            ],
            "text/html": [
              "<pre style=\"white-space:pre;overflow-x:auto;line-height:normal;font-family:Menlo,'DejaVu Sans Mono',consolas,'Courier New',monospace\"><span style=\"font-weight: bold\"> Total params: </span><span style=\"color: #00af00; text-decoration-color: #00af00\">0</span> (0.00 B)\n",
              "</pre>\n"
            ]
          },
          "metadata": {}
        },
        {
          "output_type": "display_data",
          "data": {
            "text/plain": [
              "\u001b[1m Trainable params: \u001b[0m\u001b[38;5;34m0\u001b[0m (0.00 B)\n"
            ],
            "text/html": [
              "<pre style=\"white-space:pre;overflow-x:auto;line-height:normal;font-family:Menlo,'DejaVu Sans Mono',consolas,'Courier New',monospace\"><span style=\"font-weight: bold\"> Trainable params: </span><span style=\"color: #00af00; text-decoration-color: #00af00\">0</span> (0.00 B)\n",
              "</pre>\n"
            ]
          },
          "metadata": {}
        },
        {
          "output_type": "display_data",
          "data": {
            "text/plain": [
              "\u001b[1m Non-trainable params: \u001b[0m\u001b[38;5;34m0\u001b[0m (0.00 B)\n"
            ],
            "text/html": [
              "<pre style=\"white-space:pre;overflow-x:auto;line-height:normal;font-family:Menlo,'DejaVu Sans Mono',consolas,'Courier New',monospace\"><span style=\"font-weight: bold\"> Non-trainable params: </span><span style=\"color: #00af00; text-decoration-color: #00af00\">0</span> (0.00 B)\n",
              "</pre>\n"
            ]
          },
          "metadata": {}
        },
        {
          "output_type": "stream",
          "name": "stdout",
          "text": [
            "None\n"
          ]
        }
      ]
    },
    {
      "cell_type": "markdown",
      "source": [
        "Train the next word prediction model with 20 epochs"
      ],
      "metadata": {
        "id": "_sEUSfNp8-ma"
      }
    },
    {
      "cell_type": "code",
      "source": [
        "#optimizer = RMSprop(learning_rate=0.01)\n",
        "model.compile(loss='categorical_crossentropy', optimizer='adam', metrics=['accuracy'])\n",
        "history = model.fit(X, y, validation_split=0.2, batch_size=128, epochs=60, shuffle=True).history"
      ],
      "metadata": {
        "colab": {
          "base_uri": "https://localhost:8080/"
        },
        "id": "GgzuHsHv9BXc",
        "outputId": "0359db56-68e8-4671-eca4-75bfe28d6b65"
      },
      "execution_count": 10,
      "outputs": [
        {
          "output_type": "stream",
          "name": "stdout",
          "text": [
            "Epoch 1/60\n",
            "\u001b[1m309/309\u001b[0m \u001b[32m━━━━━━━━━━━━━━━━━━━━\u001b[0m\u001b[37m\u001b[0m \u001b[1m10s\u001b[0m 15ms/step - accuracy: 0.0488 - loss: 6.9853 - val_accuracy: 0.0534 - val_loss: 6.4740\n",
            "Epoch 2/60\n",
            "\u001b[1m309/309\u001b[0m \u001b[32m━━━━━━━━━━━━━━━━━━━━\u001b[0m\u001b[37m\u001b[0m \u001b[1m7s\u001b[0m 15ms/step - accuracy: 0.0592 - loss: 6.1401 - val_accuracy: 0.0666 - val_loss: 6.4417\n",
            "Epoch 3/60\n",
            "\u001b[1m309/309\u001b[0m \u001b[32m━━━━━━━━━━━━━━━━━━━━\u001b[0m\u001b[37m\u001b[0m \u001b[1m4s\u001b[0m 12ms/step - accuracy: 0.0695 - loss: 5.9370 - val_accuracy: 0.0784 - val_loss: 6.3460\n",
            "Epoch 4/60\n",
            "\u001b[1m309/309\u001b[0m \u001b[32m━━━━━━━━━━━━━━━━━━━━\u001b[0m\u001b[37m\u001b[0m \u001b[1m5s\u001b[0m 12ms/step - accuracy: 0.0914 - loss: 5.6901 - val_accuracy: 0.0952 - val_loss: 6.2296\n",
            "Epoch 5/60\n",
            "\u001b[1m309/309\u001b[0m \u001b[32m━━━━━━━━━━━━━━━━━━━━\u001b[0m\u001b[37m\u001b[0m \u001b[1m5s\u001b[0m 13ms/step - accuracy: 0.1066 - loss: 5.4668 - val_accuracy: 0.1067 - val_loss: 6.1880\n",
            "Epoch 6/60\n",
            "\u001b[1m309/309\u001b[0m \u001b[32m━━━━━━━━━━━━━━━━━━━━\u001b[0m\u001b[37m\u001b[0m \u001b[1m5s\u001b[0m 12ms/step - accuracy: 0.1275 - loss: 5.2611 - val_accuracy: 0.1140 - val_loss: 6.1720\n",
            "Epoch 7/60\n",
            "\u001b[1m309/309\u001b[0m \u001b[32m━━━━━━━━━━━━━━━━━━━━\u001b[0m\u001b[37m\u001b[0m \u001b[1m6s\u001b[0m 13ms/step - accuracy: 0.1398 - loss: 5.1498 - val_accuracy: 0.1160 - val_loss: 6.2030\n",
            "Epoch 8/60\n",
            "\u001b[1m309/309\u001b[0m \u001b[32m━━━━━━━━━━━━━━━━━━━━\u001b[0m\u001b[37m\u001b[0m \u001b[1m5s\u001b[0m 12ms/step - accuracy: 0.1477 - loss: 5.0299 - val_accuracy: 0.1190 - val_loss: 6.2292\n",
            "Epoch 9/60\n",
            "\u001b[1m309/309\u001b[0m \u001b[32m━━━━━━━━━━━━━━━━━━━━\u001b[0m\u001b[37m\u001b[0m \u001b[1m5s\u001b[0m 12ms/step - accuracy: 0.1555 - loss: 4.9023 - val_accuracy: 0.1209 - val_loss: 6.2612\n",
            "Epoch 10/60\n",
            "\u001b[1m309/309\u001b[0m \u001b[32m━━━━━━━━━━━━━━━━━━━━\u001b[0m\u001b[37m\u001b[0m \u001b[1m4s\u001b[0m 13ms/step - accuracy: 0.1594 - loss: 4.8262 - val_accuracy: 0.1224 - val_loss: 6.2961\n",
            "Epoch 11/60\n",
            "\u001b[1m309/309\u001b[0m \u001b[32m━━━━━━━━━━━━━━━━━━━━\u001b[0m\u001b[37m\u001b[0m \u001b[1m5s\u001b[0m 12ms/step - accuracy: 0.1665 - loss: 4.7017 - val_accuracy: 0.1224 - val_loss: 6.3355\n",
            "Epoch 12/60\n",
            "\u001b[1m309/309\u001b[0m \u001b[32m━━━━━━━━━━━━━━━━━━━━\u001b[0m\u001b[37m\u001b[0m \u001b[1m6s\u001b[0m 13ms/step - accuracy: 0.1722 - loss: 4.6134 - val_accuracy: 0.1240 - val_loss: 6.3727\n",
            "Epoch 13/60\n",
            "\u001b[1m309/309\u001b[0m \u001b[32m━━━━━━━━━━━━━━━━━━━━\u001b[0m\u001b[37m\u001b[0m \u001b[1m4s\u001b[0m 12ms/step - accuracy: 0.1790 - loss: 4.5130 - val_accuracy: 0.1220 - val_loss: 6.4108\n",
            "Epoch 14/60\n",
            "\u001b[1m309/309\u001b[0m \u001b[32m━━━━━━━━━━━━━━━━━━━━\u001b[0m\u001b[37m\u001b[0m \u001b[1m5s\u001b[0m 12ms/step - accuracy: 0.1875 - loss: 4.3909 - val_accuracy: 0.1218 - val_loss: 6.4580\n",
            "Epoch 15/60\n",
            "\u001b[1m309/309\u001b[0m \u001b[32m━━━━━━━━━━━━━━━━━━━━\u001b[0m\u001b[37m\u001b[0m \u001b[1m4s\u001b[0m 13ms/step - accuracy: 0.1915 - loss: 4.2987 - val_accuracy: 0.1243 - val_loss: 6.4905\n",
            "Epoch 16/60\n",
            "\u001b[1m309/309\u001b[0m \u001b[32m━━━━━━━━━━━━━━━━━━━━\u001b[0m\u001b[37m\u001b[0m \u001b[1m4s\u001b[0m 12ms/step - accuracy: 0.2021 - loss: 4.2104 - val_accuracy: 0.1247 - val_loss: 6.5461\n",
            "Epoch 17/60\n",
            "\u001b[1m309/309\u001b[0m \u001b[32m━━━━━━━━━━━━━━━━━━━━\u001b[0m\u001b[37m\u001b[0m \u001b[1m5s\u001b[0m 12ms/step - accuracy: 0.2091 - loss: 4.1177 - val_accuracy: 0.1248 - val_loss: 6.5952\n",
            "Epoch 18/60\n",
            "\u001b[1m309/309\u001b[0m \u001b[32m━━━━━━━━━━━━━━━━━━━━\u001b[0m\u001b[37m\u001b[0m \u001b[1m5s\u001b[0m 13ms/step - accuracy: 0.2168 - loss: 4.0368 - val_accuracy: 0.1250 - val_loss: 6.6524\n",
            "Epoch 19/60\n",
            "\u001b[1m309/309\u001b[0m \u001b[32m━━━━━━━━━━━━━━━━━━━━\u001b[0m\u001b[37m\u001b[0m \u001b[1m5s\u001b[0m 12ms/step - accuracy: 0.2235 - loss: 3.9525 - val_accuracy: 0.1254 - val_loss: 6.7052\n",
            "Epoch 20/60\n",
            "\u001b[1m309/309\u001b[0m \u001b[32m━━━━━━━━━━━━━━━━━━━━\u001b[0m\u001b[37m\u001b[0m \u001b[1m6s\u001b[0m 13ms/step - accuracy: 0.2315 - loss: 3.8715 - val_accuracy: 0.1259 - val_loss: 6.7526\n",
            "Epoch 21/60\n",
            "\u001b[1m309/309\u001b[0m \u001b[32m━━━━━━━━━━━━━━━━━━━━\u001b[0m\u001b[37m\u001b[0m \u001b[1m4s\u001b[0m 12ms/step - accuracy: 0.2477 - loss: 3.7605 - val_accuracy: 0.1255 - val_loss: 6.8189\n",
            "Epoch 22/60\n",
            "\u001b[1m309/309\u001b[0m \u001b[32m━━━━━━━━━━━━━━━━━━━━\u001b[0m\u001b[37m\u001b[0m \u001b[1m4s\u001b[0m 12ms/step - accuracy: 0.2594 - loss: 3.6720 - val_accuracy: 0.1239 - val_loss: 6.8713\n",
            "Epoch 23/60\n",
            "\u001b[1m309/309\u001b[0m \u001b[32m━━━━━━━━━━━━━━━━━━━━\u001b[0m\u001b[37m\u001b[0m \u001b[1m4s\u001b[0m 14ms/step - accuracy: 0.2671 - loss: 3.6041 - val_accuracy: 0.1269 - val_loss: 6.9407\n",
            "Epoch 24/60\n",
            "\u001b[1m309/309\u001b[0m \u001b[32m━━━━━━━━━━━━━━━━━━━━\u001b[0m\u001b[37m\u001b[0m \u001b[1m5s\u001b[0m 12ms/step - accuracy: 0.2797 - loss: 3.5165 - val_accuracy: 0.1254 - val_loss: 7.0030\n",
            "Epoch 25/60\n",
            "\u001b[1m309/309\u001b[0m \u001b[32m━━━━━━━━━━━━━━━━━━━━\u001b[0m\u001b[37m\u001b[0m \u001b[1m5s\u001b[0m 12ms/step - accuracy: 0.2948 - loss: 3.4231 - val_accuracy: 0.1239 - val_loss: 7.0682\n",
            "Epoch 26/60\n",
            "\u001b[1m309/309\u001b[0m \u001b[32m━━━━━━━━━━━━━━━━━━━━\u001b[0m\u001b[37m\u001b[0m \u001b[1m5s\u001b[0m 15ms/step - accuracy: 0.3016 - loss: 3.3623 - val_accuracy: 0.1266 - val_loss: 7.1355\n",
            "Epoch 27/60\n",
            "\u001b[1m309/309\u001b[0m \u001b[32m━━━━━━━━━━━━━━━━━━━━\u001b[0m\u001b[37m\u001b[0m \u001b[1m4s\u001b[0m 12ms/step - accuracy: 0.3164 - loss: 3.2725 - val_accuracy: 0.1240 - val_loss: 7.2104\n",
            "Epoch 28/60\n",
            "\u001b[1m309/309\u001b[0m \u001b[32m━━━━━━━━━━━━━━━━━━━━\u001b[0m\u001b[37m\u001b[0m \u001b[1m4s\u001b[0m 12ms/step - accuracy: 0.3238 - loss: 3.2082 - val_accuracy: 0.1249 - val_loss: 7.2787\n",
            "Epoch 29/60\n",
            "\u001b[1m309/309\u001b[0m \u001b[32m━━━━━━━━━━━━━━━━━━━━\u001b[0m\u001b[37m\u001b[0m \u001b[1m6s\u001b[0m 13ms/step - accuracy: 0.3357 - loss: 3.1458 - val_accuracy: 0.1226 - val_loss: 7.3494\n",
            "Epoch 30/60\n",
            "\u001b[1m309/309\u001b[0m \u001b[32m━━━━━━━━━━━━━━━━━━━━\u001b[0m\u001b[37m\u001b[0m \u001b[1m4s\u001b[0m 12ms/step - accuracy: 0.3466 - loss: 3.0738 - val_accuracy: 0.1234 - val_loss: 7.4260\n",
            "Epoch 31/60\n",
            "\u001b[1m309/309\u001b[0m \u001b[32m━━━━━━━━━━━━━━━━━━━━\u001b[0m\u001b[37m\u001b[0m \u001b[1m5s\u001b[0m 12ms/step - accuracy: 0.3579 - loss: 3.0031 - val_accuracy: 0.1217 - val_loss: 7.5045\n",
            "Epoch 32/60\n",
            "\u001b[1m309/309\u001b[0m \u001b[32m━━━━━━━━━━━━━━━━━━━━\u001b[0m\u001b[37m\u001b[0m \u001b[1m4s\u001b[0m 13ms/step - accuracy: 0.3598 - loss: 2.9726 - val_accuracy: 0.1222 - val_loss: 7.5755\n",
            "Epoch 33/60\n",
            "\u001b[1m309/309\u001b[0m \u001b[32m━━━━━━━━━━━━━━━━━━━━\u001b[0m\u001b[37m\u001b[0m \u001b[1m5s\u001b[0m 12ms/step - accuracy: 0.3728 - loss: 2.9142 - val_accuracy: 0.1205 - val_loss: 7.6292\n",
            "Epoch 34/60\n",
            "\u001b[1m309/309\u001b[0m \u001b[32m━━━━━━━━━━━━━━━━━━━━\u001b[0m\u001b[37m\u001b[0m \u001b[1m5s\u001b[0m 12ms/step - accuracy: 0.3859 - loss: 2.8389 - val_accuracy: 0.1195 - val_loss: 7.7254\n",
            "Epoch 35/60\n",
            "\u001b[1m309/309\u001b[0m \u001b[32m━━━━━━━━━━━━━━━━━━━━\u001b[0m\u001b[37m\u001b[0m \u001b[1m4s\u001b[0m 13ms/step - accuracy: 0.3910 - loss: 2.8039 - val_accuracy: 0.1148 - val_loss: 7.7941\n",
            "Epoch 36/60\n",
            "\u001b[1m309/309\u001b[0m \u001b[32m━━━━━━━━━━━━━━━━━━━━\u001b[0m\u001b[37m\u001b[0m \u001b[1m5s\u001b[0m 12ms/step - accuracy: 0.3994 - loss: 2.7633 - val_accuracy: 0.1193 - val_loss: 7.8739\n",
            "Epoch 37/60\n",
            "\u001b[1m309/309\u001b[0m \u001b[32m━━━━━━━━━━━━━━━━━━━━\u001b[0m\u001b[37m\u001b[0m \u001b[1m4s\u001b[0m 13ms/step - accuracy: 0.4079 - loss: 2.7062 - val_accuracy: 0.1169 - val_loss: 7.9417\n",
            "Epoch 38/60\n",
            "\u001b[1m309/309\u001b[0m \u001b[32m━━━━━━━━━━━━━━━━━━━━\u001b[0m\u001b[37m\u001b[0m \u001b[1m4s\u001b[0m 13ms/step - accuracy: 0.4192 - loss: 2.6390 - val_accuracy: 0.1162 - val_loss: 8.0114\n",
            "Epoch 39/60\n",
            "\u001b[1m309/309\u001b[0m \u001b[32m━━━━━━━━━━━━━━━━━━━━\u001b[0m\u001b[37m\u001b[0m \u001b[1m5s\u001b[0m 12ms/step - accuracy: 0.4249 - loss: 2.5954 - val_accuracy: 0.1139 - val_loss: 8.0662\n",
            "Epoch 40/60\n",
            "\u001b[1m309/309\u001b[0m \u001b[32m━━━━━━━━━━━━━━━━━━━━\u001b[0m\u001b[37m\u001b[0m \u001b[1m6s\u001b[0m 13ms/step - accuracy: 0.4388 - loss: 2.5350 - val_accuracy: 0.1144 - val_loss: 8.1377\n",
            "Epoch 41/60\n",
            "\u001b[1m309/309\u001b[0m \u001b[32m━━━━━━━━━━━━━━━━━━━━\u001b[0m\u001b[37m\u001b[0m \u001b[1m4s\u001b[0m 12ms/step - accuracy: 0.4410 - loss: 2.5121 - val_accuracy: 0.1159 - val_loss: 8.2150\n",
            "Epoch 42/60\n",
            "\u001b[1m309/309\u001b[0m \u001b[32m━━━━━━━━━━━━━━━━━━━━\u001b[0m\u001b[37m\u001b[0m \u001b[1m5s\u001b[0m 12ms/step - accuracy: 0.4532 - loss: 2.4696 - val_accuracy: 0.1157 - val_loss: 8.2864\n",
            "Epoch 43/60\n",
            "\u001b[1m309/309\u001b[0m \u001b[32m━━━━━━━━━━━━━━━━━━━━\u001b[0m\u001b[37m\u001b[0m \u001b[1m4s\u001b[0m 13ms/step - accuracy: 0.4624 - loss: 2.4178 - val_accuracy: 0.1106 - val_loss: 8.3581\n",
            "Epoch 44/60\n",
            "\u001b[1m309/309\u001b[0m \u001b[32m━━━━━━━━━━━━━━━━━━━━\u001b[0m\u001b[37m\u001b[0m \u001b[1m4s\u001b[0m 12ms/step - accuracy: 0.4652 - loss: 2.3820 - val_accuracy: 0.1130 - val_loss: 8.4269\n",
            "Epoch 45/60\n",
            "\u001b[1m309/309\u001b[0m \u001b[32m━━━━━━━━━━━━━━━━━━━━\u001b[0m\u001b[37m\u001b[0m \u001b[1m4s\u001b[0m 12ms/step - accuracy: 0.4768 - loss: 2.3429 - val_accuracy: 0.1120 - val_loss: 8.4960\n",
            "Epoch 46/60\n",
            "\u001b[1m309/309\u001b[0m \u001b[32m━━━━━━━━━━━━━━━━━━━━\u001b[0m\u001b[37m\u001b[0m \u001b[1m6s\u001b[0m 14ms/step - accuracy: 0.4845 - loss: 2.2956 - val_accuracy: 0.1120 - val_loss: 8.5565\n",
            "Epoch 47/60\n",
            "\u001b[1m309/309\u001b[0m \u001b[32m━━━━━━━━━━━━━━━━━━━━\u001b[0m\u001b[37m\u001b[0m \u001b[1m5s\u001b[0m 12ms/step - accuracy: 0.4939 - loss: 2.2499 - val_accuracy: 0.1128 - val_loss: 8.6304\n",
            "Epoch 48/60\n",
            "\u001b[1m309/309\u001b[0m \u001b[32m━━━━━━━━━━━━━━━━━━━━\u001b[0m\u001b[37m\u001b[0m \u001b[1m4s\u001b[0m 12ms/step - accuracy: 0.5007 - loss: 2.2221 - val_accuracy: 0.1124 - val_loss: 8.6856\n",
            "Epoch 49/60\n",
            "\u001b[1m309/309\u001b[0m \u001b[32m━━━━━━━━━━━━━━━━━━━━\u001b[0m\u001b[37m\u001b[0m \u001b[1m5s\u001b[0m 13ms/step - accuracy: 0.5068 - loss: 2.1865 - val_accuracy: 0.1105 - val_loss: 8.7480\n",
            "Epoch 50/60\n",
            "\u001b[1m309/309\u001b[0m \u001b[32m━━━━━━━━━━━━━━━━━━━━\u001b[0m\u001b[37m\u001b[0m \u001b[1m5s\u001b[0m 12ms/step - accuracy: 0.5145 - loss: 2.1522 - val_accuracy: 0.1107 - val_loss: 8.8158\n",
            "Epoch 51/60\n",
            "\u001b[1m309/309\u001b[0m \u001b[32m━━━━━━━━━━━━━━━━━━━━\u001b[0m\u001b[37m\u001b[0m \u001b[1m6s\u001b[0m 14ms/step - accuracy: 0.5234 - loss: 2.1038 - val_accuracy: 0.1085 - val_loss: 8.8845\n",
            "Epoch 52/60\n",
            "\u001b[1m309/309\u001b[0m \u001b[32m━━━━━━━━━━━━━━━━━━━━\u001b[0m\u001b[37m\u001b[0m \u001b[1m4s\u001b[0m 12ms/step - accuracy: 0.5285 - loss: 2.0978 - val_accuracy: 0.1087 - val_loss: 8.9544\n",
            "Epoch 53/60\n",
            "\u001b[1m309/309\u001b[0m \u001b[32m━━━━━━━━━━━━━━━━━━━━\u001b[0m\u001b[37m\u001b[0m \u001b[1m4s\u001b[0m 12ms/step - accuracy: 0.5312 - loss: 2.0542 - val_accuracy: 0.1087 - val_loss: 9.0135\n",
            "Epoch 54/60\n",
            "\u001b[1m309/309\u001b[0m \u001b[32m━━━━━━━━━━━━━━━━━━━━\u001b[0m\u001b[37m\u001b[0m \u001b[1m4s\u001b[0m 13ms/step - accuracy: 0.5424 - loss: 2.0057 - val_accuracy: 0.1099 - val_loss: 9.0668\n",
            "Epoch 55/60\n",
            "\u001b[1m309/309\u001b[0m \u001b[32m━━━━━━━━━━━━━━━━━━━━\u001b[0m\u001b[37m\u001b[0m \u001b[1m5s\u001b[0m 12ms/step - accuracy: 0.5494 - loss: 1.9900 - val_accuracy: 0.1082 - val_loss: 9.1454\n",
            "Epoch 56/60\n",
            "\u001b[1m309/309\u001b[0m \u001b[32m━━━━━━━━━━━━━━━━━━━━\u001b[0m\u001b[37m\u001b[0m \u001b[1m4s\u001b[0m 12ms/step - accuracy: 0.5580 - loss: 1.9469 - val_accuracy: 0.1103 - val_loss: 9.1996\n",
            "Epoch 57/60\n",
            "\u001b[1m309/309\u001b[0m \u001b[32m━━━━━━━━━━━━━━━━━━━━\u001b[0m\u001b[37m\u001b[0m \u001b[1m6s\u001b[0m 13ms/step - accuracy: 0.5650 - loss: 1.9183 - val_accuracy: 0.1101 - val_loss: 9.2673\n",
            "Epoch 58/60\n",
            "\u001b[1m309/309\u001b[0m \u001b[32m━━━━━━━━━━━━━━━━━━━━\u001b[0m\u001b[37m\u001b[0m \u001b[1m5s\u001b[0m 12ms/step - accuracy: 0.5721 - loss: 1.8835 - val_accuracy: 0.1074 - val_loss: 9.3220\n",
            "Epoch 59/60\n",
            "\u001b[1m309/309\u001b[0m \u001b[32m━━━━━━━━━━━━━━━━━━━━\u001b[0m\u001b[37m\u001b[0m \u001b[1m4s\u001b[0m 12ms/step - accuracy: 0.5749 - loss: 1.8623 - val_accuracy: 0.1070 - val_loss: 9.3838\n",
            "Epoch 60/60\n",
            "\u001b[1m309/309\u001b[0m \u001b[32m━━━━━━━━━━━━━━━━━━━━\u001b[0m\u001b[37m\u001b[0m \u001b[1m5s\u001b[0m 12ms/step - accuracy: 0.5835 - loss: 1.8133 - val_accuracy: 0.1060 - val_loss: 9.4373\n"
          ]
        }
      ]
    },
    {
      "cell_type": "markdown",
      "source": [
        "#Save the Model"
      ],
      "metadata": {
        "id": "1ib5mFwUKmoC"
      }
    },
    {
      "cell_type": "code",
      "source": [
        "model.save('next_Word_16_Nov_v1.h5')\n",
        "model.save('next_Word_16_Nov_v1.keras')"
      ],
      "metadata": {
        "colab": {
          "base_uri": "https://localhost:8080/"
        },
        "id": "Yag1LJRIJGql",
        "outputId": "cac5b54a-9f9b-49f6-eef1-007d2e1b8d7d"
      },
      "execution_count": 11,
      "outputs": [
        {
          "output_type": "stream",
          "name": "stderr",
          "text": [
            "WARNING:absl:You are saving your model as an HDF5 file via `model.save()` or `keras.saving.save_model(model)`. This file format is considered legacy. We recommend using instead the native Keras format, e.g. `model.save('my_model.keras')` or `keras.saving.save_model(model, 'my_model.keras')`. \n"
          ]
        }
      ]
    },
    {
      "cell_type": "markdown",
      "source": [
        "#Download the Model"
      ],
      "metadata": {
        "id": "xCPYM3-CKoVa"
      }
    },
    {
      "cell_type": "code",
      "source": [
        "from google.colab import files\n",
        "files.download('next_Word_16_Nov_v1.h5')\n",
        "files.download('next_Word_16_Nov_v1.keras')"
      ],
      "metadata": {
        "colab": {
          "base_uri": "https://localhost:8080/",
          "height": 17
        },
        "id": "NGAbhnorJ2EC",
        "outputId": "934bb7f3-5171-4883-e7ab-99131ad62f5d"
      },
      "execution_count": 12,
      "outputs": [
        {
          "output_type": "display_data",
          "data": {
            "text/plain": [
              "<IPython.core.display.Javascript object>"
            ],
            "application/javascript": [
              "\n",
              "    async function download(id, filename, size) {\n",
              "      if (!google.colab.kernel.accessAllowed) {\n",
              "        return;\n",
              "      }\n",
              "      const div = document.createElement('div');\n",
              "      const label = document.createElement('label');\n",
              "      label.textContent = `Downloading \"${filename}\": `;\n",
              "      div.appendChild(label);\n",
              "      const progress = document.createElement('progress');\n",
              "      progress.max = size;\n",
              "      div.appendChild(progress);\n",
              "      document.body.appendChild(div);\n",
              "\n",
              "      const buffers = [];\n",
              "      let downloaded = 0;\n",
              "\n",
              "      const channel = await google.colab.kernel.comms.open(id);\n",
              "      // Send a message to notify the kernel that we're ready.\n",
              "      channel.send({})\n",
              "\n",
              "      for await (const message of channel.messages) {\n",
              "        // Send a message to notify the kernel that we're ready.\n",
              "        channel.send({})\n",
              "        if (message.buffers) {\n",
              "          for (const buffer of message.buffers) {\n",
              "            buffers.push(buffer);\n",
              "            downloaded += buffer.byteLength;\n",
              "            progress.value = downloaded;\n",
              "          }\n",
              "        }\n",
              "      }\n",
              "      const blob = new Blob(buffers, {type: 'application/binary'});\n",
              "      const a = document.createElement('a');\n",
              "      a.href = window.URL.createObjectURL(blob);\n",
              "      a.download = filename;\n",
              "      div.appendChild(a);\n",
              "      a.click();\n",
              "      div.remove();\n",
              "    }\n",
              "  "
            ]
          },
          "metadata": {}
        },
        {
          "output_type": "display_data",
          "data": {
            "text/plain": [
              "<IPython.core.display.Javascript object>"
            ],
            "application/javascript": [
              "download(\"download_473d5298-4239-43b3-91bc-51535a357cb3\", \"next_Word_16_Nov_v1.h5\", 20375188)"
            ]
          },
          "metadata": {}
        },
        {
          "output_type": "display_data",
          "data": {
            "text/plain": [
              "<IPython.core.display.Javascript object>"
            ],
            "application/javascript": [
              "\n",
              "    async function download(id, filename, size) {\n",
              "      if (!google.colab.kernel.accessAllowed) {\n",
              "        return;\n",
              "      }\n",
              "      const div = document.createElement('div');\n",
              "      const label = document.createElement('label');\n",
              "      label.textContent = `Downloading \"${filename}\": `;\n",
              "      div.appendChild(label);\n",
              "      const progress = document.createElement('progress');\n",
              "      progress.max = size;\n",
              "      div.appendChild(progress);\n",
              "      document.body.appendChild(div);\n",
              "\n",
              "      const buffers = [];\n",
              "      let downloaded = 0;\n",
              "\n",
              "      const channel = await google.colab.kernel.comms.open(id);\n",
              "      // Send a message to notify the kernel that we're ready.\n",
              "      channel.send({})\n",
              "\n",
              "      for await (const message of channel.messages) {\n",
              "        // Send a message to notify the kernel that we're ready.\n",
              "        channel.send({})\n",
              "        if (message.buffers) {\n",
              "          for (const buffer of message.buffers) {\n",
              "            buffers.push(buffer);\n",
              "            downloaded += buffer.byteLength;\n",
              "            progress.value = downloaded;\n",
              "          }\n",
              "        }\n",
              "      }\n",
              "      const blob = new Blob(buffers, {type: 'application/binary'});\n",
              "      const a = document.createElement('a');\n",
              "      a.href = window.URL.createObjectURL(blob);\n",
              "      a.download = filename;\n",
              "      div.appendChild(a);\n",
              "      a.click();\n",
              "      div.remove();\n",
              "    }\n",
              "  "
            ]
          },
          "metadata": {}
        },
        {
          "output_type": "display_data",
          "data": {
            "text/plain": [
              "<IPython.core.display.Javascript object>"
            ],
            "application/javascript": [
              "download(\"download_daba5089-f6f2-4e4a-a3f6-7912f59048ca\", \"next_Word_16_Nov_v1.keras\", 20362706)"
            ]
          },
          "metadata": {}
        }
      ]
    },
    {
      "cell_type": "markdown",
      "source": [
        "Save the model"
      ],
      "metadata": {
        "id": "Buaiyj9z-Mc6"
      }
    },
    {
      "cell_type": "code",
      "source": [
        "#model.save('grp10_nextWord_1.keras')\n",
        "#with open('training_history.pickle', 'wb') as f:\n",
        "#    pickle.dump(history.history, f)\n",
        "pickle.dump(history, open(\"history.p\", \"wb\"))\n",
        "model = load_model('next_Word_16_Nov_v1.keras')\n",
        "history = pickle.load(open(\"history.p\", \"rb\"))"
      ],
      "metadata": {
        "id": "sUbTkWJn-LC1",
        "colab": {
          "base_uri": "https://localhost:8080/"
        },
        "outputId": "480ef411-6771-41e9-a0ae-16be751f84ba"
      },
      "execution_count": 13,
      "outputs": [
        {
          "output_type": "stream",
          "name": "stderr",
          "text": [
            "/usr/local/lib/python3.10/dist-packages/keras/src/saving/saving_lib.py:713: UserWarning: Skipping variable loading for optimizer 'rmsprop', because it has 8 variables whereas the saved optimizer has 14 variables. \n",
            "  saveable.load_own_variables(weights_store.get(inner_path))\n"
          ]
        }
      ]
    },
    {
      "cell_type": "markdown",
      "source": [
        "# Evaluate the Next word Predition Model"
      ],
      "metadata": {
        "id": "bOV1rWI0fRdj"
      }
    },
    {
      "cell_type": "code",
      "source": [
        "plt.plot(history['accuracy'])\n",
        "plt.plot(history['val_accuracy'])\n",
        "plt.title('model accuracy')\n",
        "plt.ylabel('accuracy')\n",
        "plt.xlabel('epoch')\n",
        "plt.legend(['train', 'test'], loc='upper left')"
      ],
      "metadata": {
        "colab": {
          "base_uri": "https://localhost:8080/",
          "height": 489
        },
        "id": "CUstlqcefVg5",
        "outputId": "7753800b-cd00-482c-e5ea-986076ae95d0"
      },
      "execution_count": 14,
      "outputs": [
        {
          "output_type": "execute_result",
          "data": {
            "text/plain": [
              "<matplotlib.legend.Legend at 0x7a176ffee770>"
            ]
          },
          "metadata": {},
          "execution_count": 14
        },
        {
          "output_type": "display_data",
          "data": {
            "text/plain": [
              "<Figure size 640x480 with 1 Axes>"
            ],
            "image/png": "[encoded data removed]"
          },
          "metadata": {}
        }
      ]
    },
    {
      "cell_type": "code",
      "source": [
        "plt.plot(history['loss'])\n",
        "plt.plot(history['val_loss'])\n",
        "plt.title('model loss')\n",
        "plt.ylabel('loss')\n",
        "plt.xlabel('epoch')\n",
        "plt.legend(['train', 'test'], loc='upper left')"
      ],
      "metadata": {
        "colab": {
          "base_uri": "https://localhost:8080/",
          "height": 489
        },
        "id": "zTctihelrqLJ",
        "outputId": "789a8079-a8b5-4b2c-ef0a-7eaad019d4d9"
      },
      "execution_count": 15,
      "outputs": [
        {
          "output_type": "execute_result",
          "data": {
            "text/plain": [
              "<matplotlib.legend.Legend at 0x7a17681f7e80>"
            ]
          },
          "metadata": {},
          "execution_count": 15
        },
        {
          "output_type": "display_data",
          "data": {
            "text/plain": [
              "<Figure size 640x480 with 1 Axes>"
            ],
            "image/png": "[encoded data removed]"
          },
          "metadata": {}
        }
      ]
    },
    {
      "cell_type": "markdown",
      "source": [
        "# Test Next Word Prediction Model"
      ],
      "metadata": {
        "id": "33GwZ3u2rwBt"
      }
    },
    {
      "cell_type": "code",
      "source": [
        "#seed_text = \"she is incorrigible, and my\"\n",
        "#next_words = 3\n",
        "def predict_next_n_words(seed_text, next_words):\n",
        "    predicted_next_n_words = \"\"\n",
        "    for _ in range(next_words):\n",
        "        token_list = tokenizer.texts_to_sequences([seed_text])[0]\n",
        "        token_list = pad_sequences([token_list], maxlen=max_sequence_len-1, padding='pre')\n",
        "        preds = model.predict(token_list, verbose=0)\n",
        "        #print(preds[0][303])\n",
        "        #print(preds[0][304])\n",
        "        #print(\"preds\",preds)\n",
        "        #print(preds.shape)\n",
        "        predicted = np.argmax(preds, axis=-1)\n",
        "        index=predicted[0]\n",
        "        #print(predicted.shape)\n",
        "        #print(\"predicted\", predicted)\n",
        "\n",
        "        output_word = \"\"\n",
        "\n",
        "        # Get the word at the given index from the word_index\n",
        "        output_word=list(word_index.keys())[list(word_index.values()).index(index)]\n",
        "\n",
        "        # print(\"predicted\", output_word)\n",
        "        \"\"\"\n",
        "        for word, index in tokenizer.word_index.items():\n",
        "            print(\"word\",word)\n",
        "            print(\"index\",index)\n",
        "            if index == predicted:\n",
        "                output_word = word\n",
        "                break\n",
        "        \"\"\"\n",
        "        seed_text += \" \" + output_word\n",
        "        predicted_next_n_words += \" \" + output_word\n",
        "\n",
        "       #print(save_seed_text)\n",
        "        #print(output_word)\n",
        "    return predicted_next_n_words\n",
        "\n",
        "#def predict_next_word_top_options(seed_text, num_words):\n",
        "def predict_next_word_top_options(seed_text):\n",
        "    predicted_words = []\n",
        "    token_list = tokenizer.texts_to_sequences([seed_text])[0]\n",
        "    token_list = pad_sequences([token_list], maxlen=max_sequence_len-1, padding='pre')\n",
        "    preds = model.predict(token_list,verbose=0)[0]\n",
        "    # Get the indices of the  n largest elements from an iterable.\n",
        "    # find out the top predictions from preds\n",
        "    #top_indices = heapq.nlargest(num_words, range(len(preds)), preds.take)\n",
        "    top_indices = heapq.nlargest(5, range(len(preds)), preds.take)\n",
        "    #print(top_indices)\n",
        "    # Get the corresponding words from the unique word index\n",
        "    predicted_words = [list(word_index.keys())[list(word_index.values()).index(i)] for i in top_indices]\n",
        "    return predicted_words\n",
        "\n",
        "\n",
        "seed_text = \"she is incorrigible, and my\"\n",
        "next_words = 5\n",
        "result = predict_next_n_words(seed_text, next_words)\n",
        "print(\"Seed Text: she is incorrigible, and my\")\n",
        "print(result)\n",
        "\n",
        "#result = predict_next_word_top_options(seed_text, 5)\n",
        "result = predict_next_word_top_options(seed_text)\n",
        "print(result)"
      ],
      "metadata": {
        "id": "_kaNT2uur6kX",
        "colab": {
          "base_uri": "https://localhost:8080/"
        },
        "outputId": "6aad6645-d7cc-4925-d300-3518e89a0c00"
      },
      "execution_count": 32,
      "outputs": [
        {
          "output_type": "stream",
          "name": "stdout",
          "text": [
            "Seed Text: she is incorrigible, and my\n",
            " wife has given you to\n",
            "['wife', 'father', 'friend', 'own', 'hearing']\n"
          ]
        }
      ]
    },
    {
      "cell_type": "code",
      "source": [
        "\"\"\"\n",
        "quotes = [\n",
        "    \"she is incorrigible, and my\",\n",
        "    \"It is not a lack of love but a lack of friendship that makes unhappy marriages.\",\n",
        "    \"That which does not kill us makes us stronger.\",\n",
        "    \"I'm not upset that you lied to me, I'm upset that from now on I can't believe you.\",\n",
        "    \"And those who were seen dancing were thought to be insane by those who could not hear the music.\",\n",
        "    \"It is hard enough to remember my opinions, without also remembering my reasons for them!\"\n",
        "]\n",
        "\"\"\"\n",
        "quotes = [\n",
        "    \"she is incorrigible, and my\",\n",
        "    \"It is not a lack of love but a lack of friendship\",\n",
        "    \"That which does not kill us makes \",\n",
        "    \"I'm not upset that you lied to me, I'm upset that from\",\n",
        "    \"And those who were seen dancing were thought to be insane\",\n",
        "    \"It is hard enough to remember my opinions, without\"\n",
        "]\n",
        "print(\"***** NEXT 5 WORDS *****\")\n",
        "for q in quotes:\n",
        "\n",
        "    if(len(q)>1000):\n",
        "        seq = q[:40].lower()\n",
        "    else:\n",
        "        seq = q.lower()\n",
        "\n",
        "    predicted_words = predict_next_n_words(seq,5)\n",
        "    print(f\"Input Text: {seq}\")\n",
        "    print(f\"Predicted Next Words: {predicted_words}\\n\")\n",
        "\n",
        "print(\"***** ***** ***** *****\")\n",
        "\n",
        "print(\"***** NEXT WORD OPTIONS *****\")\n",
        "for q in quotes:\n",
        "    if(len(q)>1000):\n",
        "        seq = q[:40].lower()\n",
        "    else:\n",
        "        seq = q.lower()\n",
        "    #predicted_words = predict_next_word_top_options(seq,5)\n",
        "    predicted_words = predict_next_word_top_options(seq)\n",
        "    print(f\"Input Text: {seq}\")\n",
        "    print(f\"Predicted Next Words: {predicted_words}\\n\")\n",
        "\n",
        "print(\"***** ***** ***** *****\")"
      ],
      "metadata": {
        "colab": {
          "base_uri": "https://localhost:8080/"
        },
        "id": "nGYRCP462KJd",
        "outputId": "efbb5228-b2db-4876-949b-43dde358f315"
      },
      "execution_count": 33,
      "outputs": [
        {
          "output_type": "stream",
          "name": "stdout",
          "text": [
            "***** NEXT 5 WORDS *****\n",
            "Input Text: she is incorrigible, and my\n",
            "Predicted Next Words:  wife has given you to\n",
            "\n",
            "Input Text: it is not a lack of love but a lack of friendship\n",
            "Predicted Next Words:  defined the sewing machine of\n",
            "\n",
            "Input Text: that which does not kill us makes \n",
            "Predicted Next Words:  me introduce you to night\n",
            "\n",
            "Input Text: i'm not upset that you lied to me, i'm upset that from\n",
            "Predicted Next Words:  america as i have been\n",
            "\n",
            "Input Text: and those who were seen dancing were thought to be insane\n",
            "Predicted Next Words:  stained with my claim to\n",
            "\n",
            "Input Text: it is hard enough to remember my opinions, without\n",
            "Predicted Next Words:  work it seemed to me\n",
            "\n",
            "***** ***** ***** *****\n",
            "***** NEXT WORD OPTIONS *****\n",
            "Input Text: she is incorrigible, and my\n",
            "Predicted Next Words: ['wife', 'father', 'friend', 'own', 'hearing']\n",
            "\n",
            "Input Text: it is not a lack of love but a lack of friendship\n",
            "Predicted Next Words: ['defined', '£', 'shops', 'ashes', 'such']\n",
            "\n",
            "Input Text: that which does not kill us makes \n",
            "Predicted Next Words: ['me', 'him', 'a', 'your', 'to']\n",
            "\n",
            "Input Text: i'm not upset that you lied to me, i'm upset that from\n",
            "Predicted Next Words: ['america', 'the', 'all', 'that', 'our']\n",
            "\n",
            "Input Text: and those who were seen dancing were thought to be insane\n",
            "Predicted Next Words: ['stained', 'a', 'an', 'the', 'such']\n",
            "\n",
            "Input Text: it is hard enough to remember my opinions, without\n",
            "Predicted Next Words: ['work', 'interesting', 'watch', 'conveyed', 'note']\n",
            "\n",
            "***** ***** ***** *****\n"
          ]
        }
      ]
    },
    {
      "cell_type": "markdown",
      "source": [
        "# Take inputs from user for text prediction"
      ],
      "metadata": {
        "id": "kidbGInBwLVy"
      }
    },
    {
      "cell_type": "code",
      "source": [
        "while(True):\n",
        "  text = input(\"Enter your line: \")\n",
        "\n",
        "  if text == \"0\":\n",
        "      print(\"Execution completed.....\")\n",
        "      break\n",
        "\n",
        "  else:\n",
        "      try:\n",
        "          text = text.split(\" \")\n",
        "          #text = text[-3:]\n",
        "          #print(text)\n",
        "\n",
        "          predicted_words = predict_next_word_top_options(text)\n",
        "          #print(f\"Input Text: {text}\")\n",
        "          print(f\"Predicted Next Words: {predicted_words}\\n\")\n",
        "\n",
        "      except Exception as e:\n",
        "        print(\"Error occurred: \",e)\n",
        "        continue"
      ],
      "metadata": {
        "colab": {
          "base_uri": "https://localhost:8080/"
        },
        "id": "VXTuq3ffwRsR",
        "outputId": "a7324e28-6268-4de1-d010-55b8a21274f5"
      },
      "execution_count": 34,
      "outputs": [
        {
          "output_type": "stream",
          "name": "stdout",
          "text": [
            "Enter your line: she is incorrigible, and my\n",
            "Predicted Next Words: ['friend', 'dear', 'own', 'grandfather', 'eyes']\n",
            "\n",
            "Enter your line: it is not a lack of love but a lack of friendship\n",
            "Predicted Next Words: ['defined', '£', 'shops', 'ashes', 'such']\n",
            "\n",
            "Enter your line: that which does not kill us makes\n",
            "Predicted Next Words: ['me', 'him', 'a', 'your', 'to']\n",
            "\n",
            "Enter your line: i'm not upset that you lied to me, i'm upset that from\n",
            "Predicted Next Words: ['america', 'saturday', 'turner', 'such', 'time']\n",
            "\n",
            "Enter your line: and those who were seen dancing were thought to be insane\n",
            "Predicted Next Words: ['stained', 'a', 'an', 'the', 'such']\n",
            "\n",
            "Enter your line: it is hard enough to remember my opinions, without\n",
            "Predicted Next Words: ['work', 'interesting', 'watch', 'conveyed', 'note']\n",
            "\n",
            "Enter your line: 0\n",
            "Execution completed.....\n"
          ]
        }
      ]
    }
  ]
}